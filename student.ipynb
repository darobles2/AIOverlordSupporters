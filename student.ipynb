{
 "cells": [
  {
   "cell_type": "markdown",
   "metadata": {},
   "source": [
    "\n"
   ]
  },
  {
   "cell_type": "markdown",
   "metadata": {},
   "source": [
    "#  Project Overview"
   ]
  },
  {
   "cell_type": "markdown",
   "metadata": {},
   "source": [
    "Group Members:\n",
    "Maya Sandlin\n",
    "Jake Umholtz\n",
    "Robert Golden\n",
    "Daniel Robles\n",
    "Maanik Gupta"
   ]
  },
  {
   "cell_type": "markdown",
   "metadata": {},
   "source": [
    "This notebook contains our project goals, data, methods, and results"
   ]
  },
  {
   "cell_type": "markdown",
   "metadata": {},
   "source": [
    "# Business Understanding "
   ]
  },
  {
   "cell_type": "markdown",
   "metadata": {},
   "source": [
    "Computing Vision is a relative newcomer to the film production market, having little to no experience producing movies; for this reason, Computing Vision selected Deloitte to advise them on the creation of an initial, data-driven film production strategy.\n",
    "\n",
    "Our measure of success was domestic Box Office revenue. We chose this metric because box office revenue is the first way film studios generate a cash flow. As a new movie studio, it is important for Computing Vision to start generating a cash flow as quickly and as largely as possible. Also, the production of films is an expensive endeavor, a successful box office performance can help recover the initial investments of creating a film. Box office revenue is also a good indicator of public sentiment as it indirectly measures how many people are physically going to watch the film in theaters. This serves as baseline check for future questioning regarding at home and digital release. \n",
    "\n",
    "With Box Office revenue as our primary indicator of success, we used data to answer the following question; what components of a film creates a box office hit? \n",
    "\n",
    "We quickly identified runtime, genre, and MPAA rating as foundational components for creating a box office hit. We identified these three components as they are the key drivers to reaching a large audience. If Computing Vision's films can capture a large audience, they have a higher probability of creating a box office hit, i.e. attract more people to pay to watch the film. \n"
   ]
  },
  {
   "cell_type": "markdown",
   "metadata": {},
   "source": [
    "# Data Understanding"
   ]
  },
  {
   "cell_type": "markdown",
   "metadata": {},
   "source": [
    "We focused our analysis on the Rotten Tomatoes Movie Information dataset, known as the rt_movie_info spreadsheet as it contained the necessary box office, genre, and movie length information. \n",
    "\n",
    "We also used the The Numbers movie budget dataset to calculate the median movie budget as well as how many films had budgets at and above $100 million. This information supported our claim on why focusing on Box Office revenue is vital for Computing Vision."
   ]
  },
  {
   "cell_type": "markdown",
   "metadata": {},
   "source": [
    "# Data Preparation and Analysis"
   ]
  },
  {
   "cell_type": "markdown",
   "metadata": {},
   "source": [
    "For each recommendation - genre, runtime, MPAA rating - we chose to drop the null values because the data set is large enough at over 1500 records to handle the loss of data. Also, much of the data set is highly varied, so using the mean or median would not be a fully accurate representation. "
   ]
  },
  {
   "cell_type": "markdown",
   "metadata": {},
   "source": [
    "Rationale: Import the necessary python libraries to perform analysis"
   ]
  },
  {
   "cell_type": "code",
   "execution_count": 1,
   "metadata": {
    "ExecuteTime": {
     "end_time": "2022-08-20T00:05:41.724272Z",
     "start_time": "2022-08-20T00:05:40.756091Z"
    }
   },
   "outputs": [],
   "source": [
    "import pandas as pd\n",
    "import numpy as np\n",
    "import matplotlib.pyplot as plt\n",
    "import seaborn as sns\n",
    "import scipy.stats as stats"
   ]
  },
  {
   "cell_type": "markdown",
   "metadata": {},
   "source": [
    "Importing data and naming variables"
   ]
  },
  {
   "cell_type": "code",
   "execution_count": 2,
   "metadata": {
    "ExecuteTime": {
     "end_time": "2022-08-20T00:05:41.913317Z",
     "start_time": "2022-08-20T00:05:41.726275Z"
    }
   },
   "outputs": [],
   "source": [
    "movie_gross = pd.read_csv('zippedData/bom.movie_gross.csv')\n",
    "rt_movie_info = pd.read_csv('zippedData/rt.movie_info.csv')\n",
    "rt_review = pd.read_csv('zippedData/rt.reviews.csv', encoding='unicode_escape')\n",
    "tn_movie_budgets = pd.read_csv('zippedData/tn.movie_budgets.csv')\n",
    "tmdb_movies = pd.read_csv('zippedData/tmdb.movies.csv', index_col=0)"
   ]
  },
  {
   "cell_type": "markdown",
   "metadata": {},
   "source": [
    "Analysis for the median movie budget and for movies that had a budget at or above $100 million."
   ]
  },
  {
   "cell_type": "code",
   "execution_count": 3,
   "metadata": {
    "ExecuteTime": {
     "end_time": "2022-08-20T00:05:41.928320Z",
     "start_time": "2022-08-20T00:05:41.915318Z"
    }
   },
   "outputs": [
    {
     "name": "stdout",
     "output_type": "stream",
     "text": [
      "id                   0\n",
      "release_date         0\n",
      "movie                0\n",
      "production_budget    0\n",
      "domestic_gross       0\n",
      "worldwide_gross      0\n",
      "dtype: int64\n"
     ]
    }
   ],
   "source": [
    "# checking for null values\n",
    "print(tn_movie_budgets.isnull().sum())"
   ]
  },
  {
   "cell_type": "code",
   "execution_count": 4,
   "metadata": {
    "ExecuteTime": {
     "end_time": "2022-08-20T00:05:41.960327Z",
     "start_time": "2022-08-20T00:05:41.930321Z"
    }
   },
   "outputs": [
    {
     "name": "stdout",
     "output_type": "stream",
     "text": [
      "Median Production Budget: $ 17000000.0\n"
     ]
    }
   ],
   "source": [
    "# turning the budget into a string so it is easy to clean\n",
    "tn_movie_budgets['production_budget'] = tn_movie_budgets['production_budget'].astype(str)\n",
    "\n",
    "# removing commas, dollar signs, and white space\n",
    "# turning the production budget back into an integer so calculations can be performed\n",
    "tn_movie_budgets['production_budget'] = tn_movie_budgets['production_budget'].str.replace(',', '')\n",
    "tn_movie_budgets['production_budget'] = tn_movie_budgets['production_budget'].str.replace('$', '')\n",
    "tn_movie_budgets['production_budget'] = tn_movie_budgets['production_budget'].str.replace(' ', '')\n",
    "tn_movie_budgets['production_budget'] = tn_movie_budgets['production_budget'].astype(int)\n",
    "\n",
    "# calculating median\n",
    "median_budget = tn_movie_budgets['production_budget'].median()\n",
    "\n",
    "# counting the number of films with a production budget over $100 million\n",
    "mill_budget = tn_movie_budgets[tn_movie_budgets['production_budget'] >= 100000000].count()\n",
    "\n",
    "print(f'Median Production Budget: $ {median_budget}')"
   ]
  },
  {
   "cell_type": "code",
   "execution_count": 5,
   "metadata": {
    "ExecuteTime": {
     "end_time": "2022-08-20T00:05:41.976331Z",
     "start_time": "2022-08-20T00:05:41.962328Z"
    }
   },
   "outputs": [
    {
     "name": "stdout",
     "output_type": "stream",
     "text": [
      "Number of films with a budget that is >= $100 million: id                   406\n",
      "release_date         406\n",
      "movie                406\n",
      "production_budget    406\n",
      "domestic_gross       406\n",
      "worldwide_gross      406\n",
      "dtype: int64\n"
     ]
    }
   ],
   "source": [
    "print(f'Number of films with a budget that is >= $100 million: {mill_budget}')"
   ]
  },
  {
   "cell_type": "markdown",
   "metadata": {},
   "source": [
    "## Genre"
   ]
  },
  {
   "cell_type": "code",
   "execution_count": 6,
   "metadata": {
    "ExecuteTime": {
     "end_time": "2022-08-20T00:05:42.008338Z",
     "start_time": "2022-08-20T00:05:41.977332Z"
    }
   },
   "outputs": [],
   "source": [
    "# segregating genre and box office from the dataset\n",
    "movie_genre = rt_movie_info[['genre','box_office']]\n",
    "# cleaning the segregated variables by dropping null values\n",
    "clean_genre = movie_genre.dropna()\n",
    "genres_sorted = movie_genre['genre'].sort_values().dropna()\n",
    "genres_sorted.value_counts().head (30)\n",
    "#using this data, the main six categories include: drama, comedy, horror, action, romance, and classics\n",
    "\n",
    "#determining the average revenue\n",
    "\n",
    "#drama\n",
    "drama = clean_genre[clean_genre['genre'].str.contains('Drama')]\n",
    "drama_revenue = drama ['box_office']\n",
    "drama_revenue_clean = drama_revenue.dropna()\n",
    "drama_avg_revenue = np.mean(drama_revenue_clean)\n",
    "drama_med = np.mean(drama_revenue_clean)\n",
    "\n",
    "#comedy\n",
    "comedy = clean_genre[clean_genre['genre'].str.contains('Comedy')]\n",
    "comedy_revenue = comedy ['box_office']\n",
    "comedy_revenue_clean = comedy_revenue.dropna()\n",
    "comedy_avg_revenue = np.mean(comedy_revenue_clean)\n",
    "comedy_med = np.mean(comedy_revenue_clean)\n",
    "\n",
    "#action \n",
    "action = clean_genre[clean_genre['genre'].str.contains('Action')]\n",
    "action_revenue = action ['box_office']\n",
    "action_revenue_clean = action_revenue.dropna()\n",
    "action_avg_revenue = np.mean(action_revenue_clean)\n",
    "action_med = np.mean(action_revenue_clean)\n",
    "\n",
    "#horror\n",
    "horror = clean_genre[clean_genre['genre'].str.contains('Horror')]\n",
    "horror_revenue = horror ['box_office']\n",
    "horror_revenue_clean = horror_revenue.dropna()\n",
    "horror_avg_revenue = np.mean(horror_revenue_clean)\n",
    "horror_med = np.mean(horror_revenue_clean)\n",
    "\n",
    "#romance\n",
    "romance = clean_genre[clean_genre['genre'].str.contains('Romance')]\n",
    "romance_revenue = horror ['box_office']\n",
    "romance_revenue_clean = romance_revenue.dropna()\n",
    "romance_avg_revenue = np.mean(romance_revenue_clean)\n",
    "romance_med = np.mean(romance_revenue_clean)\n",
    "\n",
    "#classics\n",
    "classics = clean_genre[clean_genre['genre'].str.contains('Classics')]\n",
    "classic_revenue = classics ['box_office']\n",
    "classic_revenue_clean = classic_revenue.dropna()\n",
    "classic_avg_revenue = np.mean(classic_revenue_clean)\n",
    "classic_med = np.mean(classic_revenue_clean)\n"
   ]
  },
  {
   "cell_type": "markdown",
   "metadata": {},
   "source": [
    "## MPAA Rating"
   ]
  },
  {
   "cell_type": "code",
   "execution_count": 7,
   "metadata": {
    "ExecuteTime": {
     "end_time": "2022-08-20T00:05:42.024342Z",
     "start_time": "2022-08-20T00:05:42.009338Z"
    }
   },
   "outputs": [],
   "source": [
    "#made copy of df to drop Nan values and generate insights\n",
    "movie_info = rt_movie_info.copy()"
   ]
  },
  {
   "cell_type": "code",
   "execution_count": 8,
   "metadata": {
    "ExecuteTime": {
     "end_time": "2022-08-20T00:05:42.040347Z",
     "start_time": "2022-08-20T00:05:42.026342Z"
    }
   },
   "outputs": [],
   "source": [
    "#drop records with nan values\n",
    "movie_info = movie_info.dropna()"
   ]
  },
  {
   "cell_type": "code",
   "execution_count": 9,
   "metadata": {
    "ExecuteTime": {
     "end_time": "2022-08-20T00:05:42.056349Z",
     "start_time": "2022-08-20T00:05:42.042346Z"
    }
   },
   "outputs": [],
   "source": [
    "# turing box office into a string for cleaning\n",
    "movie_info['box_office'] = movie_info['box_office'].astype(str)"
   ]
  },
  {
   "cell_type": "code",
   "execution_count": 10,
   "metadata": {
    "ExecuteTime": {
     "end_time": "2022-08-20T00:05:42.072358Z",
     "start_time": "2022-08-20T00:05:42.058349Z"
    }
   },
   "outputs": [],
   "source": [
    "#remove commas\n",
    "movie_info['box_office']=movie_info['box_office'].str.replace(',','')"
   ]
  },
  {
   "cell_type": "code",
   "execution_count": 11,
   "metadata": {
    "ExecuteTime": {
     "end_time": "2022-08-20T00:05:42.088361Z",
     "start_time": "2022-08-20T00:05:42.073358Z"
    }
   },
   "outputs": [],
   "source": [
    "# making it so that we can sort and graph by the budget values\n",
    "movie_info['box_office']=movie_info['box_office'].astype(float)"
   ]
  },
  {
   "cell_type": "code",
   "execution_count": 12,
   "metadata": {
    "ExecuteTime": {
     "end_time": "2022-08-20T00:05:42.104367Z",
     "start_time": "2022-08-20T00:05:42.090360Z"
    }
   },
   "outputs": [],
   "source": [
    "#a variable for each rating, narrowing down the table to that respective rating\n",
    "R = movie_info[movie_info['rating']=='R']\n",
    "PG = movie_info[movie_info['rating']=='PG']\n",
    "PG13 = movie_info[movie_info['rating']=='PG-13']\n",
    "G = movie_info[movie_info['rating']=='G']\n",
    "NC17 = movie_info[movie_info['rating']=='NC17']\n",
    "NR = movie_info[movie_info['rating']=='NR']"
   ]
  },
  {
   "cell_type": "code",
   "execution_count": 13,
   "metadata": {
    "ExecuteTime": {
     "end_time": "2022-08-20T00:05:42.119369Z",
     "start_time": "2022-08-20T00:05:42.105367Z"
    }
   },
   "outputs": [],
   "source": [
    "#new variables for the mean and median box office revenue\n",
    "r=R['box_office'].mean()\n",
    "rmed=R['box_office'].median()\n",
    "pg=PG['box_office'].mean()\n",
    "pgmed=PG['box_office'].median()\n",
    "pg13=PG13['box_office'].mean()\n",
    "pg13med=PG13['box_office'].median()\n",
    "g=G['box_office'].mean()\n",
    "gmed=G['box_office'].median()\n",
    "nc17=NC17['box_office'].mean()\n",
    "nc17med=NC17['box_office'].median()\n",
    "nr=NR['box_office'].mean()\n",
    "nrmed=NR['box_office'].median()"
   ]
  },
  {
   "cell_type": "code",
   "execution_count": 14,
   "metadata": {
    "ExecuteTime": {
     "end_time": "2022-08-20T00:05:42.134633Z",
     "start_time": "2022-08-20T00:05:42.120370Z"
    }
   },
   "outputs": [],
   "source": [
    "#this dictionary containing the mean variables will help with graphing\n",
    "ratings_dict = {'R':r,'PG':pg,'PG-13':pg13,'G':g,'NC-17':nc17,'NR':nr}"
   ]
  },
  {
   "cell_type": "code",
   "execution_count": 15,
   "metadata": {
    "ExecuteTime": {
     "end_time": "2022-08-20T00:05:42.150627Z",
     "start_time": "2022-08-20T00:05:42.136624Z"
    }
   },
   "outputs": [],
   "source": [
    "#same as previous dictionary but for median variables\n",
    "ratings_dict_med = {'R':rmed,'PG':pgmed,'PG-13':pg13med,'G':gmed,'NC-17':nc17med,'NR':nrmed}"
   ]
  },
  {
   "cell_type": "markdown",
   "metadata": {},
   "source": [
    "## Runtime"
   ]
  },
  {
   "cell_type": "code",
   "execution_count": 16,
   "metadata": {
    "ExecuteTime": {
     "end_time": "2022-08-20T00:05:42.166630Z",
     "start_time": "2022-08-20T00:05:42.152627Z"
    }
   },
   "outputs": [],
   "source": [
    "# renaming variables for sake of clarity\n",
    "rt_movie_info_runtime = rt_movie_info"
   ]
  },
  {
   "cell_type": "code",
   "execution_count": 17,
   "metadata": {
    "ExecuteTime": {
     "end_time": "2022-08-20T00:05:42.182543Z",
     "start_time": "2022-08-20T00:05:42.168631Z"
    }
   },
   "outputs": [],
   "source": [
    "# dropping null values\n",
    "rt_movie_info_runtime = rt_movie_info.dropna()\n",
    "\n",
    "box_office = []\n",
    "for v in rt_movie_info_runtime['box_office'].dropna():\n",
    "    box_office.append(box_office)"
   ]
  },
  {
   "cell_type": "code",
   "execution_count": 18,
   "metadata": {
    "ExecuteTime": {
     "end_time": "2022-08-20T00:05:42.198549Z",
     "start_time": "2022-08-20T00:05:42.184546Z"
    }
   },
   "outputs": [
    {
     "name": "stderr",
     "output_type": "stream",
     "text": [
      "<ipython-input-18-2b1f70847de7>:11: SettingWithCopyWarning: \n",
      "A value is trying to be set on a copy of a slice from a DataFrame.\n",
      "Try using .loc[row_indexer,col_indexer] = value instead\n",
      "\n",
      "See the caveats in the documentation: https://pandas.pydata.org/pandas-docs/stable/user_guide/indexing.html#returning-a-view-versus-a-copy\n",
      "  rt_movie_info_runtime['runtime_clean'] = runtime_clean\n"
     ]
    }
   ],
   "source": [
    "runtime_raw = [] #for freshly-extracted runtimes\n",
    "runtime_clean = [] #for runtime w/o whitespace\n",
    "\n",
    "for val in rt_movie_info_runtime['runtime'].str[:3]: #extract first 3 characters, movies under 100 min will have whitespace\n",
    "    runtime_raw.append(val) \n",
    "for val in runtime_raw: #strip whitespace\n",
    "    runtime_strip = val.replace(' ', '') \n",
    "    runtime_clean.append(runtime_strip)\n",
    "\n",
    "#create new column 'runtime_clean'\n",
    "rt_movie_info_runtime['runtime_clean'] = runtime_clean"
   ]
  },
  {
   "cell_type": "code",
   "execution_count": 19,
   "metadata": {
    "ExecuteTime": {
     "end_time": "2022-08-20T00:05:42.214552Z",
     "start_time": "2022-08-20T00:05:42.199549Z"
    }
   },
   "outputs": [
    {
     "name": "stdout",
     "output_type": "stream",
     "text": [
      "<class 'pandas.core.frame.DataFrame'>\n",
      "Int64Index: 235 entries, 1 to 1545\n",
      "Data columns (total 14 columns):\n",
      " #   Column            Non-Null Count  Dtype  \n",
      "---  ------            --------------  -----  \n",
      " 0   id                235 non-null    int64  \n",
      " 1   synopsis          235 non-null    object \n",
      " 2   rating            235 non-null    object \n",
      " 3   genre             235 non-null    object \n",
      " 4   director          235 non-null    object \n",
      " 5   writer            235 non-null    object \n",
      " 6   theater_date      235 non-null    object \n",
      " 7   dvd_date          235 non-null    object \n",
      " 8   currency          235 non-null    object \n",
      " 9   box_office        235 non-null    float64\n",
      " 10  runtime           235 non-null    object \n",
      " 11  studio            235 non-null    object \n",
      " 12  runtime_clean     235 non-null    object \n",
      " 13  box_office_clean  235 non-null    float64\n",
      "dtypes: float64(2), int64(1), object(11)\n",
      "memory usage: 27.5+ KB\n"
     ]
    },
    {
     "name": "stderr",
     "output_type": "stream",
     "text": [
      "<ipython-input-19-67149c2021ed>:2: SettingWithCopyWarning: \n",
      "A value is trying to be set on a copy of a slice from a DataFrame.\n",
      "Try using .loc[row_indexer,col_indexer] = value instead\n",
      "\n",
      "See the caveats in the documentation: https://pandas.pydata.org/pandas-docs/stable/user_guide/indexing.html#returning-a-view-versus-a-copy\n",
      "  rt_movie_info_runtime['box_office_clean'] = rt_movie_info_runtime['box_office']\n"
     ]
    }
   ],
   "source": [
    "# creating new column for future analysis\n",
    "rt_movie_info_runtime['box_office_clean'] = rt_movie_info_runtime['box_office']\n",
    "\n",
    "# viewing dtypes in dataframe\n",
    "rt_movie_info_runtime.info()"
   ]
  },
  {
   "cell_type": "code",
   "execution_count": 20,
   "metadata": {
    "ExecuteTime": {
     "end_time": "2022-08-20T00:05:42.230556Z",
     "start_time": "2022-08-20T00:05:42.215553Z"
    }
   },
   "outputs": [
    {
     "data": {
      "text/plain": [
       "1         600000.0\n",
       "6       41032915.0\n",
       "7         224114.0\n",
       "15       1039869.0\n",
       "18      20518224.0\n",
       "           ...    \n",
       "1530    72700000.0\n",
       "1537     1320005.0\n",
       "1541    25335935.0\n",
       "1542     1416189.0\n",
       "1545       59371.0\n",
       "Name: box_office_clean, Length: 235, dtype: float64"
      ]
     },
     "execution_count": 20,
     "metadata": {},
     "output_type": "execute_result"
    }
   ],
   "source": [
    "# changing objects to strings for further cleaning\n",
    "rt_movie_info_runtime = rt_movie_info_runtime.astype(str)\n",
    "\n",
    "# removing the comma from box office for easier future analysis\n",
    "rt_movie_info_runtime['box_office_clean'].map(lambda x: float(x.replace(',', '')))"
   ]
  },
  {
   "cell_type": "code",
   "execution_count": 21,
   "metadata": {
    "ExecuteTime": {
     "end_time": "2022-08-20T00:05:42.245559Z",
     "start_time": "2022-08-20T00:05:42.231556Z"
    }
   },
   "outputs": [],
   "source": [
    "# changing box office back into a float for analysis \n",
    "rt_movie_info_runtime['box_office_clean'] = rt_movie_info_runtime['box_office_clean'].astype(float)"
   ]
  },
  {
   "cell_type": "code",
   "execution_count": 22,
   "metadata": {
    "ExecuteTime": {
     "end_time": "2022-08-20T00:05:42.261563Z",
     "start_time": "2022-08-20T00:05:42.247560Z"
    }
   },
   "outputs": [],
   "source": [
    "#create new dataframe\n",
    "df2 = rt_movie_info_runtime[['runtime_clean','box_office_clean']].copy()\n",
    "\n",
    "#ensure runtime valuse are recognized as integers\n",
    "df2['runtime_clean'] = df2['runtime_clean'].astype(int)\n",
    "\n",
    "#ensure box office slaes values are recognized as integers\n",
    "df2['box_office_clean'] = df2['box_office_clean'].astype(int)"
   ]
  },
  {
   "cell_type": "code",
   "execution_count": 23,
   "metadata": {
    "ExecuteTime": {
     "end_time": "2022-08-20T00:05:42.293571Z",
     "start_time": "2022-08-20T00:05:42.264564Z"
    }
   },
   "outputs": [
    {
     "name": "stdout",
     "output_type": "stream",
     "text": [
      "Descriptive Statistics for Runtime\n",
      "Mean runtime: 106.66382978723404\n",
      "\n",
      "Maximum runtime: 188\n",
      "75th Percentile: 117.0\n",
      "Median runtime: 105.0\n",
      "25th Percentile: 93.0\n",
      "Minimum runtime: 67\n",
      "Interquartile Range: 24.0\n",
      "Std. Dev. of runtime: 18.14712458129922\n",
      "99.7% of observations should lay between: 70.3695806246356 - 142.95807894983247\n",
      "\n",
      "Descriptive Statistics for Box Office Sales\n",
      "Mean box office sales: 41958400.02127659\n",
      "\n",
      "Maximum sales: 368000000\n",
      "75th Percentile: 52649522.5\n",
      "Median sales: 15536310.0\n",
      "25th Percentile: 2302444.5\n",
      "Minimum sales: 363\n",
      "Std. Dev of Sales: 62630155.518367976\n",
      "Interquartile Range: 50347078.0\n",
      "99.7% of observations should lay between: -83301911.01545936 - 139206163961.8349\n",
      "\n",
      "Correlation Coefficient\n",
      "                  runtime_clean  box_office_clean\n",
      "runtime_clean          1.000000          0.312157\n",
      "box_office_clean       0.312157          1.000000\n",
      "\n",
      "Less - Runtime Mean: 92.43103448275862 Box Office Sales Mean: 28014808.870689657 n: 116\n",
      "More - Runtime Mean: 121.21929824561404 Box Office Sales Mean: 56785095.37719298 n: 114\n"
     ]
    }
   ],
   "source": [
    "#Descriptive Stats for Runtime\n",
    "max1 = df2['runtime_clean'].max()\n",
    "Q1_3 = df2['runtime_clean'].quantile(q=0.75)\n",
    "mean1 = df2['runtime_clean'].mean()\n",
    "med1 = df2['runtime_clean'].median()\n",
    "std1 = df2['runtime_clean'].std()\n",
    "Q1_1 = df2['runtime_clean'].quantile(q=0.25)\n",
    "min1 = df2['runtime_clean'].min()\n",
    "\n",
    "print('Descriptive Statistics for Runtime')\n",
    "print('Mean runtime:', mean1)\n",
    "print('')\n",
    "print('Maximum runtime:', max1)\n",
    "print('75th Percentile:', Q1_3)\n",
    "print('Median runtime:', med1)\n",
    "print('25th Percentile:', Q1_1)\n",
    "print('Minimum runtime:', min1)\n",
    "print('Interquartile Range:', Q1_3-Q1_1)\n",
    "print('Std. Dev. of runtime:', std1)\n",
    "\n",
    "print('99.7% of observations should lay between:', mean1-(std1*2), '-',mean1+(std1*2))\n",
    "\n",
    "print('') #for readability\n",
    "\n",
    "#Descriptive Stats for Box Office Sales\n",
    "mean2 = df2['box_office_clean'].mean()\n",
    "max2 = df2['box_office_clean'].max()\n",
    "Q2_3 = df2['box_office_clean'].quantile(q=0.75)\n",
    "med2 = df2['box_office_clean'].median()\n",
    "Q2_1 = df2['box_office_clean'].quantile(q=0.25)\n",
    "min2 = df2['box_office_clean'].min()\n",
    "std2 = df2['box_office_clean'].std()\n",
    "\n",
    "print('Descriptive Statistics for Box Office Sales')\n",
    "print('Mean box office sales:', mean2)\n",
    "print('')\n",
    "print('Maximum sales:', max2)\n",
    "print('75th Percentile:', Q2_3)\n",
    "print('Median sales:', med2)\n",
    "print('25th Percentile:', Q2_1)\n",
    "print('Minimum sales:', min2)\n",
    "print('Std. Dev of Sales:', std2)\n",
    "print('Interquartile Range:', Q2_3-Q2_1)\n",
    "print('99.7% of observations should lay between:', mean2-(std2*2), '-', mean2+(std2*2222))\n",
    "\n",
    "print('') #for readability\n",
    "print('Correlation Coefficient')      \n",
    "print(df2.corr()) #calculate Pearson correlation coefficient for variables in df2\n",
    "\n",
    "#generate a normal distribution where mean1 is avg, sd1 is std dev, and n=235\n",
    "d1 = np.random.normal(mean1, std1, 235) \n",
    "#generate a normal distribution where mean2 is avg, sd2 is std dev, and n=235\n",
    "d2 = np.random.normal(mean2, std2, 235) \n",
    "\n",
    "df2more = df2[df2['runtime_clean'] > 105]\n",
    "df2less = df2[df2['runtime_clean'] < 105]\n",
    "print('')\n",
    "print('Less - Runtime Mean:', df2less['runtime_clean'].mean(), \n",
    "      'Box Office Sales Mean:', df2less['box_office_clean'].mean(), \n",
    "      'n:', len(df2less))\n",
    "print('More - Runtime Mean:', df2more['runtime_clean'].mean(),\n",
    "      'Box Office Sales Mean:', df2more['box_office_clean'].mean(), \n",
    "      'n:', len(df2more))\n",
    "#df2['runtime_clean'].plot.box(grid='True')\n",
    "#df2['box_office_clean'].plot.box(grid='True')"
   ]
  },
  {
   "cell_type": "markdown",
   "metadata": {},
   "source": [
    "# Visualization"
   ]
  },
  {
   "cell_type": "markdown",
   "metadata": {},
   "source": [
    "## Genre"
   ]
  },
  {
   "cell_type": "code",
   "execution_count": 24,
   "metadata": {
    "ExecuteTime": {
     "end_time": "2022-08-20T00:05:42.450892Z",
     "start_time": "2022-08-20T00:05:42.296571Z"
    }
   },
   "outputs": [
    {
     "data": {
      "image/png": "[encoded data removed]",
      "text/plain": [
       "<Figure size 432x288 with 1 Axes>"
      ]
     },
     "metadata": {
      "needs_background": "light"
     },
     "output_type": "display_data"
    }
   ],
   "source": [
    "top_genre={\"drama\":drama_avg_revenue, \"comedy\":comedy_avg_revenue, \"action\":action_avg_revenue, \n",
    "           \"horror\": horror_avg_revenue, \"romance\":romance_avg_revenue, \"classics\": classic_avg_revenue}\n",
    "\n",
    "#creating the graph to compare the top genres\n",
    "import matplotlib.pyplot as plt\n",
    "%matplotlib inline\n",
    "\n",
    "fig, ax=plt.subplots()\n",
    "# plt.ticklabel_format(style='plain')\n",
    "ax.bar(top_genre.keys(),top_genre.values())\n",
    "\n",
    "\n",
    "\n",
    "ax.set_title(\"Top Genres' Revenues\")\n",
    "ax.set_xlabel(\"Top Genres\")\n",
    "ax.set_ylabel(\"Revenue in Tens of Millions (USD)\");"
   ]
  },
  {
   "cell_type": "code",
   "execution_count": 25,
   "metadata": {
    "ExecuteTime": {
     "end_time": "2022-08-20T00:05:42.578923Z",
     "start_time": "2022-08-20T00:05:42.452895Z"
    }
   },
   "outputs": [
    {
     "data": {
      "text/plain": [
       "Text(0, 0.5, 'Median Revenue (USD)')"
      ]
     },
     "execution_count": 25,
     "metadata": {},
     "output_type": "execute_result"
    },
    {
     "data": {
      "image/png": "[encoded data removed]",
      "text/plain": [
       "<Figure size 432x288 with 1 Axes>"
      ]
     },
     "metadata": {
      "needs_background": "light"
     },
     "output_type": "display_data"
    }
   ],
   "source": [
    "top_genre_med = {\"drama\":drama_med, \"comedy\":comedy_med, \"action\":action_med, \n",
    "           \"horror\": horror_med, \"romance\":romance_med, \"classics\": classic_med}\n",
    "\n",
    "fig, ax = plt.subplots()\n",
    "plt.ticklabel_format(style = 'plain')\n",
    "ax.bar(top_genre_med.keys(),top_genre_med.values() )\n",
    "\n",
    "\n",
    "\n",
    "\n",
    "\n",
    "ax.set_title(\"Median Box Office Revenue by Genre\")\n",
    "ax.set_xlabel(\"Genres\")\n",
    "ax.set_ylabel(\"Median Revenue (USD)\")"
   ]
  },
  {
   "cell_type": "markdown",
   "metadata": {},
   "source": [
    "## MPAA Rating"
   ]
  },
  {
   "cell_type": "code",
   "execution_count": 26,
   "metadata": {
    "ExecuteTime": {
     "end_time": "2022-08-20T00:05:42.705952Z",
     "start_time": "2022-08-20T00:05:42.580924Z"
    }
   },
   "outputs": [
    {
     "data": {
      "image/png": "[encoded data removed]",
      "text/plain": [
       "<Figure size 432x288 with 1 Axes>"
      ]
     },
     "metadata": {
      "needs_background": "light"
     },
     "output_type": "display_data"
    }
   ],
   "source": [
    "#Mean box office revenue by rating\n",
    "fig, ax=plt.subplots()\n",
    "plt.ticklabel_format(style='plain')\n",
    "ax.bar(ratings_dict.keys(),ratings_dict.values() )\n",
    "\n",
    "\n",
    "\n",
    "ax.set_title(\"Average Box Office Revenue by MPAA Rating\")\n",
    "ax.set_xlabel(\"MPAA Ratings\")\n",
    "ax.set_ylabel(\" Average Revenue (USD)\");"
   ]
  },
  {
   "cell_type": "code",
   "execution_count": 27,
   "metadata": {
    "ExecuteTime": {
     "end_time": "2022-08-20T00:05:42.848990Z",
     "start_time": "2022-08-20T00:05:42.706952Z"
    }
   },
   "outputs": [
    {
     "data": {
      "image/png": "[encoded data removed]",
      "text/plain": [
       "<Figure size 432x288 with 1 Axes>"
      ]
     },
     "metadata": {
      "needs_background": "light"
     },
     "output_type": "display_data"
    }
   ],
   "source": [
    "#median box office revenue by rating\n",
    "fig, ax=plt.subplots()\n",
    "plt.ticklabel_format(style='plain')\n",
    "ax.bar(ratings_dict_med.keys(),ratings_dict_med.values() )\n",
    "\n",
    "\n",
    "\n",
    "ax.set_title(\"Median Box Office Revenue by MPAA Rating\")\n",
    "ax.set_xlabel(\"MPAA Ratings\")\n",
    "ax.set_ylabel(\"Median Revenue (USD)\");"
   ]
  },
  {
   "cell_type": "markdown",
   "metadata": {},
   "source": [
    "## Runtime"
   ]
  },
  {
   "cell_type": "code",
   "execution_count": 28,
   "metadata": {
    "ExecuteTime": {
     "end_time": "2022-08-20T00:05:43.038032Z",
     "start_time": "2022-08-20T00:05:42.850990Z"
    }
   },
   "outputs": [
    {
     "data": {
      "image/png": "[encoded data removed]",
      "text/plain": [
       "<Figure size 432x288 with 1 Axes>"
      ]
     },
     "metadata": {
      "needs_background": "light"
     },
     "output_type": "display_data"
    }
   ],
   "source": [
    "fig, ax = plt.subplots() #Generate Scatter plot \n",
    "\n",
    "ax.scatter(df2['runtime_clean'], df2['box_office_clean'], label=\"actual data\")\n",
    "\n",
    "\n",
    "\n",
    "x_bounds = [min(df2['runtime_clean']), max(df2['runtime_clean'])]\n",
    "y_bounds = [min(df2['box_office_clean']), max(df2['box_office_clean'])]\n",
    "\n",
    "\n",
    "\n",
    "\n",
    "ax.plot(x_bounds, y_bounds, \"--\", label=\"perfect correlation\")\n",
    "\n",
    "\n",
    "\n",
    "ax.set_title(\"Runtime Moderately Influences Box Office Sales\")\n",
    "ax.set_xlabel(\"Minutes\")\n",
    "ax.set_ylabel(\"Sales in USD\")\n",
    "\n",
    "\n",
    "\n",
    "ax.legend();"
   ]
  },
  {
   "cell_type": "markdown",
   "metadata": {},
   "source": [
    "# Statistical Communication"
   ]
  },
  {
   "cell_type": "markdown",
   "metadata": {},
   "source": [
    "Conducted a one-tailed t-test to test the relationship between the action genre and box office performance\n",
    "\n",
    "Null Hypothesis: The action genre has no effect on box office revenue\n",
    "Alternative Hypothesis: Action films perform better in terms of box office revenue"
   ]
  },
  {
   "cell_type": "code",
   "execution_count": 29,
   "metadata": {
    "ExecuteTime": {
     "end_time": "2022-08-20T00:05:43.054036Z",
     "start_time": "2022-08-20T00:05:43.039033Z"
    }
   },
   "outputs": [
    {
     "data": {
      "text/plain": [
       "(-1.6448536269514729, 1.6448536269514722)"
      ]
     },
     "execution_count": 29,
     "metadata": {},
     "output_type": "execute_result"
    }
   ],
   "source": [
    "# defining variables for t-test\n",
    "pop=movie_info['box_office']\n",
    "act=action['box_office']\n",
    "alpha = .05\n",
    "\n",
    "stats.norm.ppf(alpha), stats.norm.ppf(1-alpha)"
   ]
  },
  {
   "cell_type": "code",
   "execution_count": 30,
   "metadata": {
    "ExecuteTime": {
     "end_time": "2022-08-20T00:05:43.070040Z",
     "start_time": "2022-08-20T00:05:43.056036Z"
    }
   },
   "outputs": [
    {
     "data": {
      "text/plain": [
       "Ttest_indResult(statistic=2.4041519619389393, pvalue=0.016792764209447402)"
      ]
     },
     "execution_count": 30,
     "metadata": {},
     "output_type": "execute_result"
    }
   ],
   "source": [
    "stats.ttest_ind(act,pop)"
   ]
  },
  {
   "cell_type": "code",
   "execution_count": 31,
   "metadata": {
    "ExecuteTime": {
     "end_time": "2022-08-20T00:05:43.086043Z",
     "start_time": "2022-08-20T00:05:43.072040Z"
    }
   },
   "outputs": [
    {
     "name": "stdout",
     "output_type": "stream",
     "text": [
      " Pvalue of 0.0168 less than the alpha value of 0.05\n"
     ]
    }
   ],
   "source": [
    "print(f' Pvalue of 0.0168 less than the alpha value of {alpha}')"
   ]
  },
  {
   "cell_type": "markdown",
   "metadata": {},
   "source": [
    "We can reject the null hypothesis that the action genre has no effect on box office revenue, and conclude that the action genre is associated with an increase in box office revenue."
   ]
  },
  {
   "cell_type": "markdown",
   "metadata": {},
   "source": [
    "# Student Branches"
   ]
  },
  {
   "cell_type": "markdown",
   "metadata": {},
   "source": [
    "## Maanik Gupta"
   ]
  },
  {
   "cell_type": "markdown",
   "metadata": {},
   "source": [
    "## Maya Sandlin"
   ]
  },
  {
   "cell_type": "code",
   "execution_count": null,
   "metadata": {
    "ExecuteTime": {
     "end_time": "2022-08-18T22:33:08.175499Z",
     "start_time": "2022-08-18T22:33:07.815418Z"
    }
   },
   "outputs": [],
   "source": [
    "import pandas as pd\n",
    "import numpy as np\n",
    "movie_gross = pd.read_csv('zippedData/bom.movie_gross.csv')\n",
    "rt_movie_info = pd.read_csv('zippedData/rt.movie_info.csv')\n",
    "rt_review = pd.read_csv('zippedData/rt.reviews.csv', encoding='unicode_escape')\n",
    "tn_movie_budgets = pd.read_csv('zippedData/tn.movie_budgets.csv')\n",
    "tmdb_movies = pd.read_csv('zippedData/tmdb.movies.csv', index_col=0)\n",
    "\n",
    "movie_genre = rt_movie_info[['genre','box_office']]\n",
    "clean_genre = movie_genre.dropna()\n",
    "genres_sorted = movie_genre['genre'].sort_values().dropna()\n",
    "genres_sorted.value_counts().head (30)\n",
    "#using this data, the main six categories include: drama, comedy, horror, action, romance, and classics\n",
    "\n",
    "#determining the average revenue\n",
    "\n",
    "#drama\n",
    "drama = clean_genre[clean_genre['genre'].str.contains('Drama')]\n",
    "drama_revenue = drama ['box_office']\n",
    "drama_revenue_clean = drama_revenue.dropna()\n",
    "drama_avg_revenue = np.mean(drama_revenue_clean)\n",
    "drama_avg_revenue\n",
    "\n",
    "#comedy\n",
    "comedy = clean_genre[clean_genre['genre'].str.contains('Comedy')]\n",
    "comedy_revenue = comedy ['box_office']\n",
    "comedy_revenue_clean = comedy_revenue.dropna()\n",
    "comedy_avg_revenue = np.mean(comedy_revenue_clean)\n",
    "comedy_avg_revenue \n",
    "\n",
    "#action \n",
    "action = clean_genre[clean_genre['genre'].str.contains('Action')]\n",
    "action_revenue = action ['box_office']\n",
    "action_revenue_clean = action_revenue.dropna()\n",
    "action_avg_revenue = np.mean(action_revenue_clean)\n",
    "action_avg_revenue \n",
    "\n",
    "#horror\n",
    "horror = clean_genre[clean_genre['genre'].str.contains('Horror')]\n",
    "horror_revenue = horror ['box_office']\n",
    "horror_revenue_clean = horror_revenue.dropna()\n",
    "horror_avg_revenue = np.mean(horror_revenue_clean)\n",
    "horror_avg_revenue\n",
    "\n",
    "#romance\n",
    "romance = clean_genre[clean_genre['genre'].str.contains('Romance')]\n",
    "romance_revenue = horror ['box_office']\n",
    "romance_revenue_clean = romance_revenue.dropna()\n",
    "romance_avg_revenue = np.mean(romance_revenue_clean)\n",
    "romance_avg_revenue\n",
    "\n",
    "#classics\n",
    "classics = clean_genre[clean_genre['genre'].str.contains('Classics')]\n",
    "classic_revenue = classics ['box_office']\n",
    "classic_revenue_clean = classic_revenue.dropna()\n",
    "classic_avg_revenue = np.mean(classic_revenue_clean)\n",
    "classic_avg_revenue\n",
    "\n",
    "top_genre={\"drama\":drama_avg_revenue, \"comedy\":comedy_avg_revenue, \"action\":action_avg_revenue, \n",
    "           \"horror\": horror_avg_revenue, \"romance\":romance_avg_revenue, \"classics\": classic_avg_revenue}\n",
    "\n",
    "#creating the graph to compare the top genres\n",
    "import matplotlib.pyplot as plt\n",
    "%matplotlib inline\n",
    "\n",
    "fig, ax=plt.subplots()\n",
    "# plt.ticklabel_format(style='plain')\n",
    "ax.bar(top_genre.keys(),top_genre.values())\n",
    "\n",
    "\n",
    "\n",
    "ax.set_title(\"Top Genres' Revenues\")\n",
    "ax.set_xlabel(\"Top Genres\")\n",
    "ax.set_ylabel(\"Revenue in Tens of Millions (USD)\")\n",
    "\n",
    "\n"
   ]
  },
  {
   "cell_type": "markdown",
   "metadata": {},
   "source": [
    "## Robert Golden"
   ]
  },
  {
   "cell_type": "code",
   "execution_count": null,
   "metadata": {
    "ExecuteTime": {
     "end_time": "2022-08-19T21:53:08.227889Z",
     "start_time": "2022-08-19T21:53:08.091859Z"
    }
   },
   "outputs": [],
   "source": [
    "import pandas as pd\n",
    "import numpy as np\n",
    "import matplotlib.pyplot as plt\n",
    "import seaborn as sns\n",
    "import scipy.stats as stats\n",
    "\n",
    "#Read CSVs for later use\n",
    "movie_gross = pd.read_csv('zippedData/bom.movie_gross.csv')\n",
    "rt_movie_info = pd.read_csv('zippedData/rt.movie_info.csv')\n",
    "rt_reviews = pd.read_csv('zippedData/rt.reviews.csv')\n",
    "tn_movie_budgets = pd.read_csv('zippedData/tn.movie_budgets.csv')\n",
    "tmdb_movies = pd.read_csv('zippedData/tmdb.movies.csv', index_col=0)\n",
    "\n",
    "#print(movie_gross.info())\n",
    "#Clean studio, domestic_gross, & foreign_gross\n",
    "#movie_gross = movie_gross.dropna()\n",
    "#movie_gross.info()\n",
    "\n",
    "rt_movie_info = rt_movie_info.dropna()\n",
    "#Clean synopsis, rating, genre, director, writer, theater_date, dvd_date, runtime \n",
    "ratings = []\n",
    "for rating in rt_movie_info['rating'].dropna():\n",
    "    ratings.append(rating)\n",
    "\n",
    "runtime_raw = [] #for freshly-extracted runtimes\n",
    "runtime_clean = [] #rfor runtime w/o whitespace\n",
    "box_off_raw = [] #for raw box office sales data\n",
    "box_off_clean = [] #for box office sales data without commas or whitespace\n",
    "for val in rt_movie_info['runtime'].str[:3]: #extract first 3 characters, movies under 100 min will have whitespace\n",
    "    runtime_raw.append(val) \n",
    "for val in runtime_raw: #strip whitespace\n",
    "    runtime_strip = val.replace(' ', '') \n",
    "    runtime_clean.append(runtime_strip)\n",
    "    \n",
    "for val in rt_movie_info['box_office']:\n",
    "    box_off_strip = val.replace(',', '')\n",
    "    box_off_clean.append(box_off_strip)\n",
    "\n",
    "#create new column 'runtime_clean'\n",
    "rt_movie_info['runtime_clean'] = runtime_clean\n",
    "#create new column 'box_office_clean'\n",
    "rt_movie_info['box_office_clean'] = box_off_clean\n",
    "\n",
    "#create new dataframe\n",
    "df2 = rt_movie_info[['runtime_clean','box_office_clean']].copy()\n",
    "#ensure runtime valuse are recognized as integers\n",
    "df2['runtime_clean'] = df2['runtime_clean'].astype(int)\n",
    "#ensure box office slaes values are recognized as integers\n",
    "df2['box_office_clean'] = df2['box_office_clean'].astype(int)\n"
   ]
  },
  {
   "cell_type": "code",
   "execution_count": null,
   "metadata": {
    "ExecuteTime": {
     "end_time": "2022-08-18T22:33:08.390604Z",
     "start_time": "2022-08-18T22:33:07.819Z"
    }
   },
   "outputs": [],
   "source": [
    "#Descriptive Stats for Runtime\n",
    "max1 = df2['runtime_clean'].max()\n",
    "Q1_3 = df2['runtime_clean'].quantile(q=0.75)\n",
    "mean1 = df2['runtime_clean'].mean()\n",
    "med1 = df2['runtime_clean'].median()\n",
    "std1 = df2['runtime_clean'].std()\n",
    "Q1_1 = df2['runtime_clean'].quantile(q=0.25)\n",
    "min1 = df2['runtime_clean'].min()\n",
    "\n",
    "print('Descriptive Statistics for Runtime')\n",
    "print('Mean runtime:', mean1)\n",
    "print('')\n",
    "print('Maximum runtime:', max1)\n",
    "print('75th Percentile:', Q1_3)\n",
    "print('Median runtime:', med1)\n",
    "print('25th Percentile:', Q1_1)\n",
    "print('Minimum runtime:', min1)\n",
    "print('Interquartile Range:', Q1_3-Q1_1)\n",
    "print('Std. Dev. of runtime:', std1)\n",
    "\n",
    "print('99.7% of observations should lay between:', mean1-(std1*2), '-',mean1+(std1*2))\n",
    "\n",
    "print('') #for readability\n",
    "#Descriptive Stats for Box Office Sales\n",
    "mean2 = df2['box_office_clean'].mean()\n",
    "max2 = df2['box_office_clean'].max()\n",
    "Q2_3 = df2['box_office_clean'].quantile(q=0.75)\n",
    "med2 = df2['box_office_clean'].median()\n",
    "Q2_1 = df2['box_office_clean'].quantile(q=0.25)\n",
    "min2 = df2['box_office_clean'].min()\n",
    "std2 = df2['box_office_clean'].std()\n",
    "\n",
    "print('Descriptive Statistics for Box Office Sales')\n",
    "print('Mean box office sales:', mean2)\n",
    "print('')\n",
    "print('Maximum sales:', max2)\n",
    "print('75th Percentile:', Q2_3)\n",
    "print('Median sales:', med2)\n",
    "print('25th Percentile:', Q2_1)\n",
    "print('Minimum sales:', min2)\n",
    "print('Std. Dev of Sales:', std2)\n",
    "print('Interquartile Range:', Q2_3-Q2_1)\n",
    "print('99.7% of observations should lay between:', mean2-(std2*2), '-', mean2+(std2*2222))\n",
    "\n",
    "print('') #for readability\n",
    "print('Correlation Coefficient')      \n",
    "print(df2.corr()) #calculate Pearson correlation coefficient for variables in df2\n",
    "\n",
    "#generate a normal distribution where mean1 is avg, sd1 is std dev, and n=235\n",
    "d1 = np.random.normal(mean1, std1, 235) \n",
    "#generate a normal distribution where mean2 is avg, sd2 is std dev, and n=235\n",
    "d2 = np.random.normal(mean2, std2, 235) \n",
    "\n",
    "df2more = df2[df2['runtime_clean'] > 105]\n",
    "df2less = df2[df2['runtime_clean'] < 105]\n",
    "print('')\n",
    "print('Less - Runtime Mean:', df2less['runtime_clean'].mean(), \n",
    "      'Box Office Sales Mean:', df2less['box_office_clean'].mean(), \n",
    "      'n:', len(df2less))\n",
    "print('More - Runtime Mean:', df2more['runtime_clean'].mean(),\n",
    "      'Box Office Sales Mean:', df2more['box_office_clean'].mean(), \n",
    "      'n:', len(df2more))\n",
    "#df2['runtime_clean'].plot.box(grid='True')\n",
    "#df2['box_office_clean'].plot.box(grid='True')"
   ]
  },
  {
   "cell_type": "code",
   "execution_count": null,
   "metadata": {
    "ExecuteTime": {
     "end_time": "2022-08-19T23:08:49.809143Z",
     "start_time": "2022-08-19T23:08:49.785138Z"
    }
   },
   "outputs": [],
   "source": [
    "n = 235 #sample size\n",
    "df = n - 1 #degrees of freedom = sample size - 1\n",
    "\n",
    "print('df2more variance:')\n",
    "print(df2more.var())\n",
    "print('df2less variance:')\n",
    "print(df2less.var())\n",
    "print('')\n",
    "#test relationship between movie length over 105 minutes\n",
    "t_ind_runtime = stats.ttest_ind(df2more['runtime_clean'], df2less['runtime_clean'], equal_var=False)\n",
    "\n",
    "print('T-Test runtime:', t_ind_runtime)\n",
    "\n",
    "\n",
    "df2\n"
   ]
  },
  {
   "cell_type": "code",
   "execution_count": null,
   "metadata": {
    "ExecuteTime": {
     "end_time": "2022-08-19T23:08:53.879074Z",
     "start_time": "2022-08-19T23:08:53.700578Z"
    }
   },
   "outputs": [],
   "source": [
    "sns.distplot(d1) #distribution for runtime"
   ]
  },
  {
   "cell_type": "code",
   "execution_count": null,
   "metadata": {
    "ExecuteTime": {
     "end_time": "2022-08-19T23:08:54.717464Z",
     "start_time": "2022-08-19T23:08:54.554446Z"
    }
   },
   "outputs": [],
   "source": [
    "sns.distplot(d2) #distribution for box office sales"
   ]
  },
  {
   "cell_type": "code",
   "execution_count": null,
   "metadata": {
    "ExecuteTime": {
     "end_time": "2022-08-19T23:08:55.405892Z",
     "start_time": "2022-08-19T23:08:55.229853Z"
    }
   },
   "outputs": [],
   "source": [
    "#normalized distribution for runtime\n",
    "sns.distplot([(x - d1.mean())/d1.std() for x in d1]) \n",
    "#normalized distribution for box office sales\n",
    "sns.distplot([(x - d2.mean())/d2.std() for x in d2])"
   ]
  },
  {
   "cell_type": "code",
   "execution_count": null,
   "metadata": {
    "ExecuteTime": {
     "end_time": "2022-08-19T23:08:56.211750Z",
     "start_time": "2022-08-19T23:08:55.950291Z"
    }
   },
   "outputs": [],
   "source": [
    "sns.regplot(df2more['runtime_clean'], df2more['box_office_clean'])\n",
    "sns.regplot(df2less['runtime_clean'], df2less['box_office_clean'])"
   ]
  },
  {
   "cell_type": "code",
   "execution_count": null,
   "metadata": {
    "ExecuteTime": {
     "end_time": "2022-08-19T23:08:57.740295Z",
     "start_time": "2022-08-19T23:08:57.569350Z"
    }
   },
   "outputs": [],
   "source": [
    "fig, ax = plt.subplots() #Generate Scatter plot \n",
    "\n",
    "ax.scatter(df2['runtime_clean'], df2['box_office_clean'], label=\"actual data\")\n",
    "\n",
    "\n",
    "\n",
    "x_bounds = [min(df2['runtime_clean']), max(df2['runtime_clean'])]\n",
    "y_bounds = [min(df2['box_office_clean']), max(df2['box_office_clean'])]\n",
    "\n",
    "\n",
    "\n",
    "ax.plot(x_bounds, y_bounds, \"--\", label=\"perfect correlation\")\n",
    "\n",
    "\n",
    "\n",
    "ax.set_title(\"Runtime Moderately Influences Box Office Sales\")\n",
    "ax.set_xlabel(\"Minutes\")\n",
    "ax.set_ylabel(\"Sales in USD\")\n",
    "\n",
    "\n",
    "\n",
    "ax.legend();"
   ]
  },
  {
   "cell_type": "code",
   "execution_count": null,
   "metadata": {
    "ExecuteTime": {
     "end_time": "2022-08-19T23:09:00.288543Z",
     "start_time": "2022-08-19T23:08:59.887453Z"
    }
   },
   "outputs": [],
   "source": [
    "df3 = rt_movie_info[['rating', 'box_office_clean']].copy() #copies rt_movie_info into new dataframe\n",
    "df3 = df3.dropna() #drops null values\n",
    "\n",
    "df3['box_office_clean'] = df3['box_office_clean'].astype(int) #ensures box office sales are integers\n",
    "\n",
    "sales_groupby_rating = df3.groupby('rating')[['box_office_clean']].sum()\n",
    "sales_groupby_rating = sales_groupby_rating / (10^9)\n",
    "\n",
    "fig, ax = plt.subplots(figsize=(30,20))\n",
    "ax.bar(x=sales_groupby_rating.index, height=sales_groupby_rating['box_office_clean'])\n",
    "plt.title('Sales by MPAA Rating')\n",
    "plt.xlabel('MPAA Ratings')\n",
    "plt.ylabel('Sales in USD (Billions)')\n",
    "plt.show()"
   ]
  },
  {
   "cell_type": "markdown",
   "metadata": {},
   "source": [
    "## Daniel Robles"
   ]
  },
  {
   "cell_type": "code",
   "execution_count": null,
   "metadata": {
    "ExecuteTime": {
     "end_time": "2022-08-18T22:33:22.225547Z",
     "start_time": "2022-08-18T22:33:22.026549Z"
    },
    "scrolled": true
   },
   "outputs": [],
   "source": [
    "import sqlite3\n",
    "import pandas as pd\n",
    "import numpy as np\n",
    "import matplotlib.pyplot as plt\n",
    "\n",
    "\n",
    "movie_gross = pd.read_csv('zippedData/bom.movie_gross.csv')\n",
    "rt_movie_info = pd.read_csv('zippedData/rt.movie_info.csv')\n",
    "rt_review = pd.read_csv('zippedData/rt.reviews.csv', encoding='unicode_escape')\n",
    "tn_movie_budgets = pd.read_csv('zippedData/tn.movie_budgets.csv')\n",
    "tmdb_movies = pd.read_csv('zippedData/tmdb.movies.csv', index_col=0)\n",
    "\n",
    "\n",
    "conn = sqlite3.connect('C:/Users/darobles/Desktop/capstone/AIOverlordSupporters/zippedData/im.db')\n",
    "cur = conn.cursor()\n",
    "pd.read_sql('''SELECT * FROM SQLITE_MASTER;''', conn)\n",
    "\n"
   ]
  },
  {
   "cell_type": "code",
   "execution_count": null,
   "metadata": {
    "ExecuteTime": {
     "end_time": "2022-08-18T22:33:28.425648Z",
     "start_time": "2022-08-18T22:33:28.416647Z"
    }
   },
   "outputs": [],
   "source": [
    "from scipy import stats"
   ]
  },
  {
   "cell_type": "code",
   "execution_count": null,
   "metadata": {
    "ExecuteTime": {
     "end_time": "2022-08-18T22:33:29.793312Z",
     "start_time": "2022-08-18T22:33:29.766297Z"
    }
   },
   "outputs": [],
   "source": [
    "tn_movie_budgets"
   ]
  },
  {
   "cell_type": "code",
   "execution_count": null,
   "metadata": {
    "ExecuteTime": {
     "end_time": "2022-08-18T22:33:41.610965Z",
     "start_time": "2022-08-18T22:33:41.579966Z"
    }
   },
   "outputs": [],
   "source": [
    "rt_movie_info"
   ]
  },
  {
   "cell_type": "code",
   "execution_count": null,
   "metadata": {
    "ExecuteTime": {
     "end_time": "2022-08-18T22:33:45.078667Z",
     "start_time": "2022-08-18T22:33:45.067667Z"
    }
   },
   "outputs": [],
   "source": [
    "rt_movie_info['box_office']"
   ]
  },
  {
   "cell_type": "code",
   "execution_count": null,
   "metadata": {
    "ExecuteTime": {
     "end_time": "2022-08-18T22:33:45.591376Z",
     "start_time": "2022-08-18T22:33:45.564372Z"
    }
   },
   "outputs": [],
   "source": [
    "#made copy of df to drop Nan values and do some work\n",
    "movie_info = rt_movie_info.copy()\n",
    "movie_info"
   ]
  },
  {
   "cell_type": "code",
   "execution_count": null,
   "metadata": {
    "ExecuteTime": {
     "end_time": "2022-08-18T22:33:46.046373Z",
     "start_time": "2022-08-18T22:33:46.011364Z"
    }
   },
   "outputs": [],
   "source": [
    "#drop records with nan values\n",
    "movie_info = movie_info.dropna()\n",
    "movie_info"
   ]
  },
  {
   "cell_type": "code",
   "execution_count": null,
   "metadata": {
    "ExecuteTime": {
     "end_time": "2022-08-18T22:33:46.487164Z",
     "start_time": "2022-08-18T22:33:46.462160Z"
    }
   },
   "outputs": [],
   "source": [
    "#remove commas\n",
    "movie_info['box_office']=movie_info['box_office'].str.replace(',','')\n",
    "movie_info"
   ]
  },
  {
   "cell_type": "code",
   "execution_count": null,
   "metadata": {
    "ExecuteTime": {
     "end_time": "2022-08-18T22:33:46.940383Z",
     "start_time": "2022-08-18T22:33:46.933381Z"
    }
   },
   "outputs": [],
   "source": [
    "movie_info['box_office']=movie_info['box_office'].astype(float)"
   ]
  },
  {
   "cell_type": "code",
   "execution_count": null,
   "metadata": {
    "ExecuteTime": {
     "end_time": "2022-08-18T22:33:47.718146Z",
     "start_time": "2022-08-18T22:33:47.699142Z"
    }
   },
   "outputs": [],
   "source": [
    "R = movie_info[movie_info['rating']=='R']\n",
    "PG = movie_info[movie_info['rating']=='PG']\n",
    "PG13 = movie_info[movie_info['rating']=='PG-13']\n",
    "G = movie_info[movie_info['rating']=='G']\n",
    "NC17 = movie_info[movie_info['rating']=='NC17']\n",
    "NR = movie_info[movie_info['rating']=='NR']"
   ]
  },
  {
   "cell_type": "code",
   "execution_count": null,
   "metadata": {
    "ExecuteTime": {
     "end_time": "2022-08-18T22:33:48.994306Z",
     "start_time": "2022-08-18T22:33:48.982303Z"
    }
   },
   "outputs": [],
   "source": [
    "r=R['box_office'].mean()\n",
    "rmed=R['box_office'].median()\n",
    "pg=PG['box_office'].mean()\n",
    "pgmed=PG['box_office'].median()\n",
    "pg13=PG13['box_office'].mean()\n",
    "pg13med=PG13['box_office'].median()\n",
    "g=G['box_office'].mean()\n",
    "gmed=G['box_office'].median()\n",
    "nc17=NC17['box_office'].mean()\n",
    "nc17med=NC17['box_office'].median()\n",
    "nr=NR['box_office'].mean()\n",
    "nrmed=NR['box_office'].median()"
   ]
  },
  {
   "cell_type": "code",
   "execution_count": null,
   "metadata": {
    "ExecuteTime": {
     "end_time": "2022-08-18T22:33:49.693201Z",
     "start_time": "2022-08-18T22:33:49.680199Z"
    }
   },
   "outputs": [],
   "source": [
    "ratings_dict = {'R':r,'PG':pg,'PG-13':pg13,'G':g,'NC-17':nc17,'NR':nr}"
   ]
  },
  {
   "cell_type": "code",
   "execution_count": null,
   "metadata": {
    "ExecuteTime": {
     "end_time": "2022-08-18T22:33:50.268177Z",
     "start_time": "2022-08-18T22:33:50.264176Z"
    }
   },
   "outputs": [],
   "source": [
    "ratings_dict_med = {'R':rmed,'PG':pgmed,'PG-13':pg13med,'G':gmed,'NC-17':nc17med,'NR':nrmed}"
   ]
  },
  {
   "cell_type": "code",
   "execution_count": null,
   "metadata": {
    "ExecuteTime": {
     "end_time": "2022-08-18T22:33:50.970715Z",
     "start_time": "2022-08-18T22:33:50.828094Z"
    }
   },
   "outputs": [],
   "source": [
    "fig, ax=plt.subplots()\n",
    "plt.ticklabel_format(style='plain')\n",
    "ax.bar(ratings_dict.keys(),ratings_dict.values() )\n",
    "\n",
    "\n",
    "\n",
    "ax.set_title(\"Average Box Office Revenue by MPAA Rating\")\n",
    "ax.set_xlabel(\"MPAA Ratings\")\n",
    "ax.set_ylabel(\" Average Revenue (USD)\")"
   ]
  },
  {
   "cell_type": "code",
   "execution_count": null,
   "metadata": {
    "ExecuteTime": {
     "end_time": "2022-08-18T22:34:10.791773Z",
     "start_time": "2022-08-18T22:34:10.649741Z"
    }
   },
   "outputs": [],
   "source": [
    "fig, ax=plt.subplots()\n",
    "plt.ticklabel_format(style='plain')\n",
    "ax.bar(ratings_dict_med.keys(),ratings_dict_med.values() )\n",
    "\n",
    "\n",
    "\n",
    "ax.set_title(\"Median Box Office Revenue by MPAA Rating\")\n",
    "ax.set_xlabel(\"MPAA Ratings\")\n",
    "ax.set_ylabel(\"Median Revenue (USD)\")"
   ]
  },
  {
   "cell_type": "code",
   "execution_count": null,
   "metadata": {
    "ExecuteTime": {
     "end_time": "2022-08-18T22:35:52.268123Z",
     "start_time": "2022-08-18T22:35:52.262122Z"
    }
   },
   "outputs": [],
   "source": [
    "action = movie_info[movie_info['genre'].str.contains('Action')]\n",
    "action_rev=action['box_office'].mean()\n",
    "action_med=action['box_office'].median()"
   ]
  },
  {
   "cell_type": "code",
   "execution_count": null,
   "metadata": {
    "ExecuteTime": {
     "end_time": "2022-08-18T22:35:52.672658Z",
     "start_time": "2022-08-18T22:35:52.665655Z"
    }
   },
   "outputs": [],
   "source": [
    "drama = movie_info[movie_info['genre'].str.contains('Drama')]\n",
    "drama_rev=drama['box_office'].mean()\n",
    "drama_med=drama['box_office'].median()"
   ]
  },
  {
   "cell_type": "code",
   "execution_count": null,
   "metadata": {
    "ExecuteTime": {
     "end_time": "2022-08-18T22:35:53.089846Z",
     "start_time": "2022-08-18T22:35:53.070843Z"
    }
   },
   "outputs": [],
   "source": [
    "comedy = movie_info[movie_info['genre'].str.contains('Comedy')]\n",
    "comedy_rev=comedy['box_office'].mean()\n",
    "comedy_med=comedy['box_office'].median()"
   ]
  },
  {
   "cell_type": "code",
   "execution_count": null,
   "metadata": {
    "ExecuteTime": {
     "end_time": "2022-08-18T22:35:53.463119Z",
     "start_time": "2022-08-18T22:35:53.454117Z"
    }
   },
   "outputs": [],
   "source": [
    "horror = movie_info[movie_info['genre'].str.contains('Horror')]\n",
    "horror_rev=horror['box_office'].mean()\n",
    "horror_med=horror['box_office'].median()"
   ]
  },
  {
   "cell_type": "code",
   "execution_count": null,
   "metadata": {
    "ExecuteTime": {
     "end_time": "2022-08-18T22:35:53.866714Z",
     "start_time": "2022-08-18T22:35:53.858712Z"
    }
   },
   "outputs": [],
   "source": [
    "romance = movie_info[movie_info['genre'].str.contains('Romance')]\n",
    "romance_rev=romance['box_office'].mean()\n",
    "romance_med=romance['box_office'].median()"
   ]
  },
  {
   "cell_type": "code",
   "execution_count": null,
   "metadata": {
    "ExecuteTime": {
     "end_time": "2022-08-18T22:35:54.258345Z",
     "start_time": "2022-08-18T22:35:54.243343Z"
    }
   },
   "outputs": [],
   "source": [
    "top_genres_rev = {'action':action_rev,'drama':drama_rev,'comedy':comedy_rev,'horror':horror_rev,'romance':romance_rev}"
   ]
  },
  {
   "cell_type": "code",
   "execution_count": null,
   "metadata": {
    "ExecuteTime": {
     "end_time": "2022-08-18T22:35:54.804509Z",
     "start_time": "2022-08-18T22:35:54.668479Z"
    }
   },
   "outputs": [],
   "source": [
    "fig, ax=plt.subplots()\n",
    "plt.ticklabel_format(style='plain')\n",
    "ax.bar(top_genres_rev.keys(),top_genres_rev.values() )\n",
    "\n",
    "\n",
    "\n",
    "\n",
    "\n",
    "ax.set_title(\"Average Box Office Revenue by Genre\")\n",
    "ax.set_xlabel(\"Genres\")\n",
    "ax.set_ylabel(\"Average Revenue (USD)\")"
   ]
  },
  {
   "cell_type": "code",
   "execution_count": null,
   "metadata": {
    "ExecuteTime": {
     "end_time": "2022-08-18T22:36:07.128570Z",
     "start_time": "2022-08-18T22:36:07.110577Z"
    }
   },
   "outputs": [],
   "source": [
    "top_genres_med = {'action':action_med,'drama':drama_med,'comedy':comedy_med,'horror':horror_med,'romance':romance_med}"
   ]
  },
  {
   "cell_type": "code",
   "execution_count": null,
   "metadata": {
    "ExecuteTime": {
     "end_time": "2022-08-18T22:36:33.173822Z",
     "start_time": "2022-08-18T22:36:33.055795Z"
    }
   },
   "outputs": [],
   "source": [
    "fig, ax=plt.subplots()\n",
    "#plt.ticklabel_format(style='plain')\n",
    "ax.bar(top_genres_med.keys(),top_genres_med.values() )\n",
    "\n",
    "\n",
    "\n",
    "\n",
    "\n",
    "ax.set_title(\"Median Box Office Revenue by Genre\")\n",
    "ax.set_xlabel(\"Genres\")\n",
    "ax.set_ylabel(\"Median Revenue in Tens of Millions (USD)\")"
   ]
  },
  {
   "cell_type": "code",
   "execution_count": null,
   "metadata": {
    "ExecuteTime": {
     "end_time": "2022-08-18T22:33:08.414610Z",
     "start_time": "2022-08-18T22:33:07.851Z"
    }
   },
   "outputs": [],
   "source": [
    "movie_info['box_office'].mean()"
   ]
  },
  {
   "cell_type": "code",
   "execution_count": null,
   "metadata": {
    "ExecuteTime": {
     "end_time": "2022-08-18T22:33:08.415650Z",
     "start_time": "2022-08-18T22:33:07.852Z"
    }
   },
   "outputs": [],
   "source": [
    "comedy['box_office'].mean()"
   ]
  },
  {
   "cell_type": "code",
   "execution_count": null,
   "metadata": {
    "ExecuteTime": {
     "end_time": "2022-08-18T22:33:08.416609Z",
     "start_time": "2022-08-18T22:33:07.853Z"
    }
   },
   "outputs": [],
   "source": [
    "comedy['box_office'].std()"
   ]
  },
  {
   "cell_type": "code",
   "execution_count": null,
   "metadata": {
    "ExecuteTime": {
     "end_time": "2022-08-18T22:33:08.416609Z",
     "start_time": "2022-08-18T22:33:07.854Z"
    }
   },
   "outputs": [],
   "source": [
    "pop=movie_info['box_office']\n",
    "com=comedy['box_office']\n",
    "act=action['box_office']\n",
    "drm=drama['box_office']\n",
    "hor=horror['box_office']"
   ]
  },
  {
   "cell_type": "code",
   "execution_count": null,
   "metadata": {
    "ExecuteTime": {
     "end_time": "2022-08-18T22:33:08.417622Z",
     "start_time": "2022-08-18T22:33:07.855Z"
    }
   },
   "outputs": [],
   "source": [
    "alpha = .05"
   ]
  },
  {
   "cell_type": "code",
   "execution_count": null,
   "metadata": {
    "ExecuteTime": {
     "end_time": "2022-08-18T22:33:08.418616Z",
     "start_time": "2022-08-18T22:33:07.856Z"
    }
   },
   "outputs": [],
   "source": [
    "stats.norm.ppf(alpha), stats.norm.ppf(1-alpha)"
   ]
  },
  {
   "cell_type": "code",
   "execution_count": null,
   "metadata": {
    "ExecuteTime": {
     "end_time": "2022-08-18T22:33:08.418616Z",
     "start_time": "2022-08-18T22:33:07.856Z"
    }
   },
   "outputs": [],
   "source": [
    "stats.ttest_ind(com,pop)"
   ]
  },
  {
   "cell_type": "code",
   "execution_count": null,
   "metadata": {
    "ExecuteTime": {
     "end_time": "2022-08-18T22:33:08.419617Z",
     "start_time": "2022-08-18T22:33:07.857Z"
    }
   },
   "outputs": [],
   "source": [
    "stats.ttest_ind(act,pop)"
   ]
  },
  {
   "cell_type": "code",
   "execution_count": null,
   "metadata": {
    "ExecuteTime": {
     "end_time": "2022-08-18T22:33:08.420617Z",
     "start_time": "2022-08-18T22:33:07.858Z"
    }
   },
   "outputs": [],
   "source": [
    "stats.ttest_ind(drm,pop)"
   ]
  },
  {
   "cell_type": "code",
   "execution_count": null,
   "metadata": {
    "ExecuteTime": {
     "end_time": "2022-08-18T22:33:08.420617Z",
     "start_time": "2022-08-18T22:33:07.859Z"
    }
   },
   "outputs": [],
   "source": [
    "stats.ttest_ind(rom,pop)"
   ]
  },
  {
   "cell_type": "code",
   "execution_count": null,
   "metadata": {
    "ExecuteTime": {
     "end_time": "2022-08-18T22:33:08.421628Z",
     "start_time": "2022-08-18T22:33:07.860Z"
    }
   },
   "outputs": [],
   "source": [
    "stats.ttest_ind(hor,pop)"
   ]
  },
  {
   "cell_type": "code",
   "execution_count": null,
   "metadata": {
    "ExecuteTime": {
     "end_time": "2022-08-18T22:33:08.422622Z",
     "start_time": "2022-08-18T22:33:07.861Z"
    }
   },
   "outputs": [],
   "source": [
    "sorted_movie_info=movie_info.sort_values(by='box_office',ascending=False)\n",
    "sorted_movie_info.head(10)"
   ]
  },
  {
   "cell_type": "code",
   "execution_count": null,
   "metadata": {
    "ExecuteTime": {
     "end_time": "2022-08-18T22:33:08.423622Z",
     "start_time": "2022-08-18T22:33:07.862Z"
    }
   },
   "outputs": [],
   "source": [
    "##part 1 of creating csv out of sql table movie_basics\n",
    "sql_query = pd.read_sql_query ('''\n",
    "                               SELECT\n",
    "                               *\n",
    "                               FROM movie_basics\n",
    "                               ''', conn)\n",
    "sql_query"
   ]
  },
  {
   "cell_type": "code",
   "execution_count": null,
   "metadata": {
    "ExecuteTime": {
     "end_time": "2022-08-18T22:33:08.423622Z",
     "start_time": "2022-08-18T22:33:07.863Z"
    },
    "scrolled": true
   },
   "outputs": [],
   "source": [
    "##part 2 of creating csv out of sql table movie_basics\n",
    "basics_df = pd.DataFrame(sql_query, columns = ['movie_id', 'primary_title', 'original_title','start_year','runtime_minutes','genres'])\n",
    "basics_df"
   ]
  },
  {
   "cell_type": "markdown",
   "metadata": {},
   "source": [
    "## Jake Umholtz "
   ]
  },
  {
   "cell_type": "markdown",
   "metadata": {},
   "source": [
    "### Business Understanding:\n",
    "\n",
    "Assisting Computing Vision's new movie studio in deciding on what type of films they ought to create.\n",
    "\n",
    "Stakeholder:\n",
    "\n",
    "Computing Vision and their new movie studio.\n",
    "\n",
    "Problem:\n",
    "\n",
    "Computing Vision's new movie studio does not know what type of films they should create.\n",
    "\n",
    "Value:\n",
    "\n",
    "We measure of success is box office performance in terms of currency. We chose this measure of success because Computing Vision's movie studio is a brand new portion of their business, therefore the first priority of the new business to it generate actionable revenue by having early box office success. \n"
   ]
  },
  {
   "cell_type": "markdown",
   "metadata": {},
   "source": [
    "### Data Understanding\n",
    "\n",
    "Data sources:\n",
    "\n",
    "The data is from popular industry related services including: Box Office Mojo, a website that tracks box-office revenue; IMDB, the internet movie database; Rotten Tomatoes, a movie review website; The Movie DB, a database of films; and The Numbers, a data website that tracks box office revenue and other industry related information. \n",
    "\n",
    "Our primary data source is the Box Office Mojo dataset. We chose this source as it contained the necessary information regarding box office performance."
   ]
  },
  {
   "cell_type": "markdown",
   "metadata": {},
   "source": [
    "Rationale: The necessary Python libraries for performing data and statistical analysis."
   ]
  },
  {
   "cell_type": "code",
   "execution_count": null,
   "metadata": {
    "ExecuteTime": {
     "end_time": "2022-08-19T22:38:34.481318Z",
     "start_time": "2022-08-19T22:38:33.523091Z"
    }
   },
   "outputs": [],
   "source": [
    "import numpy as np\n",
    "import scipy as sp\n",
    "import pandas as pd\n",
    "import scipy.stats as stats\n",
    "import seaborn as sns\n",
    "import matplotlib.pyplot as plt\n",
    "import math"
   ]
  },
  {
   "cell_type": "markdown",
   "metadata": {},
   "source": [
    "Rationale: Importing the data sources as variables to conduct data and statistical analysis."
   ]
  },
  {
   "cell_type": "code",
   "execution_count": null,
   "metadata": {
    "ExecuteTime": {
     "end_time": "2022-08-19T22:38:34.941241Z",
     "start_time": "2022-08-19T22:38:34.738184Z"
    }
   },
   "outputs": [],
   "source": [
    "movie_gross = pd.read_csv('zippedData/bom.movie_gross.csv')\n",
    "rt_movie_info = pd.read_csv('zippedData/rt.movie_info.csv')\n",
    "rt_reviews = pd.read_csv('zippedData/rt.reviews.csv', encoding='unicode_escape')\n",
    "tn_movie_budgets = pd.read_csv('zippedData/tn.movie_budgets.csv')\n",
    "tmdb_movies = pd.read_csv('zippedData/tmdb.movies.csv', index_col=0)"
   ]
  },
  {
   "cell_type": "code",
   "execution_count": null,
   "metadata": {
    "ExecuteTime": {
     "end_time": "2022-08-18T22:33:08.425631Z",
     "start_time": "2022-08-18T22:33:07.867Z"
    }
   },
   "outputs": [],
   "source": [
    "# there are 1560 records in this dataset\n",
    "original_rt_movie_info = pd.read_csv('zippedData/rt.movie_info.csv')\n",
    "original_rt_movie_info.info()"
   ]
  },
  {
   "cell_type": "code",
   "execution_count": null,
   "metadata": {
    "ExecuteTime": {
     "end_time": "2022-08-18T22:33:08.426627Z",
     "start_time": "2022-08-18T22:33:07.868Z"
    }
   },
   "outputs": [],
   "source": [
    "#quickly visualizing the dataframe \n",
    "original_rt_movie_info.head()"
   ]
  },
  {
   "cell_type": "code",
   "execution_count": null,
   "metadata": {
    "ExecuteTime": {
     "end_time": "2022-08-18T22:33:08.427627Z",
     "start_time": "2022-08-18T22:33:07.869Z"
    }
   },
   "outputs": [],
   "source": [
    "# counting the total number of null values in the dataset\n",
    "print(original_rt_movie_info.isnull().sum())"
   ]
  },
  {
   "cell_type": "code",
   "execution_count": null,
   "metadata": {
    "ExecuteTime": {
     "end_time": "2022-08-18T22:33:08.427627Z",
     "start_time": "2022-08-18T22:33:07.870Z"
    }
   },
   "outputs": [],
   "source": [
    "# counting the none-null values in the box_office column\n",
    "original_rt_movie_info['box_office'].count()"
   ]
  },
  {
   "cell_type": "code",
   "execution_count": null,
   "metadata": {
    "ExecuteTime": {
     "end_time": "2022-08-18T22:33:08.428627Z",
     "start_time": "2022-08-18T22:33:07.871Z"
    }
   },
   "outputs": [],
   "source": [
    "# counting the none-null values in the runtime column\n",
    "original_rt_movie_info['runtime'].count()"
   ]
  },
  {
   "cell_type": "markdown",
   "metadata": {},
   "source": [
    "Rationale: By cleaning rt_movie_info, it allows us to perform data and statistical analysis on the data within the dataset. This data set is important for our business insights and recommendations as it contains the information related to run time of movies. "
   ]
  },
  {
   "cell_type": "code",
   "execution_count": null,
   "metadata": {
    "ExecuteTime": {
     "end_time": "2022-08-19T22:38:38.672642Z",
     "start_time": "2022-08-19T22:38:38.652639Z"
    }
   },
   "outputs": [],
   "source": [
    "#Cleaning movie info data set\n",
    "\n",
    "rt_movie_info = rt_movie_info.dropna()\n",
    "# dropping the null values because the data set is large enough at over 1500 records to handle the loss of data\n",
    "# the data is also highly varied, so filling in with the mean will not be the\n",
    "# most accurate representation  \n",
    "# However, it is important to note that by doing this we will lose data\n",
    "box_office = []\n",
    "for v in rt_movie_info['box_office'].dropna():\n",
    "    box_office.append(box_office)\n",
    "\n"
   ]
  },
  {
   "cell_type": "code",
   "execution_count": null,
   "metadata": {
    "ExecuteTime": {
     "end_time": "2022-08-19T22:38:40.751487Z",
     "start_time": "2022-08-19T22:38:40.362402Z"
    }
   },
   "outputs": [],
   "source": [
    "# more cleaning of the data set\n",
    "runtime_raw = []\n",
    "runtime_clean = []\n",
    "box_off_raw = []\n",
    "box_off_clean = []\n",
    "for val in rt_movie_info['runtime'].str[:3]: #extract first 3 characters,movies under 100 min will have whitespace\n",
    "    runtime_raw.append(val)\n",
    "for val in runtime_raw: #strip whitespace\n",
    "    runtime_strip = val.replace(' ', '')\n",
    "    runtime_clean.append(runtime_strip)\n",
    "    \n",
    "for val in rt_movie_info['box_office']:\n",
    "    box_off_strip = val.replace(',', '')\n",
    "    box_off_clean.append(box_off_strip)\n",
    "\n",
    "\n",
    "\n",
    "rt_movie_info['runtime_clean'] = runtime_clean\n",
    "rt_movie_info['box_office_clean'] = box_off_clean\n"
   ]
  },
  {
   "cell_type": "code",
   "execution_count": null,
   "metadata": {
    "ExecuteTime": {
     "end_time": "2022-08-19T21:58:07.506966Z",
     "start_time": "2022-08-19T21:58:07.500965Z"
    }
   },
   "outputs": [],
   "source": [
    "# sanity check on null values\n",
    "print(rt_movie_info.isnull().sum())"
   ]
  },
  {
   "cell_type": "code",
   "execution_count": null,
   "metadata": {
    "ExecuteTime": {
     "end_time": "2022-08-19T21:58:26.221228Z",
     "start_time": "2022-08-19T21:58:26.200220Z"
    },
    "scrolled": true
   },
   "outputs": [],
   "source": [
    "rt_movie_info.head()"
   ]
  },
  {
   "cell_type": "code",
   "execution_count": null,
   "metadata": {
    "ExecuteTime": {
     "end_time": "2022-08-18T22:33:08.432628Z",
     "start_time": "2022-08-18T22:33:07.877Z"
    }
   },
   "outputs": [],
   "source": [
    "# checking the descriptive statistics\n",
    "rt_movie_info['box_office_clean'].describe()"
   ]
  },
  {
   "cell_type": "code",
   "execution_count": null,
   "metadata": {
    "ExecuteTime": {
     "end_time": "2022-08-18T22:33:08.433628Z",
     "start_time": "2022-08-18T22:33:07.877Z"
    }
   },
   "outputs": [],
   "source": [
    "# checking the descriptive statistics\n",
    "rt_movie_info['runtime_clean'].describe()"
   ]
  },
  {
   "cell_type": "code",
   "execution_count": null,
   "metadata": {
    "ExecuteTime": {
     "end_time": "2022-08-18T22:33:08.433628Z",
     "start_time": "2022-08-18T22:33:07.878Z"
    }
   },
   "outputs": [],
   "source": [
    "# turing the object in the cleaned columns into integers\n",
    "\n",
    "rt_movie_info['box_office_clean'].astype(int)"
   ]
  },
  {
   "cell_type": "code",
   "execution_count": null,
   "metadata": {
    "ExecuteTime": {
     "end_time": "2022-08-18T22:33:08.434628Z",
     "start_time": "2022-08-18T22:33:07.879Z"
    }
   },
   "outputs": [],
   "source": [
    "rt_movie_info['runtime_clean'].astype(int)"
   ]
  },
  {
   "cell_type": "code",
   "execution_count": null,
   "metadata": {
    "ExecuteTime": {
     "end_time": "2022-08-18T22:33:08.435629Z",
     "start_time": "2022-08-18T22:33:07.880Z"
    }
   },
   "outputs": [],
   "source": [
    "# checking the median\n",
    "rt_movie_info['box_office_clean'].median()"
   ]
  },
  {
   "cell_type": "code",
   "execution_count": null,
   "metadata": {
    "ExecuteTime": {
     "end_time": "2022-08-18T22:33:08.435629Z",
     "start_time": "2022-08-18T22:33:07.881Z"
    }
   },
   "outputs": [],
   "source": [
    "# checking the median\n",
    "rt_movie_info['runtime_clean'].median()"
   ]
  },
  {
   "cell_type": "markdown",
   "metadata": {},
   "source": [
    "Rationale: By creating a new Pandas dataframe of just run time and box office "
   ]
  },
  {
   "cell_type": "code",
   "execution_count": null,
   "metadata": {
    "ExecuteTime": {
     "end_time": "2022-08-18T22:33:08.436631Z",
     "start_time": "2022-08-18T22:33:07.883Z"
    }
   },
   "outputs": [],
   "source": [
    "#Creating a new Pandas dataframe of just the runtime and box office information\n",
    "df2 = rt_movie_info[['runtime_clean','box_office_clean']].copy()\n",
    "\n",
    "#standardizing the type of data for the new dataframe\n",
    "df2['runtime_clean'] = df2['runtime_clean'].astype(int)\n",
    "df2['box_office_clean'] = df2['box_office_clean'].astype(int)\n",
    "\n",
    "print(df2)"
   ]
  },
  {
   "cell_type": "code",
   "execution_count": null,
   "metadata": {
    "ExecuteTime": {
     "end_time": "2022-08-18T22:33:08.437632Z",
     "start_time": "2022-08-18T22:33:07.883Z"
    }
   },
   "outputs": [],
   "source": [
    "# finding the correlation between runtime and box office performance\n",
    "df2.corr()"
   ]
  },
  {
   "cell_type": "markdown",
   "metadata": {},
   "source": [
    "There is a low to medium correlation between runtime and box office performance measured in USD"
   ]
  },
  {
   "cell_type": "code",
   "execution_count": null,
   "metadata": {
    "ExecuteTime": {
     "end_time": "2022-08-18T22:33:08.438633Z",
     "start_time": "2022-08-18T22:33:07.885Z"
    }
   },
   "outputs": [],
   "source": [
    "# scatter plot of the correlation\n",
    "fig, ax = plt.subplots()\n",
    "\n",
    "\n",
    "ax.scatter(df2['runtime_clean'], df2['box_office_clean'], label=\"Films\")\n",
    "\n",
    "\n",
    "\n",
    "x_bounds = [min(df2['runtime_clean']), max(df2['runtime_clean'])]\n",
    "y_bounds = [min(df2['box_office_clean']), max(df2['box_office_clean'])]\n",
    "\n",
    "\n",
    "\n",
    "ax.plot(x_bounds, y_bounds, \"--\", label=\"Perfect Correlation\", color='r')\n",
    "\n",
    "\n",
    "\n",
    "ax.set_title(\"Runtime vs Box Office Revenue\")\n",
    "ax.set_xlabel(\"Runtime (Minutes)\")\n",
    "ax.set_ylabel(\"Box Office Performance (USD)\")\n",
    "\n",
    "\n",
    "\n",
    "\n",
    "ax.legend();\n",
    "\n",
    "print(f' Low to medium correlation of 0.312')"
   ]
  },
  {
   "cell_type": "markdown",
   "metadata": {},
   "source": [
    "There is a medium correlation between the run time of a film to its box office performance\n",
    "We can conclude that there are other factors in play that contribute to box office performance other than run time."
   ]
  },
  {
   "cell_type": "code",
   "execution_count": null,
   "metadata": {
    "ExecuteTime": {
     "end_time": "2022-08-18T22:33:08.438633Z",
     "start_time": "2022-08-18T22:33:07.886Z"
    }
   },
   "outputs": [],
   "source": [
    "rt_movie_info.info()"
   ]
  },
  {
   "cell_type": "code",
   "execution_count": null,
   "metadata": {
    "ExecuteTime": {
     "end_time": "2022-08-18T22:33:08.439634Z",
     "start_time": "2022-08-18T22:33:07.887Z"
    }
   },
   "outputs": [],
   "source": [
    "# counting the total number of null values in the dataset\n",
    "print(original_rt_movie_info.isnull().sum())"
   ]
  },
  {
   "cell_type": "code",
   "execution_count": null,
   "metadata": {
    "ExecuteTime": {
     "end_time": "2022-08-18T22:33:08.440634Z",
     "start_time": "2022-08-18T22:33:07.888Z"
    }
   },
   "outputs": [],
   "source": [
    "# counting the none-null values in the rating column\n",
    "original_rt_movie_info['rating'].count()"
   ]
  },
  {
   "cell_type": "code",
   "execution_count": null,
   "metadata": {
    "ExecuteTime": {
     "end_time": "2022-08-18T22:33:08.440634Z",
     "start_time": "2022-08-18T22:33:07.889Z"
    }
   },
   "outputs": [],
   "source": [
    "# creating a new dataframe of just the rating and the box office performance\n",
    "df3 = rt_movie_info[['box_office_clean','rating']].copy()"
   ]
  },
  {
   "cell_type": "code",
   "execution_count": null,
   "metadata": {
    "ExecuteTime": {
     "end_time": "2022-08-18T22:33:08.441634Z",
     "start_time": "2022-08-18T22:33:07.890Z"
    }
   },
   "outputs": [],
   "source": [
    "rt_movie_info['rating']"
   ]
  },
  {
   "cell_type": "code",
   "execution_count": null,
   "metadata": {
    "ExecuteTime": {
     "end_time": "2022-08-18T22:33:08.442634Z",
     "start_time": "2022-08-18T22:33:07.891Z"
    }
   },
   "outputs": [],
   "source": [
    "# checking for null values\n",
    "print(tn_movie_budgets.isnull().sum())\n",
    "\n",
    "# checking the dtype\n",
    "tn_movie_budgets.info()\n",
    "\n",
    "# turning the budget into a string so it is easy to clean\n",
    "tn_movie_budgets['production_budget'] = tn_movie_budgets['production_budget'].astype(str)\n",
    "\n",
    "# removing commas, dollar signs, and white space\n",
    "# turning the production budget back into an integer so calculations can be performed\n",
    "tn_movie_budgets['production_budget'] = tn_movie_budgets['production_budget'].str.replace(',', '')\n",
    "tn_movie_budgets['production_budget'] = tn_movie_budgets['production_budget'].str.replace('$', '')\n",
    "tn_movie_budgets['production_budget'] = tn_movie_budgets['production_budget'].str.replace(' ', '')\n",
    "tn_movie_budgets['production_budget'] = tn_movie_budgets['production_budget'].astype(int)\n",
    "\n",
    "# calculating median\n",
    "tn_movie_budgets['production_budget'].median()\n",
    "\n",
    "# counting the number of films with a production budget over $100 million\n",
    "\n",
    "tn_movie_budgets[tn_movie_budgets['production_budget'] >= 100000000].count()"
   ]
  },
  {
   "cell_type": "code",
   "execution_count": null,
   "metadata": {
    "ExecuteTime": {
     "end_time": "2022-08-18T22:33:08.442634Z",
     "start_time": "2022-08-18T22:33:07.893Z"
    }
   },
   "outputs": [],
   "source": [
    "# checking the dtype\n",
    "tn_movie_budgets.info()"
   ]
  },
  {
   "cell_type": "code",
   "execution_count": null,
   "metadata": {
    "ExecuteTime": {
     "end_time": "2022-08-18T22:33:08.443634Z",
     "start_time": "2022-08-18T22:33:07.894Z"
    }
   },
   "outputs": [],
   "source": [
    "# turning the budget into a string so it is easy to clean\n",
    "tn_movie_budgets['production_budget'] = tn_movie_budgets['production_budget'].astype(str)"
   ]
  },
  {
   "cell_type": "code",
   "execution_count": null,
   "metadata": {
    "ExecuteTime": {
     "end_time": "2022-08-18T22:33:08.444635Z",
     "start_time": "2022-08-18T22:33:07.895Z"
    }
   },
   "outputs": [],
   "source": [
    "# removing commas, dollar signs, and white space\n",
    "# turning the production budget back into an integer so calculations can be performed\n",
    "tn_movie_budgets['production_budget'] = tn_movie_budgets['production_budget'].str.replace(',', '')\n",
    "tn_movie_budgets['production_budget'] = tn_movie_budgets['production_budget'].str.replace('$', '')\n",
    "tn_movie_budgets['production_budget'] = tn_movie_budgets['production_budget'].str.replace(' ', '')\n",
    "tn_movie_budgets['production_budget'] = tn_movie_budgets['production_budget'].astype(int)"
   ]
  },
  {
   "cell_type": "code",
   "execution_count": null,
   "metadata": {
    "ExecuteTime": {
     "end_time": "2022-08-18T22:33:08.445635Z",
     "start_time": "2022-08-18T22:33:07.896Z"
    }
   },
   "outputs": [],
   "source": [
    "tn_movie_budgets.head()"
   ]
  },
  {
   "cell_type": "code",
   "execution_count": null,
   "metadata": {
    "ExecuteTime": {
     "end_time": "2022-08-18T22:33:08.446636Z",
     "start_time": "2022-08-18T22:33:07.897Z"
    }
   },
   "outputs": [],
   "source": [
    "tn_movie_budgets.info()"
   ]
  },
  {
   "cell_type": "code",
   "execution_count": null,
   "metadata": {
    "ExecuteTime": {
     "end_time": "2022-08-18T22:33:08.447636Z",
     "start_time": "2022-08-18T22:33:07.899Z"
    }
   },
   "outputs": [],
   "source": [
    "# gathering descriptive statistics\n",
    "tn_movie_budgets['production_budget'].describe()"
   ]
  },
  {
   "cell_type": "code",
   "execution_count": null,
   "metadata": {
    "ExecuteTime": {
     "end_time": "2022-08-18T22:33:08.448636Z",
     "start_time": "2022-08-18T22:33:07.901Z"
    }
   },
   "outputs": [],
   "source": [
    "tn_movie_budgets['production_budget'].median()"
   ]
  },
  {
   "cell_type": "code",
   "execution_count": null,
   "metadata": {
    "ExecuteTime": {
     "end_time": "2022-08-18T22:32:53.633513Z",
     "start_time": "2022-08-18T22:32:53.165Z"
    }
   },
   "outputs": [],
   "source": [
    "# counting the number of films with a production budget over $100 million\n",
    "\n",
    "tn_movie_budgets[tn_movie_budgets['production_budget'] >= 100000000].count()"
   ]
  }
 ],
 "metadata": {
  "kernelspec": {
   "display_name": "Python 3",
   "language": "python",
   "name": "python3"
  },
  "language_info": {
   "codemirror_mode": {
    "name": "ipython",
    "version": 3
   },
   "file_extension": ".py",
   "mimetype": "text/x-python",
   "name": "python",
   "nbconvert_exporter": "python",
   "pygments_lexer": "ipython3",
   "version": "3.8.5"
  },
  "toc": {
   "base_numbering": 1,
   "nav_menu": {},
   "number_sections": true,
   "sideBar": true,
   "skip_h1_title": false,
   "title_cell": "Table of Contents",
   "title_sidebar": "Contents",
   "toc_cell": false,
   "toc_position": {
    "height": "calc(100% - 180px)",
    "left": "10px",
    "top": "150px",
    "width": "341.306px"
   },
   "toc_section_display": true,
   "toc_window_display": true
  },
  "varInspector": {
   "cols": {
    "lenName": 16,
    "lenType": 16,
    "lenVar": 40
   },
   "kernels_config": {
    "python": {
     "delete_cmd_postfix": "",
     "delete_cmd_prefix": "del ",
     "library": "var_list.py",
     "varRefreshCmd": "print(var_dic_list())"
    },
    "r": {
     "delete_cmd_postfix": ") ",
     "delete_cmd_prefix": "rm(",
     "library": "var_list.r",
     "varRefreshCmd": "cat(var_dic_list()) "
    }
   },
   "types_to_exclude": [
    "module",
    "function",
    "builtin_function_or_method",
    "instance",
    "_Feature"
   ],
   "window_display": false
  }
 },
 "nbformat": 4,
 "nbformat_minor": 2
}
