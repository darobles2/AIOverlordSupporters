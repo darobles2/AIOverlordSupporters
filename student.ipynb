{
 "cells": [
  {
   "cell_type": "markdown",
   "metadata": {},
   "source": [
    "## Semester 1 Project Submission\n",
    "\n",
    "Please fill out:\n",
    "* Student name: \n",
    "* Instructor name: \n"
   ]
  },
  {
   "cell_type": "markdown",
   "metadata": {},
   "source": [
    "# Maanik Gupta"
   ]
  },
  {
   "cell_type": "markdown",
   "metadata": {},
   "source": [
    "# Maya Sandlin"
   ]
  },
  {
   "cell_type": "markdown",
   "metadata": {},
   "source": [
    "# Robert Golden"
   ]
  },
  {
   "cell_type": "markdown",
   "metadata": {},
   "source": [
    "# Daniel Robles"
   ]
  },
  {
   "cell_type": "code",
   "execution_count": null,
   "metadata": {},
   "outputs": [],
   "source": [
    "import sqlite3\n",
    "import pandas as pd\n",
    "\n",
    "\n",
    "movie_genre = pd.read_csv('C:/Users/darobles/Desktop/capstone/AIOverlordSupporters/zippedData/tmdb.movies.csv', index_col=0)\n",
    "movie_gross = pd.read_csv('C:/Users/darobles/Desktop/capstone/AIOverlordSupporters/zippedData/bom.movie_gross.csv', index_col=0)\n",
    "movie_budget = pd.read_csv('C:/Users/darobles/Desktop/capstone/AIOverlordSupporters/zippedData/tn.movie_budgets.csv', index_col=0)\n",
    "\n",
    "conn = sqlite3.connect('zippedData/im.db')\n",
    "cur = conn.cursor()\n",
    "pd.read_sql('''SELECT * FROM SQLITE_MASTER;''', conn)\n",
    "\n",
    "movie_budget_copy=movie_budget.copy()\n",
    "\n",
    "movie_budget_copy['production_budget']=movie_budget['production_budget'].str.replace(\",\",\"\")\n",
    "\n",
    "movie_budget_copy['domestic_gross']=movie_budget['domestic_gross'].str.replace(\"$\",\"\")\n",
    "\n",
    "movie_budget_copy['worldwide_gross']=movie_budget['worldwide_gross'].str.replace(\"$\",\"\")\n",
    "\n",
    "movie_budget_copy\n",
    "\n",
    "movie_budget_copy['production_budget'].astype(float)\n",
    "movie_budget_copy['domestic_gross'].astype(float)\n",
    "movie_budget_copy['worldwide_gross'].astype(float)\n",
    "\n",
    "##part 1 of creating csv out of sql table movie_basics\n",
    "sql_query = pd.read_sql_query ('''\n",
    "                               SELECT\n",
    "                               *\n",
    "                               FROM movie_basics\n",
    "                               ''', conn)\n",
    "sql_query\n",
    "\n",
    "##part 2 of creating csv out of sql table movie_basics\n",
    "basics_df = pd.DataFrame(sql_query, columns = ['movie_id', 'primary_title', 'original_title','start_year','runtime_minutes','genres'])\n",
    "basics_df\n",
    "\n",
    "print(basics_df[basics_df['primary_title'] == 'Avatar'])\n",
    "\n",
    "##Maya's code\n",
    "\n",
    "movie_gross = pd.read_csv('zippedData/bom.movie_gross.csv')\n",
    "rt_movie_info = pd.read_csv('zippedData/rt.movie_info.csv')\n",
    "rt_review = pd.read_csv('zippedData/rt.reviews.csv', encoding='unicode_escape')\n",
    "tn_movie_budgets = pd.read_csv('zippedData/tn.movie_budgets.csv')\n",
    "tmdb_movies = pd.read_csv('zippedData/tmdb.movies.csv', index_col=0)\n",
    "\n",
    "\n",
    "\n",
    "#determining the average profit\n",
    "#drama\n",
    "movie_genre = rt_movie_info[['genre','box_office']]\n",
    "drama = rt_movie_info.loc[rt_movie_info['genre'] == 'Drama']\n",
    "drama_profit = drama ['box_office']\n",
    "drama_profit_clean = drama_profit.dropna()\n",
    "drama_avg_profit = sum (drama_profit_clean)\n"
   ]
  },
  {
   "cell_type": "markdown",
   "metadata": {},
   "source": [
    "# Jake Umholtz "
   ]
  }
 ],
 "metadata": {
  "kernelspec": {
   "display_name": "Python 3 (ipykernel)",
   "language": "python",
   "name": "python3"
  },
  "language_info": {
   "codemirror_mode": {
    "name": "ipython",
    "version": 3
   },
   "file_extension": ".py",
   "mimetype": "text/x-python",
   "name": "python",
   "nbconvert_exporter": "python",
   "pygments_lexer": "ipython3",
   "version": "3.9.12"
  },
  "toc": {
   "base_numbering": 1,
   "nav_menu": {},
   "number_sections": true,
   "sideBar": true,
   "skip_h1_title": false,
   "title_cell": "Table of Contents",
   "title_sidebar": "Contents",
   "toc_cell": false,
   "toc_position": {},
   "toc_section_display": true,
   "toc_window_display": false
  },
  "varInspector": {
   "cols": {
    "lenName": 16,
    "lenType": 16,
    "lenVar": 40
   },
   "kernels_config": {
    "python": {
     "delete_cmd_postfix": "",
     "delete_cmd_prefix": "del ",
     "library": "var_list.py",
     "varRefreshCmd": "print(var_dic_list())"
    },
    "r": {
     "delete_cmd_postfix": ") ",
     "delete_cmd_prefix": "rm(",
     "library": "var_list.r",
     "varRefreshCmd": "cat(var_dic_list()) "
    }
   },
   "types_to_exclude": [
    "module",
    "function",
    "builtin_function_or_method",
    "instance",
    "_Feature"
   ],
   "window_display": false
  }
 },
 "nbformat": 4,
 "nbformat_minor": 2
}
