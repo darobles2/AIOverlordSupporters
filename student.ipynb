{
 "cells": [
  {
   "cell_type": "markdown",
   "metadata": {},
   "source": [
    "## Semester 1 Project Submission\n",
    "\n",
    "Please fill out:\n",
    "* Student name: \n",
    "* Instructor name: \n"
   ]
  },
  {
   "cell_type": "markdown",
   "metadata": {},
   "source": [
    "# Maanik Gupta"
   ]
  },
  {
   "cell_type": "markdown",
   "metadata": {},
   "source": [
    "# Maya Sandlin"
   ]
  },
  {
   "cell_type": "markdown",
   "metadata": {},
   "source": [
    "# Robert Golden"
   ]
  },
  {
   "cell_type": "markdown",
   "metadata": {},
   "source": [
    "# Daniel Robles"
   ]
  },
  {
   "cell_type": "markdown",
   "metadata": {},
   "source": [
    "# Jake Umholtz "
   ]
  },
  {
   "cell_type": "markdown",
   "metadata": {},
   "source": [
    "## Business Understanding:\n",
    "\n",
    "Assisting Computing Vision's new movie studio in deciding on what type of films they ought to create.\n",
    "\n",
    "Stakeholder:\n",
    "\n",
    "Computing Vision and their new movie studio.\n",
    "\n",
    "Problem:\n",
    "\n",
    "Computing Vision's new movie studio does not know what type of films they should create.\n",
    "\n",
    "Value:\n",
    "\n",
    "We measure of success is box office performance in terms of currency. We chose this measure of success because Computing Vision's movie studio is a brand new portion of their business, therefore the first priority of the new business to it generate actionable revenue by having early box office success. \n"
   ]
  },
  {
   "cell_type": "markdown",
   "metadata": {},
   "source": [
    "## Data Understanding\n",
    "\n",
    "Data sources:\n",
    "\n",
    "The data is from popular industry related services including: Box Office Mojo, a website that tracks box-office revenue; IMDB, the internet movie database; Rotten Tomatoes, a movie review website; The Movie DB, a database of films; and The Numbers, a data website that tracks box office revenue and other industry related information. \n",
    "\n",
    "Our primary data source is the Box Office Mojo dataset. We chose this source as it contained the necessary information regarding box office performance."
   ]
  },
  {
   "cell_type": "markdown",
   "metadata": {},
   "source": [
    "Rationale: The necessary Python libraries for performing data and statistical analysis."
   ]
  },
  {
   "cell_type": "code",
   "execution_count": 22,
   "metadata": {
    "ExecuteTime": {
     "end_time": "2022-08-17T23:17:01.615913Z",
     "start_time": "2022-08-17T23:17:01.597909Z"
    }
   },
   "outputs": [],
   "source": [
    "import numpy as np\n",
    "import scipy as sp\n",
    "import pandas as pd\n",
    "import scipy.stats as stats\n",
    "import seaborn as sns\n",
    "import matplotlib.pyplot as plt\n",
    "import math\n",
    "import sqlite3"
   ]
  },
  {
   "cell_type": "markdown",
   "metadata": {},
   "source": [
    "Rationale: Importing the data sources as variables to conduct data and statistical analysis."
   ]
  },
  {
   "cell_type": "code",
   "execution_count": 23,
   "metadata": {
    "ExecuteTime": {
     "end_time": "2022-08-17T23:17:01.823317Z",
     "start_time": "2022-08-17T23:17:01.617914Z"
    }
   },
   "outputs": [],
   "source": [
    "movie_gross = pd.read_csv('zippedData/bom.movie_gross.csv')\n",
    "rt_movie_info = pd.read_csv('zippedData/rt.movie_info.csv')\n",
    "rt_reviews = pd.read_csv('zippedData/rt.reviews.csv', encoding='unicode_escape')\n",
    "tn_movie_budgets = pd.read_csv('zippedData/tn.movie_budgets.csv')\n",
    "tmdb_movies = pd.read_csv('zippedData/tmdb.movies.csv', index_col=0)"
   ]
  },
  {
   "cell_type": "code",
   "execution_count": 24,
   "metadata": {
    "ExecuteTime": {
     "end_time": "2022-08-17T23:17:01.854701Z",
     "start_time": "2022-08-17T23:17:01.825318Z"
    }
   },
   "outputs": [
    {
     "name": "stdout",
     "output_type": "stream",
     "text": [
      "<class 'pandas.core.frame.DataFrame'>\n",
      "RangeIndex: 1560 entries, 0 to 1559\n",
      "Data columns (total 12 columns):\n",
      " #   Column        Non-Null Count  Dtype \n",
      "---  ------        --------------  ----- \n",
      " 0   id            1560 non-null   int64 \n",
      " 1   synopsis      1498 non-null   object\n",
      " 2   rating        1557 non-null   object\n",
      " 3   genre         1552 non-null   object\n",
      " 4   director      1361 non-null   object\n",
      " 5   writer        1111 non-null   object\n",
      " 6   theater_date  1201 non-null   object\n",
      " 7   dvd_date      1201 non-null   object\n",
      " 8   currency      340 non-null    object\n",
      " 9   box_office    340 non-null    object\n",
      " 10  runtime       1530 non-null   object\n",
      " 11  studio        494 non-null    object\n",
      "dtypes: int64(1), object(11)\n",
      "memory usage: 146.4+ KB\n"
     ]
    }
   ],
   "source": [
    "# there are 1560 records in this dataset\n",
    "original_rt_movie_info = pd.read_csv('zippedData/rt.movie_info.csv')\n",
    "original_rt_movie_info.info()"
   ]
  },
  {
   "cell_type": "code",
   "execution_count": 25,
   "metadata": {
    "ExecuteTime": {
     "end_time": "2022-08-17T23:17:01.870706Z",
     "start_time": "2022-08-17T23:17:01.856702Z"
    }
   },
   "outputs": [
    {
     "data": {
      "text/html": [
       "<div>\n",
       "<style scoped>\n",
       "    .dataframe tbody tr th:only-of-type {\n",
       "        vertical-align: middle;\n",
       "    }\n",
       "\n",
       "    .dataframe tbody tr th {\n",
       "        vertical-align: top;\n",
       "    }\n",
       "\n",
       "    .dataframe thead th {\n",
       "        text-align: right;\n",
       "    }\n",
       "</style>\n",
       "<table border=\"1\" class=\"dataframe\">\n",
       "  <thead>\n",
       "    <tr style=\"text-align: right;\">\n",
       "      <th></th>\n",
       "      <th>id</th>\n",
       "      <th>synopsis</th>\n",
       "      <th>rating</th>\n",
       "      <th>genre</th>\n",
       "      <th>director</th>\n",
       "      <th>writer</th>\n",
       "      <th>theater_date</th>\n",
       "      <th>dvd_date</th>\n",
       "      <th>currency</th>\n",
       "      <th>box_office</th>\n",
       "      <th>runtime</th>\n",
       "      <th>studio</th>\n",
       "    </tr>\n",
       "  </thead>\n",
       "  <tbody>\n",
       "    <tr>\n",
       "      <th>0</th>\n",
       "      <td>1</td>\n",
       "      <td>This gritty, fast-paced, and innovative police...</td>\n",
       "      <td>R</td>\n",
       "      <td>Action and Adventure|Classics|Drama</td>\n",
       "      <td>William Friedkin</td>\n",
       "      <td>Ernest Tidyman</td>\n",
       "      <td>9-Oct-71</td>\n",
       "      <td>25-Sep-01</td>\n",
       "      <td>NaN</td>\n",
       "      <td>NaN</td>\n",
       "      <td>104 minutes</td>\n",
       "      <td>NaN</td>\n",
       "    </tr>\n",
       "    <tr>\n",
       "      <th>1</th>\n",
       "      <td>3</td>\n",
       "      <td>New York City, not-too-distant-future: Eric Pa...</td>\n",
       "      <td>R</td>\n",
       "      <td>Drama|Science Fiction and Fantasy</td>\n",
       "      <td>David Cronenberg</td>\n",
       "      <td>David Cronenberg|Don DeLillo</td>\n",
       "      <td>17-Aug-12</td>\n",
       "      <td>1-Jan-13</td>\n",
       "      <td>$</td>\n",
       "      <td>600,000</td>\n",
       "      <td>108 minutes</td>\n",
       "      <td>Entertainment One</td>\n",
       "    </tr>\n",
       "    <tr>\n",
       "      <th>2</th>\n",
       "      <td>5</td>\n",
       "      <td>Illeana Douglas delivers a superb performance ...</td>\n",
       "      <td>R</td>\n",
       "      <td>Drama|Musical and Performing Arts</td>\n",
       "      <td>Allison Anders</td>\n",
       "      <td>Allison Anders</td>\n",
       "      <td>13-Sep-96</td>\n",
       "      <td>18-Apr-00</td>\n",
       "      <td>NaN</td>\n",
       "      <td>NaN</td>\n",
       "      <td>116 minutes</td>\n",
       "      <td>NaN</td>\n",
       "    </tr>\n",
       "    <tr>\n",
       "      <th>3</th>\n",
       "      <td>6</td>\n",
       "      <td>Michael Douglas runs afoul of a treacherous su...</td>\n",
       "      <td>R</td>\n",
       "      <td>Drama|Mystery and Suspense</td>\n",
       "      <td>Barry Levinson</td>\n",
       "      <td>Paul Attanasio|Michael Crichton</td>\n",
       "      <td>9-Dec-94</td>\n",
       "      <td>27-Aug-97</td>\n",
       "      <td>NaN</td>\n",
       "      <td>NaN</td>\n",
       "      <td>128 minutes</td>\n",
       "      <td>NaN</td>\n",
       "    </tr>\n",
       "    <tr>\n",
       "      <th>4</th>\n",
       "      <td>7</td>\n",
       "      <td>NaN</td>\n",
       "      <td>NR</td>\n",
       "      <td>Drama|Romance</td>\n",
       "      <td>Rodney Bennett</td>\n",
       "      <td>Giles Cooper</td>\n",
       "      <td>NaN</td>\n",
       "      <td>NaN</td>\n",
       "      <td>NaN</td>\n",
       "      <td>NaN</td>\n",
       "      <td>200 minutes</td>\n",
       "      <td>NaN</td>\n",
       "    </tr>\n",
       "  </tbody>\n",
       "</table>\n",
       "</div>"
      ],
      "text/plain": [
       "   id                                           synopsis rating  \\\n",
       "0   1  This gritty, fast-paced, and innovative police...      R   \n",
       "1   3  New York City, not-too-distant-future: Eric Pa...      R   \n",
       "2   5  Illeana Douglas delivers a superb performance ...      R   \n",
       "3   6  Michael Douglas runs afoul of a treacherous su...      R   \n",
       "4   7                                                NaN     NR   \n",
       "\n",
       "                                 genre          director  \\\n",
       "0  Action and Adventure|Classics|Drama  William Friedkin   \n",
       "1    Drama|Science Fiction and Fantasy  David Cronenberg   \n",
       "2    Drama|Musical and Performing Arts    Allison Anders   \n",
       "3           Drama|Mystery and Suspense    Barry Levinson   \n",
       "4                        Drama|Romance    Rodney Bennett   \n",
       "\n",
       "                            writer theater_date   dvd_date currency  \\\n",
       "0                   Ernest Tidyman     9-Oct-71  25-Sep-01      NaN   \n",
       "1     David Cronenberg|Don DeLillo    17-Aug-12   1-Jan-13        $   \n",
       "2                   Allison Anders    13-Sep-96  18-Apr-00      NaN   \n",
       "3  Paul Attanasio|Michael Crichton     9-Dec-94  27-Aug-97      NaN   \n",
       "4                     Giles Cooper          NaN        NaN      NaN   \n",
       "\n",
       "  box_office      runtime             studio  \n",
       "0        NaN  104 minutes                NaN  \n",
       "1    600,000  108 minutes  Entertainment One  \n",
       "2        NaN  116 minutes                NaN  \n",
       "3        NaN  128 minutes                NaN  \n",
       "4        NaN  200 minutes                NaN  "
      ]
     },
     "execution_count": 25,
     "metadata": {},
     "output_type": "execute_result"
    }
   ],
   "source": [
    "#quickly visualizing the dataframe \n",
    "original_rt_movie_info.head()"
   ]
  },
  {
   "cell_type": "code",
   "execution_count": 26,
   "metadata": {
    "ExecuteTime": {
     "end_time": "2022-08-17T23:17:01.885709Z",
     "start_time": "2022-08-17T23:17:01.872706Z"
    }
   },
   "outputs": [
    {
     "name": "stdout",
     "output_type": "stream",
     "text": [
      "id                 0\n",
      "synopsis          62\n",
      "rating             3\n",
      "genre              8\n",
      "director         199\n",
      "writer           449\n",
      "theater_date     359\n",
      "dvd_date         359\n",
      "currency        1220\n",
      "box_office      1220\n",
      "runtime           30\n",
      "studio          1066\n",
      "dtype: int64\n"
     ]
    }
   ],
   "source": [
    "# counting the total number of null values in the dataset\n",
    "print(original_rt_movie_info.isnull().sum())"
   ]
  },
  {
   "cell_type": "code",
   "execution_count": 27,
   "metadata": {
    "ExecuteTime": {
     "end_time": "2022-08-17T23:17:01.900712Z",
     "start_time": "2022-08-17T23:17:01.887709Z"
    }
   },
   "outputs": [
    {
     "data": {
      "text/plain": [
       "340"
      ]
     },
     "execution_count": 27,
     "metadata": {},
     "output_type": "execute_result"
    }
   ],
   "source": [
    "# counting the none-null values in the box_office column\n",
    "original_rt_movie_info['box_office'].count()"
   ]
  },
  {
   "cell_type": "code",
   "execution_count": 28,
   "metadata": {
    "ExecuteTime": {
     "end_time": "2022-08-17T23:17:01.916233Z",
     "start_time": "2022-08-17T23:17:01.902712Z"
    }
   },
   "outputs": [
    {
     "data": {
      "text/plain": [
       "1530"
      ]
     },
     "execution_count": 28,
     "metadata": {},
     "output_type": "execute_result"
    }
   ],
   "source": [
    "# counting the none-null values in the runtime column\n",
    "original_rt_movie_info['runtime'].count()"
   ]
  },
  {
   "cell_type": "markdown",
   "metadata": {},
   "source": [
    "Rationale: By cleaning rt_movie_info, it allows us to perform data and statistical analysis on the data within the dataset. This data set is important for our business insights and recommendations as it contains the information related to run time of movies. "
   ]
  },
  {
   "cell_type": "code",
   "execution_count": 29,
   "metadata": {
    "ExecuteTime": {
     "end_time": "2022-08-17T23:17:01.931237Z",
     "start_time": "2022-08-17T23:17:01.918234Z"
    }
   },
   "outputs": [],
   "source": [
    "#Cleaning movie info data set\n",
    "\n",
    "rt_movie_info = rt_movie_info.dropna()\n",
    "# dropping the null values because the data set is large enough at over 1500 records to handle the loss of data\n",
    "# the data is also highly varied, so filling in with the mean will not be the\n",
    "# most accurate representation  \n",
    "# However, it is important to note that by doing this we will lose data\n",
    "box_office = []\n",
    "for v in rt_movie_info['box_office'].dropna():\n",
    "    box_office.append(box_office)\n",
    "\n"
   ]
  },
  {
   "cell_type": "code",
   "execution_count": 30,
   "metadata": {
    "ExecuteTime": {
     "end_time": "2022-08-17T23:17:01.946240Z",
     "start_time": "2022-08-17T23:17:01.933238Z"
    }
   },
   "outputs": [],
   "source": [
    "# more cleaning of the data set\n",
    "runtime_raw = []\n",
    "runtime_clean = []\n",
    "box_off_raw = []\n",
    "box_off_clean = []\n",
    "for val in rt_movie_info['runtime'].str[:3]: #extract first 3 characters,movies under 100 min will have whitespace\n",
    "    runtime_raw.append(val)\n",
    "for val in runtime_raw: #strip whitespace\n",
    "    runtime_strip = val.replace(' ', '')\n",
    "    runtime_clean.append(runtime_strip)\n",
    "    \n",
    "for val in rt_movie_info['box_office']:\n",
    "    box_off_strip = val.replace(',', '')\n",
    "    box_off_clean.append(box_off_strip)\n",
    "\n",
    "\n",
    "\n",
    "rt_movie_info['runtime_clean'] = runtime_clean\n",
    "rt_movie_info['box_office_clean'] = box_off_clean\n"
   ]
  },
  {
   "cell_type": "code",
   "execution_count": 31,
   "metadata": {
    "ExecuteTime": {
     "end_time": "2022-08-17T23:17:01.962248Z",
     "start_time": "2022-08-17T23:17:01.948241Z"
    }
   },
   "outputs": [
    {
     "name": "stdout",
     "output_type": "stream",
     "text": [
      "id                  0\n",
      "synopsis            0\n",
      "rating              0\n",
      "genre               0\n",
      "director            0\n",
      "writer              0\n",
      "theater_date        0\n",
      "dvd_date            0\n",
      "currency            0\n",
      "box_office          0\n",
      "runtime             0\n",
      "studio              0\n",
      "runtime_clean       0\n",
      "box_office_clean    0\n",
      "dtype: int64\n"
     ]
    }
   ],
   "source": [
    "# sanity check on null values\n",
    "print(rt_movie_info.isnull().sum())"
   ]
  },
  {
   "cell_type": "code",
   "execution_count": 32,
   "metadata": {
    "ExecuteTime": {
     "end_time": "2022-08-17T23:17:01.978252Z",
     "start_time": "2022-08-17T23:17:01.963248Z"
    },
    "scrolled": true
   },
   "outputs": [
    {
     "data": {
      "text/html": [
       "<div>\n",
       "<style scoped>\n",
       "    .dataframe tbody tr th:only-of-type {\n",
       "        vertical-align: middle;\n",
       "    }\n",
       "\n",
       "    .dataframe tbody tr th {\n",
       "        vertical-align: top;\n",
       "    }\n",
       "\n",
       "    .dataframe thead th {\n",
       "        text-align: right;\n",
       "    }\n",
       "</style>\n",
       "<table border=\"1\" class=\"dataframe\">\n",
       "  <thead>\n",
       "    <tr style=\"text-align: right;\">\n",
       "      <th></th>\n",
       "      <th>id</th>\n",
       "      <th>synopsis</th>\n",
       "      <th>rating</th>\n",
       "      <th>genre</th>\n",
       "      <th>director</th>\n",
       "      <th>writer</th>\n",
       "      <th>theater_date</th>\n",
       "      <th>dvd_date</th>\n",
       "      <th>currency</th>\n",
       "      <th>box_office</th>\n",
       "      <th>runtime</th>\n",
       "      <th>studio</th>\n",
       "      <th>runtime_clean</th>\n",
       "      <th>box_office_clean</th>\n",
       "    </tr>\n",
       "  </thead>\n",
       "  <tbody>\n",
       "    <tr>\n",
       "      <th>1</th>\n",
       "      <td>3</td>\n",
       "      <td>New York City, not-too-distant-future: Eric Pa...</td>\n",
       "      <td>R</td>\n",
       "      <td>Drama|Science Fiction and Fantasy</td>\n",
       "      <td>David Cronenberg</td>\n",
       "      <td>David Cronenberg|Don DeLillo</td>\n",
       "      <td>17-Aug-12</td>\n",
       "      <td>1-Jan-13</td>\n",
       "      <td>$</td>\n",
       "      <td>600,000</td>\n",
       "      <td>108 minutes</td>\n",
       "      <td>Entertainment One</td>\n",
       "      <td>108</td>\n",
       "      <td>600000</td>\n",
       "    </tr>\n",
       "    <tr>\n",
       "      <th>6</th>\n",
       "      <td>10</td>\n",
       "      <td>Some cast and crew from NBC's highly acclaimed...</td>\n",
       "      <td>PG-13</td>\n",
       "      <td>Comedy</td>\n",
       "      <td>Jake Kasdan</td>\n",
       "      <td>Mike White</td>\n",
       "      <td>11-Jan-02</td>\n",
       "      <td>18-Jun-02</td>\n",
       "      <td>$</td>\n",
       "      <td>41,032,915</td>\n",
       "      <td>82 minutes</td>\n",
       "      <td>Paramount Pictures</td>\n",
       "      <td>82</td>\n",
       "      <td>41032915</td>\n",
       "    </tr>\n",
       "    <tr>\n",
       "      <th>7</th>\n",
       "      <td>13</td>\n",
       "      <td>Stewart Kane, an Irishman living in the Austra...</td>\n",
       "      <td>R</td>\n",
       "      <td>Drama</td>\n",
       "      <td>Ray Lawrence</td>\n",
       "      <td>Raymond Carver|Beatrix Christian</td>\n",
       "      <td>27-Apr-06</td>\n",
       "      <td>2-Oct-07</td>\n",
       "      <td>$</td>\n",
       "      <td>224,114</td>\n",
       "      <td>123 minutes</td>\n",
       "      <td>Sony Pictures Classics</td>\n",
       "      <td>123</td>\n",
       "      <td>224114</td>\n",
       "    </tr>\n",
       "    <tr>\n",
       "      <th>15</th>\n",
       "      <td>22</td>\n",
       "      <td>Two-time Academy Award Winner Kevin Spacey giv...</td>\n",
       "      <td>R</td>\n",
       "      <td>Comedy|Drama|Mystery and Suspense</td>\n",
       "      <td>George Hickenlooper</td>\n",
       "      <td>Norman Snider</td>\n",
       "      <td>17-Dec-10</td>\n",
       "      <td>5-Apr-11</td>\n",
       "      <td>$</td>\n",
       "      <td>1,039,869</td>\n",
       "      <td>108 minutes</td>\n",
       "      <td>ATO Pictures</td>\n",
       "      <td>108</td>\n",
       "      <td>1039869</td>\n",
       "    </tr>\n",
       "    <tr>\n",
       "      <th>18</th>\n",
       "      <td>25</td>\n",
       "      <td>From ancient Japan's most enduring tale, the e...</td>\n",
       "      <td>PG-13</td>\n",
       "      <td>Action and Adventure|Drama|Science Fiction and...</td>\n",
       "      <td>Carl Erik Rinsch</td>\n",
       "      <td>Chris Morgan|Hossein Amini</td>\n",
       "      <td>25-Dec-13</td>\n",
       "      <td>1-Apr-14</td>\n",
       "      <td>$</td>\n",
       "      <td>20,518,224</td>\n",
       "      <td>127 minutes</td>\n",
       "      <td>Universal Pictures</td>\n",
       "      <td>127</td>\n",
       "      <td>20518224</td>\n",
       "    </tr>\n",
       "  </tbody>\n",
       "</table>\n",
       "</div>"
      ],
      "text/plain": [
       "    id                                           synopsis rating  \\\n",
       "1    3  New York City, not-too-distant-future: Eric Pa...      R   \n",
       "6   10  Some cast and crew from NBC's highly acclaimed...  PG-13   \n",
       "7   13  Stewart Kane, an Irishman living in the Austra...      R   \n",
       "15  22  Two-time Academy Award Winner Kevin Spacey giv...      R   \n",
       "18  25  From ancient Japan's most enduring tale, the e...  PG-13   \n",
       "\n",
       "                                                genre             director  \\\n",
       "1                   Drama|Science Fiction and Fantasy     David Cronenberg   \n",
       "6                                              Comedy          Jake Kasdan   \n",
       "7                                               Drama         Ray Lawrence   \n",
       "15                  Comedy|Drama|Mystery and Suspense  George Hickenlooper   \n",
       "18  Action and Adventure|Drama|Science Fiction and...     Carl Erik Rinsch   \n",
       "\n",
       "                              writer theater_date   dvd_date currency  \\\n",
       "1       David Cronenberg|Don DeLillo    17-Aug-12   1-Jan-13        $   \n",
       "6                         Mike White    11-Jan-02  18-Jun-02        $   \n",
       "7   Raymond Carver|Beatrix Christian    27-Apr-06   2-Oct-07        $   \n",
       "15                     Norman Snider    17-Dec-10   5-Apr-11        $   \n",
       "18        Chris Morgan|Hossein Amini    25-Dec-13   1-Apr-14        $   \n",
       "\n",
       "    box_office      runtime                  studio runtime_clean  \\\n",
       "1      600,000  108 minutes       Entertainment One           108   \n",
       "6   41,032,915   82 minutes      Paramount Pictures            82   \n",
       "7      224,114  123 minutes  Sony Pictures Classics           123   \n",
       "15   1,039,869  108 minutes            ATO Pictures           108   \n",
       "18  20,518,224  127 minutes      Universal Pictures           127   \n",
       "\n",
       "   box_office_clean  \n",
       "1            600000  \n",
       "6          41032915  \n",
       "7            224114  \n",
       "15          1039869  \n",
       "18         20518224  "
      ]
     },
     "execution_count": 32,
     "metadata": {},
     "output_type": "execute_result"
    }
   ],
   "source": [
    "rt_movie_info.head()"
   ]
  },
  {
   "cell_type": "code",
   "execution_count": 33,
   "metadata": {
    "ExecuteTime": {
     "end_time": "2022-08-17T23:17:01.994255Z",
     "start_time": "2022-08-17T23:17:01.980253Z"
    }
   },
   "outputs": [
    {
     "data": {
      "text/plain": [
       "count          235\n",
       "unique         235\n",
       "top       36873198\n",
       "freq             1\n",
       "Name: box_office_clean, dtype: object"
      ]
     },
     "execution_count": 33,
     "metadata": {},
     "output_type": "execute_result"
    }
   ],
   "source": [
    "# checking the descriptive statistics\n",
    "rt_movie_info['box_office_clean'].describe()"
   ]
  },
  {
   "cell_type": "code",
   "execution_count": 34,
   "metadata": {
    "ExecuteTime": {
     "end_time": "2022-08-17T23:17:02.010258Z",
     "start_time": "2022-08-17T23:17:01.996256Z"
    }
   },
   "outputs": [
    {
     "data": {
      "text/plain": [
       "count     235\n",
       "unique     69\n",
       "top       115\n",
       "freq       10\n",
       "Name: runtime_clean, dtype: object"
      ]
     },
     "execution_count": 34,
     "metadata": {},
     "output_type": "execute_result"
    }
   ],
   "source": [
    "# checking the descriptive statistics\n",
    "rt_movie_info['runtime_clean'].describe()"
   ]
  },
  {
   "cell_type": "code",
   "execution_count": 35,
   "metadata": {
    "ExecuteTime": {
     "end_time": "2022-08-17T23:17:02.025655Z",
     "start_time": "2022-08-17T23:17:02.013260Z"
    }
   },
   "outputs": [
    {
     "data": {
      "text/plain": [
       "1         600000\n",
       "6       41032915\n",
       "7         224114\n",
       "15       1039869\n",
       "18      20518224\n",
       "          ...   \n",
       "1530    72700000\n",
       "1537     1320005\n",
       "1541    25335935\n",
       "1542     1416189\n",
       "1545       59371\n",
       "Name: box_office_clean, Length: 235, dtype: int32"
      ]
     },
     "execution_count": 35,
     "metadata": {},
     "output_type": "execute_result"
    }
   ],
   "source": [
    "# turing the object in the cleaned columns into integers\n",
    "\n",
    "rt_movie_info['box_office_clean'].astype(int)"
   ]
  },
  {
   "cell_type": "code",
   "execution_count": 36,
   "metadata": {
    "ExecuteTime": {
     "end_time": "2022-08-17T23:17:02.041666Z",
     "start_time": "2022-08-17T23:17:02.027658Z"
    }
   },
   "outputs": [
    {
     "data": {
      "text/plain": [
       "1       108\n",
       "6        82\n",
       "7       123\n",
       "15      108\n",
       "18      127\n",
       "       ... \n",
       "1530    126\n",
       "1537    123\n",
       "1541    119\n",
       "1542    129\n",
       "1545     98\n",
       "Name: runtime_clean, Length: 235, dtype: int32"
      ]
     },
     "execution_count": 36,
     "metadata": {},
     "output_type": "execute_result"
    }
   ],
   "source": [
    "rt_movie_info['runtime_clean'].astype(int)"
   ]
  },
  {
   "cell_type": "code",
   "execution_count": 37,
   "metadata": {
    "ExecuteTime": {
     "end_time": "2022-08-17T23:17:02.057547Z",
     "start_time": "2022-08-17T23:17:02.043668Z"
    }
   },
   "outputs": [
    {
     "data": {
      "text/plain": [
       "15536310.0"
      ]
     },
     "execution_count": 37,
     "metadata": {},
     "output_type": "execute_result"
    }
   ],
   "source": [
    "# checking the median\n",
    "rt_movie_info['box_office_clean'].median()"
   ]
  },
  {
   "cell_type": "code",
   "execution_count": 38,
   "metadata": {
    "ExecuteTime": {
     "end_time": "2022-08-17T23:17:02.072557Z",
     "start_time": "2022-08-17T23:17:02.059550Z"
    }
   },
   "outputs": [
    {
     "data": {
      "text/plain": [
       "105.0"
      ]
     },
     "execution_count": 38,
     "metadata": {},
     "output_type": "execute_result"
    }
   ],
   "source": [
    "# checking the median\n",
    "rt_movie_info['runtime_clean'].median()"
   ]
  },
  {
   "cell_type": "markdown",
   "metadata": {},
   "source": [
    "Rationale: By creating a new Pandas dataframe of just run time and box office "
   ]
  },
  {
   "cell_type": "code",
   "execution_count": 39,
   "metadata": {
    "ExecuteTime": {
     "end_time": "2022-08-17T23:17:02.087562Z",
     "start_time": "2022-08-17T23:17:02.074559Z"
    }
   },
   "outputs": [
    {
     "name": "stdout",
     "output_type": "stream",
     "text": [
      "      runtime_clean  box_office_clean\n",
      "1               108            600000\n",
      "6                82          41032915\n",
      "7               123            224114\n",
      "15              108           1039869\n",
      "18              127          20518224\n",
      "...             ...               ...\n",
      "1530            126          72700000\n",
      "1537            123           1320005\n",
      "1541            119          25335935\n",
      "1542            129           1416189\n",
      "1545             98             59371\n",
      "\n",
      "[235 rows x 2 columns]\n"
     ]
    }
   ],
   "source": [
    "#Creating a new Pandas dataframe of just the runtime and box office information\n",
    "df2 = rt_movie_info[['runtime_clean','box_office_clean']].copy()\n",
    "\n",
    "#standardizing the type of data for the new dataframe\n",
    "df2['runtime_clean'] = df2['runtime_clean'].astype(int)\n",
    "df2['box_office_clean'] = df2['box_office_clean'].astype(int)\n",
    "\n",
    "print(df2)"
   ]
  },
  {
   "cell_type": "code",
   "execution_count": 40,
   "metadata": {
    "ExecuteTime": {
     "end_time": "2022-08-17T23:17:02.103567Z",
     "start_time": "2022-08-17T23:17:02.089562Z"
    }
   },
   "outputs": [
    {
     "data": {
      "text/html": [
       "<div>\n",
       "<style scoped>\n",
       "    .dataframe tbody tr th:only-of-type {\n",
       "        vertical-align: middle;\n",
       "    }\n",
       "\n",
       "    .dataframe tbody tr th {\n",
       "        vertical-align: top;\n",
       "    }\n",
       "\n",
       "    .dataframe thead th {\n",
       "        text-align: right;\n",
       "    }\n",
       "</style>\n",
       "<table border=\"1\" class=\"dataframe\">\n",
       "  <thead>\n",
       "    <tr style=\"text-align: right;\">\n",
       "      <th></th>\n",
       "      <th>runtime_clean</th>\n",
       "      <th>box_office_clean</th>\n",
       "    </tr>\n",
       "  </thead>\n",
       "  <tbody>\n",
       "    <tr>\n",
       "      <th>runtime_clean</th>\n",
       "      <td>1.000000</td>\n",
       "      <td>0.312157</td>\n",
       "    </tr>\n",
       "    <tr>\n",
       "      <th>box_office_clean</th>\n",
       "      <td>0.312157</td>\n",
       "      <td>1.000000</td>\n",
       "    </tr>\n",
       "  </tbody>\n",
       "</table>\n",
       "</div>"
      ],
      "text/plain": [
       "                  runtime_clean  box_office_clean\n",
       "runtime_clean          1.000000          0.312157\n",
       "box_office_clean       0.312157          1.000000"
      ]
     },
     "execution_count": 40,
     "metadata": {},
     "output_type": "execute_result"
    }
   ],
   "source": [
    "# finding the correlation between runtime and box office performance\n",
    "df2.corr()"
   ]
  },
  {
   "cell_type": "markdown",
   "metadata": {},
   "source": [
    "There is a low to medium correlation between runtime and box office performance measured in USD"
   ]
  },
  {
   "cell_type": "code",
   "execution_count": 41,
   "metadata": {
    "ExecuteTime": {
     "end_time": "2022-08-17T23:17:02.289355Z",
     "start_time": "2022-08-17T23:17:02.104567Z"
    }
   },
   "outputs": [
    {
     "name": "stdout",
     "output_type": "stream",
     "text": [
      " Low to medium correlation of 0.312\n"
     ]
    },
    {
     "data": {
      "image/png": "[encoded data removed]",
      "text/plain": [
       "<Figure size 432x288 with 1 Axes>"
      ]
     },
     "metadata": {
      "needs_background": "light"
     },
     "output_type": "display_data"
    }
   ],
   "source": [
    "# scatter plot of the correlation\n",
    "fig, ax = plt.subplots()\n",
    "\n",
    "\n",
    "ax.scatter(df2['runtime_clean'], df2['box_office_clean'], label=\"Films\")\n",
    "\n",
    "\n",
    "\n",
    "x_bounds = [min(df2['runtime_clean']), max(df2['runtime_clean'])]\n",
    "y_bounds = [min(df2['box_office_clean']), max(df2['box_office_clean'])]\n",
    "\n",
    "\n",
    "\n",
    "ax.plot(x_bounds, y_bounds, \"--\", label=\"Perfect Correlation\", color='r')\n",
    "\n",
    "\n",
    "\n",
    "ax.set_title(\"Runtime vs Box Office Revenue\")\n",
    "ax.set_xlabel(\"Runtime (Minutes)\")\n",
    "ax.set_ylabel(\"Box Office Performance (USD)\")\n",
    "\n",
    "\n",
    "\n",
    "\n",
    "ax.legend();\n",
    "\n",
    "print(f' Low to medium correlation of 0.312')"
   ]
  },
  {
   "cell_type": "markdown",
   "metadata": {},
   "source": [
    "There is a medium correlation between the run time of a film to its box office performance\n",
    "We can conclude that there are other factors in play that contribute to box office performance other than run time."
   ]
  },
  {
   "cell_type": "code",
   "execution_count": 42,
   "metadata": {
    "ExecuteTime": {
     "end_time": "2022-08-17T23:17:02.305212Z",
     "start_time": "2022-08-17T23:17:02.291358Z"
    }
   },
   "outputs": [
    {
     "name": "stdout",
     "output_type": "stream",
     "text": [
      "<class 'pandas.core.frame.DataFrame'>\n",
      "Int64Index: 235 entries, 1 to 1545\n",
      "Data columns (total 14 columns):\n",
      " #   Column            Non-Null Count  Dtype \n",
      "---  ------            --------------  ----- \n",
      " 0   id                235 non-null    int64 \n",
      " 1   synopsis          235 non-null    object\n",
      " 2   rating            235 non-null    object\n",
      " 3   genre             235 non-null    object\n",
      " 4   director          235 non-null    object\n",
      " 5   writer            235 non-null    object\n",
      " 6   theater_date      235 non-null    object\n",
      " 7   dvd_date          235 non-null    object\n",
      " 8   currency          235 non-null    object\n",
      " 9   box_office        235 non-null    object\n",
      " 10  runtime           235 non-null    object\n",
      " 11  studio            235 non-null    object\n",
      " 12  runtime_clean     235 non-null    object\n",
      " 13  box_office_clean  235 non-null    object\n",
      "dtypes: int64(1), object(13)\n",
      "memory usage: 27.5+ KB\n"
     ]
    }
   ],
   "source": [
    "rt_movie_info.info()"
   ]
  },
  {
   "cell_type": "code",
   "execution_count": 43,
   "metadata": {
    "ExecuteTime": {
     "end_time": "2022-08-17T23:17:02.320893Z",
     "start_time": "2022-08-17T23:17:02.307213Z"
    }
   },
   "outputs": [
    {
     "name": "stdout",
     "output_type": "stream",
     "text": [
      "id                 0\n",
      "synopsis          62\n",
      "rating             3\n",
      "genre              8\n",
      "director         199\n",
      "writer           449\n",
      "theater_date     359\n",
      "dvd_date         359\n",
      "currency        1220\n",
      "box_office      1220\n",
      "runtime           30\n",
      "studio          1066\n",
      "dtype: int64\n"
     ]
    }
   ],
   "source": [
    "# counting the total number of null values in the dataset\n",
    "print(original_rt_movie_info.isnull().sum())"
   ]
  },
  {
   "cell_type": "code",
   "execution_count": 44,
   "metadata": {
    "ExecuteTime": {
     "end_time": "2022-08-17T23:17:02.336408Z",
     "start_time": "2022-08-17T23:17:02.323895Z"
    }
   },
   "outputs": [
    {
     "data": {
      "text/plain": [
       "1557"
      ]
     },
     "execution_count": 44,
     "metadata": {},
     "output_type": "execute_result"
    }
   ],
   "source": [
    "# counting the none-null values in the rating column\n",
    "original_rt_movie_info['rating'].count()"
   ]
  },
  {
   "cell_type": "code",
   "execution_count": 45,
   "metadata": {
    "ExecuteTime": {
     "end_time": "2022-08-17T23:17:02.352321Z",
     "start_time": "2022-08-17T23:17:02.339409Z"
    }
   },
   "outputs": [],
   "source": [
    "# creating a new dataframe of just the rating and the box office performance\n",
    "df3 = rt_movie_info[['box_office_clean','rating']].copy()"
   ]
  },
  {
   "cell_type": "code",
   "execution_count": 46,
   "metadata": {
    "ExecuteTime": {
     "end_time": "2022-08-17T23:17:02.367326Z",
     "start_time": "2022-08-17T23:17:02.354323Z"
    }
   },
   "outputs": [
    {
     "data": {
      "text/plain": [
       "1           R\n",
       "6       PG-13\n",
       "7           R\n",
       "15          R\n",
       "18      PG-13\n",
       "        ...  \n",
       "1530       PG\n",
       "1537       NR\n",
       "1541    PG-13\n",
       "1542       NR\n",
       "1545        R\n",
       "Name: rating, Length: 235, dtype: object"
      ]
     },
     "execution_count": 46,
     "metadata": {},
     "output_type": "execute_result"
    }
   ],
   "source": [
    "rt_movie_info['rating']"
   ]
  }
 ],
 "metadata": {
  "kernelspec": {
   "display_name": "Python 3",
   "language": "python",
   "name": "python3"
  },
  "language_info": {
   "codemirror_mode": {
    "name": "ipython",
    "version": 3
   },
   "file_extension": ".py",
   "mimetype": "text/x-python",
   "name": "python",
   "nbconvert_exporter": "python",
   "pygments_lexer": "ipython3",
   "version": "3.8.5"
  },
  "toc": {
   "base_numbering": 1,
   "nav_menu": {},
   "number_sections": true,
   "sideBar": true,
   "skip_h1_title": false,
   "title_cell": "Table of Contents",
   "title_sidebar": "Contents",
   "toc_cell": false,
   "toc_position": {},
   "toc_section_display": true,
   "toc_window_display": false
  },
  "varInspector": {
   "cols": {
    "lenName": 16,
    "lenType": 16,
    "lenVar": 40
   },
   "kernels_config": {
    "python": {
     "delete_cmd_postfix": "",
     "delete_cmd_prefix": "del ",
     "library": "var_list.py",
     "varRefreshCmd": "print(var_dic_list())"
    },
    "r": {
     "delete_cmd_postfix": ") ",
     "delete_cmd_prefix": "rm(",
     "library": "var_list.r",
     "varRefreshCmd": "cat(var_dic_list()) "
    }
   },
   "types_to_exclude": [
    "module",
    "function",
    "builtin_function_or_method",
    "instance",
    "_Feature"
   ],
   "window_display": false
  }
 },
 "nbformat": 4,
 "nbformat_minor": 2
}
