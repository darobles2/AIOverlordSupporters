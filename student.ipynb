{
 "cells": [
  {
   "cell_type": "markdown",
   "metadata": {},
   "source": [
    "## Semester 1 Project Submission\n",
    "\n",
    "Please fill out:\n",
    "* Student name: \n",
    "* Instructor name: \n"
   ]
  },
  {
   "cell_type": "markdown",
   "metadata": {},
   "source": [
    "# Maanik Gupta"
   ]
  },
  {
   "cell_type": "markdown",
   "metadata": {},
   "source": [
    "# Maya Sandlin"
   ]
  },
  {
   "cell_type": "markdown",
   "metadata": {},
   "source": [
    "# Robert Golden"
   ]
  },
  {
   "cell_type": "code",
   "execution_count": 6,
   "metadata": {
    "ExecuteTime": {
     "end_time": "2022-08-17T16:04:06.238314Z",
     "start_time": "2022-08-17T16:04:06.013989Z"
    }
   },
   "outputs": [
    {
     "name": "stdout",
     "output_type": "stream",
     "text": [
      "235\n"
     ]
    }
   ],
   "source": [
    "import csv\n",
    "import pandas as pd\n",
    "import numpy as np\n",
    "import matplotlib.pyplot as plt\n",
    "import seaborn as sns\n",
    "import scipy.stats as stats\n",
    "\n",
    "#Read CSVs for later use\n",
    "movie_gross = pd.read_csv('zippedData/bom.movie_gross.csv')\n",
    "rt_movie_info = pd.read_csv('zippedData/rt.movie_info.csv')\n",
    "rt_reviews = pd.read_csv('zippedData/rt.reviews.csv')\n",
    "tn_movie_budgets = pd.read_csv('zippedData/tn.movie_budgets.csv')\n",
    "tmdb_movies = pd.read_csv('zippedData/tmdb.movies.csv', index_col=0)\n",
    "\n",
    "#print(movie_gross.info())\n",
    "#Clean studio, domestic_gross, & foreign_gross\n",
    "#movie_gross = movie_gross.dropna()\n",
    "#movie_gross.info()\n",
    "\n",
    "rt_movie_info = rt_movie_info.dropna()\n",
    "#Clean synopsis, rating, genre, director, writer, theater_date, dvd_date, runtime \n",
    "ratings = []\n",
    "for rating in rt_movie_info['rating'].dropna():\n",
    "    ratings.append(rating)\n",
    "#print(ratings)\n",
    "print(len(ratings))\n",
    "\n",
    "runtime_raw = []\n",
    "runtime_clean = []\n",
    "box_off_raw = []\n",
    "box_off_clean = []\n",
    "for val in rt_movie_info['runtime'].str[:3]: #extract first 3 characters, movies under 100 min will have whitespace\n",
    "    runtime_raw.append(val) \n",
    "for val in runtime_raw: #strip whitespace\n",
    "    runtime_strip = val.replace(' ', '') \n",
    "    runtime_clean.append(runtime_strip)\n",
    "    \n",
    "for val in rt_movie_info['box_office']:\n",
    "    box_off_strip = val.replace(',', '')\n",
    "    box_off_clean.append(box_off_strip)\n",
    "\n",
    "rt_movie_info['runtime_clean'] = runtime_clean\n",
    "rt_movie_info['box_office_clean'] = box_off_clean\n",
    "\n",
    "df2 = rt_movie_info[['runtime_clean','box_office_clean']].copy()\n",
    "df2['runtime_clean'] = df2['runtime_clean'].astype(int)\n",
    "df2['box_office_clean'] = df2['box_office_clean'].astype(int)\n",
    "\n",
    "\n",
    "\n",
    "#print(len(runtime))\n",
    "#drop currency, box_office, studio\n",
    "\n",
    "#rt_movie_info.dropna(subset=['currency'])\n",
    "#rt_movie_info.info()\n",
    "\n",
    "#print(rt_reviews.info())\n",
    "#Clean review, rating, fresh, critic, top_critic, publisher, date\n",
    "\n",
    "\n",
    "#print(tn_movie_budgets.info())\n",
    "#Nothing to clean\n",
    "\n",
    "#print(tmdb_movies.info())\n",
    "#Nothing to clean"
   ]
  },
  {
   "cell_type": "code",
   "execution_count": 7,
   "metadata": {
    "ExecuteTime": {
     "end_time": "2022-08-17T16:04:08.196809Z",
     "start_time": "2022-08-17T16:04:08.168394Z"
    }
   },
   "outputs": [
    {
     "name": "stdout",
     "output_type": "stream",
     "text": [
      "Mean runtime: 106.66382978723404\n",
      "\n",
      "Maximum runtime: 188\n",
      "75th Percentile: 117.0\n",
      "Median runtime: 105.0\n",
      "25th Percentile: 93.0\n",
      "Minimum runtime: 67\n",
      "Interquartile Range: 24.0\n",
      "Std. Dev. of runtime: 18.147124581299227\n",
      "99.7% of observations should lay between: 52.22245604333635 - 161.10520353113174\n",
      "\n",
      "Mean box office sales: 41958400.02127659\n",
      "\n",
      "Maximum sales: 368000000\n",
      "75th Percentile: 52649522.5\n",
      "Median sales: 15536310.0\n",
      "25th Percentile: 2302444.5\n",
      "Minimum sales: 363\n",
      "Std. Dev of Sales: 62630155.51836797\n",
      "Interquartile Range: 50347078.0\n",
      "99.7% of observations should lay between: -145932066.5338273 - 229848866.5763805\n",
      "\n",
      "                  runtime_clean  box_office_clean\n",
      "runtime_clean          1.000000          0.312157\n",
      "box_office_clean       0.312157          1.000000\n"
     ]
    }
   ],
   "source": [
    "max1 = df2['runtime_clean'].max()\n",
    "Q1_3 = df2['runtime_clean'].quantile(q=0.75)\n",
    "mean1 = df2['runtime_clean'].mean()\n",
    "med1 = df2['runtime_clean'].median()\n",
    "std1 = df2['runtime_clean'].std()\n",
    "Q1_1 = df2['runtime_clean'].quantile(q=0.25)\n",
    "min1 = df2['runtime_clean'].min()\n",
    "\n",
    "print('Mean runtime:', mean1)\n",
    "print('')\n",
    "print('Maximum runtime:', max1)\n",
    "print('75th Percentile:', Q1_3)\n",
    "print('Median runtime:', med1)\n",
    "print('25th Percentile:', Q1_1)\n",
    "print('Minimum runtime:', min1)\n",
    "print('Interquartile Range:', Q1_3-Q1_1)\n",
    "print('Std. Dev. of runtime:', std1)\n",
    "\n",
    "print('99.7% of observations should lay between:', mean1-(std1*3), '-',mean1+(std1*3))\n",
    "\n",
    "print('') #for readability\n",
    "\n",
    "mean2 = df2['box_office_clean'].mean()\n",
    "max2 = df2['box_office_clean'].max()\n",
    "Q2_3 = df2['box_office_clean'].quantile(q=0.75)\n",
    "med2 = df2['box_office_clean'].median()\n",
    "Q2_1 = df2['box_office_clean'].quantile(q=0.25)\n",
    "min2 = df2['box_office_clean'].min()\n",
    "std2 = df2['box_office_clean'].std()\n",
    "\n",
    "print('Mean box office sales:', mean2)\n",
    "print('')\n",
    "print('Maximum sales:', max2)\n",
    "print('75th Percentile:', Q2_3)\n",
    "print('Median sales:', med2)\n",
    "print('25th Percentile:', Q2_1)\n",
    "print('Minimum sales:', min2)\n",
    "print('Std. Dev of Sales:', std2)\n",
    "print('Interquartile Range:', Q2_3-Q2_1)\n",
    "print('99.7% of observations should lay between:', mean2-(std2*3), '-', mean2+(std2*3))\n",
    "\n",
    "print('') #for readability\n",
    "      \n",
    "print(df2.corr()) #calculate Pearson correlation coefficient for variables in df2\n",
    "\n",
    "d1 = np.random.normal(mean1, std1, 235) #generate a normal distribution where mean1 is avg, sd1 is std dev, and n=235\n",
    "d2 = np.random.normal(mean2, std2, 235) #generate a normal distribution where mean2 is avg, sd2 is std dev, and n=235\n",
    "\n",
    "\n",
    "\n",
    "#df2['runtime_clean'].plot.box(grid='True')\n",
    "#df2['box_office_clean'].plot.box(grid='True')"
   ]
  },
  {
   "cell_type": "code",
   "execution_count": 34,
   "metadata": {
    "ExecuteTime": {
     "end_time": "2022-08-17T16:29:04.798590Z",
     "start_time": "2022-08-17T16:29:04.787694Z"
    }
   },
   "outputs": [
    {
     "name": "stdout",
     "output_type": "stream",
     "text": [
      "T-critical value: -1.6513914747179255\n",
      "Test statistic: 1.6513914747179248\n",
      "0.025000000000060495\n"
     ]
    }
   ],
   "source": [
    "n = 235\n",
    "df = n - 1\n",
    "\n",
    "t_crit = stats.t.ppf(0.05, 234)\n",
    "print('T-critical value:', t_crit)\n",
    "\n",
    "t = stats.t.ppf(q=1-(0.05/2), df=234)\n",
    "print('Test statistic:', ttest_results)\n",
    "\n",
    "p_value = stats.t.sf(t, df=234)\n",
    "print(p_value)\n",
    "\n",
    "\n",
    "x = np.linspace(-5, 5, 200)\n",
    "y = stats.t.pdf(x, df, 0, 1)\n",
    "\n",
    "\n",
    "\n",
    "#Set up figure and axes\n",
    "#fig, ax = plt.subplots(figsize=(8,5))\n",
    "\n",
    "# Plot the PDF as a line graph# (x and y were created in previous plotting code)\n",
    "#ax.plot(x, y, color='darkblue', label=\"t-distribution PDF\")\n",
    "\n",
    "# Plot a vertical line for our critical t-value\n",
    "#ax.axvline(t_crit,color='green',linestyle='--',lw=4,label='critical t-value')\n",
    "\n",
    "# Fill area under line graph where x value is creater than critical t\n",
    "#ax.fill_betweenx(y,x,t_crit,where=x > t_crit,color=\"gray\",label=\"rejection region\")\n",
    "\n",
    "# Plot a vertical line for our measured difference in sales t-statistic\n",
    "#ax.axvline(t, color='red', linestyle='--', lw=5,label='observed t-statistic')\n",
    "\n",
    "#ax.legend();"
   ]
  },
  {
   "cell_type": "code",
   "execution_count": 350,
   "metadata": {
    "ExecuteTime": {
     "end_time": "2022-08-16T16:29:08.403626Z",
     "start_time": "2022-08-16T16:29:08.266855Z"
    }
   },
   "outputs": [
    {
     "name": "stderr",
     "output_type": "stream",
     "text": [
      "C:\\Users\\rogolden\\Anaconda3\\lib\\site-packages\\seaborn\\distributions.py:2619: FutureWarning: `distplot` is a deprecated function and will be removed in a future version. Please adapt your code to use either `displot` (a figure-level function with similar flexibility) or `histplot` (an axes-level function for histograms).\n",
      "  warnings.warn(msg, FutureWarning)\n"
     ]
    },
    {
     "data": {
      "text/plain": [
       "<AxesSubplot:ylabel='Density'>"
      ]
     },
     "execution_count": 350,
     "metadata": {},
     "output_type": "execute_result"
    },
    {
     "data": {
      "image/png": "[encoded data removed]",
      "text/plain": [
       "<Figure size 432x288 with 1 Axes>"
      ]
     },
     "metadata": {
      "needs_background": "light"
     },
     "output_type": "display_data"
    }
   ],
   "source": [
    "sns.distplot(d1)\n"
   ]
  },
  {
   "cell_type": "code",
   "execution_count": 352,
   "metadata": {
    "ExecuteTime": {
     "end_time": "2022-08-16T16:29:21.934250Z",
     "start_time": "2022-08-16T16:29:21.799710Z"
    }
   },
   "outputs": [
    {
     "name": "stderr",
     "output_type": "stream",
     "text": [
      "C:\\Users\\rogolden\\Anaconda3\\lib\\site-packages\\seaborn\\distributions.py:2619: FutureWarning: `distplot` is a deprecated function and will be removed in a future version. Please adapt your code to use either `displot` (a figure-level function with similar flexibility) or `histplot` (an axes-level function for histograms).\n",
      "  warnings.warn(msg, FutureWarning)\n"
     ]
    },
    {
     "data": {
      "text/plain": [
       "<AxesSubplot:ylabel='Density'>"
      ]
     },
     "execution_count": 352,
     "metadata": {},
     "output_type": "execute_result"
    },
    {
     "data": {
      "image/png": "[encoded data removed]",
      "text/plain": [
       "<Figure size 432x288 with 1 Axes>"
      ]
     },
     "metadata": {
      "needs_background": "light"
     },
     "output_type": "display_data"
    }
   ],
   "source": [
    "sns.distplot(d2)"
   ]
  },
  {
   "cell_type": "code",
   "execution_count": 357,
   "metadata": {
    "ExecuteTime": {
     "end_time": "2022-08-16T16:34:14.382273Z",
     "start_time": "2022-08-16T16:34:14.232980Z"
    }
   },
   "outputs": [
    {
     "data": {
      "text/plain": [
       "<AxesSubplot:ylabel='Density'>"
      ]
     },
     "execution_count": 357,
     "metadata": {},
     "output_type": "execute_result"
    },
    {
     "data": {
      "image/png": "[encoded data removed]",
      "text/plain": [
       "<Figure size 432x288 with 1 Axes>"
      ]
     },
     "metadata": {
      "needs_background": "light"
     },
     "output_type": "display_data"
    }
   ],
   "source": [
    "sns.distplot([(x - d1.mean())/d1.std() for x in d1])\n"
   ]
  },
  {
   "cell_type": "code",
   "execution_count": 358,
   "metadata": {
    "ExecuteTime": {
     "end_time": "2022-08-16T16:34:28.859915Z",
     "start_time": "2022-08-16T16:34:28.737020Z"
    }
   },
   "outputs": [
    {
     "name": "stderr",
     "output_type": "stream",
     "text": [
      "C:\\Users\\rogolden\\Anaconda3\\lib\\site-packages\\seaborn\\distributions.py:2619: FutureWarning: `distplot` is a deprecated function and will be removed in a future version. Please adapt your code to use either `displot` (a figure-level function with similar flexibility) or `histplot` (an axes-level function for histograms).\n",
      "  warnings.warn(msg, FutureWarning)\n"
     ]
    },
    {
     "data": {
      "image/png": "[encoded data removed]",
      "text/plain": [
       "<Figure size 432x288 with 1 Axes>"
      ]
     },
     "metadata": {
      "needs_background": "light"
     },
     "output_type": "display_data"
    }
   ],
   "source": [
    "sns.distplot([(x - d2.mean())/d2.std() for x in d2])"
   ]
  },
  {
   "cell_type": "code",
   "execution_count": 371,
   "metadata": {
    "ExecuteTime": {
     "end_time": "2022-08-16T17:08:59.454067Z",
     "start_time": "2022-08-16T17:08:59.316942Z"
    }
   },
   "outputs": [
    {
     "data": {
      "image/png": "[encoded data removed]",
      "text/plain": [
       "<Figure size 432x288 with 1 Axes>"
      ]
     },
     "metadata": {
      "needs_background": "light"
     },
     "output_type": "display_data"
    }
   ],
   "source": [
    "fig, ax = plt.subplots()\n",
    "\n",
    "ax.scatter(df2['runtime_clean'], df2['box_office_clean'], label=\"actual data\")\n",
    "\n",
    "\n",
    "\n",
    "x_bounds = [min(df2['runtime_clean']), max(df2['runtime_clean'])]\n",
    "y_bounds = [min(df2['box_office_clean']), max(df2['box_office_clean'])]\n",
    "\n",
    "\n",
    "\n",
    "ax.plot(x_bounds, y_bounds, \"--\", label=\"perfect correlation\")\n",
    "\n",
    "\n",
    "\n",
    "ax.set_title(\"Runtime Moderately Influences Box Office Sales\")\n",
    "ax.set_xlabel(\"Minutes\")\n",
    "ax.set_ylabel(\"Sales in USD\")\n",
    "\n",
    "\n",
    "\n",
    "ax.legend();"
   ]
  },
  {
   "cell_type": "code",
   "execution_count": 168,
   "metadata": {
    "ExecuteTime": {
     "end_time": "2022-08-17T15:12:11.721264Z",
     "start_time": "2022-08-17T15:12:11.599901Z"
    }
   },
   "outputs": [
    {
     "data": {
      "image/png": "[encoded data removed]",
      "text/plain": [
       "<Figure size 2160x1440 with 1 Axes>"
      ]
     },
     "metadata": {
      "needs_background": "light"
     },
     "output_type": "display_data"
    }
   ],
   "source": [
    "df3 = rt_movie_info[['rating', 'box_office_clean']].copy() #copies rt_movie_info into new dataframe\n",
    "df3 = df3.dropna() #drops null values\n",
    "\n",
    "df3['box_office_clean'] = df3['box_office_clean'].astype(int) #ensures box office sales are integers\n",
    "\n",
    "sales_groupby_rating = df3.groupby('rating')[['box_office_clean']].sum()\n",
    "sales_groupby_rating = sales_groupby_rating / (10^9)\n",
    "\n",
    "fig, ax = plt.subplots(figsize=(30,20))\n",
    "ax.bar(x=sales_groupby_rating.index, height=sales_groupby_rating['box_office_clean'])\n",
    "plt.title('Sales by MPAA Rating')\n",
    "plt.xlabel('MPAA Ratings')\n",
    "plt.ylabel('Sales in USD (Billions)')\n",
    "plt.show()"
   ]
  },
  {
   "cell_type": "code",
   "execution_count": 207,
   "metadata": {
    "ExecuteTime": {
     "end_time": "2022-08-16T13:48:14.573372Z",
     "start_time": "2022-08-16T13:48:14.204423Z"
    }
   },
   "outputs": [
    {
     "data": {
      "text/html": [
       "<div>\n",
       "<style scoped>\n",
       "    .dataframe tbody tr th:only-of-type {\n",
       "        vertical-align: middle;\n",
       "    }\n",
       "\n",
       "    .dataframe tbody tr th {\n",
       "        vertical-align: top;\n",
       "    }\n",
       "\n",
       "    .dataframe thead th {\n",
       "        text-align: right;\n",
       "    }\n",
       "</style>\n",
       "<table border=\"1\" class=\"dataframe\">\n",
       "  <thead>\n",
       "    <tr style=\"text-align: right;\">\n",
       "      <th></th>\n",
       "      <th>movie_id</th>\n",
       "      <th>primary_title</th>\n",
       "    </tr>\n",
       "  </thead>\n",
       "  <tbody>\n",
       "    <tr>\n",
       "      <th>0</th>\n",
       "      <td>tt0063540</td>\n",
       "      <td>Sunghursh</td>\n",
       "    </tr>\n",
       "    <tr>\n",
       "      <th>1</th>\n",
       "      <td>tt0066787</td>\n",
       "      <td>One Day Before the Rainy Season</td>\n",
       "    </tr>\n",
       "    <tr>\n",
       "      <th>2</th>\n",
       "      <td>tt0069049</td>\n",
       "      <td>The Other Side of the Wind</td>\n",
       "    </tr>\n",
       "    <tr>\n",
       "      <th>3</th>\n",
       "      <td>tt0069204</td>\n",
       "      <td>Sabse Bada Sukh</td>\n",
       "    </tr>\n",
       "    <tr>\n",
       "      <th>4</th>\n",
       "      <td>tt0100275</td>\n",
       "      <td>The Wandering Soap Opera</td>\n",
       "    </tr>\n",
       "    <tr>\n",
       "      <th>...</th>\n",
       "      <td>...</td>\n",
       "      <td>...</td>\n",
       "    </tr>\n",
       "    <tr>\n",
       "      <th>146139</th>\n",
       "      <td>tt9916538</td>\n",
       "      <td>Kuambil Lagi Hatiku</td>\n",
       "    </tr>\n",
       "    <tr>\n",
       "      <th>146140</th>\n",
       "      <td>tt9916622</td>\n",
       "      <td>Rodolpho Teóphilo - O Legado de um Pioneiro</td>\n",
       "    </tr>\n",
       "    <tr>\n",
       "      <th>146141</th>\n",
       "      <td>tt9916706</td>\n",
       "      <td>Dankyavar Danka</td>\n",
       "    </tr>\n",
       "    <tr>\n",
       "      <th>146142</th>\n",
       "      <td>tt9916730</td>\n",
       "      <td>6 Gunn</td>\n",
       "    </tr>\n",
       "    <tr>\n",
       "      <th>146143</th>\n",
       "      <td>tt9916754</td>\n",
       "      <td>Chico Albuquerque - Revelações</td>\n",
       "    </tr>\n",
       "  </tbody>\n",
       "</table>\n",
       "<p>146144 rows × 2 columns</p>\n",
       "</div>"
      ],
      "text/plain": [
       "         movie_id                                primary_title\n",
       "0       tt0063540                                    Sunghursh\n",
       "1       tt0066787              One Day Before the Rainy Season\n",
       "2       tt0069049                   The Other Side of the Wind\n",
       "3       tt0069204                              Sabse Bada Sukh\n",
       "4       tt0100275                     The Wandering Soap Opera\n",
       "...           ...                                          ...\n",
       "146139  tt9916538                          Kuambil Lagi Hatiku\n",
       "146140  tt9916622  Rodolpho Teóphilo - O Legado de um Pioneiro\n",
       "146141  tt9916706                              Dankyavar Danka\n",
       "146142  tt9916730                                       6 Gunn\n",
       "146143  tt9916754               Chico Albuquerque - Revelações\n",
       "\n",
       "[146144 rows x 2 columns]"
      ]
     },
     "execution_count": 207,
     "metadata": {},
     "output_type": "execute_result"
    }
   ],
   "source": [
    "import sqlite3\n",
    "\n",
    "#Connect SQLITE3 to im.db database file\n",
    "conn = sqlite3.connect('zippedData/im.db')\n",
    "cur = conn.cursor()\n",
    "#print(pd.read_sql('''SELECT * FROM SQLITE_MASTER;''', conn))\n",
    "pd.read_sql('''SELECT movie_id, primary_title FROM movie_basics''', conn)\n",
    "#pd.read_sql('''SELECT * FROM movie_ratings;''', conn)\n",
    "#pd.read_sql('''SELECT * FROM MOVIE_BASICS;''', conn)"
   ]
  },
  {
   "cell_type": "markdown",
   "metadata": {},
   "source": [
    "# Daniel Robles"
   ]
  },
  {
   "cell_type": "markdown",
   "metadata": {},
   "source": [
    "# Jake Umholtz "
   ]
  }
 ],
 "metadata": {
  "kernelspec": {
   "display_name": "Python 3 (ipykernel)",
   "language": "python",
   "name": "python3"
  },
  "language_info": {
   "codemirror_mode": {
    "name": "ipython",
    "version": 3
   },
   "file_extension": ".py",
   "mimetype": "text/x-python",
   "name": "python",
   "nbconvert_exporter": "python",
   "pygments_lexer": "ipython3",
   "version": "3.9.12"
  },
  "toc": {
   "base_numbering": 1,
   "nav_menu": {},
   "number_sections": true,
   "sideBar": true,
   "skip_h1_title": false,
   "title_cell": "Table of Contents",
   "title_sidebar": "Contents",
   "toc_cell": false,
   "toc_position": {},
   "toc_section_display": true,
   "toc_window_display": false
  },
  "varInspector": {
   "cols": {
    "lenName": 16,
    "lenType": 16,
    "lenVar": 40
   },
   "kernels_config": {
    "python": {
     "delete_cmd_postfix": "",
     "delete_cmd_prefix": "del ",
     "library": "var_list.py",
     "varRefreshCmd": "print(var_dic_list())"
    },
    "r": {
     "delete_cmd_postfix": ") ",
     "delete_cmd_prefix": "rm(",
     "library": "var_list.r",
     "varRefreshCmd": "cat(var_dic_list()) "
    }
   },
   "types_to_exclude": [
    "module",
    "function",
    "builtin_function_or_method",
    "instance",
    "_Feature"
   ],
   "window_display": false
  }
 },
 "nbformat": 4,
 "nbformat_minor": 2
}
