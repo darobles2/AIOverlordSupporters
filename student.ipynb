{
 "cells": [
  {
   "cell_type": "markdown",
   "metadata": {},
   "source": [
    "## Semester 1 Project Submission\n",
    "\n",
    "Please fill out:\n",
    "* Student name: \n",
    "* Instructor name: \n"
   ]
  },
  {
   "cell_type": "markdown",
   "metadata": {},
   "source": [
    "# Maanik Gupta"
   ]
  },
  {
   "cell_type": "markdown",
   "metadata": {},
   "source": [
    "# Maya Sandlin"
   ]
  },
  {
   "cell_type": "markdown",
   "metadata": {},
   "source": [
    "# Robert Golden"
   ]
  },
  {
   "cell_type": "code",
   "execution_count": 86,
   "metadata": {
    "ExecuteTime": {
     "end_time": "2022-08-17T18:57:06.113712Z",
     "start_time": "2022-08-17T18:57:05.917882Z"
    }
   },
   "outputs": [],
   "source": [
    "import pandas as pd\n",
    "import numpy as np\n",
    "import matplotlib.pyplot as plt\n",
    "import seaborn as sns\n",
    "import scipy.stats as stats\n",
    "\n",
    "#Read CSVs for later use\n",
    "movie_gross = pd.read_csv('zippedData/bom.movie_gross.csv')\n",
    "rt_movie_info = pd.read_csv('zippedData/rt.movie_info.csv')\n",
    "rt_reviews = pd.read_csv('zippedData/rt.reviews.csv')\n",
    "tn_movie_budgets = pd.read_csv('zippedData/tn.movie_budgets.csv')\n",
    "tmdb_movies = pd.read_csv('zippedData/tmdb.movies.csv', index_col=0)\n",
    "\n",
    "#print(movie_gross.info())\n",
    "#Clean studio, domestic_gross, & foreign_gross\n",
    "#movie_gross = movie_gross.dropna()\n",
    "#movie_gross.info()\n",
    "\n",
    "rt_movie_info = rt_movie_info.dropna()\n",
    "#Clean synopsis, rating, genre, director, writer, theater_date, dvd_date, runtime \n",
    "ratings = []\n",
    "for rating in rt_movie_info['rating'].dropna():\n",
    "    ratings.append(rating)\n",
    "\n",
    "runtime_raw = [] #for freshly-extracted runtimes\n",
    "runtime_clean = [] #rfor runtime w/o whitespace\n",
    "box_off_raw = [] #for raw box office sales data\n",
    "box_off_clean = [] #for box office sales data without commas or whitespace\n",
    "for val in rt_movie_info['runtime'].str[:3]: #extract first 3 characters, movies under 100 min will have whitespace\n",
    "    runtime_raw.append(val) \n",
    "for val in runtime_raw: #strip whitespace\n",
    "    runtime_strip = val.replace(' ', '') \n",
    "    runtime_clean.append(runtime_strip)\n",
    "    \n",
    "for val in rt_movie_info['box_office']:\n",
    "    box_off_strip = val.replace(',', '')\n",
    "    box_off_clean.append(box_off_strip)\n",
    "\n",
    "#create new column 'runtime_clean'\n",
    "rt_movie_info['runtime_clean'] = runtime_clean\n",
    "#create new column 'box_office_clean'\n",
    "rt_movie_info['box_office_clean'] = box_off_clean\n",
    "\n",
    "#create new dataframe\n",
    "df2 = rt_movie_info[['runtime_clean','box_office_clean']].copy()\n",
    "#ensure runtime valuse are recognized as integers\n",
    "df2['runtime_clean'] = df2['runtime_clean'].astype(int)\n",
    "#ensure box office slaes values are recognized as integers\n",
    "df2['box_office_clean'] = df2['box_office_clean'].astype(int)\n"
   ]
  },
  {
   "cell_type": "code",
   "execution_count": 125,
   "metadata": {
    "ExecuteTime": {
     "end_time": "2022-08-17T21:52:59.856040Z",
     "start_time": "2022-08-17T21:52:59.821517Z"
    }
   },
   "outputs": [
    {
     "name": "stdout",
     "output_type": "stream",
     "text": [
      "Descriptive Statistics for Runtime\n",
      "Mean runtime: 106.66382978723404\n",
      "\n",
      "Maximum runtime: 188\n",
      "75th Percentile: 117.0\n",
      "Median runtime: 105.0\n",
      "25th Percentile: 93.0\n",
      "Minimum runtime: 67\n",
      "Interquartile Range: 24.0\n",
      "Std. Dev. of runtime: 18.147124581299227\n",
      "99.7% of observations should lay between: 70.36958062463557 - 142.9580789498325\n",
      "\n",
      "Descriptive Statistics for Box Office Sales\n",
      "Mean box office sales: 41958400.02127659\n",
      "\n",
      "Maximum sales: 368000000\n",
      "75th Percentile: 52649522.5\n",
      "Median sales: 15536310.0\n",
      "25th Percentile: 2302444.5\n",
      "Minimum sales: 363\n",
      "Std. Dev of Sales: 62630155.51836797\n",
      "Interquartile Range: 50347078.0\n",
      "99.7% of observations should lay between: -83301911.01545934 - 139206163961.8349\n",
      "\n",
      "Correlation Coefficient\n",
      "                  runtime_clean  box_office_clean\n",
      "runtime_clean          1.000000          0.312157\n",
      "box_office_clean       0.312157          1.000000\n",
      "\n",
      "Less - Runtime Mean: 92.43103448275862 Box Office Sales Mean: 28014808.870689657 n: 116\n",
      "More - Runtime Mean: 121.21929824561404 Box Office Sales Mean: 56785095.37719298 n: 114\n"
     ]
    }
   ],
   "source": [
    "#Descriptive Stats for Runtime\n",
    "max1 = df2['runtime_clean'].max()\n",
    "Q1_3 = df2['runtime_clean'].quantile(q=0.75)\n",
    "mean1 = df2['runtime_clean'].mean()\n",
    "med1 = df2['runtime_clean'].median()\n",
    "std1 = df2['runtime_clean'].std()\n",
    "Q1_1 = df2['runtime_clean'].quantile(q=0.25)\n",
    "min1 = df2['runtime_clean'].min()\n",
    "\n",
    "print('Descriptive Statistics for Runtime')\n",
    "print('Mean runtime:', mean1)\n",
    "print('')\n",
    "print('Maximum runtime:', max1)\n",
    "print('75th Percentile:', Q1_3)\n",
    "print('Median runtime:', med1)\n",
    "print('25th Percentile:', Q1_1)\n",
    "print('Minimum runtime:', min1)\n",
    "print('Interquartile Range:', Q1_3-Q1_1)\n",
    "print('Std. Dev. of runtime:', std1)\n",
    "\n",
    "print('99.7% of observations should lay between:', mean1-(std1*2), '-',mean1+(std1*2))\n",
    "\n",
    "print('') #for readability\n",
    "#Descriptive Stats for Box Office Sales\n",
    "mean2 = df2['box_office_clean'].mean()\n",
    "max2 = df2['box_office_clean'].max()\n",
    "Q2_3 = df2['box_office_clean'].quantile(q=0.75)\n",
    "med2 = df2['box_office_clean'].median()\n",
    "Q2_1 = df2['box_office_clean'].quantile(q=0.25)\n",
    "min2 = df2['box_office_clean'].min()\n",
    "std2 = df2['box_office_clean'].std()\n",
    "\n",
    "print('Descriptive Statistics for Box Office Sales')\n",
    "print('Mean box office sales:', mean2)\n",
    "print('')\n",
    "print('Maximum sales:', max2)\n",
    "print('75th Percentile:', Q2_3)\n",
    "print('Median sales:', med2)\n",
    "print('25th Percentile:', Q2_1)\n",
    "print('Minimum sales:', min2)\n",
    "print('Std. Dev of Sales:', std2)\n",
    "print('Interquartile Range:', Q2_3-Q2_1)\n",
    "print('99.7% of observations should lay between:', mean2-(std2*2), '-', mean2+(std2*2222))\n",
    "\n",
    "print('') #for readability\n",
    "print('Correlation Coefficient')      \n",
    "print(df2.corr()) #calculate Pearson correlation coefficient for variables in df2\n",
    "\n",
    "#generate a normal distribution where mean1 is avg, sd1 is std dev, and n=235\n",
    "d1 = np.random.normal(mean1, std1, 235) \n",
    "#generate a normal distribution where mean2 is avg, sd2 is std dev, and n=235\n",
    "d2 = np.random.normal(mean2, std2, 235) \n",
    "\n",
    "df2more = df2[df2['runtime_clean'] > 105]\n",
    "df2less = df2[df2['runtime_clean'] < 105]\n",
    "print('')\n",
    "print('Less - Runtime Mean:', df2less['runtime_clean'].mean(), \n",
    "      'Box Office Sales Mean:', df2less['box_office_clean'].mean(), \n",
    "      'n:', len(df2less))\n",
    "print('More - Runtime Mean:', df2more['runtime_clean'].mean(),\n",
    "      'Box Office Sales Mean:', df2more['box_office_clean'].mean(), \n",
    "      'n:', len(df2more))\n",
    "#df2['runtime_clean'].plot.box(grid='True')\n",
    "#df2['box_office_clean'].plot.box(grid='True')"
   ]
  },
  {
   "cell_type": "code",
   "execution_count": 130,
   "metadata": {
    "ExecuteTime": {
     "end_time": "2022-08-17T21:58:50.694318Z",
     "start_time": "2022-08-17T21:58:50.668909Z"
    }
   },
   "outputs": [
    {
     "name": "stdout",
     "output_type": "stream",
     "text": [
      "df2more variance:\n",
      "runtime_clean       2.109161e+02\n",
      "box_office_clean    5.834085e+15\n",
      "dtype: float64\n",
      "df2less variance:\n",
      "runtime_clean       4.836912e+01\n",
      "box_office_clean    1.802465e+15\n",
      "dtype: float64\n",
      "\n",
      "T-Test runtime: Ttest_indResult(statistic=19.119590244740635, pvalue=2.419161504367383e-43)\n"
     ]
    },
    {
     "data": {
      "text/html": [
       "<div>\n",
       "<style scoped>\n",
       "    .dataframe tbody tr th:only-of-type {\n",
       "        vertical-align: middle;\n",
       "    }\n",
       "\n",
       "    .dataframe tbody tr th {\n",
       "        vertical-align: top;\n",
       "    }\n",
       "\n",
       "    .dataframe thead th {\n",
       "        text-align: right;\n",
       "    }\n",
       "</style>\n",
       "<table border=\"1\" class=\"dataframe\">\n",
       "  <thead>\n",
       "    <tr style=\"text-align: right;\">\n",
       "      <th></th>\n",
       "      <th>runtime_clean</th>\n",
       "      <th>box_office_clean</th>\n",
       "    </tr>\n",
       "  </thead>\n",
       "  <tbody>\n",
       "    <tr>\n",
       "      <th>1</th>\n",
       "      <td>108</td>\n",
       "      <td>600000</td>\n",
       "    </tr>\n",
       "    <tr>\n",
       "      <th>6</th>\n",
       "      <td>82</td>\n",
       "      <td>41032915</td>\n",
       "    </tr>\n",
       "    <tr>\n",
       "      <th>7</th>\n",
       "      <td>123</td>\n",
       "      <td>224114</td>\n",
       "    </tr>\n",
       "    <tr>\n",
       "      <th>15</th>\n",
       "      <td>108</td>\n",
       "      <td>1039869</td>\n",
       "    </tr>\n",
       "    <tr>\n",
       "      <th>18</th>\n",
       "      <td>127</td>\n",
       "      <td>20518224</td>\n",
       "    </tr>\n",
       "    <tr>\n",
       "      <th>...</th>\n",
       "      <td>...</td>\n",
       "      <td>...</td>\n",
       "    </tr>\n",
       "    <tr>\n",
       "      <th>1530</th>\n",
       "      <td>126</td>\n",
       "      <td>72700000</td>\n",
       "    </tr>\n",
       "    <tr>\n",
       "      <th>1537</th>\n",
       "      <td>123</td>\n",
       "      <td>1320005</td>\n",
       "    </tr>\n",
       "    <tr>\n",
       "      <th>1541</th>\n",
       "      <td>119</td>\n",
       "      <td>25335935</td>\n",
       "    </tr>\n",
       "    <tr>\n",
       "      <th>1542</th>\n",
       "      <td>129</td>\n",
       "      <td>1416189</td>\n",
       "    </tr>\n",
       "    <tr>\n",
       "      <th>1545</th>\n",
       "      <td>98</td>\n",
       "      <td>59371</td>\n",
       "    </tr>\n",
       "  </tbody>\n",
       "</table>\n",
       "<p>235 rows × 2 columns</p>\n",
       "</div>"
      ],
      "text/plain": [
       "      runtime_clean  box_office_clean\n",
       "1               108            600000\n",
       "6                82          41032915\n",
       "7               123            224114\n",
       "15              108           1039869\n",
       "18              127          20518224\n",
       "...             ...               ...\n",
       "1530            126          72700000\n",
       "1537            123           1320005\n",
       "1541            119          25335935\n",
       "1542            129           1416189\n",
       "1545             98             59371\n",
       "\n",
       "[235 rows x 2 columns]"
      ]
     },
     "execution_count": 130,
     "metadata": {},
     "output_type": "execute_result"
    }
   ],
   "source": [
    "n = 235 #sample size\n",
    "df = n - 1 #degrees of freedom = sample size - 1\n",
    "\n",
    "print('df2more variance:')\n",
    "print(df2more.var())\n",
    "print('df2less variance:')\n",
    "print(df2less.var())\n",
    "print('')\n",
    "#test relationship between movie length over 105 minutes\n",
    "t_ind_runtime = stats.ttest_ind(df2more['runtime_clean'], df2less['runtime_clean'], equal_var=False)\n",
    "\n",
    "print('T-Test runtime:', t_ind_runtime)\n",
    "\n",
    "\n",
    "df2\n"
   ]
  },
  {
   "cell_type": "code",
   "execution_count": 84,
   "metadata": {
    "ExecuteTime": {
     "end_time": "2022-08-17T18:44:01.121772Z",
     "start_time": "2022-08-17T18:44:01.007825Z"
    }
   },
   "outputs": [
    {
     "name": "stderr",
     "output_type": "stream",
     "text": [
      "C:\\Users\\rogolden\\Anaconda3\\lib\\site-packages\\seaborn\\distributions.py:2619: FutureWarning: `distplot` is a deprecated function and will be removed in a future version. Please adapt your code to use either `displot` (a figure-level function with similar flexibility) or `histplot` (an axes-level function for histograms).\n",
      "  warnings.warn(msg, FutureWarning)\n"
     ]
    },
    {
     "data": {
      "text/plain": [
       "<AxesSubplot:ylabel='Density'>"
      ]
     },
     "execution_count": 84,
     "metadata": {},
     "output_type": "execute_result"
    },
    {
     "data": {
      "image/png": "[encoded data removed]",
      "text/plain": [
       "<Figure size 432x288 with 1 Axes>"
      ]
     },
     "metadata": {
      "needs_background": "light"
     },
     "output_type": "display_data"
    }
   ],
   "source": [
    "sns.distplot(d1) #distribution for runtime"
   ]
  },
  {
   "cell_type": "code",
   "execution_count": 352,
   "metadata": {
    "ExecuteTime": {
     "end_time": "2022-08-16T16:29:21.934250Z",
     "start_time": "2022-08-16T16:29:21.799710Z"
    }
   },
   "outputs": [
    {
     "name": "stderr",
     "output_type": "stream",
     "text": [
      "C:\\Users\\rogolden\\Anaconda3\\lib\\site-packages\\seaborn\\distributions.py:2619: FutureWarning: `distplot` is a deprecated function and will be removed in a future version. Please adapt your code to use either `displot` (a figure-level function with similar flexibility) or `histplot` (an axes-level function for histograms).\n",
      "  warnings.warn(msg, FutureWarning)\n"
     ]
    },
    {
     "data": {
      "text/plain": [
       "<AxesSubplot:ylabel='Density'>"
      ]
     },
     "execution_count": 352,
     "metadata": {},
     "output_type": "execute_result"
    },
    {
     "data": {
      "image/png": "[encoded data removed]",
      "text/plain": [
       "<Figure size 432x288 with 1 Axes>"
      ]
     },
     "metadata": {
      "needs_background": "light"
     },
     "output_type": "display_data"
    }
   ],
   "source": [
    "sns.distplot(d2) #distribution for box office sales"
   ]
  },
  {
   "cell_type": "code",
   "execution_count": 82,
   "metadata": {
    "ExecuteTime": {
     "end_time": "2022-08-17T18:43:49.180283Z",
     "start_time": "2022-08-17T18:43:49.025089Z"
    }
   },
   "outputs": [
    {
     "name": "stderr",
     "output_type": "stream",
     "text": [
      "C:\\Users\\rogolden\\Anaconda3\\lib\\site-packages\\seaborn\\distributions.py:2619: FutureWarning: `distplot` is a deprecated function and will be removed in a future version. Please adapt your code to use either `displot` (a figure-level function with similar flexibility) or `histplot` (an axes-level function for histograms).\n",
      "  warnings.warn(msg, FutureWarning)\n",
      "C:\\Users\\rogolden\\Anaconda3\\lib\\site-packages\\seaborn\\distributions.py:2619: FutureWarning: `distplot` is a deprecated function and will be removed in a future version. Please adapt your code to use either `displot` (a figure-level function with similar flexibility) or `histplot` (an axes-level function for histograms).\n",
      "  warnings.warn(msg, FutureWarning)\n"
     ]
    },
    {
     "data": {
      "text/plain": [
       "<AxesSubplot:ylabel='Density'>"
      ]
     },
     "execution_count": 82,
     "metadata": {},
     "output_type": "execute_result"
    },
    {
     "data": {
      "image/png": "[encoded data removed]",
      "text/plain": [
       "<Figure size 432x288 with 1 Axes>"
      ]
     },
     "metadata": {
      "needs_background": "light"
     },
     "output_type": "display_data"
    }
   ],
   "source": [
    "#normalized distribution for runtime\n",
    "sns.distplot([(x - d1.mean())/d1.std() for x in d1]) \n",
    "#normalized distribution for box office sales\n",
    "sns.distplot([(x - d2.mean())/d2.std() for x in d2])"
   ]
  },
  {
   "cell_type": "code",
   "execution_count": 121,
   "metadata": {
    "ExecuteTime": {
     "end_time": "2022-08-17T20:23:47.516794Z",
     "start_time": "2022-08-17T20:23:47.294489Z"
    }
   },
   "outputs": [
    {
     "name": "stderr",
     "output_type": "stream",
     "text": [
      "C:\\Users\\rogolden\\Anaconda3\\lib\\site-packages\\seaborn\\_decorators.py:36: FutureWarning: Pass the following variables as keyword args: x, y. From version 0.12, the only valid positional argument will be `data`, and passing other arguments without an explicit keyword will result in an error or misinterpretation.\n",
      "  warnings.warn(\n",
      "C:\\Users\\rogolden\\Anaconda3\\lib\\site-packages\\seaborn\\_decorators.py:36: FutureWarning: Pass the following variables as keyword args: x, y. From version 0.12, the only valid positional argument will be `data`, and passing other arguments without an explicit keyword will result in an error or misinterpretation.\n",
      "  warnings.warn(\n"
     ]
    },
    {
     "data": {
      "text/plain": [
       "<AxesSubplot:xlabel='runtime_clean', ylabel='box_office_clean'>"
      ]
     },
     "execution_count": 121,
     "metadata": {},
     "output_type": "execute_result"
    },
    {
     "data": {
      "image/png": "[encoded data removed]",
      "text/plain": [
       "<Figure size 432x288 with 1 Axes>"
      ]
     },
     "metadata": {
      "needs_background": "light"
     },
     "output_type": "display_data"
    }
   ],
   "source": [
    "sns.regplot(df2more['runtime_clean'], df2more['box_office_clean'])\n",
    "sns.regplot(df2less['runtime_clean'], df2less['box_office_clean'])"
   ]
  },
  {
   "cell_type": "code",
   "execution_count": 116,
   "metadata": {
    "ExecuteTime": {
     "end_time": "2022-08-17T20:23:10.225454Z",
     "start_time": "2022-08-17T20:23:10.109328Z"
    }
   },
   "outputs": [
    {
     "data": {
      "image/png": "[encoded data removed]",
      "text/plain": [
       "<Figure size 432x288 with 1 Axes>"
      ]
     },
     "metadata": {
      "needs_background": "light"
     },
     "output_type": "display_data"
    }
   ],
   "source": [
    "fig, ax = plt.subplots() #Generate Scatter plot \n",
    "\n",
    "ax.scatter(df2['runtime_clean'], df2['box_office_clean'], label=\"actual data\")\n",
    "\n",
    "\n",
    "\n",
    "x_bounds = [min(df2['runtime_clean']), max(df2['runtime_clean'])]\n",
    "y_bounds = [min(df2['box_office_clean']), max(df2['box_office_clean'])]\n",
    "\n",
    "\n",
    "\n",
    "ax.plot(x_bounds, y_bounds, \"--\", label=\"perfect correlation\")\n",
    "\n",
    "\n",
    "\n",
    "ax.set_title(\"Runtime Moderately Influences Box Office Sales\")\n",
    "ax.set_xlabel(\"Minutes\")\n",
    "ax.set_ylabel(\"Sales in USD\")\n",
    "\n",
    "\n",
    "\n",
    "ax.legend();"
   ]
  },
  {
   "cell_type": "code",
   "execution_count": 168,
   "metadata": {
    "ExecuteTime": {
     "end_time": "2022-08-17T15:12:11.721264Z",
     "start_time": "2022-08-17T15:12:11.599901Z"
    }
   },
   "outputs": [
    {
     "data": {
      "image/png": "[encoded data removed]",
      "text/plain": [
       "<Figure size 2160x1440 with 1 Axes>"
      ]
     },
     "metadata": {
      "needs_background": "light"
     },
     "output_type": "display_data"
    }
   ],
   "source": [
    "df3 = rt_movie_info[['rating', 'box_office_clean']].copy() #copies rt_movie_info into new dataframe\n",
    "df3 = df3.dropna() #drops null values\n",
    "\n",
    "df3['box_office_clean'] = df3['box_office_clean'].astype(int) #ensures box office sales are integers\n",
    "\n",
    "sales_groupby_rating = df3.groupby('rating')[['box_office_clean']].sum()\n",
    "sales_groupby_rating = sales_groupby_rating / (10^9)\n",
    "\n",
    "fig, ax = plt.subplots(figsize=(30,20))\n",
    "ax.bar(x=sales_groupby_rating.index, height=sales_groupby_rating['box_office_clean'])\n",
    "plt.title('Sales by MPAA Rating')\n",
    "plt.xlabel('MPAA Ratings')\n",
    "plt.ylabel('Sales in USD (Billions)')\n",
    "plt.show()"
   ]
  },
  {
   "cell_type": "markdown",
   "metadata": {},
   "source": [
    "# Daniel Robles"
   ]
  },
  {
   "cell_type": "code",
   "execution_count": 1,
   "metadata": {
    "scrolled": true
   },
   "outputs": [
    {
     "data": {
      "text/html": [
       "<div>\n",
       "<style scoped>\n",
       "    .dataframe tbody tr th:only-of-type {\n",
       "        vertical-align: middle;\n",
       "    }\n",
       "\n",
       "    .dataframe tbody tr th {\n",
       "        vertical-align: top;\n",
       "    }\n",
       "\n",
       "    .dataframe thead th {\n",
       "        text-align: right;\n",
       "    }\n",
       "</style>\n",
       "<table border=\"1\" class=\"dataframe\">\n",
       "  <thead>\n",
       "    <tr style=\"text-align: right;\">\n",
       "      <th></th>\n",
       "      <th>type</th>\n",
       "      <th>name</th>\n",
       "      <th>tbl_name</th>\n",
       "      <th>rootpage</th>\n",
       "      <th>sql</th>\n",
       "    </tr>\n",
       "  </thead>\n",
       "  <tbody>\n",
       "    <tr>\n",
       "      <th>0</th>\n",
       "      <td>table</td>\n",
       "      <td>movie_basics</td>\n",
       "      <td>movie_basics</td>\n",
       "      <td>2</td>\n",
       "      <td>CREATE TABLE \"movie_basics\" (\\n\"movie_id\" TEXT...</td>\n",
       "    </tr>\n",
       "    <tr>\n",
       "      <th>1</th>\n",
       "      <td>table</td>\n",
       "      <td>directors</td>\n",
       "      <td>directors</td>\n",
       "      <td>3</td>\n",
       "      <td>CREATE TABLE \"directors\" (\\n\"movie_id\" TEXT,\\n...</td>\n",
       "    </tr>\n",
       "    <tr>\n",
       "      <th>2</th>\n",
       "      <td>table</td>\n",
       "      <td>known_for</td>\n",
       "      <td>known_for</td>\n",
       "      <td>4</td>\n",
       "      <td>CREATE TABLE \"known_for\" (\\n\"person_id\" TEXT,\\...</td>\n",
       "    </tr>\n",
       "    <tr>\n",
       "      <th>3</th>\n",
       "      <td>table</td>\n",
       "      <td>movie_akas</td>\n",
       "      <td>movie_akas</td>\n",
       "      <td>5</td>\n",
       "      <td>CREATE TABLE \"movie_akas\" (\\n\"movie_id\" TEXT,\\...</td>\n",
       "    </tr>\n",
       "    <tr>\n",
       "      <th>4</th>\n",
       "      <td>table</td>\n",
       "      <td>movie_ratings</td>\n",
       "      <td>movie_ratings</td>\n",
       "      <td>6</td>\n",
       "      <td>CREATE TABLE \"movie_ratings\" (\\n\"movie_id\" TEX...</td>\n",
       "    </tr>\n",
       "    <tr>\n",
       "      <th>5</th>\n",
       "      <td>table</td>\n",
       "      <td>persons</td>\n",
       "      <td>persons</td>\n",
       "      <td>7</td>\n",
       "      <td>CREATE TABLE \"persons\" (\\n\"person_id\" TEXT,\\n ...</td>\n",
       "    </tr>\n",
       "    <tr>\n",
       "      <th>6</th>\n",
       "      <td>table</td>\n",
       "      <td>principals</td>\n",
       "      <td>principals</td>\n",
       "      <td>8</td>\n",
       "      <td>CREATE TABLE \"principals\" (\\n\"movie_id\" TEXT,\\...</td>\n",
       "    </tr>\n",
       "    <tr>\n",
       "      <th>7</th>\n",
       "      <td>table</td>\n",
       "      <td>writers</td>\n",
       "      <td>writers</td>\n",
       "      <td>9</td>\n",
       "      <td>CREATE TABLE \"writers\" (\\n\"movie_id\" TEXT,\\n  ...</td>\n",
       "    </tr>\n",
       "  </tbody>\n",
       "</table>\n",
       "</div>"
      ],
      "text/plain": [
       "    type           name       tbl_name  rootpage  \\\n",
       "0  table   movie_basics   movie_basics         2   \n",
       "1  table      directors      directors         3   \n",
       "2  table      known_for      known_for         4   \n",
       "3  table     movie_akas     movie_akas         5   \n",
       "4  table  movie_ratings  movie_ratings         6   \n",
       "5  table        persons        persons         7   \n",
       "6  table     principals     principals         8   \n",
       "7  table        writers        writers         9   \n",
       "\n",
       "                                                 sql  \n",
       "0  CREATE TABLE \"movie_basics\" (\\n\"movie_id\" TEXT...  \n",
       "1  CREATE TABLE \"directors\" (\\n\"movie_id\" TEXT,\\n...  \n",
       "2  CREATE TABLE \"known_for\" (\\n\"person_id\" TEXT,\\...  \n",
       "3  CREATE TABLE \"movie_akas\" (\\n\"movie_id\" TEXT,\\...  \n",
       "4  CREATE TABLE \"movie_ratings\" (\\n\"movie_id\" TEX...  \n",
       "5  CREATE TABLE \"persons\" (\\n\"person_id\" TEXT,\\n ...  \n",
       "6  CREATE TABLE \"principals\" (\\n\"movie_id\" TEXT,\\...  \n",
       "7  CREATE TABLE \"writers\" (\\n\"movie_id\" TEXT,\\n  ...  "
      ]
     },
     "execution_count": 1,
     "metadata": {},
     "output_type": "execute_result"
    }
   ],
   "source": [
    "import sqlite3\n",
    "import pandas as pd\n",
    "import numpy as np\n",
    "import matplotlib.pyplot as plt\n",
    "\n",
    "\n",
    "movie_gross = pd.read_csv('zippedData/bom.movie_gross.csv')\n",
    "rt_movie_info = pd.read_csv('zippedData/rt.movie_info.csv')\n",
    "rt_review = pd.read_csv('zippedData/rt.reviews.csv', encoding='unicode_escape')\n",
    "tn_movie_budgets = pd.read_csv('zippedData/tn.movie_budgets.csv')\n",
    "tmdb_movies = pd.read_csv('zippedData/tmdb.movies.csv', index_col=0)\n",
    "\n",
    "\n",
    "conn = sqlite3.connect('C:/Users/darobles/Desktop/capstone/AIOverlordSupporters/zippedData/im.db')\n",
    "cur = conn.cursor()\n",
    "pd.read_sql('''SELECT * FROM SQLITE_MASTER;''', conn)\n",
    "\n"
   ]
  },
  {
   "cell_type": "code",
   "execution_count": 2,
   "metadata": {},
   "outputs": [],
   "source": [
    "from scipy import stats"
   ]
  },
  {
   "cell_type": "code",
   "execution_count": 3,
   "metadata": {},
   "outputs": [
    {
     "data": {
      "text/html": [
       "<div>\n",
       "<style scoped>\n",
       "    .dataframe tbody tr th:only-of-type {\n",
       "        vertical-align: middle;\n",
       "    }\n",
       "\n",
       "    .dataframe tbody tr th {\n",
       "        vertical-align: top;\n",
       "    }\n",
       "\n",
       "    .dataframe thead th {\n",
       "        text-align: right;\n",
       "    }\n",
       "</style>\n",
       "<table border=\"1\" class=\"dataframe\">\n",
       "  <thead>\n",
       "    <tr style=\"text-align: right;\">\n",
       "      <th></th>\n",
       "      <th>id</th>\n",
       "      <th>release_date</th>\n",
       "      <th>movie</th>\n",
       "      <th>production_budget</th>\n",
       "      <th>domestic_gross</th>\n",
       "      <th>worldwide_gross</th>\n",
       "    </tr>\n",
       "  </thead>\n",
       "  <tbody>\n",
       "    <tr>\n",
       "      <th>0</th>\n",
       "      <td>1</td>\n",
       "      <td>Dec 18, 2009</td>\n",
       "      <td>Avatar</td>\n",
       "      <td>$425,000,000</td>\n",
       "      <td>$760,507,625</td>\n",
       "      <td>$2,776,345,279</td>\n",
       "    </tr>\n",
       "    <tr>\n",
       "      <th>1</th>\n",
       "      <td>2</td>\n",
       "      <td>May 20, 2011</td>\n",
       "      <td>Pirates of the Caribbean: On Stranger Tides</td>\n",
       "      <td>$410,600,000</td>\n",
       "      <td>$241,063,875</td>\n",
       "      <td>$1,045,663,875</td>\n",
       "    </tr>\n",
       "    <tr>\n",
       "      <th>2</th>\n",
       "      <td>3</td>\n",
       "      <td>Jun 7, 2019</td>\n",
       "      <td>Dark Phoenix</td>\n",
       "      <td>$350,000,000</td>\n",
       "      <td>$42,762,350</td>\n",
       "      <td>$149,762,350</td>\n",
       "    </tr>\n",
       "    <tr>\n",
       "      <th>3</th>\n",
       "      <td>4</td>\n",
       "      <td>May 1, 2015</td>\n",
       "      <td>Avengers: Age of Ultron</td>\n",
       "      <td>$330,600,000</td>\n",
       "      <td>$459,005,868</td>\n",
       "      <td>$1,403,013,963</td>\n",
       "    </tr>\n",
       "    <tr>\n",
       "      <th>4</th>\n",
       "      <td>5</td>\n",
       "      <td>Dec 15, 2017</td>\n",
       "      <td>Star Wars Ep. VIII: The Last Jedi</td>\n",
       "      <td>$317,000,000</td>\n",
       "      <td>$620,181,382</td>\n",
       "      <td>$1,316,721,747</td>\n",
       "    </tr>\n",
       "    <tr>\n",
       "      <th>...</th>\n",
       "      <td>...</td>\n",
       "      <td>...</td>\n",
       "      <td>...</td>\n",
       "      <td>...</td>\n",
       "      <td>...</td>\n",
       "      <td>...</td>\n",
       "    </tr>\n",
       "    <tr>\n",
       "      <th>5777</th>\n",
       "      <td>78</td>\n",
       "      <td>Dec 31, 2018</td>\n",
       "      <td>Red 11</td>\n",
       "      <td>$7,000</td>\n",
       "      <td>$0</td>\n",
       "      <td>$0</td>\n",
       "    </tr>\n",
       "    <tr>\n",
       "      <th>5778</th>\n",
       "      <td>79</td>\n",
       "      <td>Apr 2, 1999</td>\n",
       "      <td>Following</td>\n",
       "      <td>$6,000</td>\n",
       "      <td>$48,482</td>\n",
       "      <td>$240,495</td>\n",
       "    </tr>\n",
       "    <tr>\n",
       "      <th>5779</th>\n",
       "      <td>80</td>\n",
       "      <td>Jul 13, 2005</td>\n",
       "      <td>Return to the Land of Wonders</td>\n",
       "      <td>$5,000</td>\n",
       "      <td>$1,338</td>\n",
       "      <td>$1,338</td>\n",
       "    </tr>\n",
       "    <tr>\n",
       "      <th>5780</th>\n",
       "      <td>81</td>\n",
       "      <td>Sep 29, 2015</td>\n",
       "      <td>A Plague So Pleasant</td>\n",
       "      <td>$1,400</td>\n",
       "      <td>$0</td>\n",
       "      <td>$0</td>\n",
       "    </tr>\n",
       "    <tr>\n",
       "      <th>5781</th>\n",
       "      <td>82</td>\n",
       "      <td>Aug 5, 2005</td>\n",
       "      <td>My Date With Drew</td>\n",
       "      <td>$1,100</td>\n",
       "      <td>$181,041</td>\n",
       "      <td>$181,041</td>\n",
       "    </tr>\n",
       "  </tbody>\n",
       "</table>\n",
       "<p>5782 rows × 6 columns</p>\n",
       "</div>"
      ],
      "text/plain": [
       "      id  release_date                                        movie  \\\n",
       "0      1  Dec 18, 2009                                       Avatar   \n",
       "1      2  May 20, 2011  Pirates of the Caribbean: On Stranger Tides   \n",
       "2      3   Jun 7, 2019                                 Dark Phoenix   \n",
       "3      4   May 1, 2015                      Avengers: Age of Ultron   \n",
       "4      5  Dec 15, 2017            Star Wars Ep. VIII: The Last Jedi   \n",
       "...   ..           ...                                          ...   \n",
       "5777  78  Dec 31, 2018                                       Red 11   \n",
       "5778  79   Apr 2, 1999                                    Following   \n",
       "5779  80  Jul 13, 2005                Return to the Land of Wonders   \n",
       "5780  81  Sep 29, 2015                         A Plague So Pleasant   \n",
       "5781  82   Aug 5, 2005                            My Date With Drew   \n",
       "\n",
       "     production_budget domestic_gross worldwide_gross  \n",
       "0         $425,000,000   $760,507,625  $2,776,345,279  \n",
       "1         $410,600,000   $241,063,875  $1,045,663,875  \n",
       "2         $350,000,000    $42,762,350    $149,762,350  \n",
       "3         $330,600,000   $459,005,868  $1,403,013,963  \n",
       "4         $317,000,000   $620,181,382  $1,316,721,747  \n",
       "...                ...            ...             ...  \n",
       "5777            $7,000             $0              $0  \n",
       "5778            $6,000        $48,482        $240,495  \n",
       "5779            $5,000         $1,338          $1,338  \n",
       "5780            $1,400             $0              $0  \n",
       "5781            $1,100       $181,041        $181,041  \n",
       "\n",
       "[5782 rows x 6 columns]"
      ]
     },
     "execution_count": 3,
     "metadata": {},
     "output_type": "execute_result"
    }
   ],
   "source": [
    "tn_movie_budgets"
   ]
  },
  {
   "cell_type": "code",
   "execution_count": 4,
   "metadata": {},
   "outputs": [
    {
     "data": {
      "text/html": [
       "<div>\n",
       "<style scoped>\n",
       "    .dataframe tbody tr th:only-of-type {\n",
       "        vertical-align: middle;\n",
       "    }\n",
       "\n",
       "    .dataframe tbody tr th {\n",
       "        vertical-align: top;\n",
       "    }\n",
       "\n",
       "    .dataframe thead th {\n",
       "        text-align: right;\n",
       "    }\n",
       "</style>\n",
       "<table border=\"1\" class=\"dataframe\">\n",
       "  <thead>\n",
       "    <tr style=\"text-align: right;\">\n",
       "      <th></th>\n",
       "      <th>id</th>\n",
       "      <th>synopsis</th>\n",
       "      <th>rating</th>\n",
       "      <th>genre</th>\n",
       "      <th>director</th>\n",
       "      <th>writer</th>\n",
       "      <th>theater_date</th>\n",
       "      <th>dvd_date</th>\n",
       "      <th>currency</th>\n",
       "      <th>box_office</th>\n",
       "      <th>runtime</th>\n",
       "      <th>studio</th>\n",
       "    </tr>\n",
       "  </thead>\n",
       "  <tbody>\n",
       "    <tr>\n",
       "      <th>0</th>\n",
       "      <td>1</td>\n",
       "      <td>This gritty, fast-paced, and innovative police...</td>\n",
       "      <td>R</td>\n",
       "      <td>Action and Adventure|Classics|Drama</td>\n",
       "      <td>William Friedkin</td>\n",
       "      <td>Ernest Tidyman</td>\n",
       "      <td>9-Oct-71</td>\n",
       "      <td>25-Sep-01</td>\n",
       "      <td>NaN</td>\n",
       "      <td>NaN</td>\n",
       "      <td>104 minutes</td>\n",
       "      <td>NaN</td>\n",
       "    </tr>\n",
       "    <tr>\n",
       "      <th>1</th>\n",
       "      <td>3</td>\n",
       "      <td>New York City, not-too-distant-future: Eric Pa...</td>\n",
       "      <td>R</td>\n",
       "      <td>Drama|Science Fiction and Fantasy</td>\n",
       "      <td>David Cronenberg</td>\n",
       "      <td>David Cronenberg|Don DeLillo</td>\n",
       "      <td>17-Aug-12</td>\n",
       "      <td>1-Jan-13</td>\n",
       "      <td>$</td>\n",
       "      <td>600,000</td>\n",
       "      <td>108 minutes</td>\n",
       "      <td>Entertainment One</td>\n",
       "    </tr>\n",
       "    <tr>\n",
       "      <th>2</th>\n",
       "      <td>5</td>\n",
       "      <td>Illeana Douglas delivers a superb performance ...</td>\n",
       "      <td>R</td>\n",
       "      <td>Drama|Musical and Performing Arts</td>\n",
       "      <td>Allison Anders</td>\n",
       "      <td>Allison Anders</td>\n",
       "      <td>13-Sep-96</td>\n",
       "      <td>18-Apr-00</td>\n",
       "      <td>NaN</td>\n",
       "      <td>NaN</td>\n",
       "      <td>116 minutes</td>\n",
       "      <td>NaN</td>\n",
       "    </tr>\n",
       "    <tr>\n",
       "      <th>3</th>\n",
       "      <td>6</td>\n",
       "      <td>Michael Douglas runs afoul of a treacherous su...</td>\n",
       "      <td>R</td>\n",
       "      <td>Drama|Mystery and Suspense</td>\n",
       "      <td>Barry Levinson</td>\n",
       "      <td>Paul Attanasio|Michael Crichton</td>\n",
       "      <td>9-Dec-94</td>\n",
       "      <td>27-Aug-97</td>\n",
       "      <td>NaN</td>\n",
       "      <td>NaN</td>\n",
       "      <td>128 minutes</td>\n",
       "      <td>NaN</td>\n",
       "    </tr>\n",
       "    <tr>\n",
       "      <th>4</th>\n",
       "      <td>7</td>\n",
       "      <td>NaN</td>\n",
       "      <td>NR</td>\n",
       "      <td>Drama|Romance</td>\n",
       "      <td>Rodney Bennett</td>\n",
       "      <td>Giles Cooper</td>\n",
       "      <td>NaN</td>\n",
       "      <td>NaN</td>\n",
       "      <td>NaN</td>\n",
       "      <td>NaN</td>\n",
       "      <td>200 minutes</td>\n",
       "      <td>NaN</td>\n",
       "    </tr>\n",
       "    <tr>\n",
       "      <th>...</th>\n",
       "      <td>...</td>\n",
       "      <td>...</td>\n",
       "      <td>...</td>\n",
       "      <td>...</td>\n",
       "      <td>...</td>\n",
       "      <td>...</td>\n",
       "      <td>...</td>\n",
       "      <td>...</td>\n",
       "      <td>...</td>\n",
       "      <td>...</td>\n",
       "      <td>...</td>\n",
       "      <td>...</td>\n",
       "    </tr>\n",
       "    <tr>\n",
       "      <th>1555</th>\n",
       "      <td>1996</td>\n",
       "      <td>Forget terrorists or hijackers -- there's a ha...</td>\n",
       "      <td>R</td>\n",
       "      <td>Action and Adventure|Horror|Mystery and Suspense</td>\n",
       "      <td>NaN</td>\n",
       "      <td>NaN</td>\n",
       "      <td>18-Aug-06</td>\n",
       "      <td>2-Jan-07</td>\n",
       "      <td>$</td>\n",
       "      <td>33,886,034</td>\n",
       "      <td>106 minutes</td>\n",
       "      <td>New Line Cinema</td>\n",
       "    </tr>\n",
       "    <tr>\n",
       "      <th>1556</th>\n",
       "      <td>1997</td>\n",
       "      <td>The popular Saturday Night Live sketch was exp...</td>\n",
       "      <td>PG</td>\n",
       "      <td>Comedy|Science Fiction and Fantasy</td>\n",
       "      <td>Steve Barron</td>\n",
       "      <td>Terry Turner|Tom Davis|Dan Aykroyd|Bonnie Turner</td>\n",
       "      <td>23-Jul-93</td>\n",
       "      <td>17-Apr-01</td>\n",
       "      <td>NaN</td>\n",
       "      <td>NaN</td>\n",
       "      <td>88 minutes</td>\n",
       "      <td>Paramount Vantage</td>\n",
       "    </tr>\n",
       "    <tr>\n",
       "      <th>1557</th>\n",
       "      <td>1998</td>\n",
       "      <td>Based on a novel by Richard Powell, when the l...</td>\n",
       "      <td>G</td>\n",
       "      <td>Classics|Comedy|Drama|Musical and Performing Arts</td>\n",
       "      <td>Gordon Douglas</td>\n",
       "      <td>NaN</td>\n",
       "      <td>1-Jan-62</td>\n",
       "      <td>11-May-04</td>\n",
       "      <td>NaN</td>\n",
       "      <td>NaN</td>\n",
       "      <td>111 minutes</td>\n",
       "      <td>NaN</td>\n",
       "    </tr>\n",
       "    <tr>\n",
       "      <th>1558</th>\n",
       "      <td>1999</td>\n",
       "      <td>The Sandlot is a coming-of-age story about a g...</td>\n",
       "      <td>PG</td>\n",
       "      <td>Comedy|Drama|Kids and Family|Sports and Fitness</td>\n",
       "      <td>David Mickey Evans</td>\n",
       "      <td>David Mickey Evans|Robert Gunter</td>\n",
       "      <td>1-Apr-93</td>\n",
       "      <td>29-Jan-02</td>\n",
       "      <td>NaN</td>\n",
       "      <td>NaN</td>\n",
       "      <td>101 minutes</td>\n",
       "      <td>NaN</td>\n",
       "    </tr>\n",
       "    <tr>\n",
       "      <th>1559</th>\n",
       "      <td>2000</td>\n",
       "      <td>Suspended from the force, Paris cop Hubert is ...</td>\n",
       "      <td>R</td>\n",
       "      <td>Action and Adventure|Art House and Internation...</td>\n",
       "      <td>NaN</td>\n",
       "      <td>Luc Besson</td>\n",
       "      <td>27-Sep-01</td>\n",
       "      <td>11-Feb-03</td>\n",
       "      <td>NaN</td>\n",
       "      <td>NaN</td>\n",
       "      <td>94 minutes</td>\n",
       "      <td>Columbia Pictures</td>\n",
       "    </tr>\n",
       "  </tbody>\n",
       "</table>\n",
       "<p>1560 rows × 12 columns</p>\n",
       "</div>"
      ],
      "text/plain": [
       "        id                                           synopsis rating  \\\n",
       "0        1  This gritty, fast-paced, and innovative police...      R   \n",
       "1        3  New York City, not-too-distant-future: Eric Pa...      R   \n",
       "2        5  Illeana Douglas delivers a superb performance ...      R   \n",
       "3        6  Michael Douglas runs afoul of a treacherous su...      R   \n",
       "4        7                                                NaN     NR   \n",
       "...    ...                                                ...    ...   \n",
       "1555  1996  Forget terrorists or hijackers -- there's a ha...      R   \n",
       "1556  1997  The popular Saturday Night Live sketch was exp...     PG   \n",
       "1557  1998  Based on a novel by Richard Powell, when the l...      G   \n",
       "1558  1999  The Sandlot is a coming-of-age story about a g...     PG   \n",
       "1559  2000  Suspended from the force, Paris cop Hubert is ...      R   \n",
       "\n",
       "                                                  genre            director  \\\n",
       "0                   Action and Adventure|Classics|Drama    William Friedkin   \n",
       "1                     Drama|Science Fiction and Fantasy    David Cronenberg   \n",
       "2                     Drama|Musical and Performing Arts      Allison Anders   \n",
       "3                            Drama|Mystery and Suspense      Barry Levinson   \n",
       "4                                         Drama|Romance      Rodney Bennett   \n",
       "...                                                 ...                 ...   \n",
       "1555   Action and Adventure|Horror|Mystery and Suspense                 NaN   \n",
       "1556                 Comedy|Science Fiction and Fantasy        Steve Barron   \n",
       "1557  Classics|Comedy|Drama|Musical and Performing Arts      Gordon Douglas   \n",
       "1558    Comedy|Drama|Kids and Family|Sports and Fitness  David Mickey Evans   \n",
       "1559  Action and Adventure|Art House and Internation...                 NaN   \n",
       "\n",
       "                                                writer theater_date  \\\n",
       "0                                       Ernest Tidyman     9-Oct-71   \n",
       "1                         David Cronenberg|Don DeLillo    17-Aug-12   \n",
       "2                                       Allison Anders    13-Sep-96   \n",
       "3                      Paul Attanasio|Michael Crichton     9-Dec-94   \n",
       "4                                         Giles Cooper          NaN   \n",
       "...                                                ...          ...   \n",
       "1555                                               NaN    18-Aug-06   \n",
       "1556  Terry Turner|Tom Davis|Dan Aykroyd|Bonnie Turner    23-Jul-93   \n",
       "1557                                               NaN     1-Jan-62   \n",
       "1558                  David Mickey Evans|Robert Gunter     1-Apr-93   \n",
       "1559                                        Luc Besson    27-Sep-01   \n",
       "\n",
       "       dvd_date currency  box_office      runtime             studio  \n",
       "0     25-Sep-01      NaN         NaN  104 minutes                NaN  \n",
       "1      1-Jan-13        $     600,000  108 minutes  Entertainment One  \n",
       "2     18-Apr-00      NaN         NaN  116 minutes                NaN  \n",
       "3     27-Aug-97      NaN         NaN  128 minutes                NaN  \n",
       "4           NaN      NaN         NaN  200 minutes                NaN  \n",
       "...         ...      ...         ...          ...                ...  \n",
       "1555   2-Jan-07        $  33,886,034  106 minutes    New Line Cinema  \n",
       "1556  17-Apr-01      NaN         NaN   88 minutes  Paramount Vantage  \n",
       "1557  11-May-04      NaN         NaN  111 minutes                NaN  \n",
       "1558  29-Jan-02      NaN         NaN  101 minutes                NaN  \n",
       "1559  11-Feb-03      NaN         NaN   94 minutes  Columbia Pictures  \n",
       "\n",
       "[1560 rows x 12 columns]"
      ]
     },
     "execution_count": 4,
     "metadata": {},
     "output_type": "execute_result"
    }
   ],
   "source": [
    "rt_movie_info"
   ]
  },
  {
   "cell_type": "code",
   "execution_count": 5,
   "metadata": {},
   "outputs": [
    {
     "data": {
      "text/plain": [
       "0              NaN\n",
       "1          600,000\n",
       "2              NaN\n",
       "3              NaN\n",
       "4              NaN\n",
       "           ...    \n",
       "1555    33,886,034\n",
       "1556           NaN\n",
       "1557           NaN\n",
       "1558           NaN\n",
       "1559           NaN\n",
       "Name: box_office, Length: 1560, dtype: object"
      ]
     },
     "execution_count": 5,
     "metadata": {},
     "output_type": "execute_result"
    }
   ],
   "source": [
    "rt_movie_info['box_office']"
   ]
  },
  {
   "cell_type": "code",
   "execution_count": 6,
   "metadata": {},
   "outputs": [
    {
     "data": {
      "text/html": [
       "<div>\n",
       "<style scoped>\n",
       "    .dataframe tbody tr th:only-of-type {\n",
       "        vertical-align: middle;\n",
       "    }\n",
       "\n",
       "    .dataframe tbody tr th {\n",
       "        vertical-align: top;\n",
       "    }\n",
       "\n",
       "    .dataframe thead th {\n",
       "        text-align: right;\n",
       "    }\n",
       "</style>\n",
       "<table border=\"1\" class=\"dataframe\">\n",
       "  <thead>\n",
       "    <tr style=\"text-align: right;\">\n",
       "      <th></th>\n",
       "      <th>id</th>\n",
       "      <th>synopsis</th>\n",
       "      <th>rating</th>\n",
       "      <th>genre</th>\n",
       "      <th>director</th>\n",
       "      <th>writer</th>\n",
       "      <th>theater_date</th>\n",
       "      <th>dvd_date</th>\n",
       "      <th>currency</th>\n",
       "      <th>box_office</th>\n",
       "      <th>runtime</th>\n",
       "      <th>studio</th>\n",
       "    </tr>\n",
       "  </thead>\n",
       "  <tbody>\n",
       "    <tr>\n",
       "      <th>0</th>\n",
       "      <td>1</td>\n",
       "      <td>This gritty, fast-paced, and innovative police...</td>\n",
       "      <td>R</td>\n",
       "      <td>Action and Adventure|Classics|Drama</td>\n",
       "      <td>William Friedkin</td>\n",
       "      <td>Ernest Tidyman</td>\n",
       "      <td>9-Oct-71</td>\n",
       "      <td>25-Sep-01</td>\n",
       "      <td>NaN</td>\n",
       "      <td>NaN</td>\n",
       "      <td>104 minutes</td>\n",
       "      <td>NaN</td>\n",
       "    </tr>\n",
       "    <tr>\n",
       "      <th>1</th>\n",
       "      <td>3</td>\n",
       "      <td>New York City, not-too-distant-future: Eric Pa...</td>\n",
       "      <td>R</td>\n",
       "      <td>Drama|Science Fiction and Fantasy</td>\n",
       "      <td>David Cronenberg</td>\n",
       "      <td>David Cronenberg|Don DeLillo</td>\n",
       "      <td>17-Aug-12</td>\n",
       "      <td>1-Jan-13</td>\n",
       "      <td>$</td>\n",
       "      <td>600,000</td>\n",
       "      <td>108 minutes</td>\n",
       "      <td>Entertainment One</td>\n",
       "    </tr>\n",
       "    <tr>\n",
       "      <th>2</th>\n",
       "      <td>5</td>\n",
       "      <td>Illeana Douglas delivers a superb performance ...</td>\n",
       "      <td>R</td>\n",
       "      <td>Drama|Musical and Performing Arts</td>\n",
       "      <td>Allison Anders</td>\n",
       "      <td>Allison Anders</td>\n",
       "      <td>13-Sep-96</td>\n",
       "      <td>18-Apr-00</td>\n",
       "      <td>NaN</td>\n",
       "      <td>NaN</td>\n",
       "      <td>116 minutes</td>\n",
       "      <td>NaN</td>\n",
       "    </tr>\n",
       "    <tr>\n",
       "      <th>3</th>\n",
       "      <td>6</td>\n",
       "      <td>Michael Douglas runs afoul of a treacherous su...</td>\n",
       "      <td>R</td>\n",
       "      <td>Drama|Mystery and Suspense</td>\n",
       "      <td>Barry Levinson</td>\n",
       "      <td>Paul Attanasio|Michael Crichton</td>\n",
       "      <td>9-Dec-94</td>\n",
       "      <td>27-Aug-97</td>\n",
       "      <td>NaN</td>\n",
       "      <td>NaN</td>\n",
       "      <td>128 minutes</td>\n",
       "      <td>NaN</td>\n",
       "    </tr>\n",
       "    <tr>\n",
       "      <th>4</th>\n",
       "      <td>7</td>\n",
       "      <td>NaN</td>\n",
       "      <td>NR</td>\n",
       "      <td>Drama|Romance</td>\n",
       "      <td>Rodney Bennett</td>\n",
       "      <td>Giles Cooper</td>\n",
       "      <td>NaN</td>\n",
       "      <td>NaN</td>\n",
       "      <td>NaN</td>\n",
       "      <td>NaN</td>\n",
       "      <td>200 minutes</td>\n",
       "      <td>NaN</td>\n",
       "    </tr>\n",
       "    <tr>\n",
       "      <th>...</th>\n",
       "      <td>...</td>\n",
       "      <td>...</td>\n",
       "      <td>...</td>\n",
       "      <td>...</td>\n",
       "      <td>...</td>\n",
       "      <td>...</td>\n",
       "      <td>...</td>\n",
       "      <td>...</td>\n",
       "      <td>...</td>\n",
       "      <td>...</td>\n",
       "      <td>...</td>\n",
       "      <td>...</td>\n",
       "    </tr>\n",
       "    <tr>\n",
       "      <th>1555</th>\n",
       "      <td>1996</td>\n",
       "      <td>Forget terrorists or hijackers -- there's a ha...</td>\n",
       "      <td>R</td>\n",
       "      <td>Action and Adventure|Horror|Mystery and Suspense</td>\n",
       "      <td>NaN</td>\n",
       "      <td>NaN</td>\n",
       "      <td>18-Aug-06</td>\n",
       "      <td>2-Jan-07</td>\n",
       "      <td>$</td>\n",
       "      <td>33,886,034</td>\n",
       "      <td>106 minutes</td>\n",
       "      <td>New Line Cinema</td>\n",
       "    </tr>\n",
       "    <tr>\n",
       "      <th>1556</th>\n",
       "      <td>1997</td>\n",
       "      <td>The popular Saturday Night Live sketch was exp...</td>\n",
       "      <td>PG</td>\n",
       "      <td>Comedy|Science Fiction and Fantasy</td>\n",
       "      <td>Steve Barron</td>\n",
       "      <td>Terry Turner|Tom Davis|Dan Aykroyd|Bonnie Turner</td>\n",
       "      <td>23-Jul-93</td>\n",
       "      <td>17-Apr-01</td>\n",
       "      <td>NaN</td>\n",
       "      <td>NaN</td>\n",
       "      <td>88 minutes</td>\n",
       "      <td>Paramount Vantage</td>\n",
       "    </tr>\n",
       "    <tr>\n",
       "      <th>1557</th>\n",
       "      <td>1998</td>\n",
       "      <td>Based on a novel by Richard Powell, when the l...</td>\n",
       "      <td>G</td>\n",
       "      <td>Classics|Comedy|Drama|Musical and Performing Arts</td>\n",
       "      <td>Gordon Douglas</td>\n",
       "      <td>NaN</td>\n",
       "      <td>1-Jan-62</td>\n",
       "      <td>11-May-04</td>\n",
       "      <td>NaN</td>\n",
       "      <td>NaN</td>\n",
       "      <td>111 minutes</td>\n",
       "      <td>NaN</td>\n",
       "    </tr>\n",
       "    <tr>\n",
       "      <th>1558</th>\n",
       "      <td>1999</td>\n",
       "      <td>The Sandlot is a coming-of-age story about a g...</td>\n",
       "      <td>PG</td>\n",
       "      <td>Comedy|Drama|Kids and Family|Sports and Fitness</td>\n",
       "      <td>David Mickey Evans</td>\n",
       "      <td>David Mickey Evans|Robert Gunter</td>\n",
       "      <td>1-Apr-93</td>\n",
       "      <td>29-Jan-02</td>\n",
       "      <td>NaN</td>\n",
       "      <td>NaN</td>\n",
       "      <td>101 minutes</td>\n",
       "      <td>NaN</td>\n",
       "    </tr>\n",
       "    <tr>\n",
       "      <th>1559</th>\n",
       "      <td>2000</td>\n",
       "      <td>Suspended from the force, Paris cop Hubert is ...</td>\n",
       "      <td>R</td>\n",
       "      <td>Action and Adventure|Art House and Internation...</td>\n",
       "      <td>NaN</td>\n",
       "      <td>Luc Besson</td>\n",
       "      <td>27-Sep-01</td>\n",
       "      <td>11-Feb-03</td>\n",
       "      <td>NaN</td>\n",
       "      <td>NaN</td>\n",
       "      <td>94 minutes</td>\n",
       "      <td>Columbia Pictures</td>\n",
       "    </tr>\n",
       "  </tbody>\n",
       "</table>\n",
       "<p>1560 rows × 12 columns</p>\n",
       "</div>"
      ],
      "text/plain": [
       "        id                                           synopsis rating  \\\n",
       "0        1  This gritty, fast-paced, and innovative police...      R   \n",
       "1        3  New York City, not-too-distant-future: Eric Pa...      R   \n",
       "2        5  Illeana Douglas delivers a superb performance ...      R   \n",
       "3        6  Michael Douglas runs afoul of a treacherous su...      R   \n",
       "4        7                                                NaN     NR   \n",
       "...    ...                                                ...    ...   \n",
       "1555  1996  Forget terrorists or hijackers -- there's a ha...      R   \n",
       "1556  1997  The popular Saturday Night Live sketch was exp...     PG   \n",
       "1557  1998  Based on a novel by Richard Powell, when the l...      G   \n",
       "1558  1999  The Sandlot is a coming-of-age story about a g...     PG   \n",
       "1559  2000  Suspended from the force, Paris cop Hubert is ...      R   \n",
       "\n",
       "                                                  genre            director  \\\n",
       "0                   Action and Adventure|Classics|Drama    William Friedkin   \n",
       "1                     Drama|Science Fiction and Fantasy    David Cronenberg   \n",
       "2                     Drama|Musical and Performing Arts      Allison Anders   \n",
       "3                            Drama|Mystery and Suspense      Barry Levinson   \n",
       "4                                         Drama|Romance      Rodney Bennett   \n",
       "...                                                 ...                 ...   \n",
       "1555   Action and Adventure|Horror|Mystery and Suspense                 NaN   \n",
       "1556                 Comedy|Science Fiction and Fantasy        Steve Barron   \n",
       "1557  Classics|Comedy|Drama|Musical and Performing Arts      Gordon Douglas   \n",
       "1558    Comedy|Drama|Kids and Family|Sports and Fitness  David Mickey Evans   \n",
       "1559  Action and Adventure|Art House and Internation...                 NaN   \n",
       "\n",
       "                                                writer theater_date  \\\n",
       "0                                       Ernest Tidyman     9-Oct-71   \n",
       "1                         David Cronenberg|Don DeLillo    17-Aug-12   \n",
       "2                                       Allison Anders    13-Sep-96   \n",
       "3                      Paul Attanasio|Michael Crichton     9-Dec-94   \n",
       "4                                         Giles Cooper          NaN   \n",
       "...                                                ...          ...   \n",
       "1555                                               NaN    18-Aug-06   \n",
       "1556  Terry Turner|Tom Davis|Dan Aykroyd|Bonnie Turner    23-Jul-93   \n",
       "1557                                               NaN     1-Jan-62   \n",
       "1558                  David Mickey Evans|Robert Gunter     1-Apr-93   \n",
       "1559                                        Luc Besson    27-Sep-01   \n",
       "\n",
       "       dvd_date currency  box_office      runtime             studio  \n",
       "0     25-Sep-01      NaN         NaN  104 minutes                NaN  \n",
       "1      1-Jan-13        $     600,000  108 minutes  Entertainment One  \n",
       "2     18-Apr-00      NaN         NaN  116 minutes                NaN  \n",
       "3     27-Aug-97      NaN         NaN  128 minutes                NaN  \n",
       "4           NaN      NaN         NaN  200 minutes                NaN  \n",
       "...         ...      ...         ...          ...                ...  \n",
       "1555   2-Jan-07        $  33,886,034  106 minutes    New Line Cinema  \n",
       "1556  17-Apr-01      NaN         NaN   88 minutes  Paramount Vantage  \n",
       "1557  11-May-04      NaN         NaN  111 minutes                NaN  \n",
       "1558  29-Jan-02      NaN         NaN  101 minutes                NaN  \n",
       "1559  11-Feb-03      NaN         NaN   94 minutes  Columbia Pictures  \n",
       "\n",
       "[1560 rows x 12 columns]"
      ]
     },
     "execution_count": 6,
     "metadata": {},
     "output_type": "execute_result"
    }
   ],
   "source": [
    "#made copy of df to drop Nan values and do some work\n",
    "movie_info = rt_movie_info.copy()\n",
    "movie_info"
   ]
  },
  {
   "cell_type": "code",
   "execution_count": 7,
   "metadata": {},
   "outputs": [
    {
     "data": {
      "text/html": [
       "<div>\n",
       "<style scoped>\n",
       "    .dataframe tbody tr th:only-of-type {\n",
       "        vertical-align: middle;\n",
       "    }\n",
       "\n",
       "    .dataframe tbody tr th {\n",
       "        vertical-align: top;\n",
       "    }\n",
       "\n",
       "    .dataframe thead th {\n",
       "        text-align: right;\n",
       "    }\n",
       "</style>\n",
       "<table border=\"1\" class=\"dataframe\">\n",
       "  <thead>\n",
       "    <tr style=\"text-align: right;\">\n",
       "      <th></th>\n",
       "      <th>id</th>\n",
       "      <th>synopsis</th>\n",
       "      <th>rating</th>\n",
       "      <th>genre</th>\n",
       "      <th>director</th>\n",
       "      <th>writer</th>\n",
       "      <th>theater_date</th>\n",
       "      <th>dvd_date</th>\n",
       "      <th>currency</th>\n",
       "      <th>box_office</th>\n",
       "      <th>runtime</th>\n",
       "      <th>studio</th>\n",
       "    </tr>\n",
       "  </thead>\n",
       "  <tbody>\n",
       "    <tr>\n",
       "      <th>1</th>\n",
       "      <td>3</td>\n",
       "      <td>New York City, not-too-distant-future: Eric Pa...</td>\n",
       "      <td>R</td>\n",
       "      <td>Drama|Science Fiction and Fantasy</td>\n",
       "      <td>David Cronenberg</td>\n",
       "      <td>David Cronenberg|Don DeLillo</td>\n",
       "      <td>17-Aug-12</td>\n",
       "      <td>1-Jan-13</td>\n",
       "      <td>$</td>\n",
       "      <td>600,000</td>\n",
       "      <td>108 minutes</td>\n",
       "      <td>Entertainment One</td>\n",
       "    </tr>\n",
       "    <tr>\n",
       "      <th>6</th>\n",
       "      <td>10</td>\n",
       "      <td>Some cast and crew from NBC's highly acclaimed...</td>\n",
       "      <td>PG-13</td>\n",
       "      <td>Comedy</td>\n",
       "      <td>Jake Kasdan</td>\n",
       "      <td>Mike White</td>\n",
       "      <td>11-Jan-02</td>\n",
       "      <td>18-Jun-02</td>\n",
       "      <td>$</td>\n",
       "      <td>41,032,915</td>\n",
       "      <td>82 minutes</td>\n",
       "      <td>Paramount Pictures</td>\n",
       "    </tr>\n",
       "    <tr>\n",
       "      <th>7</th>\n",
       "      <td>13</td>\n",
       "      <td>Stewart Kane, an Irishman living in the Austra...</td>\n",
       "      <td>R</td>\n",
       "      <td>Drama</td>\n",
       "      <td>Ray Lawrence</td>\n",
       "      <td>Raymond Carver|Beatrix Christian</td>\n",
       "      <td>27-Apr-06</td>\n",
       "      <td>2-Oct-07</td>\n",
       "      <td>$</td>\n",
       "      <td>224,114</td>\n",
       "      <td>123 minutes</td>\n",
       "      <td>Sony Pictures Classics</td>\n",
       "    </tr>\n",
       "    <tr>\n",
       "      <th>15</th>\n",
       "      <td>22</td>\n",
       "      <td>Two-time Academy Award Winner Kevin Spacey giv...</td>\n",
       "      <td>R</td>\n",
       "      <td>Comedy|Drama|Mystery and Suspense</td>\n",
       "      <td>George Hickenlooper</td>\n",
       "      <td>Norman Snider</td>\n",
       "      <td>17-Dec-10</td>\n",
       "      <td>5-Apr-11</td>\n",
       "      <td>$</td>\n",
       "      <td>1,039,869</td>\n",
       "      <td>108 minutes</td>\n",
       "      <td>ATO Pictures</td>\n",
       "    </tr>\n",
       "    <tr>\n",
       "      <th>18</th>\n",
       "      <td>25</td>\n",
       "      <td>From ancient Japan's most enduring tale, the e...</td>\n",
       "      <td>PG-13</td>\n",
       "      <td>Action and Adventure|Drama|Science Fiction and...</td>\n",
       "      <td>Carl Erik Rinsch</td>\n",
       "      <td>Chris Morgan|Hossein Amini</td>\n",
       "      <td>25-Dec-13</td>\n",
       "      <td>1-Apr-14</td>\n",
       "      <td>$</td>\n",
       "      <td>20,518,224</td>\n",
       "      <td>127 minutes</td>\n",
       "      <td>Universal Pictures</td>\n",
       "    </tr>\n",
       "    <tr>\n",
       "      <th>...</th>\n",
       "      <td>...</td>\n",
       "      <td>...</td>\n",
       "      <td>...</td>\n",
       "      <td>...</td>\n",
       "      <td>...</td>\n",
       "      <td>...</td>\n",
       "      <td>...</td>\n",
       "      <td>...</td>\n",
       "      <td>...</td>\n",
       "      <td>...</td>\n",
       "      <td>...</td>\n",
       "      <td>...</td>\n",
       "    </tr>\n",
       "    <tr>\n",
       "      <th>1530</th>\n",
       "      <td>1968</td>\n",
       "      <td>This holiday season, acclaimed filmmaker Camer...</td>\n",
       "      <td>PG</td>\n",
       "      <td>Comedy|Drama</td>\n",
       "      <td>Cameron Crowe</td>\n",
       "      <td>Aline Brosh McKenna|Cameron Crowe</td>\n",
       "      <td>23-Dec-11</td>\n",
       "      <td>3-Apr-12</td>\n",
       "      <td>$</td>\n",
       "      <td>72,700,000</td>\n",
       "      <td>126 minutes</td>\n",
       "      <td>20th Century Fox</td>\n",
       "    </tr>\n",
       "    <tr>\n",
       "      <th>1537</th>\n",
       "      <td>1976</td>\n",
       "      <td>Embrace of the Serpent features the encounter,...</td>\n",
       "      <td>NR</td>\n",
       "      <td>Action and Adventure|Art House and International</td>\n",
       "      <td>Ciro Guerra</td>\n",
       "      <td>Ciro Guerra|Jacques Toulemonde Vidal</td>\n",
       "      <td>17-Feb-16</td>\n",
       "      <td>21-Jun-16</td>\n",
       "      <td>$</td>\n",
       "      <td>1,320,005</td>\n",
       "      <td>123 minutes</td>\n",
       "      <td>Buffalo Films</td>\n",
       "    </tr>\n",
       "    <tr>\n",
       "      <th>1541</th>\n",
       "      <td>1980</td>\n",
       "      <td>A band of renegades on the run in outer space ...</td>\n",
       "      <td>PG-13</td>\n",
       "      <td>Action and Adventure|Science Fiction and Fantasy</td>\n",
       "      <td>Joss Whedon</td>\n",
       "      <td>Joss Whedon</td>\n",
       "      <td>30-Sep-05</td>\n",
       "      <td>20-Dec-05</td>\n",
       "      <td>$</td>\n",
       "      <td>25,335,935</td>\n",
       "      <td>119 minutes</td>\n",
       "      <td>Universal Pictures</td>\n",
       "    </tr>\n",
       "    <tr>\n",
       "      <th>1542</th>\n",
       "      <td>1981</td>\n",
       "      <td>Money, Fame and the Knowledge of English. In I...</td>\n",
       "      <td>NR</td>\n",
       "      <td>Comedy|Drama</td>\n",
       "      <td>Gauri Shinde</td>\n",
       "      <td>Gauri Shinde</td>\n",
       "      <td>5-Oct-12</td>\n",
       "      <td>20-Nov-12</td>\n",
       "      <td>$</td>\n",
       "      <td>1,416,189</td>\n",
       "      <td>129 minutes</td>\n",
       "      <td>Eros Entertainment</td>\n",
       "    </tr>\n",
       "    <tr>\n",
       "      <th>1545</th>\n",
       "      <td>1985</td>\n",
       "      <td>A woman who joins the undead against her will ...</td>\n",
       "      <td>R</td>\n",
       "      <td>Horror|Mystery and Suspense</td>\n",
       "      <td>Sebastian Gutierrez</td>\n",
       "      <td>Sebastian Gutierrez</td>\n",
       "      <td>1-Jun-07</td>\n",
       "      <td>9-Oct-07</td>\n",
       "      <td>$</td>\n",
       "      <td>59,371</td>\n",
       "      <td>98 minutes</td>\n",
       "      <td>IDP Distribution</td>\n",
       "    </tr>\n",
       "  </tbody>\n",
       "</table>\n",
       "<p>235 rows × 12 columns</p>\n",
       "</div>"
      ],
      "text/plain": [
       "        id                                           synopsis rating  \\\n",
       "1        3  New York City, not-too-distant-future: Eric Pa...      R   \n",
       "6       10  Some cast and crew from NBC's highly acclaimed...  PG-13   \n",
       "7       13  Stewart Kane, an Irishman living in the Austra...      R   \n",
       "15      22  Two-time Academy Award Winner Kevin Spacey giv...      R   \n",
       "18      25  From ancient Japan's most enduring tale, the e...  PG-13   \n",
       "...    ...                                                ...    ...   \n",
       "1530  1968  This holiday season, acclaimed filmmaker Camer...     PG   \n",
       "1537  1976  Embrace of the Serpent features the encounter,...     NR   \n",
       "1541  1980  A band of renegades on the run in outer space ...  PG-13   \n",
       "1542  1981  Money, Fame and the Knowledge of English. In I...     NR   \n",
       "1545  1985  A woman who joins the undead against her will ...      R   \n",
       "\n",
       "                                                  genre             director  \\\n",
       "1                     Drama|Science Fiction and Fantasy     David Cronenberg   \n",
       "6                                                Comedy          Jake Kasdan   \n",
       "7                                                 Drama         Ray Lawrence   \n",
       "15                    Comedy|Drama|Mystery and Suspense  George Hickenlooper   \n",
       "18    Action and Adventure|Drama|Science Fiction and...     Carl Erik Rinsch   \n",
       "...                                                 ...                  ...   \n",
       "1530                                       Comedy|Drama        Cameron Crowe   \n",
       "1537   Action and Adventure|Art House and International          Ciro Guerra   \n",
       "1541   Action and Adventure|Science Fiction and Fantasy          Joss Whedon   \n",
       "1542                                       Comedy|Drama         Gauri Shinde   \n",
       "1545                        Horror|Mystery and Suspense  Sebastian Gutierrez   \n",
       "\n",
       "                                    writer theater_date   dvd_date currency  \\\n",
       "1             David Cronenberg|Don DeLillo    17-Aug-12   1-Jan-13        $   \n",
       "6                               Mike White    11-Jan-02  18-Jun-02        $   \n",
       "7         Raymond Carver|Beatrix Christian    27-Apr-06   2-Oct-07        $   \n",
       "15                           Norman Snider    17-Dec-10   5-Apr-11        $   \n",
       "18              Chris Morgan|Hossein Amini    25-Dec-13   1-Apr-14        $   \n",
       "...                                    ...          ...        ...      ...   \n",
       "1530     Aline Brosh McKenna|Cameron Crowe    23-Dec-11   3-Apr-12        $   \n",
       "1537  Ciro Guerra|Jacques Toulemonde Vidal    17-Feb-16  21-Jun-16        $   \n",
       "1541                           Joss Whedon    30-Sep-05  20-Dec-05        $   \n",
       "1542                          Gauri Shinde     5-Oct-12  20-Nov-12        $   \n",
       "1545                   Sebastian Gutierrez     1-Jun-07   9-Oct-07        $   \n",
       "\n",
       "      box_office      runtime                  studio  \n",
       "1        600,000  108 minutes       Entertainment One  \n",
       "6     41,032,915   82 minutes      Paramount Pictures  \n",
       "7        224,114  123 minutes  Sony Pictures Classics  \n",
       "15     1,039,869  108 minutes            ATO Pictures  \n",
       "18    20,518,224  127 minutes      Universal Pictures  \n",
       "...          ...          ...                     ...  \n",
       "1530  72,700,000  126 minutes        20th Century Fox  \n",
       "1537   1,320,005  123 minutes           Buffalo Films  \n",
       "1541  25,335,935  119 minutes      Universal Pictures  \n",
       "1542   1,416,189  129 minutes      Eros Entertainment  \n",
       "1545      59,371   98 minutes        IDP Distribution  \n",
       "\n",
       "[235 rows x 12 columns]"
      ]
     },
     "execution_count": 7,
     "metadata": {},
     "output_type": "execute_result"
    }
   ],
   "source": [
    "#drop records with nan values\n",
    "movie_info = movie_info.dropna()\n",
    "movie_info"
   ]
  },
  {
   "cell_type": "code",
   "execution_count": 8,
   "metadata": {},
   "outputs": [
    {
     "name": "stderr",
     "output_type": "stream",
     "text": [
      "C:\\Users\\darobles\\AppData\\Local\\Temp\\ipykernel_14068\\36927435.py:2: SettingWithCopyWarning: \n",
      "A value is trying to be set on a copy of a slice from a DataFrame.\n",
      "Try using .loc[row_indexer,col_indexer] = value instead\n",
      "\n",
      "See the caveats in the documentation: https://pandas.pydata.org/pandas-docs/stable/user_guide/indexing.html#returning-a-view-versus-a-copy\n",
      "  movie_info['box_office']=movie_info['box_office'].str.replace(',','')\n"
     ]
    },
    {
     "data": {
      "text/html": [
       "<div>\n",
       "<style scoped>\n",
       "    .dataframe tbody tr th:only-of-type {\n",
       "        vertical-align: middle;\n",
       "    }\n",
       "\n",
       "    .dataframe tbody tr th {\n",
       "        vertical-align: top;\n",
       "    }\n",
       "\n",
       "    .dataframe thead th {\n",
       "        text-align: right;\n",
       "    }\n",
       "</style>\n",
       "<table border=\"1\" class=\"dataframe\">\n",
       "  <thead>\n",
       "    <tr style=\"text-align: right;\">\n",
       "      <th></th>\n",
       "      <th>id</th>\n",
       "      <th>synopsis</th>\n",
       "      <th>rating</th>\n",
       "      <th>genre</th>\n",
       "      <th>director</th>\n",
       "      <th>writer</th>\n",
       "      <th>theater_date</th>\n",
       "      <th>dvd_date</th>\n",
       "      <th>currency</th>\n",
       "      <th>box_office</th>\n",
       "      <th>runtime</th>\n",
       "      <th>studio</th>\n",
       "    </tr>\n",
       "  </thead>\n",
       "  <tbody>\n",
       "    <tr>\n",
       "      <th>1</th>\n",
       "      <td>3</td>\n",
       "      <td>New York City, not-too-distant-future: Eric Pa...</td>\n",
       "      <td>R</td>\n",
       "      <td>Drama|Science Fiction and Fantasy</td>\n",
       "      <td>David Cronenberg</td>\n",
       "      <td>David Cronenberg|Don DeLillo</td>\n",
       "      <td>17-Aug-12</td>\n",
       "      <td>1-Jan-13</td>\n",
       "      <td>$</td>\n",
       "      <td>600000</td>\n",
       "      <td>108 minutes</td>\n",
       "      <td>Entertainment One</td>\n",
       "    </tr>\n",
       "    <tr>\n",
       "      <th>6</th>\n",
       "      <td>10</td>\n",
       "      <td>Some cast and crew from NBC's highly acclaimed...</td>\n",
       "      <td>PG-13</td>\n",
       "      <td>Comedy</td>\n",
       "      <td>Jake Kasdan</td>\n",
       "      <td>Mike White</td>\n",
       "      <td>11-Jan-02</td>\n",
       "      <td>18-Jun-02</td>\n",
       "      <td>$</td>\n",
       "      <td>41032915</td>\n",
       "      <td>82 minutes</td>\n",
       "      <td>Paramount Pictures</td>\n",
       "    </tr>\n",
       "    <tr>\n",
       "      <th>7</th>\n",
       "      <td>13</td>\n",
       "      <td>Stewart Kane, an Irishman living in the Austra...</td>\n",
       "      <td>R</td>\n",
       "      <td>Drama</td>\n",
       "      <td>Ray Lawrence</td>\n",
       "      <td>Raymond Carver|Beatrix Christian</td>\n",
       "      <td>27-Apr-06</td>\n",
       "      <td>2-Oct-07</td>\n",
       "      <td>$</td>\n",
       "      <td>224114</td>\n",
       "      <td>123 minutes</td>\n",
       "      <td>Sony Pictures Classics</td>\n",
       "    </tr>\n",
       "    <tr>\n",
       "      <th>15</th>\n",
       "      <td>22</td>\n",
       "      <td>Two-time Academy Award Winner Kevin Spacey giv...</td>\n",
       "      <td>R</td>\n",
       "      <td>Comedy|Drama|Mystery and Suspense</td>\n",
       "      <td>George Hickenlooper</td>\n",
       "      <td>Norman Snider</td>\n",
       "      <td>17-Dec-10</td>\n",
       "      <td>5-Apr-11</td>\n",
       "      <td>$</td>\n",
       "      <td>1039869</td>\n",
       "      <td>108 minutes</td>\n",
       "      <td>ATO Pictures</td>\n",
       "    </tr>\n",
       "    <tr>\n",
       "      <th>18</th>\n",
       "      <td>25</td>\n",
       "      <td>From ancient Japan's most enduring tale, the e...</td>\n",
       "      <td>PG-13</td>\n",
       "      <td>Action and Adventure|Drama|Science Fiction and...</td>\n",
       "      <td>Carl Erik Rinsch</td>\n",
       "      <td>Chris Morgan|Hossein Amini</td>\n",
       "      <td>25-Dec-13</td>\n",
       "      <td>1-Apr-14</td>\n",
       "      <td>$</td>\n",
       "      <td>20518224</td>\n",
       "      <td>127 minutes</td>\n",
       "      <td>Universal Pictures</td>\n",
       "    </tr>\n",
       "    <tr>\n",
       "      <th>...</th>\n",
       "      <td>...</td>\n",
       "      <td>...</td>\n",
       "      <td>...</td>\n",
       "      <td>...</td>\n",
       "      <td>...</td>\n",
       "      <td>...</td>\n",
       "      <td>...</td>\n",
       "      <td>...</td>\n",
       "      <td>...</td>\n",
       "      <td>...</td>\n",
       "      <td>...</td>\n",
       "      <td>...</td>\n",
       "    </tr>\n",
       "    <tr>\n",
       "      <th>1530</th>\n",
       "      <td>1968</td>\n",
       "      <td>This holiday season, acclaimed filmmaker Camer...</td>\n",
       "      <td>PG</td>\n",
       "      <td>Comedy|Drama</td>\n",
       "      <td>Cameron Crowe</td>\n",
       "      <td>Aline Brosh McKenna|Cameron Crowe</td>\n",
       "      <td>23-Dec-11</td>\n",
       "      <td>3-Apr-12</td>\n",
       "      <td>$</td>\n",
       "      <td>72700000</td>\n",
       "      <td>126 minutes</td>\n",
       "      <td>20th Century Fox</td>\n",
       "    </tr>\n",
       "    <tr>\n",
       "      <th>1537</th>\n",
       "      <td>1976</td>\n",
       "      <td>Embrace of the Serpent features the encounter,...</td>\n",
       "      <td>NR</td>\n",
       "      <td>Action and Adventure|Art House and International</td>\n",
       "      <td>Ciro Guerra</td>\n",
       "      <td>Ciro Guerra|Jacques Toulemonde Vidal</td>\n",
       "      <td>17-Feb-16</td>\n",
       "      <td>21-Jun-16</td>\n",
       "      <td>$</td>\n",
       "      <td>1320005</td>\n",
       "      <td>123 minutes</td>\n",
       "      <td>Buffalo Films</td>\n",
       "    </tr>\n",
       "    <tr>\n",
       "      <th>1541</th>\n",
       "      <td>1980</td>\n",
       "      <td>A band of renegades on the run in outer space ...</td>\n",
       "      <td>PG-13</td>\n",
       "      <td>Action and Adventure|Science Fiction and Fantasy</td>\n",
       "      <td>Joss Whedon</td>\n",
       "      <td>Joss Whedon</td>\n",
       "      <td>30-Sep-05</td>\n",
       "      <td>20-Dec-05</td>\n",
       "      <td>$</td>\n",
       "      <td>25335935</td>\n",
       "      <td>119 minutes</td>\n",
       "      <td>Universal Pictures</td>\n",
       "    </tr>\n",
       "    <tr>\n",
       "      <th>1542</th>\n",
       "      <td>1981</td>\n",
       "      <td>Money, Fame and the Knowledge of English. In I...</td>\n",
       "      <td>NR</td>\n",
       "      <td>Comedy|Drama</td>\n",
       "      <td>Gauri Shinde</td>\n",
       "      <td>Gauri Shinde</td>\n",
       "      <td>5-Oct-12</td>\n",
       "      <td>20-Nov-12</td>\n",
       "      <td>$</td>\n",
       "      <td>1416189</td>\n",
       "      <td>129 minutes</td>\n",
       "      <td>Eros Entertainment</td>\n",
       "    </tr>\n",
       "    <tr>\n",
       "      <th>1545</th>\n",
       "      <td>1985</td>\n",
       "      <td>A woman who joins the undead against her will ...</td>\n",
       "      <td>R</td>\n",
       "      <td>Horror|Mystery and Suspense</td>\n",
       "      <td>Sebastian Gutierrez</td>\n",
       "      <td>Sebastian Gutierrez</td>\n",
       "      <td>1-Jun-07</td>\n",
       "      <td>9-Oct-07</td>\n",
       "      <td>$</td>\n",
       "      <td>59371</td>\n",
       "      <td>98 minutes</td>\n",
       "      <td>IDP Distribution</td>\n",
       "    </tr>\n",
       "  </tbody>\n",
       "</table>\n",
       "<p>235 rows × 12 columns</p>\n",
       "</div>"
      ],
      "text/plain": [
       "        id                                           synopsis rating  \\\n",
       "1        3  New York City, not-too-distant-future: Eric Pa...      R   \n",
       "6       10  Some cast and crew from NBC's highly acclaimed...  PG-13   \n",
       "7       13  Stewart Kane, an Irishman living in the Austra...      R   \n",
       "15      22  Two-time Academy Award Winner Kevin Spacey giv...      R   \n",
       "18      25  From ancient Japan's most enduring tale, the e...  PG-13   \n",
       "...    ...                                                ...    ...   \n",
       "1530  1968  This holiday season, acclaimed filmmaker Camer...     PG   \n",
       "1537  1976  Embrace of the Serpent features the encounter,...     NR   \n",
       "1541  1980  A band of renegades on the run in outer space ...  PG-13   \n",
       "1542  1981  Money, Fame and the Knowledge of English. In I...     NR   \n",
       "1545  1985  A woman who joins the undead against her will ...      R   \n",
       "\n",
       "                                                  genre             director  \\\n",
       "1                     Drama|Science Fiction and Fantasy     David Cronenberg   \n",
       "6                                                Comedy          Jake Kasdan   \n",
       "7                                                 Drama         Ray Lawrence   \n",
       "15                    Comedy|Drama|Mystery and Suspense  George Hickenlooper   \n",
       "18    Action and Adventure|Drama|Science Fiction and...     Carl Erik Rinsch   \n",
       "...                                                 ...                  ...   \n",
       "1530                                       Comedy|Drama        Cameron Crowe   \n",
       "1537   Action and Adventure|Art House and International          Ciro Guerra   \n",
       "1541   Action and Adventure|Science Fiction and Fantasy          Joss Whedon   \n",
       "1542                                       Comedy|Drama         Gauri Shinde   \n",
       "1545                        Horror|Mystery and Suspense  Sebastian Gutierrez   \n",
       "\n",
       "                                    writer theater_date   dvd_date currency  \\\n",
       "1             David Cronenberg|Don DeLillo    17-Aug-12   1-Jan-13        $   \n",
       "6                               Mike White    11-Jan-02  18-Jun-02        $   \n",
       "7         Raymond Carver|Beatrix Christian    27-Apr-06   2-Oct-07        $   \n",
       "15                           Norman Snider    17-Dec-10   5-Apr-11        $   \n",
       "18              Chris Morgan|Hossein Amini    25-Dec-13   1-Apr-14        $   \n",
       "...                                    ...          ...        ...      ...   \n",
       "1530     Aline Brosh McKenna|Cameron Crowe    23-Dec-11   3-Apr-12        $   \n",
       "1537  Ciro Guerra|Jacques Toulemonde Vidal    17-Feb-16  21-Jun-16        $   \n",
       "1541                           Joss Whedon    30-Sep-05  20-Dec-05        $   \n",
       "1542                          Gauri Shinde     5-Oct-12  20-Nov-12        $   \n",
       "1545                   Sebastian Gutierrez     1-Jun-07   9-Oct-07        $   \n",
       "\n",
       "     box_office      runtime                  studio  \n",
       "1        600000  108 minutes       Entertainment One  \n",
       "6      41032915   82 minutes      Paramount Pictures  \n",
       "7        224114  123 minutes  Sony Pictures Classics  \n",
       "15      1039869  108 minutes            ATO Pictures  \n",
       "18     20518224  127 minutes      Universal Pictures  \n",
       "...         ...          ...                     ...  \n",
       "1530   72700000  126 minutes        20th Century Fox  \n",
       "1537    1320005  123 minutes           Buffalo Films  \n",
       "1541   25335935  119 minutes      Universal Pictures  \n",
       "1542    1416189  129 minutes      Eros Entertainment  \n",
       "1545      59371   98 minutes        IDP Distribution  \n",
       "\n",
       "[235 rows x 12 columns]"
      ]
     },
     "execution_count": 8,
     "metadata": {},
     "output_type": "execute_result"
    }
   ],
   "source": [
    "#remove commas\n",
    "movie_info['box_office']=movie_info['box_office'].str.replace(',','')\n",
    "movie_info"
   ]
  },
  {
   "cell_type": "code",
   "execution_count": 9,
   "metadata": {},
   "outputs": [
    {
     "name": "stderr",
     "output_type": "stream",
     "text": [
      "C:\\Users\\darobles\\AppData\\Local\\Temp\\ipykernel_14068\\3708461391.py:1: SettingWithCopyWarning: \n",
      "A value is trying to be set on a copy of a slice from a DataFrame.\n",
      "Try using .loc[row_indexer,col_indexer] = value instead\n",
      "\n",
      "See the caveats in the documentation: https://pandas.pydata.org/pandas-docs/stable/user_guide/indexing.html#returning-a-view-versus-a-copy\n",
      "  movie_info['box_office']=movie_info['box_office'].astype(float)\n"
     ]
    }
   ],
   "source": [
    "movie_info['box_office']=movie_info['box_office'].astype(float)"
   ]
  },
  {
   "cell_type": "code",
   "execution_count": 10,
   "metadata": {},
   "outputs": [],
   "source": [
    "R = movie_info[movie_info['rating']=='R']\n",
    "PG = movie_info[movie_info['rating']=='PG']\n",
    "PG13 = movie_info[movie_info['rating']=='PG-13']\n",
    "G = movie_info[movie_info['rating']=='G']\n",
    "NC17 = movie_info[movie_info['rating']=='NC17']\n",
    "NR = movie_info[movie_info['rating']=='NR']"
   ]
  },
  {
   "cell_type": "code",
   "execution_count": 11,
   "metadata": {},
   "outputs": [],
   "source": [
    "r=R['box_office'].mean()\n",
    "rmed=R['box_office'].median()\n",
    "pg=PG['box_office'].mean()\n",
    "pgmed=PG['box_office'].median()\n",
    "pg13=PG13['box_office'].mean()\n",
    "pg13med=PG13['box_office'].median()\n",
    "g=G['box_office'].mean()\n",
    "gmed=G['box_office'].median()\n",
    "nc17=NC17['box_office'].mean()\n",
    "nc17med=NC17['box_office'].median()\n",
    "nr=NR['box_office'].mean()\n",
    "nrmed=NR['box_office'].median()"
   ]
  },
  {
   "cell_type": "code",
   "execution_count": 12,
   "metadata": {},
   "outputs": [],
   "source": [
    "ratings_dict = {'R':r,'PG':pg,'PG-13':pg13,'G':g,'NC-17':nc17,'NR':nr}"
   ]
  },
  {
   "cell_type": "code",
   "execution_count": 13,
   "metadata": {},
   "outputs": [],
   "source": [
    "ratings_dict_med = {'R':rmed,'PG':pgmed,'PG-13':pg13med,'G':gmed,'NC-17':nc17med,'NR':nrmed}"
   ]
  },
  {
   "cell_type": "code",
   "execution_count": 35,
   "metadata": {},
   "outputs": [
    {
     "data": {
      "text/plain": [
       "Text(0, 0.5, ' Average Revenue (USD)')"
      ]
     },
     "execution_count": 35,
     "metadata": {},
     "output_type": "execute_result"
    },
    {
     "data": {
      "image/png": "[encoded data removed]",
      "text/plain": [
       "<Figure size 432x288 with 1 Axes>"
      ]
     },
     "metadata": {
      "needs_background": "light"
     },
     "output_type": "display_data"
    }
   ],
   "source": [
    "fig, ax=plt.subplots()\n",
    "plt.ticklabel_format(style='plain')\n",
    "ax.bar(ratings_dict.keys(),ratings_dict.values() )\n",
    "\n",
    "\n",
    "\n",
    "ax.set_title(\"Average Box Office Revenue by MPAA Rating\")\n",
    "ax.set_xlabel(\"MPAA Ratings\")\n",
    "ax.set_ylabel(\" Average Revenue (USD)\")"
   ]
  },
  {
   "cell_type": "code",
   "execution_count": 36,
   "metadata": {},
   "outputs": [
    {
     "data": {
      "text/plain": [
       "Text(0, 0.5, 'Median Revenue (USD)')"
      ]
     },
     "execution_count": 36,
     "metadata": {},
     "output_type": "execute_result"
    },
    {
     "data": {
      "image/png": "[encoded data removed]",
      "text/plain": [
       "<Figure size 432x288 with 1 Axes>"
      ]
     },
     "metadata": {
      "needs_background": "light"
     },
     "output_type": "display_data"
    }
   ],
   "source": [
    "fig, ax=plt.subplots()\n",
    "plt.ticklabel_format(style='plain')\n",
    "ax.bar(ratings_dict_med.keys(),ratings_dict_med.values() )\n",
    "\n",
    "\n",
    "\n",
    "ax.set_title(\"Median Box Office Revenue by MPAA Rating\")\n",
    "ax.set_xlabel(\"MPAA Ratings\")\n",
    "ax.set_ylabel(\"Median Revenue (USD)\")"
   ]
  },
  {
   "cell_type": "code",
   "execution_count": 16,
   "metadata": {},
   "outputs": [],
   "source": [
    "action = movie_info[movie_info['genre'].str.contains('Action')]\n",
    "action_rev=action['box_office'].mean()\n",
    "action_med=action['box_office'].median()"
   ]
  },
  {
   "cell_type": "code",
   "execution_count": 17,
   "metadata": {},
   "outputs": [],
   "source": [
    "drama = movie_info[movie_info['genre'].str.contains('Drama')]\n",
    "drama_rev=drama['box_office'].mean()\n",
    "drama_med=drama['box_office'].median()"
   ]
  },
  {
   "cell_type": "code",
   "execution_count": 18,
   "metadata": {},
   "outputs": [],
   "source": [
    "comedy = movie_info[movie_info['genre'].str.contains('Comedy')]\n",
    "comedy_rev=comedy['box_office'].mean()\n",
    "comedy_med=comedy['box_office'].median()"
   ]
  },
  {
   "cell_type": "code",
   "execution_count": 19,
   "metadata": {},
   "outputs": [],
   "source": [
    "horror = movie_info[movie_info['genre'].str.contains('Horror')]\n",
    "horror_rev=horror['box_office'].mean()\n",
    "horror_med=horror['box_office'].median()"
   ]
  },
  {
   "cell_type": "code",
   "execution_count": 20,
   "metadata": {},
   "outputs": [],
   "source": [
    "romance = movie_info[movie_info['genre'].str.contains('Romance')]\n",
    "romance_rev=romance['box_office'].mean()\n",
    "romance_med=romance['box_office'].median()"
   ]
  },
  {
   "cell_type": "code",
   "execution_count": 21,
   "metadata": {},
   "outputs": [],
   "source": [
    "top_genres_rev = {'action':action_rev,'drama':drama_rev,'comedy':comedy_rev,'horror':horror_rev,'romance':romance_rev}"
   ]
  },
  {
   "cell_type": "code",
   "execution_count": 37,
   "metadata": {},
   "outputs": [
    {
     "data": {
      "text/plain": [
       "Text(0, 0.5, 'Average Revenue (USD)')"
      ]
     },
     "execution_count": 37,
     "metadata": {},
     "output_type": "execute_result"
    },
    {
     "data": {
      "image/png": "[encoded data removed]",
      "text/plain": [
       "<Figure size 432x288 with 1 Axes>"
      ]
     },
     "metadata": {
      "needs_background": "light"
     },
     "output_type": "display_data"
    }
   ],
   "source": [
    "fig, ax=plt.subplots()\n",
    "plt.ticklabel_format(style='plain')\n",
    "ax.bar(top_genres_rev.keys(),top_genres_rev.values() )\n",
    "\n",
    "\n",
    "\n",
    "\n",
    "\n",
    "ax.set_title(\"Average Box Office Revenue by Genre\")\n",
    "ax.set_xlabel(\"Genres\")\n",
    "ax.set_ylabel(\"Average Revenue (USD)\")"
   ]
  },
  {
   "cell_type": "code",
   "execution_count": 23,
   "metadata": {},
   "outputs": [],
   "source": [
    "top_genres_med = {'action':action_med,'drama':drama_med,'comedy':comedy_med,'horror':horror_med,'romance':romance_med}"
   ]
  },
  {
   "cell_type": "code",
   "execution_count": 38,
   "metadata": {},
   "outputs": [
    {
     "data": {
      "text/plain": [
       "Text(0, 0.5, 'Median Revenue (USD)')"
      ]
     },
     "execution_count": 38,
     "metadata": {},
     "output_type": "execute_result"
    },
    {
     "data": {
      "image/png": "[encoded data removed]",
      "text/plain": [
       "<Figure size 432x288 with 1 Axes>"
      ]
     },
     "metadata": {
      "needs_background": "light"
     },
     "output_type": "display_data"
    }
   ],
   "source": [
    "fig, ax=plt.subplots()\n",
    "plt.ticklabel_format(style='plain')\n",
    "ax.bar(top_genres_med.keys(),top_genres_med.values() )\n",
    "\n",
    "\n",
    "\n",
    "\n",
    "\n",
    "ax.set_title(\"Median Box Office Revenue by Genre\")\n",
    "ax.set_xlabel(\"Genres\")\n",
    "ax.set_ylabel(\"Median Revenue (USD)\")"
   ]
  },
  {
   "cell_type": "code",
   "execution_count": 25,
   "metadata": {},
   "outputs": [
    {
     "data": {
      "text/plain": [
       "41958400.02127659"
      ]
     },
     "execution_count": 25,
     "metadata": {},
     "output_type": "execute_result"
    }
   ],
   "source": [
    "movie_info['box_office'].mean()"
   ]
  },
  {
   "cell_type": "code",
   "execution_count": 26,
   "metadata": {},
   "outputs": [
    {
     "data": {
      "text/plain": [
       "40530545.931372546"
      ]
     },
     "execution_count": 26,
     "metadata": {},
     "output_type": "execute_result"
    }
   ],
   "source": [
    "comedy['box_office'].mean()"
   ]
  },
  {
   "cell_type": "code",
   "execution_count": 27,
   "metadata": {},
   "outputs": [
    {
     "data": {
      "text/plain": [
       "54249600.41858846"
      ]
     },
     "execution_count": 27,
     "metadata": {},
     "output_type": "execute_result"
    }
   ],
   "source": [
    "comedy['box_office'].std()"
   ]
  },
  {
   "cell_type": "code",
   "execution_count": 28,
   "metadata": {},
   "outputs": [],
   "source": [
    "pop=movie_info['box_office']\n",
    "com=comedy['box_office']\n",
    "act=action['box_office']\n",
    "drm=drama['box_office']\n",
    "hor=horror['box_office']"
   ]
  },
  {
   "cell_type": "code",
   "execution_count": 29,
   "metadata": {},
   "outputs": [],
   "source": [
    "alpha = .05"
   ]
  },
  {
   "cell_type": "code",
   "execution_count": 30,
   "metadata": {},
   "outputs": [
    {
     "data": {
      "text/plain": [
       "(-1.6448536269514729, 1.6448536269514722)"
      ]
     },
     "execution_count": 30,
     "metadata": {},
     "output_type": "execute_result"
    }
   ],
   "source": [
    "stats.norm.ppf(alpha), stats.norm.ppf(1-alpha)"
   ]
  },
  {
   "cell_type": "code",
   "execution_count": 31,
   "metadata": {},
   "outputs": [
    {
     "data": {
      "text/plain": [
       "Ttest_indResult(statistic=-0.1999475067200022, pvalue=0.8416429540851095)"
      ]
     },
     "execution_count": 31,
     "metadata": {},
     "output_type": "execute_result"
    }
   ],
   "source": [
    "stats.ttest_ind(com,pop)"
   ]
  },
  {
   "cell_type": "code",
   "execution_count": 32,
   "metadata": {},
   "outputs": [
    {
     "data": {
      "text/plain": [
       "Ttest_indResult(statistic=3.2392189614205606, pvalue=0.0013430512162730568)"
      ]
     },
     "execution_count": 32,
     "metadata": {},
     "output_type": "execute_result"
    }
   ],
   "source": [
    "stats.ttest_ind(act,pop)"
   ]
  },
  {
   "cell_type": "code",
   "execution_count": 33,
   "metadata": {},
   "outputs": [
    {
     "data": {
      "text/plain": [
       "Ttest_indResult(statistic=-1.8073438196319902, pvalue=0.07152964453222374)"
      ]
     },
     "execution_count": 33,
     "metadata": {},
     "output_type": "execute_result"
    }
   ],
   "source": [
    "stats.ttest_ind(drm,pop)"
   ]
  },
  {
   "cell_type": "code",
   "execution_count": 34,
   "metadata": {},
   "outputs": [
    {
     "ename": "NameError",
     "evalue": "name 'rom' is not defined",
     "output_type": "error",
     "traceback": [
      "\u001b[1;31m---------------------------------------------------------------------------\u001b[0m",
      "\u001b[1;31mNameError\u001b[0m                                 Traceback (most recent call last)",
      "Input \u001b[1;32mIn [34]\u001b[0m, in \u001b[0;36m<cell line: 1>\u001b[1;34m()\u001b[0m\n\u001b[1;32m----> 1\u001b[0m stats\u001b[38;5;241m.\u001b[39mttest_ind(\u001b[43mrom\u001b[49m,pop)\n",
      "\u001b[1;31mNameError\u001b[0m: name 'rom' is not defined"
     ]
    }
   ],
   "source": [
    "stats.ttest_ind(rom,pop)"
   ]
  },
  {
   "cell_type": "code",
   "execution_count": null,
   "metadata": {},
   "outputs": [],
   "source": [
    "stats.ttest_ind(hor,pop)"
   ]
  },
  {
   "cell_type": "code",
   "execution_count": null,
   "metadata": {},
   "outputs": [],
   "source": [
    "sorted_movie_info=movie_info.sort_values(by='box_office',ascending=False)\n",
    "sorted_movie_info.head(10)"
   ]
  },
  {
   "cell_type": "code",
   "execution_count": null,
   "metadata": {},
   "outputs": [],
   "source": [
    "##part 1 of creating csv out of sql table movie_basics\n",
    "sql_query = pd.read_sql_query ('''\n",
    "                               SELECT\n",
    "                               *\n",
    "                               FROM movie_basics\n",
    "                               ''', conn)\n",
    "sql_query"
   ]
  },
  {
   "cell_type": "code",
   "execution_count": null,
   "metadata": {
    "scrolled": true
   },
   "outputs": [],
   "source": [
    "##part 2 of creating csv out of sql table movie_basics\n",
    "basics_df = pd.DataFrame(sql_query, columns = ['movie_id', 'primary_title', 'original_title','start_year','runtime_minutes','genres'])\n",
    "basics_df"
   ]
  },
  {
   "cell_type": "markdown",
   "metadata": {},
   "source": [
    "# Jake Umholtz "
   ]
  },
  {
   "cell_type": "markdown",
   "metadata": {},
   "source": [
    "## Business Understanding:\n",
    "\n",
    "Assisting Computing Vision's new movie studio in deciding on what type of films they ought to create.\n",
    "\n",
    "Stakeholder:\n",
    "\n",
    "Computing Vision and their new movie studio.\n",
    "\n",
    "Problem:\n",
    "\n",
    "Computing Vision's new movie studio does not know what type of films they should create.\n",
    "\n",
    "Value:\n",
    "\n",
    "We measure of success is box office performance in terms of currency. We chose this measure of success because Computing Vision's movie studio is a brand new portion of their business, therefore the first priority of the new business to it generate actionable revenue by having early box office success. \n"
   ]
  },
  {
   "cell_type": "markdown",
   "metadata": {},
   "source": [
    "## Data Understanding\n",
    "\n",
    "Data sources:\n",
    "\n",
    "The data is from popular industry related services including: Box Office Mojo, a website that tracks box-office revenue; IMDB, the internet movie database; Rotten Tomatoes, a movie review website; The Movie DB, a database of films; and The Numbers, a data website that tracks box office revenue and other industry related information. \n",
    "\n",
    "Our primary data source is the Box Office Mojo dataset. We chose this source as it contained the necessary information regarding box office performance."
   ]
  },
  {
   "cell_type": "markdown",
   "metadata": {},
   "source": [
    "Rationale: The necessary Python libraries for performing data and statistical analysis."
   ]
  },
  {
   "cell_type": "code",
   "execution_count": 56,
   "metadata": {
    "ExecuteTime": {
     "end_time": "2022-08-18T00:45:07.046708Z",
     "start_time": "2022-08-18T00:45:07.036706Z"
    }
   },
   "outputs": [],
   "source": [
    "import numpy as np\n",
    "import scipy as sp\n",
    "import pandas as pd\n",
    "import scipy.stats as stats\n",
    "import seaborn as sns\n",
    "import matplotlib.pyplot as plt\n",
    "import math\n",
    "import sqlite3"
   ]
  },
  {
   "cell_type": "markdown",
   "metadata": {},
   "source": [
    "Rationale: Importing the data sources as variables to conduct data and statistical analysis."
   ]
  },
  {
   "cell_type": "code",
   "execution_count": 57,
   "metadata": {
    "ExecuteTime": {
     "end_time": "2022-08-18T00:45:07.280766Z",
     "start_time": "2022-08-18T00:45:07.047708Z"
    }
   },
   "outputs": [],
   "source": [
    "movie_gross = pd.read_csv('zippedData/bom.movie_gross.csv')\n",
    "rt_movie_info = pd.read_csv('zippedData/rt.movie_info.csv')\n",
    "rt_reviews = pd.read_csv('zippedData/rt.reviews.csv', encoding='unicode_escape')\n",
    "tn_movie_budgets = pd.read_csv('zippedData/tn.movie_budgets.csv')\n",
    "tmdb_movies = pd.read_csv('zippedData/tmdb.movies.csv', index_col=0)"
   ]
  },
  {
   "cell_type": "code",
   "execution_count": 58,
   "metadata": {
    "ExecuteTime": {
     "end_time": "2022-08-18T00:45:07.311779Z",
     "start_time": "2022-08-18T00:45:07.282766Z"
    }
   },
   "outputs": [
    {
     "name": "stdout",
     "output_type": "stream",
     "text": [
      "<class 'pandas.core.frame.DataFrame'>\n",
      "RangeIndex: 1560 entries, 0 to 1559\n",
      "Data columns (total 12 columns):\n",
      " #   Column        Non-Null Count  Dtype \n",
      "---  ------        --------------  ----- \n",
      " 0   id            1560 non-null   int64 \n",
      " 1   synopsis      1498 non-null   object\n",
      " 2   rating        1557 non-null   object\n",
      " 3   genre         1552 non-null   object\n",
      " 4   director      1361 non-null   object\n",
      " 5   writer        1111 non-null   object\n",
      " 6   theater_date  1201 non-null   object\n",
      " 7   dvd_date      1201 non-null   object\n",
      " 8   currency      340 non-null    object\n",
      " 9   box_office    340 non-null    object\n",
      " 10  runtime       1530 non-null   object\n",
      " 11  studio        494 non-null    object\n",
      "dtypes: int64(1), object(11)\n",
      "memory usage: 146.4+ KB\n"
     ]
    }
   ],
   "source": [
    "# there are 1560 records in this dataset\n",
    "original_rt_movie_info = pd.read_csv('zippedData/rt.movie_info.csv')\n",
    "original_rt_movie_info.info()"
   ]
  },
  {
   "cell_type": "code",
   "execution_count": 59,
   "metadata": {
    "ExecuteTime": {
     "end_time": "2022-08-18T00:45:07.327782Z",
     "start_time": "2022-08-18T00:45:07.313779Z"
    }
   },
   "outputs": [
    {
     "data": {
      "text/html": [
       "<div>\n",
       "<style scoped>\n",
       "    .dataframe tbody tr th:only-of-type {\n",
       "        vertical-align: middle;\n",
       "    }\n",
       "\n",
       "    .dataframe tbody tr th {\n",
       "        vertical-align: top;\n",
       "    }\n",
       "\n",
       "    .dataframe thead th {\n",
       "        text-align: right;\n",
       "    }\n",
       "</style>\n",
       "<table border=\"1\" class=\"dataframe\">\n",
       "  <thead>\n",
       "    <tr style=\"text-align: right;\">\n",
       "      <th></th>\n",
       "      <th>id</th>\n",
       "      <th>synopsis</th>\n",
       "      <th>rating</th>\n",
       "      <th>genre</th>\n",
       "      <th>director</th>\n",
       "      <th>writer</th>\n",
       "      <th>theater_date</th>\n",
       "      <th>dvd_date</th>\n",
       "      <th>currency</th>\n",
       "      <th>box_office</th>\n",
       "      <th>runtime</th>\n",
       "      <th>studio</th>\n",
       "    </tr>\n",
       "  </thead>\n",
       "  <tbody>\n",
       "    <tr>\n",
       "      <th>0</th>\n",
       "      <td>1</td>\n",
       "      <td>This gritty, fast-paced, and innovative police...</td>\n",
       "      <td>R</td>\n",
       "      <td>Action and Adventure|Classics|Drama</td>\n",
       "      <td>William Friedkin</td>\n",
       "      <td>Ernest Tidyman</td>\n",
       "      <td>9-Oct-71</td>\n",
       "      <td>25-Sep-01</td>\n",
       "      <td>NaN</td>\n",
       "      <td>NaN</td>\n",
       "      <td>104 minutes</td>\n",
       "      <td>NaN</td>\n",
       "    </tr>\n",
       "    <tr>\n",
       "      <th>1</th>\n",
       "      <td>3</td>\n",
       "      <td>New York City, not-too-distant-future: Eric Pa...</td>\n",
       "      <td>R</td>\n",
       "      <td>Drama|Science Fiction and Fantasy</td>\n",
       "      <td>David Cronenberg</td>\n",
       "      <td>David Cronenberg|Don DeLillo</td>\n",
       "      <td>17-Aug-12</td>\n",
       "      <td>1-Jan-13</td>\n",
       "      <td>$</td>\n",
       "      <td>600,000</td>\n",
       "      <td>108 minutes</td>\n",
       "      <td>Entertainment One</td>\n",
       "    </tr>\n",
       "    <tr>\n",
       "      <th>2</th>\n",
       "      <td>5</td>\n",
       "      <td>Illeana Douglas delivers a superb performance ...</td>\n",
       "      <td>R</td>\n",
       "      <td>Drama|Musical and Performing Arts</td>\n",
       "      <td>Allison Anders</td>\n",
       "      <td>Allison Anders</td>\n",
       "      <td>13-Sep-96</td>\n",
       "      <td>18-Apr-00</td>\n",
       "      <td>NaN</td>\n",
       "      <td>NaN</td>\n",
       "      <td>116 minutes</td>\n",
       "      <td>NaN</td>\n",
       "    </tr>\n",
       "    <tr>\n",
       "      <th>3</th>\n",
       "      <td>6</td>\n",
       "      <td>Michael Douglas runs afoul of a treacherous su...</td>\n",
       "      <td>R</td>\n",
       "      <td>Drama|Mystery and Suspense</td>\n",
       "      <td>Barry Levinson</td>\n",
       "      <td>Paul Attanasio|Michael Crichton</td>\n",
       "      <td>9-Dec-94</td>\n",
       "      <td>27-Aug-97</td>\n",
       "      <td>NaN</td>\n",
       "      <td>NaN</td>\n",
       "      <td>128 minutes</td>\n",
       "      <td>NaN</td>\n",
       "    </tr>\n",
       "    <tr>\n",
       "      <th>4</th>\n",
       "      <td>7</td>\n",
       "      <td>NaN</td>\n",
       "      <td>NR</td>\n",
       "      <td>Drama|Romance</td>\n",
       "      <td>Rodney Bennett</td>\n",
       "      <td>Giles Cooper</td>\n",
       "      <td>NaN</td>\n",
       "      <td>NaN</td>\n",
       "      <td>NaN</td>\n",
       "      <td>NaN</td>\n",
       "      <td>200 minutes</td>\n",
       "      <td>NaN</td>\n",
       "    </tr>\n",
       "  </tbody>\n",
       "</table>\n",
       "</div>"
      ],
      "text/plain": [
       "   id                                           synopsis rating  \\\n",
       "0   1  This gritty, fast-paced, and innovative police...      R   \n",
       "1   3  New York City, not-too-distant-future: Eric Pa...      R   \n",
       "2   5  Illeana Douglas delivers a superb performance ...      R   \n",
       "3   6  Michael Douglas runs afoul of a treacherous su...      R   \n",
       "4   7                                                NaN     NR   \n",
       "\n",
       "                                 genre          director  \\\n",
       "0  Action and Adventure|Classics|Drama  William Friedkin   \n",
       "1    Drama|Science Fiction and Fantasy  David Cronenberg   \n",
       "2    Drama|Musical and Performing Arts    Allison Anders   \n",
       "3           Drama|Mystery and Suspense    Barry Levinson   \n",
       "4                        Drama|Romance    Rodney Bennett   \n",
       "\n",
       "                            writer theater_date   dvd_date currency  \\\n",
       "0                   Ernest Tidyman     9-Oct-71  25-Sep-01      NaN   \n",
       "1     David Cronenberg|Don DeLillo    17-Aug-12   1-Jan-13        $   \n",
       "2                   Allison Anders    13-Sep-96  18-Apr-00      NaN   \n",
       "3  Paul Attanasio|Michael Crichton     9-Dec-94  27-Aug-97      NaN   \n",
       "4                     Giles Cooper          NaN        NaN      NaN   \n",
       "\n",
       "  box_office      runtime             studio  \n",
       "0        NaN  104 minutes                NaN  \n",
       "1    600,000  108 minutes  Entertainment One  \n",
       "2        NaN  116 minutes                NaN  \n",
       "3        NaN  128 minutes                NaN  \n",
       "4        NaN  200 minutes                NaN  "
      ]
     },
     "execution_count": 59,
     "metadata": {},
     "output_type": "execute_result"
    }
   ],
   "source": [
    "#quickly visualizing the dataframe \n",
    "original_rt_movie_info.head()"
   ]
  },
  {
   "cell_type": "code",
   "execution_count": 60,
   "metadata": {
    "ExecuteTime": {
     "end_time": "2022-08-18T00:45:07.343786Z",
     "start_time": "2022-08-18T00:45:07.328782Z"
    }
   },
   "outputs": [
    {
     "name": "stdout",
     "output_type": "stream",
     "text": [
      "id                 0\n",
      "synopsis          62\n",
      "rating             3\n",
      "genre              8\n",
      "director         199\n",
      "writer           449\n",
      "theater_date     359\n",
      "dvd_date         359\n",
      "currency        1220\n",
      "box_office      1220\n",
      "runtime           30\n",
      "studio          1066\n",
      "dtype: int64\n"
     ]
    }
   ],
   "source": [
    "# counting the total number of null values in the dataset\n",
    "print(original_rt_movie_info.isnull().sum())"
   ]
  },
  {
   "cell_type": "code",
   "execution_count": 61,
   "metadata": {
    "ExecuteTime": {
     "end_time": "2022-08-18T00:45:07.359790Z",
     "start_time": "2022-08-18T00:45:07.345786Z"
    }
   },
   "outputs": [
    {
     "data": {
      "text/plain": [
       "340"
      ]
     },
     "execution_count": 61,
     "metadata": {},
     "output_type": "execute_result"
    }
   ],
   "source": [
    "# counting the none-null values in the box_office column\n",
    "original_rt_movie_info['box_office'].count()"
   ]
  },
  {
   "cell_type": "code",
   "execution_count": 62,
   "metadata": {
    "ExecuteTime": {
     "end_time": "2022-08-18T00:45:07.375793Z",
     "start_time": "2022-08-18T00:45:07.360789Z"
    }
   },
   "outputs": [
    {
     "data": {
      "text/plain": [
       "1530"
      ]
     },
     "execution_count": 62,
     "metadata": {},
     "output_type": "execute_result"
    }
   ],
   "source": [
    "# counting the none-null values in the runtime column\n",
    "original_rt_movie_info['runtime'].count()"
   ]
  },
  {
   "cell_type": "markdown",
   "metadata": {},
   "source": [
    "Rationale: By cleaning rt_movie_info, it allows us to perform data and statistical analysis on the data within the dataset. This data set is important for our business insights and recommendations as it contains the information related to run time of movies. "
   ]
  },
  {
   "cell_type": "code",
   "execution_count": 63,
   "metadata": {
    "ExecuteTime": {
     "end_time": "2022-08-18T00:45:07.391797Z",
     "start_time": "2022-08-18T00:45:07.378795Z"
    }
   },
   "outputs": [],
   "source": [
    "#Cleaning movie info data set\n",
    "\n",
    "rt_movie_info = rt_movie_info.dropna()\n",
    "# dropping the null values because the data set is large enough at over 1500 records to handle the loss of data\n",
    "# the data is also highly varied, so filling in with the mean will not be the\n",
    "# most accurate representation  \n",
    "# However, it is important to note that by doing this we will lose data\n",
    "box_office = []\n",
    "for v in rt_movie_info['box_office'].dropna():\n",
    "    box_office.append(box_office)\n",
    "\n"
   ]
  },
  {
   "cell_type": "code",
   "execution_count": 64,
   "metadata": {
    "ExecuteTime": {
     "end_time": "2022-08-18T00:45:07.407800Z",
     "start_time": "2022-08-18T00:45:07.393797Z"
    }
   },
   "outputs": [],
   "source": [
    "# more cleaning of the data set\n",
    "runtime_raw = []\n",
    "runtime_clean = []\n",
    "box_off_raw = []\n",
    "box_off_clean = []\n",
    "for val in rt_movie_info['runtime'].str[:3]: #extract first 3 characters,movies under 100 min will have whitespace\n",
    "    runtime_raw.append(val)\n",
    "for val in runtime_raw: #strip whitespace\n",
    "    runtime_strip = val.replace(' ', '')\n",
    "    runtime_clean.append(runtime_strip)\n",
    "    \n",
    "for val in rt_movie_info['box_office']:\n",
    "    box_off_strip = val.replace(',', '')\n",
    "    box_off_clean.append(box_off_strip)\n",
    "\n",
    "\n",
    "\n",
    "rt_movie_info['runtime_clean'] = runtime_clean\n",
    "rt_movie_info['box_office_clean'] = box_off_clean\n"
   ]
  },
  {
   "cell_type": "code",
   "execution_count": 65,
   "metadata": {
    "ExecuteTime": {
     "end_time": "2022-08-18T00:45:07.423804Z",
     "start_time": "2022-08-18T00:45:07.408800Z"
    }
   },
   "outputs": [
    {
     "name": "stdout",
     "output_type": "stream",
     "text": [
      "id                  0\n",
      "synopsis            0\n",
      "rating              0\n",
      "genre               0\n",
      "director            0\n",
      "writer              0\n",
      "theater_date        0\n",
      "dvd_date            0\n",
      "currency            0\n",
      "box_office          0\n",
      "runtime             0\n",
      "studio              0\n",
      "runtime_clean       0\n",
      "box_office_clean    0\n",
      "dtype: int64\n"
     ]
    }
   ],
   "source": [
    "# sanity check on null values\n",
    "print(rt_movie_info.isnull().sum())"
   ]
  },
  {
   "cell_type": "code",
   "execution_count": 66,
   "metadata": {
    "ExecuteTime": {
     "end_time": "2022-08-18T00:45:07.439808Z",
     "start_time": "2022-08-18T00:45:07.425804Z"
    },
    "scrolled": true
   },
   "outputs": [
    {
     "data": {
      "text/html": [
       "<div>\n",
       "<style scoped>\n",
       "    .dataframe tbody tr th:only-of-type {\n",
       "        vertical-align: middle;\n",
       "    }\n",
       "\n",
       "    .dataframe tbody tr th {\n",
       "        vertical-align: top;\n",
       "    }\n",
       "\n",
       "    .dataframe thead th {\n",
       "        text-align: right;\n",
       "    }\n",
       "</style>\n",
       "<table border=\"1\" class=\"dataframe\">\n",
       "  <thead>\n",
       "    <tr style=\"text-align: right;\">\n",
       "      <th></th>\n",
       "      <th>id</th>\n",
       "      <th>synopsis</th>\n",
       "      <th>rating</th>\n",
       "      <th>genre</th>\n",
       "      <th>director</th>\n",
       "      <th>writer</th>\n",
       "      <th>theater_date</th>\n",
       "      <th>dvd_date</th>\n",
       "      <th>currency</th>\n",
       "      <th>box_office</th>\n",
       "      <th>runtime</th>\n",
       "      <th>studio</th>\n",
       "      <th>runtime_clean</th>\n",
       "      <th>box_office_clean</th>\n",
       "    </tr>\n",
       "  </thead>\n",
       "  <tbody>\n",
       "    <tr>\n",
       "      <th>1</th>\n",
       "      <td>3</td>\n",
       "      <td>New York City, not-too-distant-future: Eric Pa...</td>\n",
       "      <td>R</td>\n",
       "      <td>Drama|Science Fiction and Fantasy</td>\n",
       "      <td>David Cronenberg</td>\n",
       "      <td>David Cronenberg|Don DeLillo</td>\n",
       "      <td>17-Aug-12</td>\n",
       "      <td>1-Jan-13</td>\n",
       "      <td>$</td>\n",
       "      <td>600,000</td>\n",
       "      <td>108 minutes</td>\n",
       "      <td>Entertainment One</td>\n",
       "      <td>108</td>\n",
       "      <td>600000</td>\n",
       "    </tr>\n",
       "    <tr>\n",
       "      <th>6</th>\n",
       "      <td>10</td>\n",
       "      <td>Some cast and crew from NBC's highly acclaimed...</td>\n",
       "      <td>PG-13</td>\n",
       "      <td>Comedy</td>\n",
       "      <td>Jake Kasdan</td>\n",
       "      <td>Mike White</td>\n",
       "      <td>11-Jan-02</td>\n",
       "      <td>18-Jun-02</td>\n",
       "      <td>$</td>\n",
       "      <td>41,032,915</td>\n",
       "      <td>82 minutes</td>\n",
       "      <td>Paramount Pictures</td>\n",
       "      <td>82</td>\n",
       "      <td>41032915</td>\n",
       "    </tr>\n",
       "    <tr>\n",
       "      <th>7</th>\n",
       "      <td>13</td>\n",
       "      <td>Stewart Kane, an Irishman living in the Austra...</td>\n",
       "      <td>R</td>\n",
       "      <td>Drama</td>\n",
       "      <td>Ray Lawrence</td>\n",
       "      <td>Raymond Carver|Beatrix Christian</td>\n",
       "      <td>27-Apr-06</td>\n",
       "      <td>2-Oct-07</td>\n",
       "      <td>$</td>\n",
       "      <td>224,114</td>\n",
       "      <td>123 minutes</td>\n",
       "      <td>Sony Pictures Classics</td>\n",
       "      <td>123</td>\n",
       "      <td>224114</td>\n",
       "    </tr>\n",
       "    <tr>\n",
       "      <th>15</th>\n",
       "      <td>22</td>\n",
       "      <td>Two-time Academy Award Winner Kevin Spacey giv...</td>\n",
       "      <td>R</td>\n",
       "      <td>Comedy|Drama|Mystery and Suspense</td>\n",
       "      <td>George Hickenlooper</td>\n",
       "      <td>Norman Snider</td>\n",
       "      <td>17-Dec-10</td>\n",
       "      <td>5-Apr-11</td>\n",
       "      <td>$</td>\n",
       "      <td>1,039,869</td>\n",
       "      <td>108 minutes</td>\n",
       "      <td>ATO Pictures</td>\n",
       "      <td>108</td>\n",
       "      <td>1039869</td>\n",
       "    </tr>\n",
       "    <tr>\n",
       "      <th>18</th>\n",
       "      <td>25</td>\n",
       "      <td>From ancient Japan's most enduring tale, the e...</td>\n",
       "      <td>PG-13</td>\n",
       "      <td>Action and Adventure|Drama|Science Fiction and...</td>\n",
       "      <td>Carl Erik Rinsch</td>\n",
       "      <td>Chris Morgan|Hossein Amini</td>\n",
       "      <td>25-Dec-13</td>\n",
       "      <td>1-Apr-14</td>\n",
       "      <td>$</td>\n",
       "      <td>20,518,224</td>\n",
       "      <td>127 minutes</td>\n",
       "      <td>Universal Pictures</td>\n",
       "      <td>127</td>\n",
       "      <td>20518224</td>\n",
       "    </tr>\n",
       "  </tbody>\n",
       "</table>\n",
       "</div>"
      ],
      "text/plain": [
       "    id                                           synopsis rating  \\\n",
       "1    3  New York City, not-too-distant-future: Eric Pa...      R   \n",
       "6   10  Some cast and crew from NBC's highly acclaimed...  PG-13   \n",
       "7   13  Stewart Kane, an Irishman living in the Austra...      R   \n",
       "15  22  Two-time Academy Award Winner Kevin Spacey giv...      R   \n",
       "18  25  From ancient Japan's most enduring tale, the e...  PG-13   \n",
       "\n",
       "                                                genre             director  \\\n",
       "1                   Drama|Science Fiction and Fantasy     David Cronenberg   \n",
       "6                                              Comedy          Jake Kasdan   \n",
       "7                                               Drama         Ray Lawrence   \n",
       "15                  Comedy|Drama|Mystery and Suspense  George Hickenlooper   \n",
       "18  Action and Adventure|Drama|Science Fiction and...     Carl Erik Rinsch   \n",
       "\n",
       "                              writer theater_date   dvd_date currency  \\\n",
       "1       David Cronenberg|Don DeLillo    17-Aug-12   1-Jan-13        $   \n",
       "6                         Mike White    11-Jan-02  18-Jun-02        $   \n",
       "7   Raymond Carver|Beatrix Christian    27-Apr-06   2-Oct-07        $   \n",
       "15                     Norman Snider    17-Dec-10   5-Apr-11        $   \n",
       "18        Chris Morgan|Hossein Amini    25-Dec-13   1-Apr-14        $   \n",
       "\n",
       "    box_office      runtime                  studio runtime_clean  \\\n",
       "1      600,000  108 minutes       Entertainment One           108   \n",
       "6   41,032,915   82 minutes      Paramount Pictures            82   \n",
       "7      224,114  123 minutes  Sony Pictures Classics           123   \n",
       "15   1,039,869  108 minutes            ATO Pictures           108   \n",
       "18  20,518,224  127 minutes      Universal Pictures           127   \n",
       "\n",
       "   box_office_clean  \n",
       "1            600000  \n",
       "6          41032915  \n",
       "7            224114  \n",
       "15          1039869  \n",
       "18         20518224  "
      ]
     },
     "execution_count": 66,
     "metadata": {},
     "output_type": "execute_result"
    }
   ],
   "source": [
    "rt_movie_info.head()"
   ]
  },
  {
   "cell_type": "code",
   "execution_count": 67,
   "metadata": {
    "ExecuteTime": {
     "end_time": "2022-08-18T00:45:07.455811Z",
     "start_time": "2022-08-18T00:45:07.440807Z"
    }
   },
   "outputs": [
    {
     "data": {
      "text/plain": [
       "count          235\n",
       "unique         235\n",
       "top       67631157\n",
       "freq             1\n",
       "Name: box_office_clean, dtype: object"
      ]
     },
     "execution_count": 67,
     "metadata": {},
     "output_type": "execute_result"
    }
   ],
   "source": [
    "# checking the descriptive statistics\n",
    "rt_movie_info['box_office_clean'].describe()"
   ]
  },
  {
   "cell_type": "code",
   "execution_count": 68,
   "metadata": {
    "ExecuteTime": {
     "end_time": "2022-08-18T00:45:07.471814Z",
     "start_time": "2022-08-18T00:45:07.457811Z"
    }
   },
   "outputs": [
    {
     "data": {
      "text/plain": [
       "count     235\n",
       "unique     69\n",
       "top       115\n",
       "freq       10\n",
       "Name: runtime_clean, dtype: object"
      ]
     },
     "execution_count": 68,
     "metadata": {},
     "output_type": "execute_result"
    }
   ],
   "source": [
    "# checking the descriptive statistics\n",
    "rt_movie_info['runtime_clean'].describe()"
   ]
  },
  {
   "cell_type": "code",
   "execution_count": 69,
   "metadata": {
    "ExecuteTime": {
     "end_time": "2022-08-18T00:45:07.486818Z",
     "start_time": "2022-08-18T00:45:07.473815Z"
    }
   },
   "outputs": [
    {
     "data": {
      "text/plain": [
       "1         600000\n",
       "6       41032915\n",
       "7         224114\n",
       "15       1039869\n",
       "18      20518224\n",
       "          ...   \n",
       "1530    72700000\n",
       "1537     1320005\n",
       "1541    25335935\n",
       "1542     1416189\n",
       "1545       59371\n",
       "Name: box_office_clean, Length: 235, dtype: int32"
      ]
     },
     "execution_count": 69,
     "metadata": {},
     "output_type": "execute_result"
    }
   ],
   "source": [
    "# turing the object in the cleaned columns into integers\n",
    "\n",
    "rt_movie_info['box_office_clean'].astype(int)"
   ]
  },
  {
   "cell_type": "code",
   "execution_count": 70,
   "metadata": {
    "ExecuteTime": {
     "end_time": "2022-08-18T00:45:07.502821Z",
     "start_time": "2022-08-18T00:45:07.489360Z"
    }
   },
   "outputs": [
    {
     "data": {
      "text/plain": [
       "1       108\n",
       "6        82\n",
       "7       123\n",
       "15      108\n",
       "18      127\n",
       "       ... \n",
       "1530    126\n",
       "1537    123\n",
       "1541    119\n",
       "1542    129\n",
       "1545     98\n",
       "Name: runtime_clean, Length: 235, dtype: int32"
      ]
     },
     "execution_count": 70,
     "metadata": {},
     "output_type": "execute_result"
    }
   ],
   "source": [
    "rt_movie_info['runtime_clean'].astype(int)"
   ]
  },
  {
   "cell_type": "code",
   "execution_count": 71,
   "metadata": {
    "ExecuteTime": {
     "end_time": "2022-08-18T00:45:07.518827Z",
     "start_time": "2022-08-18T00:45:07.504822Z"
    }
   },
   "outputs": [
    {
     "data": {
      "text/plain": [
       "15536310.0"
      ]
     },
     "execution_count": 71,
     "metadata": {},
     "output_type": "execute_result"
    }
   ],
   "source": [
    "# checking the median\n",
    "rt_movie_info['box_office_clean'].median()"
   ]
  },
  {
   "cell_type": "code",
   "execution_count": 72,
   "metadata": {
    "ExecuteTime": {
     "end_time": "2022-08-18T00:45:07.534832Z",
     "start_time": "2022-08-18T00:45:07.520828Z"
    }
   },
   "outputs": [
    {
     "data": {
      "text/plain": [
       "105.0"
      ]
     },
     "execution_count": 72,
     "metadata": {},
     "output_type": "execute_result"
    }
   ],
   "source": [
    "# checking the median\n",
    "rt_movie_info['runtime_clean'].median()"
   ]
  },
  {
   "cell_type": "markdown",
   "metadata": {},
   "source": [
    "Rationale: By creating a new Pandas dataframe of just run time and box office "
   ]
  },
  {
   "cell_type": "code",
   "execution_count": 73,
   "metadata": {
    "ExecuteTime": {
     "end_time": "2022-08-18T00:45:07.550839Z",
     "start_time": "2022-08-18T00:45:07.537832Z"
    }
   },
   "outputs": [
    {
     "name": "stdout",
     "output_type": "stream",
     "text": [
      "      runtime_clean  box_office_clean\n",
      "1               108            600000\n",
      "6                82          41032915\n",
      "7               123            224114\n",
      "15              108           1039869\n",
      "18              127          20518224\n",
      "...             ...               ...\n",
      "1530            126          72700000\n",
      "1537            123           1320005\n",
      "1541            119          25335935\n",
      "1542            129           1416189\n",
      "1545             98             59371\n",
      "\n",
      "[235 rows x 2 columns]\n"
     ]
    }
   ],
   "source": [
    "#Creating a new Pandas dataframe of just the runtime and box office information\n",
    "df2 = rt_movie_info[['runtime_clean','box_office_clean']].copy()\n",
    "\n",
    "#standardizing the type of data for the new dataframe\n",
    "df2['runtime_clean'] = df2['runtime_clean'].astype(int)\n",
    "df2['box_office_clean'] = df2['box_office_clean'].astype(int)\n",
    "\n",
    "print(df2)"
   ]
  },
  {
   "cell_type": "code",
   "execution_count": 74,
   "metadata": {
    "ExecuteTime": {
     "end_time": "2022-08-18T00:45:07.565840Z",
     "start_time": "2022-08-18T00:45:07.552837Z"
    }
   },
   "outputs": [
    {
     "data": {
      "text/html": [
       "<div>\n",
       "<style scoped>\n",
       "    .dataframe tbody tr th:only-of-type {\n",
       "        vertical-align: middle;\n",
       "    }\n",
       "\n",
       "    .dataframe tbody tr th {\n",
       "        vertical-align: top;\n",
       "    }\n",
       "\n",
       "    .dataframe thead th {\n",
       "        text-align: right;\n",
       "    }\n",
       "</style>\n",
       "<table border=\"1\" class=\"dataframe\">\n",
       "  <thead>\n",
       "    <tr style=\"text-align: right;\">\n",
       "      <th></th>\n",
       "      <th>runtime_clean</th>\n",
       "      <th>box_office_clean</th>\n",
       "    </tr>\n",
       "  </thead>\n",
       "  <tbody>\n",
       "    <tr>\n",
       "      <th>runtime_clean</th>\n",
       "      <td>1.000000</td>\n",
       "      <td>0.312157</td>\n",
       "    </tr>\n",
       "    <tr>\n",
       "      <th>box_office_clean</th>\n",
       "      <td>0.312157</td>\n",
       "      <td>1.000000</td>\n",
       "    </tr>\n",
       "  </tbody>\n",
       "</table>\n",
       "</div>"
      ],
      "text/plain": [
       "                  runtime_clean  box_office_clean\n",
       "runtime_clean          1.000000          0.312157\n",
       "box_office_clean       0.312157          1.000000"
      ]
     },
     "execution_count": 74,
     "metadata": {},
     "output_type": "execute_result"
    }
   ],
   "source": [
    "# finding the correlation between runtime and box office performance\n",
    "df2.corr()"
   ]
  },
  {
   "cell_type": "markdown",
   "metadata": {},
   "source": [
    "There is a low to medium correlation between runtime and box office performance measured in USD"
   ]
  },
  {
   "cell_type": "code",
   "execution_count": 75,
   "metadata": {
    "ExecuteTime": {
     "end_time": "2022-08-18T00:45:07.757807Z",
     "start_time": "2022-08-18T00:45:07.568842Z"
    }
   },
   "outputs": [
    {
     "name": "stdout",
     "output_type": "stream",
     "text": [
      " Low to medium correlation of 0.312\n"
     ]
    },
    {
     "data": {
      "image/png": "[encoded data removed]",
      "text/plain": [
       "<Figure size 432x288 with 1 Axes>"
      ]
     },
     "metadata": {
      "needs_background": "light"
     },
     "output_type": "display_data"
    }
   ],
   "source": [
    "# scatter plot of the correlation\n",
    "fig, ax = plt.subplots()\n",
    "\n",
    "\n",
    "ax.scatter(df2['runtime_clean'], df2['box_office_clean'], label=\"Films\")\n",
    "\n",
    "\n",
    "\n",
    "x_bounds = [min(df2['runtime_clean']), max(df2['runtime_clean'])]\n",
    "y_bounds = [min(df2['box_office_clean']), max(df2['box_office_clean'])]\n",
    "\n",
    "\n",
    "\n",
    "ax.plot(x_bounds, y_bounds, \"--\", label=\"Perfect Correlation\", color='r')\n",
    "\n",
    "\n",
    "\n",
    "ax.set_title(\"Runtime vs Box Office Revenue\")\n",
    "ax.set_xlabel(\"Runtime (Minutes)\")\n",
    "ax.set_ylabel(\"Box Office Performance (USD)\")\n",
    "\n",
    "\n",
    "\n",
    "\n",
    "ax.legend();\n",
    "\n",
    "print(f' Low to medium correlation of 0.312')"
   ]
  },
  {
   "cell_type": "markdown",
   "metadata": {},
   "source": [
    "There is a medium correlation between the run time of a film to its box office performance\n",
    "We can conclude that there are other factors in play that contribute to box office performance other than run time."
   ]
  },
  {
   "cell_type": "code",
   "execution_count": 76,
   "metadata": {
    "ExecuteTime": {
     "end_time": "2022-08-18T00:45:07.772813Z",
     "start_time": "2022-08-18T00:45:07.758811Z"
    }
   },
   "outputs": [
    {
     "name": "stdout",
     "output_type": "stream",
     "text": [
      "<class 'pandas.core.frame.DataFrame'>\n",
      "Int64Index: 235 entries, 1 to 1545\n",
      "Data columns (total 14 columns):\n",
      " #   Column            Non-Null Count  Dtype \n",
      "---  ------            --------------  ----- \n",
      " 0   id                235 non-null    int64 \n",
      " 1   synopsis          235 non-null    object\n",
      " 2   rating            235 non-null    object\n",
      " 3   genre             235 non-null    object\n",
      " 4   director          235 non-null    object\n",
      " 5   writer            235 non-null    object\n",
      " 6   theater_date      235 non-null    object\n",
      " 7   dvd_date          235 non-null    object\n",
      " 8   currency          235 non-null    object\n",
      " 9   box_office        235 non-null    object\n",
      " 10  runtime           235 non-null    object\n",
      " 11  studio            235 non-null    object\n",
      " 12  runtime_clean     235 non-null    object\n",
      " 13  box_office_clean  235 non-null    object\n",
      "dtypes: int64(1), object(13)\n",
      "memory usage: 27.5+ KB\n"
     ]
    }
   ],
   "source": [
    "rt_movie_info.info()"
   ]
  },
  {
   "cell_type": "code",
   "execution_count": 77,
   "metadata": {
    "ExecuteTime": {
     "end_time": "2022-08-18T00:45:07.787817Z",
     "start_time": "2022-08-18T00:45:07.774815Z"
    }
   },
   "outputs": [
    {
     "name": "stdout",
     "output_type": "stream",
     "text": [
      "id                 0\n",
      "synopsis          62\n",
      "rating             3\n",
      "genre              8\n",
      "director         199\n",
      "writer           449\n",
      "theater_date     359\n",
      "dvd_date         359\n",
      "currency        1220\n",
      "box_office      1220\n",
      "runtime           30\n",
      "studio          1066\n",
      "dtype: int64\n"
     ]
    }
   ],
   "source": [
    "# counting the total number of null values in the dataset\n",
    "print(original_rt_movie_info.isnull().sum())"
   ]
  },
  {
   "cell_type": "code",
   "execution_count": 78,
   "metadata": {
    "ExecuteTime": {
     "end_time": "2022-08-18T00:45:07.803819Z",
     "start_time": "2022-08-18T00:45:07.791816Z"
    }
   },
   "outputs": [
    {
     "data": {
      "text/plain": [
       "1557"
      ]
     },
     "execution_count": 78,
     "metadata": {},
     "output_type": "execute_result"
    }
   ],
   "source": [
    "# counting the none-null values in the rating column\n",
    "original_rt_movie_info['rating'].count()"
   ]
  },
  {
   "cell_type": "code",
   "execution_count": 79,
   "metadata": {
    "ExecuteTime": {
     "end_time": "2022-08-18T00:45:07.819823Z",
     "start_time": "2022-08-18T00:45:07.805820Z"
    }
   },
   "outputs": [],
   "source": [
    "# creating a new dataframe of just the rating and the box office performance\n",
    "df3 = rt_movie_info[['box_office_clean','rating']].copy()"
   ]
  },
  {
   "cell_type": "code",
   "execution_count": 80,
   "metadata": {
    "ExecuteTime": {
     "end_time": "2022-08-18T00:45:07.835822Z",
     "start_time": "2022-08-18T00:45:07.821824Z"
    }
   },
   "outputs": [
    {
     "data": {
      "text/plain": [
       "1           R\n",
       "6       PG-13\n",
       "7           R\n",
       "15          R\n",
       "18      PG-13\n",
       "        ...  \n",
       "1530       PG\n",
       "1537       NR\n",
       "1541    PG-13\n",
       "1542       NR\n",
       "1545        R\n",
       "Name: rating, Length: 235, dtype: object"
      ]
     },
     "execution_count": 80,
     "metadata": {},
     "output_type": "execute_result"
    }
   ],
   "source": [
    "rt_movie_info['rating']"
   ]
  },
  {
   "cell_type": "code",
   "execution_count": 81,
   "metadata": {
    "ExecuteTime": {
     "end_time": "2022-08-18T00:45:07.850834Z",
     "start_time": "2022-08-18T00:45:07.836823Z"
    }
   },
   "outputs": [
    {
     "name": "stdout",
     "output_type": "stream",
     "text": [
      "id                   0\n",
      "release_date         0\n",
      "movie                0\n",
      "production_budget    0\n",
      "domestic_gross       0\n",
      "worldwide_gross      0\n",
      "dtype: int64\n"
     ]
    }
   ],
   "source": [
    "# checking for null values\n",
    "print(tn_movie_budgets.isnull().sum())"
   ]
  },
  {
   "cell_type": "code",
   "execution_count": 103,
   "metadata": {
    "ExecuteTime": {
     "end_time": "2022-08-18T00:49:37.261937Z",
     "start_time": "2022-08-18T00:49:37.241932Z"
    }
   },
   "outputs": [
    {
     "name": "stdout",
     "output_type": "stream",
     "text": [
      "<class 'pandas.core.frame.DataFrame'>\n",
      "RangeIndex: 5782 entries, 0 to 5781\n",
      "Data columns (total 6 columns):\n",
      " #   Column             Non-Null Count  Dtype \n",
      "---  ------             --------------  ----- \n",
      " 0   id                 5782 non-null   int64 \n",
      " 1   release_date       5782 non-null   object\n",
      " 2   movie              5782 non-null   object\n",
      " 3   production_budget  5782 non-null   int32 \n",
      " 4   domestic_gross     5782 non-null   object\n",
      " 5   worldwide_gross    5782 non-null   object\n",
      "dtypes: int32(1), int64(1), object(4)\n",
      "memory usage: 248.6+ KB\n"
     ]
    }
   ],
   "source": [
    "# checking the dtype\n",
    "tn_movie_budgets.info()"
   ]
  },
  {
   "cell_type": "code",
   "execution_count": 105,
   "metadata": {
    "ExecuteTime": {
     "end_time": "2022-08-18T00:50:41.047581Z",
     "start_time": "2022-08-18T00:50:41.029576Z"
    }
   },
   "outputs": [],
   "source": [
    "# turning the budget into a string so it is easy to clean\n",
    "tn_movie_budgets['production_budget'] = tn_movie_budgets['production_budget'].astype(str)"
   ]
  },
  {
   "cell_type": "code",
   "execution_count": 106,
   "metadata": {
    "ExecuteTime": {
     "end_time": "2022-08-18T00:50:41.847053Z",
     "start_time": "2022-08-18T00:50:41.836051Z"
    }
   },
   "outputs": [],
   "source": [
    "# removing commas, dollar signs, and white space\n",
    "# turning the production budget back into an integer so calculations can be performed\n",
    "tn_movie_budgets['production_budget'] = tn_movie_budgets['production_budget'].str.replace(',', '')\n",
    "tn_movie_budgets['production_budget'] = tn_movie_budgets['production_budget'].str.replace('$', '')\n",
    "tn_movie_budgets['production_budget'] = tn_movie_budgets['production_budget'].str.replace(' ', '')\n",
    "tn_movie_budgets['production_budget'] = tn_movie_budgets['production_budget'].astype(int)"
   ]
  },
  {
   "cell_type": "code",
   "execution_count": 107,
   "metadata": {
    "ExecuteTime": {
     "end_time": "2022-08-18T00:50:42.721149Z",
     "start_time": "2022-08-18T00:50:42.702145Z"
    }
   },
   "outputs": [
    {
     "data": {
      "text/html": [
       "<div>\n",
       "<style scoped>\n",
       "    .dataframe tbody tr th:only-of-type {\n",
       "        vertical-align: middle;\n",
       "    }\n",
       "\n",
       "    .dataframe tbody tr th {\n",
       "        vertical-align: top;\n",
       "    }\n",
       "\n",
       "    .dataframe thead th {\n",
       "        text-align: right;\n",
       "    }\n",
       "</style>\n",
       "<table border=\"1\" class=\"dataframe\">\n",
       "  <thead>\n",
       "    <tr style=\"text-align: right;\">\n",
       "      <th></th>\n",
       "      <th>id</th>\n",
       "      <th>release_date</th>\n",
       "      <th>movie</th>\n",
       "      <th>production_budget</th>\n",
       "      <th>domestic_gross</th>\n",
       "      <th>worldwide_gross</th>\n",
       "    </tr>\n",
       "  </thead>\n",
       "  <tbody>\n",
       "    <tr>\n",
       "      <th>0</th>\n",
       "      <td>1</td>\n",
       "      <td>Dec 18 2009</td>\n",
       "      <td>Avatar</td>\n",
       "      <td>425000000</td>\n",
       "      <td>$760507625</td>\n",
       "      <td>$2776345279</td>\n",
       "    </tr>\n",
       "    <tr>\n",
       "      <th>1</th>\n",
       "      <td>2</td>\n",
       "      <td>May 20 2011</td>\n",
       "      <td>Pirates of the Caribbean: On Stranger Tides</td>\n",
       "      <td>410600000</td>\n",
       "      <td>$241063875</td>\n",
       "      <td>$1045663875</td>\n",
       "    </tr>\n",
       "    <tr>\n",
       "      <th>2</th>\n",
       "      <td>3</td>\n",
       "      <td>Jun 7 2019</td>\n",
       "      <td>Dark Phoenix</td>\n",
       "      <td>350000000</td>\n",
       "      <td>$42762350</td>\n",
       "      <td>$149762350</td>\n",
       "    </tr>\n",
       "    <tr>\n",
       "      <th>3</th>\n",
       "      <td>4</td>\n",
       "      <td>May 1 2015</td>\n",
       "      <td>Avengers: Age of Ultron</td>\n",
       "      <td>330600000</td>\n",
       "      <td>$459005868</td>\n",
       "      <td>$1403013963</td>\n",
       "    </tr>\n",
       "    <tr>\n",
       "      <th>4</th>\n",
       "      <td>5</td>\n",
       "      <td>Dec 15 2017</td>\n",
       "      <td>Star Wars Ep. VIII: The Last Jedi</td>\n",
       "      <td>317000000</td>\n",
       "      <td>$620181382</td>\n",
       "      <td>$1316721747</td>\n",
       "    </tr>\n",
       "  </tbody>\n",
       "</table>\n",
       "</div>"
      ],
      "text/plain": [
       "   id release_date                                        movie  \\\n",
       "0   1  Dec 18 2009                                       Avatar   \n",
       "1   2  May 20 2011  Pirates of the Caribbean: On Stranger Tides   \n",
       "2   3   Jun 7 2019                                 Dark Phoenix   \n",
       "3   4   May 1 2015                      Avengers: Age of Ultron   \n",
       "4   5  Dec 15 2017            Star Wars Ep. VIII: The Last Jedi   \n",
       "\n",
       "   production_budget domestic_gross worldwide_gross  \n",
       "0          425000000     $760507625     $2776345279  \n",
       "1          410600000     $241063875     $1045663875  \n",
       "2          350000000      $42762350      $149762350  \n",
       "3          330600000     $459005868     $1403013963  \n",
       "4          317000000     $620181382     $1316721747  "
      ]
     },
     "execution_count": 107,
     "metadata": {},
     "output_type": "execute_result"
    }
   ],
   "source": [
    "tn_movie_budgets.head()"
   ]
  },
  {
   "cell_type": "code",
   "execution_count": 102,
   "metadata": {
    "ExecuteTime": {
     "end_time": "2022-08-18T00:49:02.412285Z",
     "start_time": "2022-08-18T00:49:02.396280Z"
    }
   },
   "outputs": [
    {
     "name": "stdout",
     "output_type": "stream",
     "text": [
      "<class 'pandas.core.frame.DataFrame'>\n",
      "RangeIndex: 5782 entries, 0 to 5781\n",
      "Data columns (total 6 columns):\n",
      " #   Column             Non-Null Count  Dtype \n",
      "---  ------             --------------  ----- \n",
      " 0   id                 5782 non-null   int64 \n",
      " 1   release_date       5782 non-null   object\n",
      " 2   movie              5782 non-null   object\n",
      " 3   production_budget  5782 non-null   int32 \n",
      " 4   domestic_gross     5782 non-null   object\n",
      " 5   worldwide_gross    5782 non-null   object\n",
      "dtypes: int32(1), int64(1), object(4)\n",
      "memory usage: 248.6+ KB\n"
     ]
    }
   ],
   "source": [
    "tn_movie_budgets.info()"
   ]
  },
  {
   "cell_type": "code",
   "execution_count": 108,
   "metadata": {
    "ExecuteTime": {
     "end_time": "2022-08-18T00:51:55.675010Z",
     "start_time": "2022-08-18T00:51:55.655007Z"
    }
   },
   "outputs": [
    {
     "data": {
      "text/plain": [
       "count    5.782000e+03\n",
       "mean     3.158776e+07\n",
       "std      4.181208e+07\n",
       "min      1.100000e+03\n",
       "25%      5.000000e+06\n",
       "50%      1.700000e+07\n",
       "75%      4.000000e+07\n",
       "max      4.250000e+08\n",
       "Name: production_budget, dtype: float64"
      ]
     },
     "execution_count": 108,
     "metadata": {},
     "output_type": "execute_result"
    }
   ],
   "source": [
    "# gathering descriptive statistics\n",
    "tn_movie_budgets['production_budget'].describe()"
   ]
  },
  {
   "cell_type": "code",
   "execution_count": 109,
   "metadata": {
    "ExecuteTime": {
     "end_time": "2022-08-18T00:52:23.722453Z",
     "start_time": "2022-08-18T00:52:23.706461Z"
    }
   },
   "outputs": [
    {
     "data": {
      "text/plain": [
       "17000000.0"
      ]
     },
     "execution_count": 109,
     "metadata": {},
     "output_type": "execute_result"
    }
   ],
   "source": [
    "tn_movie_budgets['production_budget'].median()"
   ]
  },
  {
   "cell_type": "code",
   "execution_count": 116,
   "metadata": {
    "ExecuteTime": {
     "end_time": "2022-08-18T01:21:00.785788Z",
     "start_time": "2022-08-18T01:21:00.767784Z"
    }
   },
   "outputs": [
    {
     "data": {
      "text/plain": [
       "id                   406\n",
       "release_date         406\n",
       "movie                406\n",
       "production_budget    406\n",
       "domestic_gross       406\n",
       "worldwide_gross      406\n",
       "dtype: int64"
      ]
     },
     "execution_count": 116,
     "metadata": {},
     "output_type": "execute_result"
    }
   ],
   "source": [
    "# counting the number of films with a production budget over $100 million\n",
    "\n",
    "tn_movie_budgets[tn_movie_budgets['production_budget'] >= 100000000].count()"
   ]
  }
 ],
 "metadata": {
  "kernelspec": {
   "display_name": "Python 3 (ipykernel)",
   "language": "python",
   "name": "python3"
  },
  "language_info": {
   "codemirror_mode": {
    "name": "ipython",
    "version": 3
   },
   "file_extension": ".py",
   "mimetype": "text/x-python",
   "name": "python",
   "nbconvert_exporter": "python",
   "pygments_lexer": "ipython3",
   "version": "3.9.12"
  },
  "toc": {
   "base_numbering": 1,
   "nav_menu": {},
   "number_sections": true,
   "sideBar": true,
   "skip_h1_title": false,
   "title_cell": "Table of Contents",
   "title_sidebar": "Contents",
   "toc_cell": false,
   "toc_position": {},
   "toc_section_display": true,
   "toc_window_display": false
  },
  "varInspector": {
   "cols": {
    "lenName": 16,
    "lenType": 16,
    "lenVar": 40
   },
   "kernels_config": {
    "python": {
     "delete_cmd_postfix": "",
     "delete_cmd_prefix": "del ",
     "library": "var_list.py",
     "varRefreshCmd": "print(var_dic_list())"
    },
    "r": {
     "delete_cmd_postfix": ") ",
     "delete_cmd_prefix": "rm(",
     "library": "var_list.r",
     "varRefreshCmd": "cat(var_dic_list()) "
    }
   },
   "types_to_exclude": [
    "module",
    "function",
    "builtin_function_or_method",
    "instance",
    "_Feature"
   ],
   "window_display": false
  }
 },
 "nbformat": 4,
 "nbformat_minor": 2
}
