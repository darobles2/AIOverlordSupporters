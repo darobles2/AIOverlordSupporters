{
 "cells": [
  {
   "cell_type": "markdown",
   "metadata": {},
   "source": [
    "## Semester 1 Project Submission\n",
    "\n",
    "Please fill out:\n",
    "* Student name: \n",
    "* Instructor name: \n"
   ]
  },
  {
   "cell_type": "markdown",
   "metadata": {},
   "source": [
    "# Maanik Gupta"
   ]
  },
  {
   "cell_type": "markdown",
   "metadata": {},
   "source": [
    "# Maya Sandlin"
   ]
  },
  {
   "cell_type": "markdown",
   "metadata": {},
   "source": [
    "# Robert Golden"
   ]
  },
  {
   "cell_type": "markdown",
   "metadata": {},
   "source": [
    "# Daniel Robles"
   ]
  },
  {
   "cell_type": "markdown",
   "metadata": {},
   "source": [
    "# Jake Umholtz "
   ]
  },
  {
   "cell_type": "code",
   "execution_count": 2,
   "metadata": {
    "ExecuteTime": {
     "end_time": "2022-08-16T17:50:12.856034Z",
     "start_time": "2022-08-16T17:50:11.326514Z"
    }
   },
   "outputs": [],
   "source": [
    "import numpy as np\n",
    "import scipy as sp\n",
    "import pandas as pd\n",
    "import scipy.stats as stats\n",
    "import seaborn as sns\n",
    "import matplotlib.pyplot as plt\n",
    "import math\n",
    "import sqlite3"
   ]
  },
  {
   "cell_type": "code",
   "execution_count": 17,
   "metadata": {
    "ExecuteTime": {
     "end_time": "2022-08-16T18:11:29.196451Z",
     "start_time": "2022-08-16T18:11:28.994895Z"
    }
   },
   "outputs": [],
   "source": [
    "movie_gross = pd.read_csv('zippedData/bom.movie_gross.csv')\n",
    "rt_movie_info = pd.read_csv('zippedData/rt.movie_info.csv')\n",
    "rt_reviews = pd.read_csv('zippedData/rt.reviews.csv', encoding='unicode_escape')\n",
    "tn_movie_budgets = pd.read_csv('zippedData/tn.movie_budgets.csv')\n",
    "tmdb_movies = pd.read_csv('zippedData/tmdb.movies.csv', index_col=0)"
   ]
  },
  {
   "cell_type": "code",
   "execution_count": 18,
   "metadata": {
    "ExecuteTime": {
     "end_time": "2022-08-16T18:11:31.930072Z",
     "start_time": "2022-08-16T18:11:31.920070Z"
    }
   },
   "outputs": [
    {
     "name": "stdout",
     "output_type": "stream",
     "text": [
      "235\n"
     ]
    }
   ],
   "source": [
    "rt_movie_info = rt_movie_info.dropna()\n",
    "#Clean synopsis, rating, genre, director, writer, theater_date, dvd_date, runtime\n",
    "ratings = []\n",
    "for rating in rt_movie_info['rating'].dropna():\n",
    "    ratings.append(rating)\n",
    "#print(ratings)\n",
    "print(len(ratings))\n",
    "\n",
    "\n",
    "\n",
    "runtime_raw = []\n",
    "runtime_clean = []\n",
    "box_off_raw = []\n",
    "box_off_clean = []\n",
    "for val in rt_movie_info['runtime'].str[:3]: #extract first 3 characters, movies under 100 min will have whitespace\n",
    "    runtime_raw.append(val)\n",
    "for val in runtime_raw: #strip whitespace\n",
    "    runtime_strip = val.replace(' ', '')\n",
    "    runtime_clean.append(runtime_strip)\n",
    "    \n",
    "for val in rt_movie_info['box_office']: # remove ,\n",
    "    box_off_strip = val.replace(',', '')\n",
    "    box_off_clean.append(box_off_strip)\n",
    "\n",
    "\n",
    "\n"
   ]
  },
  {
   "cell_type": "code",
   "execution_count": 19,
   "metadata": {
    "ExecuteTime": {
     "end_time": "2022-08-16T18:11:41.659081Z",
     "start_time": "2022-08-16T18:11:41.650078Z"
    }
   },
   "outputs": [],
   "source": [
    "rt_movie_info['runtime_clean'] = runtime_clean\n",
    "rt_movie_info['box_office_clean'] = box_off_clean\n",
    "\n",
    "\n",
    "\n",
    "df2 = rt_movie_info[['runtime_clean','box_office_clean']].copy()\n",
    "df2['runtime_clean'] = df2['runtime_clean'].astype(int)\n",
    "df2['box_office_clean'] = df2['box_office_clean'].astype(int)"
   ]
  },
  {
   "cell_type": "code",
   "execution_count": null,
   "metadata": {},
   "outputs": [],
   "source": []
  }
 ],
 "metadata": {
  "kernelspec": {
   "display_name": "Python 3",
   "language": "python",
   "name": "python3"
  },
  "language_info": {
   "codemirror_mode": {
    "name": "ipython",
    "version": 3
   },
   "file_extension": ".py",
   "mimetype": "text/x-python",
   "name": "python",
   "nbconvert_exporter": "python",
   "pygments_lexer": "ipython3",
   "version": "3.8.5"
  },
  "toc": {
   "base_numbering": 1,
   "nav_menu": {},
   "number_sections": true,
   "sideBar": true,
   "skip_h1_title": false,
   "title_cell": "Table of Contents",
   "title_sidebar": "Contents",
   "toc_cell": false,
   "toc_position": {},
   "toc_section_display": true,
   "toc_window_display": false
  },
  "varInspector": {
   "cols": {
    "lenName": 16,
    "lenType": 16,
    "lenVar": 40
   },
   "kernels_config": {
    "python": {
     "delete_cmd_postfix": "",
     "delete_cmd_prefix": "del ",
     "library": "var_list.py",
     "varRefreshCmd": "print(var_dic_list())"
    },
    "r": {
     "delete_cmd_postfix": ") ",
     "delete_cmd_prefix": "rm(",
     "library": "var_list.r",
     "varRefreshCmd": "cat(var_dic_list()) "
    }
   },
   "types_to_exclude": [
    "module",
    "function",
    "builtin_function_or_method",
    "instance",
    "_Feature"
   ],
   "window_display": false
  }
 },
 "nbformat": 4,
 "nbformat_minor": 2
}
