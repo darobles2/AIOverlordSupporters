{
 "cells": [
  {
   "cell_type": "markdown",
   "metadata": {},
   "source": [
    "## Semester 1 Project Submission\n",
    "\n",
    "Please fill out:\n",
    "* Student name: \n",
    "* Instructor name: \n"
   ]
  },
  {
   "cell_type": "markdown",
   "metadata": {},
   "source": [
    "## Project Overview"
   ]
  },
  {
   "cell_type": "markdown",
   "metadata": {},
   "source": [
    "## Business Understanding "
   ]
  },
  {
   "cell_type": "markdown",
   "metadata": {},
   "source": [
    "Computing Vision is a relative newcomer to the film production market, having little to no experience producing movies; for this reason, Computing Vision selected Deloitte to advise them on the creation of an initial, data-driven film production strategy.\n",
    "\n",
    "Our measure of success was domestic Box Office revenue. We chose this metric because box office revenue is the first way film studios generate a cash flow. As a new movie studio, it is important for Computing Vision to start generating a cash flow as quickly and as largely as possible. Also, the production of films is an expensive endeavor, a successful box office performance can help recover the initial investments of creating a film. Box office revenue is also a good indicator of public sentiment as it indirectly measures how many people are physically going to watch the film in theaters. This serves as baseline check for future questioning regarding at home and digital release. \n",
    "\n",
    "With Box Office revenue as our primary indicator of success, we used data to answer the following question; what components of a film creates a box office hit? \n",
    "\n",
    "We quickly identified runtime, genre, and MPAA rating as foundational components for creating a box office hit. We identified these three components as they are the key drivers to reaching a large audience. If Computing Vision's films can capture a large audience, they have a higher probability of creating a box office hit, i.e. attract more people to pay to watch the film. \n"
   ]
  },
  {
   "cell_type": "markdown",
   "metadata": {},
   "source": [
    "## Data Understanding and Analysis"
   ]
  },
  {
   "cell_type": "markdown",
   "metadata": {},
   "source": [
    "We focused our analysis on the Box Office Mojo dataset, known as the rt_movie_info spreadsheet as it contained the necessary box office, genre, and movie length information. "
   ]
  },
  {
   "cell_type": "markdown",
   "metadata": {},
   "source": [
    "Rationale: Import the necessary python libraries to perform analysis"
   ]
  },
  {
   "cell_type": "code",
   "execution_count": null,
   "metadata": {},
   "outputs": [],
   "source": [
    "import pandas as pd\n",
    "import numpy as np\n",
    "import matplotlib.pyplot as plt\n",
    "import seaborn as sns\n",
    "import scipy.stats as stats"
   ]
  },
  {
   "cell_type": "markdown",
   "metadata": {},
   "source": []
  },
  {
   "cell_type": "markdown",
   "metadata": {},
   "source": [
    "1. Data Cleaning process "
   ]
  },
  {
   "cell_type": "code",
   "execution_count": null,
   "metadata": {},
   "outputs": [],
   "source": []
  },
  {
   "cell_type": "markdown",
   "metadata": {},
   "source": [
    "# Maanik Gupta"
   ]
  },
  {
   "cell_type": "markdown",
   "metadata": {},
   "source": [
    "# Maya Sandlin"
   ]
  },
  {
   "cell_type": "code",
   "execution_count": 9,
   "metadata": {
    "ExecuteTime": {
     "end_time": "2022-08-18T22:33:08.175499Z",
     "start_time": "2022-08-18T22:33:07.815418Z"
    }
   },
   "outputs": [
    {
     "data": {
      "text/plain": [
       "Text(0, 0.5, 'Revenue in Tens of Millions (USD)')"
      ]
     },
     "execution_count": 9,
     "metadata": {},
     "output_type": "execute_result"
    },
    {
     "data": {
      "image/png": "[encoded data removed]",
      "text/plain": [
       "<Figure size 432x288 with 1 Axes>"
      ]
     },
     "metadata": {
      "needs_background": "light"
     },
     "output_type": "display_data"
    }
   ],
   "source": [
    "import pandas as pd\n",
    "import numpy as np\n",
    "movie_gross = pd.read_csv('zippedData/bom.movie_gross.csv')\n",
    "rt_movie_info = pd.read_csv('zippedData/rt.movie_info.csv')\n",
    "rt_review = pd.read_csv('zippedData/rt.reviews.csv', encoding='unicode_escape')\n",
    "tn_movie_budgets = pd.read_csv('zippedData/tn.movie_budgets.csv')\n",
    "tmdb_movies = pd.read_csv('zippedData/tmdb.movies.csv', index_col=0)\n",
    "\n",
    "movie_genre = rt_movie_info[['genre','box_office']]\n",
    "clean_genre = movie_genre.dropna()\n",
    "genres_sorted = movie_genre['genre'].sort_values().dropna()\n",
    "genres_sorted.value_counts().head (30)\n",
    "#using this data, the main six categories include: drama, comedy, horror, action, romance, and classics\n",
    "\n",
    "#determining the average revenue\n",
    "\n",
    "#drama\n",
    "drama = clean_genre[clean_genre['genre'].str.contains('Drama')]\n",
    "drama_revenue = drama ['box_office']\n",
    "drama_revenue_clean = drama_revenue.dropna()\n",
    "drama_avg_revenue = np.mean(drama_revenue_clean)\n",
    "drama_avg_revenue\n",
    "\n",
    "#comedy\n",
    "comedy = clean_genre[clean_genre['genre'].str.contains('Comedy')]\n",
    "comedy_revenue = comedy ['box_office']\n",
    "comedy_revenue_clean = comedy_revenue.dropna()\n",
    "comedy_avg_revenue = np.mean(comedy_revenue_clean)\n",
    "comedy_avg_revenue \n",
    "\n",
    "#action \n",
    "action = clean_genre[clean_genre['genre'].str.contains('Action')]\n",
    "action_revenue = action ['box_office']\n",
    "action_revenue_clean = action_revenue.dropna()\n",
    "action_avg_revenue = np.mean(action_revenue_clean)\n",
    "action_avg_revenue \n",
    "\n",
    "#horror\n",
    "horror = clean_genre[clean_genre['genre'].str.contains('Horror')]\n",
    "horror_revenue = horror ['box_office']\n",
    "horror_revenue_clean = horror_revenue.dropna()\n",
    "horror_avg_revenue = np.mean(horror_revenue_clean)\n",
    "horror_avg_revenue\n",
    "\n",
    "#romance\n",
    "romance = clean_genre[clean_genre['genre'].str.contains('Romance')]\n",
    "romance_revenue = horror ['box_office']\n",
    "romance_revenue_clean = romance_revenue.dropna()\n",
    "romance_avg_revenue = np.mean(romance_revenue_clean)\n",
    "romance_avg_revenue\n",
    "\n",
    "#classics\n",
    "classics = clean_genre[clean_genre['genre'].str.contains('Classics')]\n",
    "classic_revenue = classics ['box_office']\n",
    "classic_revenue_clean = classic_revenue.dropna()\n",
    "classic_avg_revenue = np.mean(classic_revenue_clean)\n",
    "classic_avg_revenue\n",
    "\n",
    "top_genre={\"drama\":drama_avg_revenue, \"comedy\":comedy_avg_revenue, \"action\":action_avg_revenue, \n",
    "           \"horror\": horror_avg_revenue, \"romance\":romance_avg_revenue, \"classics\": classic_avg_revenue}\n",
    "\n",
    "#creating the graph to compare the top genres\n",
    "import matplotlib.pyplot as plt\n",
    "%matplotlib inline\n",
    "\n",
    "fig, ax=plt.subplots()\n",
    "# plt.ticklabel_format(style='plain')\n",
    "ax.bar(top_genre.keys(),top_genre.values())\n",
    "\n",
    "\n",
    "\n",
    "ax.set_title(\"Top Genres' Revenues\")\n",
    "ax.set_xlabel(\"Top Genres\")\n",
    "ax.set_ylabel(\"Revenue in Tens of Millions (USD)\")\n",
    "\n",
    "\n"
   ]
  },
  {
   "cell_type": "markdown",
   "metadata": {},
   "source": [
    "# Robert Golden"
   ]
  },
  {
   "cell_type": "code",
   "execution_count": 10,
   "metadata": {
    "ExecuteTime": {
     "end_time": "2022-08-18T22:33:08.319537Z",
     "start_time": "2022-08-18T22:33:08.177499Z"
    }
   },
   "outputs": [
    {
     "ename": "UnicodeDecodeError",
     "evalue": "'utf-8' codec can't decode byte 0xa0 in position 4: invalid start byte",
     "output_type": "error",
     "traceback": [
      "\u001b[1;31m---------------------------------------------------------------------------\u001b[0m",
      "\u001b[1;31mUnicodeDecodeError\u001b[0m                        Traceback (most recent call last)",
      "\u001b[1;32mpandas\\_libs\\parsers.pyx\u001b[0m in \u001b[0;36mpandas._libs.parsers.TextReader._convert_tokens\u001b[1;34m()\u001b[0m\n",
      "\u001b[1;32mpandas\\_libs\\parsers.pyx\u001b[0m in \u001b[0;36mpandas._libs.parsers.TextReader._convert_with_dtype\u001b[1;34m()\u001b[0m\n",
      "\u001b[1;32mpandas\\_libs\\parsers.pyx\u001b[0m in \u001b[0;36mpandas._libs.parsers.TextReader._string_convert\u001b[1;34m()\u001b[0m\n",
      "\u001b[1;32mpandas\\_libs\\parsers.pyx\u001b[0m in \u001b[0;36mpandas._libs.parsers._string_box_utf8\u001b[1;34m()\u001b[0m\n",
      "\u001b[1;31mUnicodeDecodeError\u001b[0m: 'utf-8' codec can't decode byte 0xa0 in position 4: invalid start byte",
      "\nDuring handling of the above exception, another exception occurred:\n",
      "\u001b[1;31mUnicodeDecodeError\u001b[0m                        Traceback (most recent call last)",
      "\u001b[1;32m<ipython-input-10-689acbe9a3dc>\u001b[0m in \u001b[0;36m<module>\u001b[1;34m\u001b[0m\n\u001b[0;32m      8\u001b[0m \u001b[0mmovie_gross\u001b[0m \u001b[1;33m=\u001b[0m \u001b[0mpd\u001b[0m\u001b[1;33m.\u001b[0m\u001b[0mread_csv\u001b[0m\u001b[1;33m(\u001b[0m\u001b[1;34m'zippedData/bom.movie_gross.csv'\u001b[0m\u001b[1;33m)\u001b[0m\u001b[1;33m\u001b[0m\u001b[1;33m\u001b[0m\u001b[0m\n\u001b[0;32m      9\u001b[0m \u001b[0mrt_movie_info\u001b[0m \u001b[1;33m=\u001b[0m \u001b[0mpd\u001b[0m\u001b[1;33m.\u001b[0m\u001b[0mread_csv\u001b[0m\u001b[1;33m(\u001b[0m\u001b[1;34m'zippedData/rt.movie_info.csv'\u001b[0m\u001b[1;33m)\u001b[0m\u001b[1;33m\u001b[0m\u001b[1;33m\u001b[0m\u001b[0m\n\u001b[1;32m---> 10\u001b[1;33m \u001b[0mrt_reviews\u001b[0m \u001b[1;33m=\u001b[0m \u001b[0mpd\u001b[0m\u001b[1;33m.\u001b[0m\u001b[0mread_csv\u001b[0m\u001b[1;33m(\u001b[0m\u001b[1;34m'zippedData/rt.reviews.csv'\u001b[0m\u001b[1;33m)\u001b[0m\u001b[1;33m\u001b[0m\u001b[1;33m\u001b[0m\u001b[0m\n\u001b[0m\u001b[0;32m     11\u001b[0m \u001b[0mtn_movie_budgets\u001b[0m \u001b[1;33m=\u001b[0m \u001b[0mpd\u001b[0m\u001b[1;33m.\u001b[0m\u001b[0mread_csv\u001b[0m\u001b[1;33m(\u001b[0m\u001b[1;34m'zippedData/tn.movie_budgets.csv'\u001b[0m\u001b[1;33m)\u001b[0m\u001b[1;33m\u001b[0m\u001b[1;33m\u001b[0m\u001b[0m\n\u001b[0;32m     12\u001b[0m \u001b[0mtmdb_movies\u001b[0m \u001b[1;33m=\u001b[0m \u001b[0mpd\u001b[0m\u001b[1;33m.\u001b[0m\u001b[0mread_csv\u001b[0m\u001b[1;33m(\u001b[0m\u001b[1;34m'zippedData/tmdb.movies.csv'\u001b[0m\u001b[1;33m,\u001b[0m \u001b[0mindex_col\u001b[0m\u001b[1;33m=\u001b[0m\u001b[1;36m0\u001b[0m\u001b[1;33m)\u001b[0m\u001b[1;33m\u001b[0m\u001b[1;33m\u001b[0m\u001b[0m\n",
      "\u001b[1;32m~\\Anaconda3\\envs\\learn-env\\lib\\site-packages\\pandas\\io\\parsers.py\u001b[0m in \u001b[0;36mread_csv\u001b[1;34m(filepath_or_buffer, sep, delimiter, header, names, index_col, usecols, squeeze, prefix, mangle_dupe_cols, dtype, engine, converters, true_values, false_values, skipinitialspace, skiprows, skipfooter, nrows, na_values, keep_default_na, na_filter, verbose, skip_blank_lines, parse_dates, infer_datetime_format, keep_date_col, date_parser, dayfirst, cache_dates, iterator, chunksize, compression, thousands, decimal, lineterminator, quotechar, quoting, doublequote, escapechar, comment, encoding, dialect, error_bad_lines, warn_bad_lines, delim_whitespace, low_memory, memory_map, float_precision)\u001b[0m\n\u001b[0;32m    684\u001b[0m     )\n\u001b[0;32m    685\u001b[0m \u001b[1;33m\u001b[0m\u001b[0m\n\u001b[1;32m--> 686\u001b[1;33m     \u001b[1;32mreturn\u001b[0m \u001b[0m_read\u001b[0m\u001b[1;33m(\u001b[0m\u001b[0mfilepath_or_buffer\u001b[0m\u001b[1;33m,\u001b[0m \u001b[0mkwds\u001b[0m\u001b[1;33m)\u001b[0m\u001b[1;33m\u001b[0m\u001b[1;33m\u001b[0m\u001b[0m\n\u001b[0m\u001b[0;32m    687\u001b[0m \u001b[1;33m\u001b[0m\u001b[0m\n\u001b[0;32m    688\u001b[0m \u001b[1;33m\u001b[0m\u001b[0m\n",
      "\u001b[1;32m~\\Anaconda3\\envs\\learn-env\\lib\\site-packages\\pandas\\io\\parsers.py\u001b[0m in \u001b[0;36m_read\u001b[1;34m(filepath_or_buffer, kwds)\u001b[0m\n\u001b[0;32m    456\u001b[0m \u001b[1;33m\u001b[0m\u001b[0m\n\u001b[0;32m    457\u001b[0m     \u001b[1;32mtry\u001b[0m\u001b[1;33m:\u001b[0m\u001b[1;33m\u001b[0m\u001b[1;33m\u001b[0m\u001b[0m\n\u001b[1;32m--> 458\u001b[1;33m         \u001b[0mdata\u001b[0m \u001b[1;33m=\u001b[0m \u001b[0mparser\u001b[0m\u001b[1;33m.\u001b[0m\u001b[0mread\u001b[0m\u001b[1;33m(\u001b[0m\u001b[0mnrows\u001b[0m\u001b[1;33m)\u001b[0m\u001b[1;33m\u001b[0m\u001b[1;33m\u001b[0m\u001b[0m\n\u001b[0m\u001b[0;32m    459\u001b[0m     \u001b[1;32mfinally\u001b[0m\u001b[1;33m:\u001b[0m\u001b[1;33m\u001b[0m\u001b[1;33m\u001b[0m\u001b[0m\n\u001b[0;32m    460\u001b[0m         \u001b[0mparser\u001b[0m\u001b[1;33m.\u001b[0m\u001b[0mclose\u001b[0m\u001b[1;33m(\u001b[0m\u001b[1;33m)\u001b[0m\u001b[1;33m\u001b[0m\u001b[1;33m\u001b[0m\u001b[0m\n",
      "\u001b[1;32m~\\Anaconda3\\envs\\learn-env\\lib\\site-packages\\pandas\\io\\parsers.py\u001b[0m in \u001b[0;36mread\u001b[1;34m(self, nrows)\u001b[0m\n\u001b[0;32m   1194\u001b[0m     \u001b[1;32mdef\u001b[0m \u001b[0mread\u001b[0m\u001b[1;33m(\u001b[0m\u001b[0mself\u001b[0m\u001b[1;33m,\u001b[0m \u001b[0mnrows\u001b[0m\u001b[1;33m=\u001b[0m\u001b[1;32mNone\u001b[0m\u001b[1;33m)\u001b[0m\u001b[1;33m:\u001b[0m\u001b[1;33m\u001b[0m\u001b[1;33m\u001b[0m\u001b[0m\n\u001b[0;32m   1195\u001b[0m         \u001b[0mnrows\u001b[0m \u001b[1;33m=\u001b[0m \u001b[0m_validate_integer\u001b[0m\u001b[1;33m(\u001b[0m\u001b[1;34m\"nrows\"\u001b[0m\u001b[1;33m,\u001b[0m \u001b[0mnrows\u001b[0m\u001b[1;33m)\u001b[0m\u001b[1;33m\u001b[0m\u001b[1;33m\u001b[0m\u001b[0m\n\u001b[1;32m-> 1196\u001b[1;33m         \u001b[0mret\u001b[0m \u001b[1;33m=\u001b[0m \u001b[0mself\u001b[0m\u001b[1;33m.\u001b[0m\u001b[0m_engine\u001b[0m\u001b[1;33m.\u001b[0m\u001b[0mread\u001b[0m\u001b[1;33m(\u001b[0m\u001b[0mnrows\u001b[0m\u001b[1;33m)\u001b[0m\u001b[1;33m\u001b[0m\u001b[1;33m\u001b[0m\u001b[0m\n\u001b[0m\u001b[0;32m   1197\u001b[0m \u001b[1;33m\u001b[0m\u001b[0m\n\u001b[0;32m   1198\u001b[0m         \u001b[1;31m# May alter columns / col_dict\u001b[0m\u001b[1;33m\u001b[0m\u001b[1;33m\u001b[0m\u001b[1;33m\u001b[0m\u001b[0m\n",
      "\u001b[1;32m~\\Anaconda3\\envs\\learn-env\\lib\\site-packages\\pandas\\io\\parsers.py\u001b[0m in \u001b[0;36mread\u001b[1;34m(self, nrows)\u001b[0m\n\u001b[0;32m   2153\u001b[0m     \u001b[1;32mdef\u001b[0m \u001b[0mread\u001b[0m\u001b[1;33m(\u001b[0m\u001b[0mself\u001b[0m\u001b[1;33m,\u001b[0m \u001b[0mnrows\u001b[0m\u001b[1;33m=\u001b[0m\u001b[1;32mNone\u001b[0m\u001b[1;33m)\u001b[0m\u001b[1;33m:\u001b[0m\u001b[1;33m\u001b[0m\u001b[1;33m\u001b[0m\u001b[0m\n\u001b[0;32m   2154\u001b[0m         \u001b[1;32mtry\u001b[0m\u001b[1;33m:\u001b[0m\u001b[1;33m\u001b[0m\u001b[1;33m\u001b[0m\u001b[0m\n\u001b[1;32m-> 2155\u001b[1;33m             \u001b[0mdata\u001b[0m \u001b[1;33m=\u001b[0m \u001b[0mself\u001b[0m\u001b[1;33m.\u001b[0m\u001b[0m_reader\u001b[0m\u001b[1;33m.\u001b[0m\u001b[0mread\u001b[0m\u001b[1;33m(\u001b[0m\u001b[0mnrows\u001b[0m\u001b[1;33m)\u001b[0m\u001b[1;33m\u001b[0m\u001b[1;33m\u001b[0m\u001b[0m\n\u001b[0m\u001b[0;32m   2156\u001b[0m         \u001b[1;32mexcept\u001b[0m \u001b[0mStopIteration\u001b[0m\u001b[1;33m:\u001b[0m\u001b[1;33m\u001b[0m\u001b[1;33m\u001b[0m\u001b[0m\n\u001b[0;32m   2157\u001b[0m             \u001b[1;32mif\u001b[0m \u001b[0mself\u001b[0m\u001b[1;33m.\u001b[0m\u001b[0m_first_chunk\u001b[0m\u001b[1;33m:\u001b[0m\u001b[1;33m\u001b[0m\u001b[1;33m\u001b[0m\u001b[0m\n",
      "\u001b[1;32mpandas\\_libs\\parsers.pyx\u001b[0m in \u001b[0;36mpandas._libs.parsers.TextReader.read\u001b[1;34m()\u001b[0m\n",
      "\u001b[1;32mpandas\\_libs\\parsers.pyx\u001b[0m in \u001b[0;36mpandas._libs.parsers.TextReader._read_low_memory\u001b[1;34m()\u001b[0m\n",
      "\u001b[1;32mpandas\\_libs\\parsers.pyx\u001b[0m in \u001b[0;36mpandas._libs.parsers.TextReader._read_rows\u001b[1;34m()\u001b[0m\n",
      "\u001b[1;32mpandas\\_libs\\parsers.pyx\u001b[0m in \u001b[0;36mpandas._libs.parsers.TextReader._convert_column_data\u001b[1;34m()\u001b[0m\n",
      "\u001b[1;32mpandas\\_libs\\parsers.pyx\u001b[0m in \u001b[0;36mpandas._libs.parsers.TextReader._convert_tokens\u001b[1;34m()\u001b[0m\n",
      "\u001b[1;32mpandas\\_libs\\parsers.pyx\u001b[0m in \u001b[0;36mpandas._libs.parsers.TextReader._convert_with_dtype\u001b[1;34m()\u001b[0m\n",
      "\u001b[1;32mpandas\\_libs\\parsers.pyx\u001b[0m in \u001b[0;36mpandas._libs.parsers.TextReader._string_convert\u001b[1;34m()\u001b[0m\n",
      "\u001b[1;32mpandas\\_libs\\parsers.pyx\u001b[0m in \u001b[0;36mpandas._libs.parsers._string_box_utf8\u001b[1;34m()\u001b[0m\n",
      "\u001b[1;31mUnicodeDecodeError\u001b[0m: 'utf-8' codec can't decode byte 0xa0 in position 4: invalid start byte"
     ]
    }
   ],
   "source": [
    "import pandas as pd\n",
    "import numpy as np\n",
    "import matplotlib.pyplot as plt\n",
    "import seaborn as sns\n",
    "import scipy.stats as stats\n",
    "\n",
    "#Read CSVs for later use\n",
    "movie_gross = pd.read_csv('zippedData/bom.movie_gross.csv')\n",
    "rt_movie_info = pd.read_csv('zippedData/rt.movie_info.csv')\n",
    "rt_reviews = pd.read_csv('zippedData/rt.reviews.csv')\n",
    "tn_movie_budgets = pd.read_csv('zippedData/tn.movie_budgets.csv')\n",
    "tmdb_movies = pd.read_csv('zippedData/tmdb.movies.csv', index_col=0)\n",
    "\n",
    "#print(movie_gross.info())\n",
    "#Clean studio, domestic_gross, & foreign_gross\n",
    "#movie_gross = movie_gross.dropna()\n",
    "#movie_gross.info()\n",
    "\n",
    "rt_movie_info = rt_movie_info.dropna()\n",
    "#Clean synopsis, rating, genre, director, writer, theater_date, dvd_date, runtime \n",
    "ratings = []\n",
    "for rating in rt_movie_info['rating'].dropna():\n",
    "    ratings.append(rating)\n",
    "\n",
    "runtime_raw = [] #for freshly-extracted runtimes\n",
    "runtime_clean = [] #rfor runtime w/o whitespace\n",
    "box_off_raw = [] #for raw box office sales data\n",
    "box_off_clean = [] #for box office sales data without commas or whitespace\n",
    "for val in rt_movie_info['runtime'].str[:3]: #extract first 3 characters, movies under 100 min will have whitespace\n",
    "    runtime_raw.append(val) \n",
    "for val in runtime_raw: #strip whitespace\n",
    "    runtime_strip = val.replace(' ', '') \n",
    "    runtime_clean.append(runtime_strip)\n",
    "    \n",
    "for val in rt_movie_info['box_office']:\n",
    "    box_off_strip = val.replace(',', '')\n",
    "    box_off_clean.append(box_off_strip)\n",
    "\n",
    "#create new column 'runtime_clean'\n",
    "rt_movie_info['runtime_clean'] = runtime_clean\n",
    "#create new column 'box_office_clean'\n",
    "rt_movie_info['box_office_clean'] = box_off_clean\n",
    "\n",
    "#create new dataframe\n",
    "df2 = rt_movie_info[['runtime_clean','box_office_clean']].copy()\n",
    "#ensure runtime valuse are recognized as integers\n",
    "df2['runtime_clean'] = df2['runtime_clean'].astype(int)\n",
    "#ensure box office slaes values are recognized as integers\n",
    "df2['box_office_clean'] = df2['box_office_clean'].astype(int)\n"
   ]
  },
  {
   "cell_type": "code",
   "execution_count": null,
   "metadata": {
    "ExecuteTime": {
     "end_time": "2022-08-18T22:33:08.390604Z",
     "start_time": "2022-08-18T22:33:07.819Z"
    }
   },
   "outputs": [],
   "source": [
    "#Descriptive Stats for Runtime\n",
    "max1 = df2['runtime_clean'].max()\n",
    "Q1_3 = df2['runtime_clean'].quantile(q=0.75)\n",
    "mean1 = df2['runtime_clean'].mean()\n",
    "med1 = df2['runtime_clean'].median()\n",
    "std1 = df2['runtime_clean'].std()\n",
    "Q1_1 = df2['runtime_clean'].quantile(q=0.25)\n",
    "min1 = df2['runtime_clean'].min()\n",
    "\n",
    "print('Descriptive Statistics for Runtime')\n",
    "print('Mean runtime:', mean1)\n",
    "print('')\n",
    "print('Maximum runtime:', max1)\n",
    "print('75th Percentile:', Q1_3)\n",
    "print('Median runtime:', med1)\n",
    "print('25th Percentile:', Q1_1)\n",
    "print('Minimum runtime:', min1)\n",
    "print('Interquartile Range:', Q1_3-Q1_1)\n",
    "print('Std. Dev. of runtime:', std1)\n",
    "\n",
    "print('99.7% of observations should lay between:', mean1-(std1*2), '-',mean1+(std1*2))\n",
    "\n",
    "print('') #for readability\n",
    "#Descriptive Stats for Box Office Sales\n",
    "mean2 = df2['box_office_clean'].mean()\n",
    "max2 = df2['box_office_clean'].max()\n",
    "Q2_3 = df2['box_office_clean'].quantile(q=0.75)\n",
    "med2 = df2['box_office_clean'].median()\n",
    "Q2_1 = df2['box_office_clean'].quantile(q=0.25)\n",
    "min2 = df2['box_office_clean'].min()\n",
    "std2 = df2['box_office_clean'].std()\n",
    "\n",
    "print('Descriptive Statistics for Box Office Sales')\n",
    "print('Mean box office sales:', mean2)\n",
    "print('')\n",
    "print('Maximum sales:', max2)\n",
    "print('75th Percentile:', Q2_3)\n",
    "print('Median sales:', med2)\n",
    "print('25th Percentile:', Q2_1)\n",
    "print('Minimum sales:', min2)\n",
    "print('Std. Dev of Sales:', std2)\n",
    "print('Interquartile Range:', Q2_3-Q2_1)\n",
    "print('99.7% of observations should lay between:', mean2-(std2*2), '-', mean2+(std2*2222))\n",
    "\n",
    "print('') #for readability\n",
    "print('Correlation Coefficient')      \n",
    "print(df2.corr()) #calculate Pearson correlation coefficient for variables in df2\n",
    "\n",
    "#generate a normal distribution where mean1 is avg, sd1 is std dev, and n=235\n",
    "d1 = np.random.normal(mean1, std1, 235) \n",
    "#generate a normal distribution where mean2 is avg, sd2 is std dev, and n=235\n",
    "d2 = np.random.normal(mean2, std2, 235) \n",
    "\n",
    "df2more = df2[df2['runtime_clean'] > 105]\n",
    "df2less = df2[df2['runtime_clean'] < 105]\n",
    "print('')\n",
    "print('Less - Runtime Mean:', df2less['runtime_clean'].mean(), \n",
    "      'Box Office Sales Mean:', df2less['box_office_clean'].mean(), \n",
    "      'n:', len(df2less))\n",
    "print('More - Runtime Mean:', df2more['runtime_clean'].mean(),\n",
    "      'Box Office Sales Mean:', df2more['box_office_clean'].mean(), \n",
    "      'n:', len(df2more))\n",
    "#df2['runtime_clean'].plot.box(grid='True')\n",
    "#df2['box_office_clean'].plot.box(grid='True')"
   ]
  },
  {
   "cell_type": "code",
   "execution_count": null,
   "metadata": {
    "ExecuteTime": {
     "end_time": "2022-08-18T22:33:08.391604Z",
     "start_time": "2022-08-18T22:33:07.820Z"
    }
   },
   "outputs": [],
   "source": [
    "n = 235 #sample size\n",
    "df = n - 1 #degrees of freedom = sample size - 1\n",
    "\n",
    "print('df2more variance:')\n",
    "print(df2more.var())\n",
    "print('df2less variance:')\n",
    "print(df2less.var())\n",
    "print('')\n",
    "#test relationship between movie length over 105 minutes\n",
    "t_ind_runtime = stats.ttest_ind(df2more['runtime_clean'], df2less['runtime_clean'], equal_var=False)\n",
    "\n",
    "print('T-Test runtime:', t_ind_runtime)\n",
    "\n",
    "\n",
    "df2\n"
   ]
  },
  {
   "cell_type": "code",
   "execution_count": null,
   "metadata": {
    "ExecuteTime": {
     "end_time": "2022-08-18T22:33:08.392604Z",
     "start_time": "2022-08-18T22:33:07.821Z"
    }
   },
   "outputs": [],
   "source": [
    "sns.distplot(d1) #distribution for runtime"
   ]
  },
  {
   "cell_type": "code",
   "execution_count": null,
   "metadata": {
    "ExecuteTime": {
     "end_time": "2022-08-18T22:33:08.392604Z",
     "start_time": "2022-08-18T22:33:07.821Z"
    }
   },
   "outputs": [],
   "source": [
    "sns.distplot(d2) #distribution for box office sales"
   ]
  },
  {
   "cell_type": "code",
   "execution_count": null,
   "metadata": {
    "ExecuteTime": {
     "end_time": "2022-08-18T22:33:08.393605Z",
     "start_time": "2022-08-18T22:33:07.822Z"
    }
   },
   "outputs": [],
   "source": [
    "#normalized distribution for runtime\n",
    "sns.distplot([(x - d1.mean())/d1.std() for x in d1]) \n",
    "#normalized distribution for box office sales\n",
    "sns.distplot([(x - d2.mean())/d2.std() for x in d2])"
   ]
  },
  {
   "cell_type": "code",
   "execution_count": null,
   "metadata": {
    "ExecuteTime": {
     "end_time": "2022-08-18T22:33:08.393605Z",
     "start_time": "2022-08-18T22:33:07.823Z"
    }
   },
   "outputs": [],
   "source": [
    "sns.regplot(df2more['runtime_clean'], df2more['box_office_clean'])\n",
    "sns.regplot(df2less['runtime_clean'], df2less['box_office_clean'])"
   ]
  },
  {
   "cell_type": "code",
   "execution_count": null,
   "metadata": {
    "ExecuteTime": {
     "end_time": "2022-08-18T22:33:08.394605Z",
     "start_time": "2022-08-18T22:33:07.824Z"
    }
   },
   "outputs": [],
   "source": [
    "fig, ax = plt.subplots() #Generate Scatter plot \n",
    "\n",
    "ax.scatter(df2['runtime_clean'], df2['box_office_clean'], label=\"actual data\")\n",
    "\n",
    "\n",
    "\n",
    "x_bounds = [min(df2['runtime_clean']), max(df2['runtime_clean'])]\n",
    "y_bounds = [min(df2['box_office_clean']), max(df2['box_office_clean'])]\n",
    "\n",
    "\n",
    "\n",
    "ax.plot(x_bounds, y_bounds, \"--\", label=\"perfect correlation\")\n",
    "\n",
    "\n",
    "\n",
    "ax.set_title(\"Runtime Moderately Influences Box Office Sales\")\n",
    "ax.set_xlabel(\"Minutes\")\n",
    "ax.set_ylabel(\"Sales in USD\")\n",
    "\n",
    "\n",
    "\n",
    "ax.legend();"
   ]
  },
  {
   "cell_type": "code",
   "execution_count": null,
   "metadata": {
    "ExecuteTime": {
     "end_time": "2022-08-18T22:33:08.395605Z",
     "start_time": "2022-08-18T22:33:07.824Z"
    }
   },
   "outputs": [],
   "source": [
    "df3 = rt_movie_info[['rating', 'box_office_clean']].copy() #copies rt_movie_info into new dataframe\n",
    "df3 = df3.dropna() #drops null values\n",
    "\n",
    "df3['box_office_clean'] = df3['box_office_clean'].astype(int) #ensures box office sales are integers\n",
    "\n",
    "sales_groupby_rating = df3.groupby('rating')[['box_office_clean']].sum()\n",
    "sales_groupby_rating = sales_groupby_rating / (10^9)\n",
    "\n",
    "fig, ax = plt.subplots(figsize=(30,20))\n",
    "ax.bar(x=sales_groupby_rating.index, height=sales_groupby_rating['box_office_clean'])\n",
    "plt.title('Sales by MPAA Rating')\n",
    "plt.xlabel('MPAA Ratings')\n",
    "plt.ylabel('Sales in USD (Billions)')\n",
    "plt.show()"
   ]
  },
  {
   "cell_type": "markdown",
   "metadata": {},
   "source": [
    "# Daniel Robles"
   ]
  },
  {
   "cell_type": "code",
   "execution_count": 12,
   "metadata": {
    "ExecuteTime": {
     "end_time": "2022-08-18T22:33:22.225547Z",
     "start_time": "2022-08-18T22:33:22.026549Z"
    },
    "scrolled": true
   },
   "outputs": [
    {
     "ename": "OperationalError",
     "evalue": "unable to open database file",
     "output_type": "error",
     "traceback": [
      "\u001b[1;31m---------------------------------------------------------------------------\u001b[0m",
      "\u001b[1;31mOperationalError\u001b[0m                          Traceback (most recent call last)",
      "\u001b[1;32m<ipython-input-12-84d2adf2e2ea>\u001b[0m in \u001b[0;36m<module>\u001b[1;34m\u001b[0m\n\u001b[0;32m     12\u001b[0m \u001b[1;33m\u001b[0m\u001b[0m\n\u001b[0;32m     13\u001b[0m \u001b[1;33m\u001b[0m\u001b[0m\n\u001b[1;32m---> 14\u001b[1;33m \u001b[0mconn\u001b[0m \u001b[1;33m=\u001b[0m \u001b[0msqlite3\u001b[0m\u001b[1;33m.\u001b[0m\u001b[0mconnect\u001b[0m\u001b[1;33m(\u001b[0m\u001b[1;34m'C:/Users/darobles/Desktop/capstone/AIOverlordSupporters/zippedData/im.db'\u001b[0m\u001b[1;33m)\u001b[0m\u001b[1;33m\u001b[0m\u001b[1;33m\u001b[0m\u001b[0m\n\u001b[0m\u001b[0;32m     15\u001b[0m \u001b[0mcur\u001b[0m \u001b[1;33m=\u001b[0m \u001b[0mconn\u001b[0m\u001b[1;33m.\u001b[0m\u001b[0mcursor\u001b[0m\u001b[1;33m(\u001b[0m\u001b[1;33m)\u001b[0m\u001b[1;33m\u001b[0m\u001b[1;33m\u001b[0m\u001b[0m\n\u001b[0;32m     16\u001b[0m \u001b[0mpd\u001b[0m\u001b[1;33m.\u001b[0m\u001b[0mread_sql\u001b[0m\u001b[1;33m(\u001b[0m\u001b[1;34m'''SELECT * FROM SQLITE_MASTER;'''\u001b[0m\u001b[1;33m,\u001b[0m \u001b[0mconn\u001b[0m\u001b[1;33m)\u001b[0m\u001b[1;33m\u001b[0m\u001b[1;33m\u001b[0m\u001b[0m\n",
      "\u001b[1;31mOperationalError\u001b[0m: unable to open database file"
     ]
    }
   ],
   "source": [
    "import sqlite3\n",
    "import pandas as pd\n",
    "import numpy as np\n",
    "import matplotlib.pyplot as plt\n",
    "\n",
    "\n",
    "movie_gross = pd.read_csv('zippedData/bom.movie_gross.csv')\n",
    "rt_movie_info = pd.read_csv('zippedData/rt.movie_info.csv')\n",
    "rt_review = pd.read_csv('zippedData/rt.reviews.csv', encoding='unicode_escape')\n",
    "tn_movie_budgets = pd.read_csv('zippedData/tn.movie_budgets.csv')\n",
    "tmdb_movies = pd.read_csv('zippedData/tmdb.movies.csv', index_col=0)\n",
    "\n",
    "\n",
    "conn = sqlite3.connect('C:/Users/darobles/Desktop/capstone/AIOverlordSupporters/zippedData/im.db')\n",
    "cur = conn.cursor()\n",
    "pd.read_sql('''SELECT * FROM SQLITE_MASTER;''', conn)\n",
    "\n"
   ]
  },
  {
   "cell_type": "code",
   "execution_count": 13,
   "metadata": {
    "ExecuteTime": {
     "end_time": "2022-08-18T22:33:28.425648Z",
     "start_time": "2022-08-18T22:33:28.416647Z"
    }
   },
   "outputs": [],
   "source": [
    "from scipy import stats"
   ]
  },
  {
   "cell_type": "code",
   "execution_count": 14,
   "metadata": {
    "ExecuteTime": {
     "end_time": "2022-08-18T22:33:29.793312Z",
     "start_time": "2022-08-18T22:33:29.766297Z"
    }
   },
   "outputs": [
    {
     "data": {
      "text/html": [
       "<div>\n",
       "<style scoped>\n",
       "    .dataframe tbody tr th:only-of-type {\n",
       "        vertical-align: middle;\n",
       "    }\n",
       "\n",
       "    .dataframe tbody tr th {\n",
       "        vertical-align: top;\n",
       "    }\n",
       "\n",
       "    .dataframe thead th {\n",
       "        text-align: right;\n",
       "    }\n",
       "</style>\n",
       "<table border=\"1\" class=\"dataframe\">\n",
       "  <thead>\n",
       "    <tr style=\"text-align: right;\">\n",
       "      <th></th>\n",
       "      <th>id</th>\n",
       "      <th>release_date</th>\n",
       "      <th>movie</th>\n",
       "      <th>production_budget</th>\n",
       "      <th>domestic_gross</th>\n",
       "      <th>worldwide_gross</th>\n",
       "    </tr>\n",
       "  </thead>\n",
       "  <tbody>\n",
       "    <tr>\n",
       "      <th>0</th>\n",
       "      <td>1</td>\n",
       "      <td>Dec 18, 2009</td>\n",
       "      <td>Avatar</td>\n",
       "      <td>$425,000,000</td>\n",
       "      <td>$760,507,625</td>\n",
       "      <td>$2,776,345,279</td>\n",
       "    </tr>\n",
       "    <tr>\n",
       "      <th>1</th>\n",
       "      <td>2</td>\n",
       "      <td>May 20, 2011</td>\n",
       "      <td>Pirates of the Caribbean: On Stranger Tides</td>\n",
       "      <td>$410,600,000</td>\n",
       "      <td>$241,063,875</td>\n",
       "      <td>$1,045,663,875</td>\n",
       "    </tr>\n",
       "    <tr>\n",
       "      <th>2</th>\n",
       "      <td>3</td>\n",
       "      <td>Jun 7, 2019</td>\n",
       "      <td>Dark Phoenix</td>\n",
       "      <td>$350,000,000</td>\n",
       "      <td>$42,762,350</td>\n",
       "      <td>$149,762,350</td>\n",
       "    </tr>\n",
       "    <tr>\n",
       "      <th>3</th>\n",
       "      <td>4</td>\n",
       "      <td>May 1, 2015</td>\n",
       "      <td>Avengers: Age of Ultron</td>\n",
       "      <td>$330,600,000</td>\n",
       "      <td>$459,005,868</td>\n",
       "      <td>$1,403,013,963</td>\n",
       "    </tr>\n",
       "    <tr>\n",
       "      <th>4</th>\n",
       "      <td>5</td>\n",
       "      <td>Dec 15, 2017</td>\n",
       "      <td>Star Wars Ep. VIII: The Last Jedi</td>\n",
       "      <td>$317,000,000</td>\n",
       "      <td>$620,181,382</td>\n",
       "      <td>$1,316,721,747</td>\n",
       "    </tr>\n",
       "    <tr>\n",
       "      <th>...</th>\n",
       "      <td>...</td>\n",
       "      <td>...</td>\n",
       "      <td>...</td>\n",
       "      <td>...</td>\n",
       "      <td>...</td>\n",
       "      <td>...</td>\n",
       "    </tr>\n",
       "    <tr>\n",
       "      <th>5777</th>\n",
       "      <td>78</td>\n",
       "      <td>Dec 31, 2018</td>\n",
       "      <td>Red 11</td>\n",
       "      <td>$7,000</td>\n",
       "      <td>$0</td>\n",
       "      <td>$0</td>\n",
       "    </tr>\n",
       "    <tr>\n",
       "      <th>5778</th>\n",
       "      <td>79</td>\n",
       "      <td>Apr 2, 1999</td>\n",
       "      <td>Following</td>\n",
       "      <td>$6,000</td>\n",
       "      <td>$48,482</td>\n",
       "      <td>$240,495</td>\n",
       "    </tr>\n",
       "    <tr>\n",
       "      <th>5779</th>\n",
       "      <td>80</td>\n",
       "      <td>Jul 13, 2005</td>\n",
       "      <td>Return to the Land of Wonders</td>\n",
       "      <td>$5,000</td>\n",
       "      <td>$1,338</td>\n",
       "      <td>$1,338</td>\n",
       "    </tr>\n",
       "    <tr>\n",
       "      <th>5780</th>\n",
       "      <td>81</td>\n",
       "      <td>Sep 29, 2015</td>\n",
       "      <td>A Plague So Pleasant</td>\n",
       "      <td>$1,400</td>\n",
       "      <td>$0</td>\n",
       "      <td>$0</td>\n",
       "    </tr>\n",
       "    <tr>\n",
       "      <th>5781</th>\n",
       "      <td>82</td>\n",
       "      <td>Aug 5, 2005</td>\n",
       "      <td>My Date With Drew</td>\n",
       "      <td>$1,100</td>\n",
       "      <td>$181,041</td>\n",
       "      <td>$181,041</td>\n",
       "    </tr>\n",
       "  </tbody>\n",
       "</table>\n",
       "<p>5782 rows × 6 columns</p>\n",
       "</div>"
      ],
      "text/plain": [
       "      id  release_date                                        movie  \\\n",
       "0      1  Dec 18, 2009                                       Avatar   \n",
       "1      2  May 20, 2011  Pirates of the Caribbean: On Stranger Tides   \n",
       "2      3   Jun 7, 2019                                 Dark Phoenix   \n",
       "3      4   May 1, 2015                      Avengers: Age of Ultron   \n",
       "4      5  Dec 15, 2017            Star Wars Ep. VIII: The Last Jedi   \n",
       "...   ..           ...                                          ...   \n",
       "5777  78  Dec 31, 2018                                       Red 11   \n",
       "5778  79   Apr 2, 1999                                    Following   \n",
       "5779  80  Jul 13, 2005                Return to the Land of Wonders   \n",
       "5780  81  Sep 29, 2015                         A Plague So Pleasant   \n",
       "5781  82   Aug 5, 2005                            My Date With Drew   \n",
       "\n",
       "     production_budget domestic_gross worldwide_gross  \n",
       "0         $425,000,000   $760,507,625  $2,776,345,279  \n",
       "1         $410,600,000   $241,063,875  $1,045,663,875  \n",
       "2         $350,000,000    $42,762,350    $149,762,350  \n",
       "3         $330,600,000   $459,005,868  $1,403,013,963  \n",
       "4         $317,000,000   $620,181,382  $1,316,721,747  \n",
       "...                ...            ...             ...  \n",
       "5777            $7,000             $0              $0  \n",
       "5778            $6,000        $48,482        $240,495  \n",
       "5779            $5,000         $1,338          $1,338  \n",
       "5780            $1,400             $0              $0  \n",
       "5781            $1,100       $181,041        $181,041  \n",
       "\n",
       "[5782 rows x 6 columns]"
      ]
     },
     "execution_count": 14,
     "metadata": {},
     "output_type": "execute_result"
    }
   ],
   "source": [
    "tn_movie_budgets"
   ]
  },
  {
   "cell_type": "code",
   "execution_count": 15,
   "metadata": {
    "ExecuteTime": {
     "end_time": "2022-08-18T22:33:41.610965Z",
     "start_time": "2022-08-18T22:33:41.579966Z"
    }
   },
   "outputs": [
    {
     "data": {
      "text/html": [
       "<div>\n",
       "<style scoped>\n",
       "    .dataframe tbody tr th:only-of-type {\n",
       "        vertical-align: middle;\n",
       "    }\n",
       "\n",
       "    .dataframe tbody tr th {\n",
       "        vertical-align: top;\n",
       "    }\n",
       "\n",
       "    .dataframe thead th {\n",
       "        text-align: right;\n",
       "    }\n",
       "</style>\n",
       "<table border=\"1\" class=\"dataframe\">\n",
       "  <thead>\n",
       "    <tr style=\"text-align: right;\">\n",
       "      <th></th>\n",
       "      <th>id</th>\n",
       "      <th>synopsis</th>\n",
       "      <th>rating</th>\n",
       "      <th>genre</th>\n",
       "      <th>director</th>\n",
       "      <th>writer</th>\n",
       "      <th>theater_date</th>\n",
       "      <th>dvd_date</th>\n",
       "      <th>currency</th>\n",
       "      <th>box_office</th>\n",
       "      <th>runtime</th>\n",
       "      <th>studio</th>\n",
       "    </tr>\n",
       "  </thead>\n",
       "  <tbody>\n",
       "    <tr>\n",
       "      <th>0</th>\n",
       "      <td>1</td>\n",
       "      <td>This gritty, fast-paced, and innovative police...</td>\n",
       "      <td>R</td>\n",
       "      <td>Action and Adventure|Classics|Drama</td>\n",
       "      <td>William Friedkin</td>\n",
       "      <td>Ernest Tidyman</td>\n",
       "      <td>10/9/1971</td>\n",
       "      <td>9/25/2001</td>\n",
       "      <td>NaN</td>\n",
       "      <td>NaN</td>\n",
       "      <td>104 minutes</td>\n",
       "      <td>NaN</td>\n",
       "    </tr>\n",
       "    <tr>\n",
       "      <th>1</th>\n",
       "      <td>3</td>\n",
       "      <td>New York City, not-too-distant-future: Eric Pa...</td>\n",
       "      <td>R</td>\n",
       "      <td>Drama|Science Fiction and Fantasy</td>\n",
       "      <td>David Cronenberg</td>\n",
       "      <td>David Cronenberg|Don DeLillo</td>\n",
       "      <td>8/17/2012</td>\n",
       "      <td>1/1/2013</td>\n",
       "      <td>$</td>\n",
       "      <td>600000.0</td>\n",
       "      <td>108 minutes</td>\n",
       "      <td>Entertainment One</td>\n",
       "    </tr>\n",
       "    <tr>\n",
       "      <th>2</th>\n",
       "      <td>5</td>\n",
       "      <td>Illeana Douglas delivers a superb performance ...</td>\n",
       "      <td>R</td>\n",
       "      <td>Drama|Musical and Performing Arts</td>\n",
       "      <td>Allison Anders</td>\n",
       "      <td>Allison Anders</td>\n",
       "      <td>9/13/1996</td>\n",
       "      <td>4/18/2000</td>\n",
       "      <td>NaN</td>\n",
       "      <td>NaN</td>\n",
       "      <td>116 minutes</td>\n",
       "      <td>NaN</td>\n",
       "    </tr>\n",
       "    <tr>\n",
       "      <th>3</th>\n",
       "      <td>6</td>\n",
       "      <td>Michael Douglas runs afoul of a treacherous su...</td>\n",
       "      <td>R</td>\n",
       "      <td>Drama|Mystery and Suspense</td>\n",
       "      <td>Barry Levinson</td>\n",
       "      <td>Paul Attanasio|Michael Crichton</td>\n",
       "      <td>12/9/1994</td>\n",
       "      <td>8/27/1997</td>\n",
       "      <td>NaN</td>\n",
       "      <td>NaN</td>\n",
       "      <td>128 minutes</td>\n",
       "      <td>NaN</td>\n",
       "    </tr>\n",
       "    <tr>\n",
       "      <th>4</th>\n",
       "      <td>7</td>\n",
       "      <td>NaN</td>\n",
       "      <td>NR</td>\n",
       "      <td>Drama|Romance</td>\n",
       "      <td>Rodney Bennett</td>\n",
       "      <td>Giles Cooper</td>\n",
       "      <td>NaN</td>\n",
       "      <td>NaN</td>\n",
       "      <td>NaN</td>\n",
       "      <td>NaN</td>\n",
       "      <td>200 minutes</td>\n",
       "      <td>NaN</td>\n",
       "    </tr>\n",
       "    <tr>\n",
       "      <th>...</th>\n",
       "      <td>...</td>\n",
       "      <td>...</td>\n",
       "      <td>...</td>\n",
       "      <td>...</td>\n",
       "      <td>...</td>\n",
       "      <td>...</td>\n",
       "      <td>...</td>\n",
       "      <td>...</td>\n",
       "      <td>...</td>\n",
       "      <td>...</td>\n",
       "      <td>...</td>\n",
       "      <td>...</td>\n",
       "    </tr>\n",
       "    <tr>\n",
       "      <th>1555</th>\n",
       "      <td>1996</td>\n",
       "      <td>Forget terrorists or hijackers -- there's a ha...</td>\n",
       "      <td>R</td>\n",
       "      <td>Action and Adventure|Horror|Mystery and Suspense</td>\n",
       "      <td>NaN</td>\n",
       "      <td>NaN</td>\n",
       "      <td>8/18/2006</td>\n",
       "      <td>1/2/2007</td>\n",
       "      <td>$</td>\n",
       "      <td>33886034.0</td>\n",
       "      <td>106 minutes</td>\n",
       "      <td>New Line Cinema</td>\n",
       "    </tr>\n",
       "    <tr>\n",
       "      <th>1556</th>\n",
       "      <td>1997</td>\n",
       "      <td>The popular Saturday Night Live sketch was exp...</td>\n",
       "      <td>PG</td>\n",
       "      <td>Comedy|Science Fiction and Fantasy</td>\n",
       "      <td>Steve Barron</td>\n",
       "      <td>Terry Turner|Tom Davis|Dan Aykroyd|Bonnie Turner</td>\n",
       "      <td>7/23/1993</td>\n",
       "      <td>4/17/2001</td>\n",
       "      <td>NaN</td>\n",
       "      <td>NaN</td>\n",
       "      <td>88 minutes</td>\n",
       "      <td>Paramount Vantage</td>\n",
       "    </tr>\n",
       "    <tr>\n",
       "      <th>1557</th>\n",
       "      <td>1998</td>\n",
       "      <td>Based on a novel by Richard Powell, when the l...</td>\n",
       "      <td>G</td>\n",
       "      <td>Classics|Comedy|Drama|Musical and Performing Arts</td>\n",
       "      <td>Gordon Douglas</td>\n",
       "      <td>NaN</td>\n",
       "      <td>1/1/1962</td>\n",
       "      <td>5/11/2004</td>\n",
       "      <td>NaN</td>\n",
       "      <td>NaN</td>\n",
       "      <td>111 minutes</td>\n",
       "      <td>NaN</td>\n",
       "    </tr>\n",
       "    <tr>\n",
       "      <th>1558</th>\n",
       "      <td>1999</td>\n",
       "      <td>The Sandlot is a coming-of-age story about a g...</td>\n",
       "      <td>PG</td>\n",
       "      <td>Comedy|Drama|Kids and Family|Sports and Fitness</td>\n",
       "      <td>David Mickey Evans</td>\n",
       "      <td>David Mickey Evans|Robert Gunter</td>\n",
       "      <td>4/1/1993</td>\n",
       "      <td>1/29/2002</td>\n",
       "      <td>NaN</td>\n",
       "      <td>NaN</td>\n",
       "      <td>101 minutes</td>\n",
       "      <td>NaN</td>\n",
       "    </tr>\n",
       "    <tr>\n",
       "      <th>1559</th>\n",
       "      <td>2000</td>\n",
       "      <td>Suspended from the force, Paris cop Hubert is ...</td>\n",
       "      <td>R</td>\n",
       "      <td>Action and Adventure|Art House and Internation...</td>\n",
       "      <td>NaN</td>\n",
       "      <td>Luc Besson</td>\n",
       "      <td>9/27/2001</td>\n",
       "      <td>2/11/2003</td>\n",
       "      <td>NaN</td>\n",
       "      <td>NaN</td>\n",
       "      <td>94 minutes</td>\n",
       "      <td>Columbia Pictures</td>\n",
       "    </tr>\n",
       "  </tbody>\n",
       "</table>\n",
       "<p>1560 rows × 12 columns</p>\n",
       "</div>"
      ],
      "text/plain": [
       "        id                                           synopsis rating  \\\n",
       "0        1  This gritty, fast-paced, and innovative police...      R   \n",
       "1        3  New York City, not-too-distant-future: Eric Pa...      R   \n",
       "2        5  Illeana Douglas delivers a superb performance ...      R   \n",
       "3        6  Michael Douglas runs afoul of a treacherous su...      R   \n",
       "4        7                                                NaN     NR   \n",
       "...    ...                                                ...    ...   \n",
       "1555  1996  Forget terrorists or hijackers -- there's a ha...      R   \n",
       "1556  1997  The popular Saturday Night Live sketch was exp...     PG   \n",
       "1557  1998  Based on a novel by Richard Powell, when the l...      G   \n",
       "1558  1999  The Sandlot is a coming-of-age story about a g...     PG   \n",
       "1559  2000  Suspended from the force, Paris cop Hubert is ...      R   \n",
       "\n",
       "                                                  genre            director  \\\n",
       "0                   Action and Adventure|Classics|Drama    William Friedkin   \n",
       "1                     Drama|Science Fiction and Fantasy    David Cronenberg   \n",
       "2                     Drama|Musical and Performing Arts      Allison Anders   \n",
       "3                            Drama|Mystery and Suspense      Barry Levinson   \n",
       "4                                         Drama|Romance      Rodney Bennett   \n",
       "...                                                 ...                 ...   \n",
       "1555   Action and Adventure|Horror|Mystery and Suspense                 NaN   \n",
       "1556                 Comedy|Science Fiction and Fantasy        Steve Barron   \n",
       "1557  Classics|Comedy|Drama|Musical and Performing Arts      Gordon Douglas   \n",
       "1558    Comedy|Drama|Kids and Family|Sports and Fitness  David Mickey Evans   \n",
       "1559  Action and Adventure|Art House and Internation...                 NaN   \n",
       "\n",
       "                                                writer theater_date  \\\n",
       "0                                       Ernest Tidyman    10/9/1971   \n",
       "1                         David Cronenberg|Don DeLillo    8/17/2012   \n",
       "2                                       Allison Anders    9/13/1996   \n",
       "3                      Paul Attanasio|Michael Crichton    12/9/1994   \n",
       "4                                         Giles Cooper          NaN   \n",
       "...                                                ...          ...   \n",
       "1555                                               NaN    8/18/2006   \n",
       "1556  Terry Turner|Tom Davis|Dan Aykroyd|Bonnie Turner    7/23/1993   \n",
       "1557                                               NaN     1/1/1962   \n",
       "1558                  David Mickey Evans|Robert Gunter     4/1/1993   \n",
       "1559                                        Luc Besson    9/27/2001   \n",
       "\n",
       "       dvd_date currency  box_office      runtime             studio  \n",
       "0     9/25/2001      NaN         NaN  104 minutes                NaN  \n",
       "1      1/1/2013        $    600000.0  108 minutes  Entertainment One  \n",
       "2     4/18/2000      NaN         NaN  116 minutes                NaN  \n",
       "3     8/27/1997      NaN         NaN  128 minutes                NaN  \n",
       "4           NaN      NaN         NaN  200 minutes                NaN  \n",
       "...         ...      ...         ...          ...                ...  \n",
       "1555   1/2/2007        $  33886034.0  106 minutes    New Line Cinema  \n",
       "1556  4/17/2001      NaN         NaN   88 minutes  Paramount Vantage  \n",
       "1557  5/11/2004      NaN         NaN  111 minutes                NaN  \n",
       "1558  1/29/2002      NaN         NaN  101 minutes                NaN  \n",
       "1559  2/11/2003      NaN         NaN   94 minutes  Columbia Pictures  \n",
       "\n",
       "[1560 rows x 12 columns]"
      ]
     },
     "execution_count": 15,
     "metadata": {},
     "output_type": "execute_result"
    }
   ],
   "source": [
    "rt_movie_info"
   ]
  },
  {
   "cell_type": "code",
   "execution_count": 16,
   "metadata": {
    "ExecuteTime": {
     "end_time": "2022-08-18T22:33:45.078667Z",
     "start_time": "2022-08-18T22:33:45.067667Z"
    }
   },
   "outputs": [
    {
     "data": {
      "text/plain": [
       "0              NaN\n",
       "1         600000.0\n",
       "2              NaN\n",
       "3              NaN\n",
       "4              NaN\n",
       "           ...    \n",
       "1555    33886034.0\n",
       "1556           NaN\n",
       "1557           NaN\n",
       "1558           NaN\n",
       "1559           NaN\n",
       "Name: box_office, Length: 1560, dtype: float64"
      ]
     },
     "execution_count": 16,
     "metadata": {},
     "output_type": "execute_result"
    }
   ],
   "source": [
    "rt_movie_info['box_office']"
   ]
  },
  {
   "cell_type": "code",
   "execution_count": 17,
   "metadata": {
    "ExecuteTime": {
     "end_time": "2022-08-18T22:33:45.591376Z",
     "start_time": "2022-08-18T22:33:45.564372Z"
    }
   },
   "outputs": [
    {
     "data": {
      "text/html": [
       "<div>\n",
       "<style scoped>\n",
       "    .dataframe tbody tr th:only-of-type {\n",
       "        vertical-align: middle;\n",
       "    }\n",
       "\n",
       "    .dataframe tbody tr th {\n",
       "        vertical-align: top;\n",
       "    }\n",
       "\n",
       "    .dataframe thead th {\n",
       "        text-align: right;\n",
       "    }\n",
       "</style>\n",
       "<table border=\"1\" class=\"dataframe\">\n",
       "  <thead>\n",
       "    <tr style=\"text-align: right;\">\n",
       "      <th></th>\n",
       "      <th>id</th>\n",
       "      <th>synopsis</th>\n",
       "      <th>rating</th>\n",
       "      <th>genre</th>\n",
       "      <th>director</th>\n",
       "      <th>writer</th>\n",
       "      <th>theater_date</th>\n",
       "      <th>dvd_date</th>\n",
       "      <th>currency</th>\n",
       "      <th>box_office</th>\n",
       "      <th>runtime</th>\n",
       "      <th>studio</th>\n",
       "    </tr>\n",
       "  </thead>\n",
       "  <tbody>\n",
       "    <tr>\n",
       "      <th>0</th>\n",
       "      <td>1</td>\n",
       "      <td>This gritty, fast-paced, and innovative police...</td>\n",
       "      <td>R</td>\n",
       "      <td>Action and Adventure|Classics|Drama</td>\n",
       "      <td>William Friedkin</td>\n",
       "      <td>Ernest Tidyman</td>\n",
       "      <td>10/9/1971</td>\n",
       "      <td>9/25/2001</td>\n",
       "      <td>NaN</td>\n",
       "      <td>NaN</td>\n",
       "      <td>104 minutes</td>\n",
       "      <td>NaN</td>\n",
       "    </tr>\n",
       "    <tr>\n",
       "      <th>1</th>\n",
       "      <td>3</td>\n",
       "      <td>New York City, not-too-distant-future: Eric Pa...</td>\n",
       "      <td>R</td>\n",
       "      <td>Drama|Science Fiction and Fantasy</td>\n",
       "      <td>David Cronenberg</td>\n",
       "      <td>David Cronenberg|Don DeLillo</td>\n",
       "      <td>8/17/2012</td>\n",
       "      <td>1/1/2013</td>\n",
       "      <td>$</td>\n",
       "      <td>600000.0</td>\n",
       "      <td>108 minutes</td>\n",
       "      <td>Entertainment One</td>\n",
       "    </tr>\n",
       "    <tr>\n",
       "      <th>2</th>\n",
       "      <td>5</td>\n",
       "      <td>Illeana Douglas delivers a superb performance ...</td>\n",
       "      <td>R</td>\n",
       "      <td>Drama|Musical and Performing Arts</td>\n",
       "      <td>Allison Anders</td>\n",
       "      <td>Allison Anders</td>\n",
       "      <td>9/13/1996</td>\n",
       "      <td>4/18/2000</td>\n",
       "      <td>NaN</td>\n",
       "      <td>NaN</td>\n",
       "      <td>116 minutes</td>\n",
       "      <td>NaN</td>\n",
       "    </tr>\n",
       "    <tr>\n",
       "      <th>3</th>\n",
       "      <td>6</td>\n",
       "      <td>Michael Douglas runs afoul of a treacherous su...</td>\n",
       "      <td>R</td>\n",
       "      <td>Drama|Mystery and Suspense</td>\n",
       "      <td>Barry Levinson</td>\n",
       "      <td>Paul Attanasio|Michael Crichton</td>\n",
       "      <td>12/9/1994</td>\n",
       "      <td>8/27/1997</td>\n",
       "      <td>NaN</td>\n",
       "      <td>NaN</td>\n",
       "      <td>128 minutes</td>\n",
       "      <td>NaN</td>\n",
       "    </tr>\n",
       "    <tr>\n",
       "      <th>4</th>\n",
       "      <td>7</td>\n",
       "      <td>NaN</td>\n",
       "      <td>NR</td>\n",
       "      <td>Drama|Romance</td>\n",
       "      <td>Rodney Bennett</td>\n",
       "      <td>Giles Cooper</td>\n",
       "      <td>NaN</td>\n",
       "      <td>NaN</td>\n",
       "      <td>NaN</td>\n",
       "      <td>NaN</td>\n",
       "      <td>200 minutes</td>\n",
       "      <td>NaN</td>\n",
       "    </tr>\n",
       "    <tr>\n",
       "      <th>...</th>\n",
       "      <td>...</td>\n",
       "      <td>...</td>\n",
       "      <td>...</td>\n",
       "      <td>...</td>\n",
       "      <td>...</td>\n",
       "      <td>...</td>\n",
       "      <td>...</td>\n",
       "      <td>...</td>\n",
       "      <td>...</td>\n",
       "      <td>...</td>\n",
       "      <td>...</td>\n",
       "      <td>...</td>\n",
       "    </tr>\n",
       "    <tr>\n",
       "      <th>1555</th>\n",
       "      <td>1996</td>\n",
       "      <td>Forget terrorists or hijackers -- there's a ha...</td>\n",
       "      <td>R</td>\n",
       "      <td>Action and Adventure|Horror|Mystery and Suspense</td>\n",
       "      <td>NaN</td>\n",
       "      <td>NaN</td>\n",
       "      <td>8/18/2006</td>\n",
       "      <td>1/2/2007</td>\n",
       "      <td>$</td>\n",
       "      <td>33886034.0</td>\n",
       "      <td>106 minutes</td>\n",
       "      <td>New Line Cinema</td>\n",
       "    </tr>\n",
       "    <tr>\n",
       "      <th>1556</th>\n",
       "      <td>1997</td>\n",
       "      <td>The popular Saturday Night Live sketch was exp...</td>\n",
       "      <td>PG</td>\n",
       "      <td>Comedy|Science Fiction and Fantasy</td>\n",
       "      <td>Steve Barron</td>\n",
       "      <td>Terry Turner|Tom Davis|Dan Aykroyd|Bonnie Turner</td>\n",
       "      <td>7/23/1993</td>\n",
       "      <td>4/17/2001</td>\n",
       "      <td>NaN</td>\n",
       "      <td>NaN</td>\n",
       "      <td>88 minutes</td>\n",
       "      <td>Paramount Vantage</td>\n",
       "    </tr>\n",
       "    <tr>\n",
       "      <th>1557</th>\n",
       "      <td>1998</td>\n",
       "      <td>Based on a novel by Richard Powell, when the l...</td>\n",
       "      <td>G</td>\n",
       "      <td>Classics|Comedy|Drama|Musical and Performing Arts</td>\n",
       "      <td>Gordon Douglas</td>\n",
       "      <td>NaN</td>\n",
       "      <td>1/1/1962</td>\n",
       "      <td>5/11/2004</td>\n",
       "      <td>NaN</td>\n",
       "      <td>NaN</td>\n",
       "      <td>111 minutes</td>\n",
       "      <td>NaN</td>\n",
       "    </tr>\n",
       "    <tr>\n",
       "      <th>1558</th>\n",
       "      <td>1999</td>\n",
       "      <td>The Sandlot is a coming-of-age story about a g...</td>\n",
       "      <td>PG</td>\n",
       "      <td>Comedy|Drama|Kids and Family|Sports and Fitness</td>\n",
       "      <td>David Mickey Evans</td>\n",
       "      <td>David Mickey Evans|Robert Gunter</td>\n",
       "      <td>4/1/1993</td>\n",
       "      <td>1/29/2002</td>\n",
       "      <td>NaN</td>\n",
       "      <td>NaN</td>\n",
       "      <td>101 minutes</td>\n",
       "      <td>NaN</td>\n",
       "    </tr>\n",
       "    <tr>\n",
       "      <th>1559</th>\n",
       "      <td>2000</td>\n",
       "      <td>Suspended from the force, Paris cop Hubert is ...</td>\n",
       "      <td>R</td>\n",
       "      <td>Action and Adventure|Art House and Internation...</td>\n",
       "      <td>NaN</td>\n",
       "      <td>Luc Besson</td>\n",
       "      <td>9/27/2001</td>\n",
       "      <td>2/11/2003</td>\n",
       "      <td>NaN</td>\n",
       "      <td>NaN</td>\n",
       "      <td>94 minutes</td>\n",
       "      <td>Columbia Pictures</td>\n",
       "    </tr>\n",
       "  </tbody>\n",
       "</table>\n",
       "<p>1560 rows × 12 columns</p>\n",
       "</div>"
      ],
      "text/plain": [
       "        id                                           synopsis rating  \\\n",
       "0        1  This gritty, fast-paced, and innovative police...      R   \n",
       "1        3  New York City, not-too-distant-future: Eric Pa...      R   \n",
       "2        5  Illeana Douglas delivers a superb performance ...      R   \n",
       "3        6  Michael Douglas runs afoul of a treacherous su...      R   \n",
       "4        7                                                NaN     NR   \n",
       "...    ...                                                ...    ...   \n",
       "1555  1996  Forget terrorists or hijackers -- there's a ha...      R   \n",
       "1556  1997  The popular Saturday Night Live sketch was exp...     PG   \n",
       "1557  1998  Based on a novel by Richard Powell, when the l...      G   \n",
       "1558  1999  The Sandlot is a coming-of-age story about a g...     PG   \n",
       "1559  2000  Suspended from the force, Paris cop Hubert is ...      R   \n",
       "\n",
       "                                                  genre            director  \\\n",
       "0                   Action and Adventure|Classics|Drama    William Friedkin   \n",
       "1                     Drama|Science Fiction and Fantasy    David Cronenberg   \n",
       "2                     Drama|Musical and Performing Arts      Allison Anders   \n",
       "3                            Drama|Mystery and Suspense      Barry Levinson   \n",
       "4                                         Drama|Romance      Rodney Bennett   \n",
       "...                                                 ...                 ...   \n",
       "1555   Action and Adventure|Horror|Mystery and Suspense                 NaN   \n",
       "1556                 Comedy|Science Fiction and Fantasy        Steve Barron   \n",
       "1557  Classics|Comedy|Drama|Musical and Performing Arts      Gordon Douglas   \n",
       "1558    Comedy|Drama|Kids and Family|Sports and Fitness  David Mickey Evans   \n",
       "1559  Action and Adventure|Art House and Internation...                 NaN   \n",
       "\n",
       "                                                writer theater_date  \\\n",
       "0                                       Ernest Tidyman    10/9/1971   \n",
       "1                         David Cronenberg|Don DeLillo    8/17/2012   \n",
       "2                                       Allison Anders    9/13/1996   \n",
       "3                      Paul Attanasio|Michael Crichton    12/9/1994   \n",
       "4                                         Giles Cooper          NaN   \n",
       "...                                                ...          ...   \n",
       "1555                                               NaN    8/18/2006   \n",
       "1556  Terry Turner|Tom Davis|Dan Aykroyd|Bonnie Turner    7/23/1993   \n",
       "1557                                               NaN     1/1/1962   \n",
       "1558                  David Mickey Evans|Robert Gunter     4/1/1993   \n",
       "1559                                        Luc Besson    9/27/2001   \n",
       "\n",
       "       dvd_date currency  box_office      runtime             studio  \n",
       "0     9/25/2001      NaN         NaN  104 minutes                NaN  \n",
       "1      1/1/2013        $    600000.0  108 minutes  Entertainment One  \n",
       "2     4/18/2000      NaN         NaN  116 minutes                NaN  \n",
       "3     8/27/1997      NaN         NaN  128 minutes                NaN  \n",
       "4           NaN      NaN         NaN  200 minutes                NaN  \n",
       "...         ...      ...         ...          ...                ...  \n",
       "1555   1/2/2007        $  33886034.0  106 minutes    New Line Cinema  \n",
       "1556  4/17/2001      NaN         NaN   88 minutes  Paramount Vantage  \n",
       "1557  5/11/2004      NaN         NaN  111 minutes                NaN  \n",
       "1558  1/29/2002      NaN         NaN  101 minutes                NaN  \n",
       "1559  2/11/2003      NaN         NaN   94 minutes  Columbia Pictures  \n",
       "\n",
       "[1560 rows x 12 columns]"
      ]
     },
     "execution_count": 17,
     "metadata": {},
     "output_type": "execute_result"
    }
   ],
   "source": [
    "#made copy of df to drop Nan values and do some work\n",
    "movie_info = rt_movie_info.copy()\n",
    "movie_info"
   ]
  },
  {
   "cell_type": "code",
   "execution_count": 18,
   "metadata": {
    "ExecuteTime": {
     "end_time": "2022-08-18T22:33:46.046373Z",
     "start_time": "2022-08-18T22:33:46.011364Z"
    }
   },
   "outputs": [
    {
     "data": {
      "text/html": [
       "<div>\n",
       "<style scoped>\n",
       "    .dataframe tbody tr th:only-of-type {\n",
       "        vertical-align: middle;\n",
       "    }\n",
       "\n",
       "    .dataframe tbody tr th {\n",
       "        vertical-align: top;\n",
       "    }\n",
       "\n",
       "    .dataframe thead th {\n",
       "        text-align: right;\n",
       "    }\n",
       "</style>\n",
       "<table border=\"1\" class=\"dataframe\">\n",
       "  <thead>\n",
       "    <tr style=\"text-align: right;\">\n",
       "      <th></th>\n",
       "      <th>id</th>\n",
       "      <th>synopsis</th>\n",
       "      <th>rating</th>\n",
       "      <th>genre</th>\n",
       "      <th>director</th>\n",
       "      <th>writer</th>\n",
       "      <th>theater_date</th>\n",
       "      <th>dvd_date</th>\n",
       "      <th>currency</th>\n",
       "      <th>box_office</th>\n",
       "      <th>runtime</th>\n",
       "      <th>studio</th>\n",
       "    </tr>\n",
       "  </thead>\n",
       "  <tbody>\n",
       "    <tr>\n",
       "      <th>1</th>\n",
       "      <td>3</td>\n",
       "      <td>New York City, not-too-distant-future: Eric Pa...</td>\n",
       "      <td>R</td>\n",
       "      <td>Drama|Science Fiction and Fantasy</td>\n",
       "      <td>David Cronenberg</td>\n",
       "      <td>David Cronenberg|Don DeLillo</td>\n",
       "      <td>8/17/2012</td>\n",
       "      <td>1/1/2013</td>\n",
       "      <td>$</td>\n",
       "      <td>600000.0</td>\n",
       "      <td>108 minutes</td>\n",
       "      <td>Entertainment One</td>\n",
       "    </tr>\n",
       "    <tr>\n",
       "      <th>6</th>\n",
       "      <td>10</td>\n",
       "      <td>Some cast and crew from NBC's highly acclaimed...</td>\n",
       "      <td>PG-13</td>\n",
       "      <td>Comedy</td>\n",
       "      <td>Jake Kasdan</td>\n",
       "      <td>Mike White</td>\n",
       "      <td>1/11/2002</td>\n",
       "      <td>6/18/2002</td>\n",
       "      <td>$</td>\n",
       "      <td>41032915.0</td>\n",
       "      <td>82 minutes</td>\n",
       "      <td>Paramount Pictures</td>\n",
       "    </tr>\n",
       "    <tr>\n",
       "      <th>7</th>\n",
       "      <td>13</td>\n",
       "      <td>Stewart Kane, an Irishman living in the Austra...</td>\n",
       "      <td>R</td>\n",
       "      <td>Drama</td>\n",
       "      <td>Ray Lawrence</td>\n",
       "      <td>Raymond Carver|Beatrix Christian</td>\n",
       "      <td>4/27/2006</td>\n",
       "      <td>10/2/2007</td>\n",
       "      <td>$</td>\n",
       "      <td>224114.0</td>\n",
       "      <td>123 minutes</td>\n",
       "      <td>Sony Pictures Classics</td>\n",
       "    </tr>\n",
       "    <tr>\n",
       "      <th>15</th>\n",
       "      <td>22</td>\n",
       "      <td>Two-time Academy Award Winner Kevin Spacey giv...</td>\n",
       "      <td>R</td>\n",
       "      <td>Comedy|Drama|Mystery and Suspense</td>\n",
       "      <td>George Hickenlooper</td>\n",
       "      <td>Norman Snider</td>\n",
       "      <td>12/17/2010</td>\n",
       "      <td>4/5/2011</td>\n",
       "      <td>$</td>\n",
       "      <td>1039869.0</td>\n",
       "      <td>108 minutes</td>\n",
       "      <td>ATO Pictures</td>\n",
       "    </tr>\n",
       "    <tr>\n",
       "      <th>18</th>\n",
       "      <td>25</td>\n",
       "      <td>From ancient Japan's most enduring tale, the e...</td>\n",
       "      <td>PG-13</td>\n",
       "      <td>Action and Adventure|Drama|Science Fiction and...</td>\n",
       "      <td>Carl Erik Rinsch</td>\n",
       "      <td>Chris Morgan|Hossein Amini</td>\n",
       "      <td>12/25/2013</td>\n",
       "      <td>4/1/2014</td>\n",
       "      <td>$</td>\n",
       "      <td>20518224.0</td>\n",
       "      <td>127 minutes</td>\n",
       "      <td>Universal Pictures</td>\n",
       "    </tr>\n",
       "    <tr>\n",
       "      <th>...</th>\n",
       "      <td>...</td>\n",
       "      <td>...</td>\n",
       "      <td>...</td>\n",
       "      <td>...</td>\n",
       "      <td>...</td>\n",
       "      <td>...</td>\n",
       "      <td>...</td>\n",
       "      <td>...</td>\n",
       "      <td>...</td>\n",
       "      <td>...</td>\n",
       "      <td>...</td>\n",
       "      <td>...</td>\n",
       "    </tr>\n",
       "    <tr>\n",
       "      <th>1530</th>\n",
       "      <td>1968</td>\n",
       "      <td>This holiday season, acclaimed filmmaker Camer...</td>\n",
       "      <td>PG</td>\n",
       "      <td>Comedy|Drama</td>\n",
       "      <td>Cameron Crowe</td>\n",
       "      <td>Aline Brosh McKenna|Cameron Crowe</td>\n",
       "      <td>12/23/2011</td>\n",
       "      <td>4/3/2012</td>\n",
       "      <td>$</td>\n",
       "      <td>72700000.0</td>\n",
       "      <td>126 minutes</td>\n",
       "      <td>20th Century Fox</td>\n",
       "    </tr>\n",
       "    <tr>\n",
       "      <th>1537</th>\n",
       "      <td>1976</td>\n",
       "      <td>Embrace of the Serpent features the encounter,...</td>\n",
       "      <td>NR</td>\n",
       "      <td>Action and Adventure|Art House and International</td>\n",
       "      <td>Ciro Guerra</td>\n",
       "      <td>Ciro Guerra|Jacques Toulemonde Vidal</td>\n",
       "      <td>2/17/2016</td>\n",
       "      <td>6/21/2016</td>\n",
       "      <td>$</td>\n",
       "      <td>1320005.0</td>\n",
       "      <td>123 minutes</td>\n",
       "      <td>Buffalo Films</td>\n",
       "    </tr>\n",
       "    <tr>\n",
       "      <th>1541</th>\n",
       "      <td>1980</td>\n",
       "      <td>A band of renegades on the run in outer space ...</td>\n",
       "      <td>PG-13</td>\n",
       "      <td>Action and Adventure|Science Fiction and Fantasy</td>\n",
       "      <td>Joss Whedon</td>\n",
       "      <td>Joss Whedon</td>\n",
       "      <td>9/30/2005</td>\n",
       "      <td>12/20/2005</td>\n",
       "      <td>$</td>\n",
       "      <td>25335935.0</td>\n",
       "      <td>119 minutes</td>\n",
       "      <td>Universal Pictures</td>\n",
       "    </tr>\n",
       "    <tr>\n",
       "      <th>1542</th>\n",
       "      <td>1981</td>\n",
       "      <td>Money, Fame and the Knowledge of English. In I...</td>\n",
       "      <td>NR</td>\n",
       "      <td>Comedy|Drama</td>\n",
       "      <td>Gauri Shinde</td>\n",
       "      <td>Gauri Shinde</td>\n",
       "      <td>10/5/2012</td>\n",
       "      <td>11/20/2012</td>\n",
       "      <td>$</td>\n",
       "      <td>1416189.0</td>\n",
       "      <td>129 minutes</td>\n",
       "      <td>Eros Entertainment</td>\n",
       "    </tr>\n",
       "    <tr>\n",
       "      <th>1545</th>\n",
       "      <td>1985</td>\n",
       "      <td>A woman who joins the undead against her will ...</td>\n",
       "      <td>R</td>\n",
       "      <td>Horror|Mystery and Suspense</td>\n",
       "      <td>Sebastian Gutierrez</td>\n",
       "      <td>Sebastian Gutierrez</td>\n",
       "      <td>6/1/2007</td>\n",
       "      <td>10/9/2007</td>\n",
       "      <td>$</td>\n",
       "      <td>59371.0</td>\n",
       "      <td>98 minutes</td>\n",
       "      <td>IDP Distribution</td>\n",
       "    </tr>\n",
       "  </tbody>\n",
       "</table>\n",
       "<p>235 rows × 12 columns</p>\n",
       "</div>"
      ],
      "text/plain": [
       "        id                                           synopsis rating  \\\n",
       "1        3  New York City, not-too-distant-future: Eric Pa...      R   \n",
       "6       10  Some cast and crew from NBC's highly acclaimed...  PG-13   \n",
       "7       13  Stewart Kane, an Irishman living in the Austra...      R   \n",
       "15      22  Two-time Academy Award Winner Kevin Spacey giv...      R   \n",
       "18      25  From ancient Japan's most enduring tale, the e...  PG-13   \n",
       "...    ...                                                ...    ...   \n",
       "1530  1968  This holiday season, acclaimed filmmaker Camer...     PG   \n",
       "1537  1976  Embrace of the Serpent features the encounter,...     NR   \n",
       "1541  1980  A band of renegades on the run in outer space ...  PG-13   \n",
       "1542  1981  Money, Fame and the Knowledge of English. In I...     NR   \n",
       "1545  1985  A woman who joins the undead against her will ...      R   \n",
       "\n",
       "                                                  genre             director  \\\n",
       "1                     Drama|Science Fiction and Fantasy     David Cronenberg   \n",
       "6                                                Comedy          Jake Kasdan   \n",
       "7                                                 Drama         Ray Lawrence   \n",
       "15                    Comedy|Drama|Mystery and Suspense  George Hickenlooper   \n",
       "18    Action and Adventure|Drama|Science Fiction and...     Carl Erik Rinsch   \n",
       "...                                                 ...                  ...   \n",
       "1530                                       Comedy|Drama        Cameron Crowe   \n",
       "1537   Action and Adventure|Art House and International          Ciro Guerra   \n",
       "1541   Action and Adventure|Science Fiction and Fantasy          Joss Whedon   \n",
       "1542                                       Comedy|Drama         Gauri Shinde   \n",
       "1545                        Horror|Mystery and Suspense  Sebastian Gutierrez   \n",
       "\n",
       "                                    writer theater_date    dvd_date currency  \\\n",
       "1             David Cronenberg|Don DeLillo    8/17/2012    1/1/2013        $   \n",
       "6                               Mike White    1/11/2002   6/18/2002        $   \n",
       "7         Raymond Carver|Beatrix Christian    4/27/2006   10/2/2007        $   \n",
       "15                           Norman Snider   12/17/2010    4/5/2011        $   \n",
       "18              Chris Morgan|Hossein Amini   12/25/2013    4/1/2014        $   \n",
       "...                                    ...          ...         ...      ...   \n",
       "1530     Aline Brosh McKenna|Cameron Crowe   12/23/2011    4/3/2012        $   \n",
       "1537  Ciro Guerra|Jacques Toulemonde Vidal    2/17/2016   6/21/2016        $   \n",
       "1541                           Joss Whedon    9/30/2005  12/20/2005        $   \n",
       "1542                          Gauri Shinde    10/5/2012  11/20/2012        $   \n",
       "1545                   Sebastian Gutierrez     6/1/2007   10/9/2007        $   \n",
       "\n",
       "      box_office      runtime                  studio  \n",
       "1       600000.0  108 minutes       Entertainment One  \n",
       "6     41032915.0   82 minutes      Paramount Pictures  \n",
       "7       224114.0  123 minutes  Sony Pictures Classics  \n",
       "15     1039869.0  108 minutes            ATO Pictures  \n",
       "18    20518224.0  127 minutes      Universal Pictures  \n",
       "...          ...          ...                     ...  \n",
       "1530  72700000.0  126 minutes        20th Century Fox  \n",
       "1537   1320005.0  123 minutes           Buffalo Films  \n",
       "1541  25335935.0  119 minutes      Universal Pictures  \n",
       "1542   1416189.0  129 minutes      Eros Entertainment  \n",
       "1545     59371.0   98 minutes        IDP Distribution  \n",
       "\n",
       "[235 rows x 12 columns]"
      ]
     },
     "execution_count": 18,
     "metadata": {},
     "output_type": "execute_result"
    }
   ],
   "source": [
    "#drop records with nan values\n",
    "movie_info = movie_info.dropna()\n",
    "movie_info"
   ]
  },
  {
   "cell_type": "code",
   "execution_count": 19,
   "metadata": {
    "ExecuteTime": {
     "end_time": "2022-08-18T22:33:46.487164Z",
     "start_time": "2022-08-18T22:33:46.462160Z"
    }
   },
   "outputs": [
    {
     "ename": "AttributeError",
     "evalue": "Can only use .str accessor with string values!",
     "output_type": "error",
     "traceback": [
      "\u001b[1;31m---------------------------------------------------------------------------\u001b[0m",
      "\u001b[1;31mAttributeError\u001b[0m                            Traceback (most recent call last)",
      "\u001b[1;32m<ipython-input-19-d1b45f6561fd>\u001b[0m in \u001b[0;36m<module>\u001b[1;34m\u001b[0m\n\u001b[0;32m      1\u001b[0m \u001b[1;31m#remove commas\u001b[0m\u001b[1;33m\u001b[0m\u001b[1;33m\u001b[0m\u001b[1;33m\u001b[0m\u001b[0m\n\u001b[1;32m----> 2\u001b[1;33m \u001b[0mmovie_info\u001b[0m\u001b[1;33m[\u001b[0m\u001b[1;34m'box_office'\u001b[0m\u001b[1;33m]\u001b[0m\u001b[1;33m=\u001b[0m\u001b[0mmovie_info\u001b[0m\u001b[1;33m[\u001b[0m\u001b[1;34m'box_office'\u001b[0m\u001b[1;33m]\u001b[0m\u001b[1;33m.\u001b[0m\u001b[0mstr\u001b[0m\u001b[1;33m.\u001b[0m\u001b[0mreplace\u001b[0m\u001b[1;33m(\u001b[0m\u001b[1;34m','\u001b[0m\u001b[1;33m,\u001b[0m\u001b[1;34m''\u001b[0m\u001b[1;33m)\u001b[0m\u001b[1;33m\u001b[0m\u001b[1;33m\u001b[0m\u001b[0m\n\u001b[0m\u001b[0;32m      3\u001b[0m \u001b[0mmovie_info\u001b[0m\u001b[1;33m\u001b[0m\u001b[1;33m\u001b[0m\u001b[0m\n",
      "\u001b[1;32m~\\Anaconda3\\envs\\learn-env\\lib\\site-packages\\pandas\\core\\generic.py\u001b[0m in \u001b[0;36m__getattr__\u001b[1;34m(self, name)\u001b[0m\n\u001b[0;32m   5133\u001b[0m             \u001b[1;32mor\u001b[0m \u001b[0mname\u001b[0m \u001b[1;32min\u001b[0m \u001b[0mself\u001b[0m\u001b[1;33m.\u001b[0m\u001b[0m_accessors\u001b[0m\u001b[1;33m\u001b[0m\u001b[1;33m\u001b[0m\u001b[0m\n\u001b[0;32m   5134\u001b[0m         ):\n\u001b[1;32m-> 5135\u001b[1;33m             \u001b[1;32mreturn\u001b[0m \u001b[0mobject\u001b[0m\u001b[1;33m.\u001b[0m\u001b[0m__getattribute__\u001b[0m\u001b[1;33m(\u001b[0m\u001b[0mself\u001b[0m\u001b[1;33m,\u001b[0m \u001b[0mname\u001b[0m\u001b[1;33m)\u001b[0m\u001b[1;33m\u001b[0m\u001b[1;33m\u001b[0m\u001b[0m\n\u001b[0m\u001b[0;32m   5136\u001b[0m         \u001b[1;32melse\u001b[0m\u001b[1;33m:\u001b[0m\u001b[1;33m\u001b[0m\u001b[1;33m\u001b[0m\u001b[0m\n\u001b[0;32m   5137\u001b[0m             \u001b[1;32mif\u001b[0m \u001b[0mself\u001b[0m\u001b[1;33m.\u001b[0m\u001b[0m_info_axis\u001b[0m\u001b[1;33m.\u001b[0m\u001b[0m_can_hold_identifiers_and_holds_name\u001b[0m\u001b[1;33m(\u001b[0m\u001b[0mname\u001b[0m\u001b[1;33m)\u001b[0m\u001b[1;33m:\u001b[0m\u001b[1;33m\u001b[0m\u001b[1;33m\u001b[0m\u001b[0m\n",
      "\u001b[1;32m~\\Anaconda3\\envs\\learn-env\\lib\\site-packages\\pandas\\core\\accessor.py\u001b[0m in \u001b[0;36m__get__\u001b[1;34m(self, obj, cls)\u001b[0m\n\u001b[0;32m    185\u001b[0m             \u001b[1;31m# we're accessing the attribute of the class, i.e., Dataset.geo\u001b[0m\u001b[1;33m\u001b[0m\u001b[1;33m\u001b[0m\u001b[1;33m\u001b[0m\u001b[0m\n\u001b[0;32m    186\u001b[0m             \u001b[1;32mreturn\u001b[0m \u001b[0mself\u001b[0m\u001b[1;33m.\u001b[0m\u001b[0m_accessor\u001b[0m\u001b[1;33m\u001b[0m\u001b[1;33m\u001b[0m\u001b[0m\n\u001b[1;32m--> 187\u001b[1;33m         \u001b[0maccessor_obj\u001b[0m \u001b[1;33m=\u001b[0m \u001b[0mself\u001b[0m\u001b[1;33m.\u001b[0m\u001b[0m_accessor\u001b[0m\u001b[1;33m(\u001b[0m\u001b[0mobj\u001b[0m\u001b[1;33m)\u001b[0m\u001b[1;33m\u001b[0m\u001b[1;33m\u001b[0m\u001b[0m\n\u001b[0m\u001b[0;32m    188\u001b[0m         \u001b[1;31m# Replace the property with the accessor object. Inspired by:\u001b[0m\u001b[1;33m\u001b[0m\u001b[1;33m\u001b[0m\u001b[1;33m\u001b[0m\u001b[0m\n\u001b[0;32m    189\u001b[0m         \u001b[1;31m# https://www.pydanny.com/cached-property.html\u001b[0m\u001b[1;33m\u001b[0m\u001b[1;33m\u001b[0m\u001b[1;33m\u001b[0m\u001b[0m\n",
      "\u001b[1;32m~\\Anaconda3\\envs\\learn-env\\lib\\site-packages\\pandas\\core\\strings.py\u001b[0m in \u001b[0;36m__init__\u001b[1;34m(self, data)\u001b[0m\n\u001b[0;32m   2098\u001b[0m \u001b[1;33m\u001b[0m\u001b[0m\n\u001b[0;32m   2099\u001b[0m     \u001b[1;32mdef\u001b[0m \u001b[0m__init__\u001b[0m\u001b[1;33m(\u001b[0m\u001b[0mself\u001b[0m\u001b[1;33m,\u001b[0m \u001b[0mdata\u001b[0m\u001b[1;33m)\u001b[0m\u001b[1;33m:\u001b[0m\u001b[1;33m\u001b[0m\u001b[1;33m\u001b[0m\u001b[0m\n\u001b[1;32m-> 2100\u001b[1;33m         \u001b[0mself\u001b[0m\u001b[1;33m.\u001b[0m\u001b[0m_inferred_dtype\u001b[0m \u001b[1;33m=\u001b[0m \u001b[0mself\u001b[0m\u001b[1;33m.\u001b[0m\u001b[0m_validate\u001b[0m\u001b[1;33m(\u001b[0m\u001b[0mdata\u001b[0m\u001b[1;33m)\u001b[0m\u001b[1;33m\u001b[0m\u001b[1;33m\u001b[0m\u001b[0m\n\u001b[0m\u001b[0;32m   2101\u001b[0m         \u001b[0mself\u001b[0m\u001b[1;33m.\u001b[0m\u001b[0m_is_categorical\u001b[0m \u001b[1;33m=\u001b[0m \u001b[0mis_categorical_dtype\u001b[0m\u001b[1;33m(\u001b[0m\u001b[0mdata\u001b[0m\u001b[1;33m.\u001b[0m\u001b[0mdtype\u001b[0m\u001b[1;33m)\u001b[0m\u001b[1;33m\u001b[0m\u001b[1;33m\u001b[0m\u001b[0m\n\u001b[0;32m   2102\u001b[0m         \u001b[0mself\u001b[0m\u001b[1;33m.\u001b[0m\u001b[0m_is_string\u001b[0m \u001b[1;33m=\u001b[0m \u001b[0mdata\u001b[0m\u001b[1;33m.\u001b[0m\u001b[0mdtype\u001b[0m\u001b[1;33m.\u001b[0m\u001b[0mname\u001b[0m \u001b[1;33m==\u001b[0m \u001b[1;34m\"string\"\u001b[0m\u001b[1;33m\u001b[0m\u001b[1;33m\u001b[0m\u001b[0m\n",
      "\u001b[1;32m~\\Anaconda3\\envs\\learn-env\\lib\\site-packages\\pandas\\core\\strings.py\u001b[0m in \u001b[0;36m_validate\u001b[1;34m(data)\u001b[0m\n\u001b[0;32m   2155\u001b[0m \u001b[1;33m\u001b[0m\u001b[0m\n\u001b[0;32m   2156\u001b[0m         \u001b[1;32mif\u001b[0m \u001b[0minferred_dtype\u001b[0m \u001b[1;32mnot\u001b[0m \u001b[1;32min\u001b[0m \u001b[0mallowed_types\u001b[0m\u001b[1;33m:\u001b[0m\u001b[1;33m\u001b[0m\u001b[1;33m\u001b[0m\u001b[0m\n\u001b[1;32m-> 2157\u001b[1;33m             \u001b[1;32mraise\u001b[0m \u001b[0mAttributeError\u001b[0m\u001b[1;33m(\u001b[0m\u001b[1;34m\"Can only use .str accessor with string values!\"\u001b[0m\u001b[1;33m)\u001b[0m\u001b[1;33m\u001b[0m\u001b[1;33m\u001b[0m\u001b[0m\n\u001b[0m\u001b[0;32m   2158\u001b[0m         \u001b[1;32mreturn\u001b[0m \u001b[0minferred_dtype\u001b[0m\u001b[1;33m\u001b[0m\u001b[1;33m\u001b[0m\u001b[0m\n\u001b[0;32m   2159\u001b[0m \u001b[1;33m\u001b[0m\u001b[0m\n",
      "\u001b[1;31mAttributeError\u001b[0m: Can only use .str accessor with string values!"
     ]
    }
   ],
   "source": [
    "#remove commas\n",
    "movie_info['box_office']=movie_info['box_office'].str.replace(',','')\n",
    "movie_info"
   ]
  },
  {
   "cell_type": "code",
   "execution_count": 20,
   "metadata": {
    "ExecuteTime": {
     "end_time": "2022-08-18T22:33:46.940383Z",
     "start_time": "2022-08-18T22:33:46.933381Z"
    }
   },
   "outputs": [
    {
     "name": "stderr",
     "output_type": "stream",
     "text": [
      "<ipython-input-20-772a01135853>:1: SettingWithCopyWarning: \n",
      "A value is trying to be set on a copy of a slice from a DataFrame.\n",
      "Try using .loc[row_indexer,col_indexer] = value instead\n",
      "\n",
      "See the caveats in the documentation: https://pandas.pydata.org/pandas-docs/stable/user_guide/indexing.html#returning-a-view-versus-a-copy\n",
      "  movie_info['box_office']=movie_info['box_office'].astype(float)\n"
     ]
    }
   ],
   "source": [
    "movie_info['box_office']=movie_info['box_office'].astype(float)"
   ]
  },
  {
   "cell_type": "code",
   "execution_count": 21,
   "metadata": {
    "ExecuteTime": {
     "end_time": "2022-08-18T22:33:47.718146Z",
     "start_time": "2022-08-18T22:33:47.699142Z"
    }
   },
   "outputs": [],
   "source": [
    "R = movie_info[movie_info['rating']=='R']\n",
    "PG = movie_info[movie_info['rating']=='PG']\n",
    "PG13 = movie_info[movie_info['rating']=='PG-13']\n",
    "G = movie_info[movie_info['rating']=='G']\n",
    "NC17 = movie_info[movie_info['rating']=='NC17']\n",
    "NR = movie_info[movie_info['rating']=='NR']"
   ]
  },
  {
   "cell_type": "code",
   "execution_count": 22,
   "metadata": {
    "ExecuteTime": {
     "end_time": "2022-08-18T22:33:48.994306Z",
     "start_time": "2022-08-18T22:33:48.982303Z"
    }
   },
   "outputs": [],
   "source": [
    "r=R['box_office'].mean()\n",
    "rmed=R['box_office'].median()\n",
    "pg=PG['box_office'].mean()\n",
    "pgmed=PG['box_office'].median()\n",
    "pg13=PG13['box_office'].mean()\n",
    "pg13med=PG13['box_office'].median()\n",
    "g=G['box_office'].mean()\n",
    "gmed=G['box_office'].median()\n",
    "nc17=NC17['box_office'].mean()\n",
    "nc17med=NC17['box_office'].median()\n",
    "nr=NR['box_office'].mean()\n",
    "nrmed=NR['box_office'].median()"
   ]
  },
  {
   "cell_type": "code",
   "execution_count": 23,
   "metadata": {
    "ExecuteTime": {
     "end_time": "2022-08-18T22:33:49.693201Z",
     "start_time": "2022-08-18T22:33:49.680199Z"
    }
   },
   "outputs": [],
   "source": [
    "ratings_dict = {'R':r,'PG':pg,'PG-13':pg13,'G':g,'NC-17':nc17,'NR':nr}"
   ]
  },
  {
   "cell_type": "code",
   "execution_count": 24,
   "metadata": {
    "ExecuteTime": {
     "end_time": "2022-08-18T22:33:50.268177Z",
     "start_time": "2022-08-18T22:33:50.264176Z"
    }
   },
   "outputs": [],
   "source": [
    "ratings_dict_med = {'R':rmed,'PG':pgmed,'PG-13':pg13med,'G':gmed,'NC-17':nc17med,'NR':nrmed}"
   ]
  },
  {
   "cell_type": "code",
   "execution_count": 25,
   "metadata": {
    "ExecuteTime": {
     "end_time": "2022-08-18T22:33:50.970715Z",
     "start_time": "2022-08-18T22:33:50.828094Z"
    }
   },
   "outputs": [
    {
     "data": {
      "text/plain": [
       "Text(0, 0.5, ' Average Revenue (USD)')"
      ]
     },
     "execution_count": 25,
     "metadata": {},
     "output_type": "execute_result"
    },
    {
     "data": {
      "image/png": "[encoded data removed]",
      "text/plain": [
       "<Figure size 432x288 with 1 Axes>"
      ]
     },
     "metadata": {
      "needs_background": "light"
     },
     "output_type": "display_data"
    }
   ],
   "source": [
    "fig, ax=plt.subplots()\n",
    "plt.ticklabel_format(style='plain')\n",
    "ax.bar(ratings_dict.keys(),ratings_dict.values() )\n",
    "\n",
    "\n",
    "\n",
    "ax.set_title(\"Average Box Office Revenue by MPAA Rating\")\n",
    "ax.set_xlabel(\"MPAA Ratings\")\n",
    "ax.set_ylabel(\" Average Revenue (USD)\")"
   ]
  },
  {
   "cell_type": "code",
   "execution_count": 26,
   "metadata": {
    "ExecuteTime": {
     "end_time": "2022-08-18T22:34:10.791773Z",
     "start_time": "2022-08-18T22:34:10.649741Z"
    }
   },
   "outputs": [
    {
     "data": {
      "text/plain": [
       "Text(0, 0.5, 'Median Revenue (USD)')"
      ]
     },
     "execution_count": 26,
     "metadata": {},
     "output_type": "execute_result"
    },
    {
     "data": {
      "image/png": "[encoded data removed]",
      "text/plain": [
       "<Figure size 432x288 with 1 Axes>"
      ]
     },
     "metadata": {
      "needs_background": "light"
     },
     "output_type": "display_data"
    }
   ],
   "source": [
    "fig, ax=plt.subplots()\n",
    "plt.ticklabel_format(style='plain')\n",
    "ax.bar(ratings_dict_med.keys(),ratings_dict_med.values() )\n",
    "\n",
    "\n",
    "\n",
    "ax.set_title(\"Median Box Office Revenue by MPAA Rating\")\n",
    "ax.set_xlabel(\"MPAA Ratings\")\n",
    "ax.set_ylabel(\"Median Revenue (USD)\")"
   ]
  },
  {
   "cell_type": "code",
   "execution_count": 27,
   "metadata": {
    "ExecuteTime": {
     "end_time": "2022-08-18T22:35:52.268123Z",
     "start_time": "2022-08-18T22:35:52.262122Z"
    }
   },
   "outputs": [],
   "source": [
    "action = movie_info[movie_info['genre'].str.contains('Action')]\n",
    "action_rev=action['box_office'].mean()\n",
    "action_med=action['box_office'].median()"
   ]
  },
  {
   "cell_type": "code",
   "execution_count": 28,
   "metadata": {
    "ExecuteTime": {
     "end_time": "2022-08-18T22:35:52.672658Z",
     "start_time": "2022-08-18T22:35:52.665655Z"
    }
   },
   "outputs": [],
   "source": [
    "drama = movie_info[movie_info['genre'].str.contains('Drama')]\n",
    "drama_rev=drama['box_office'].mean()\n",
    "drama_med=drama['box_office'].median()"
   ]
  },
  {
   "cell_type": "code",
   "execution_count": 29,
   "metadata": {
    "ExecuteTime": {
     "end_time": "2022-08-18T22:35:53.089846Z",
     "start_time": "2022-08-18T22:35:53.070843Z"
    }
   },
   "outputs": [],
   "source": [
    "comedy = movie_info[movie_info['genre'].str.contains('Comedy')]\n",
    "comedy_rev=comedy['box_office'].mean()\n",
    "comedy_med=comedy['box_office'].median()"
   ]
  },
  {
   "cell_type": "code",
   "execution_count": 30,
   "metadata": {
    "ExecuteTime": {
     "end_time": "2022-08-18T22:35:53.463119Z",
     "start_time": "2022-08-18T22:35:53.454117Z"
    }
   },
   "outputs": [],
   "source": [
    "horror = movie_info[movie_info['genre'].str.contains('Horror')]\n",
    "horror_rev=horror['box_office'].mean()\n",
    "horror_med=horror['box_office'].median()"
   ]
  },
  {
   "cell_type": "code",
   "execution_count": 31,
   "metadata": {
    "ExecuteTime": {
     "end_time": "2022-08-18T22:35:53.866714Z",
     "start_time": "2022-08-18T22:35:53.858712Z"
    }
   },
   "outputs": [],
   "source": [
    "romance = movie_info[movie_info['genre'].str.contains('Romance')]\n",
    "romance_rev=romance['box_office'].mean()\n",
    "romance_med=romance['box_office'].median()"
   ]
  },
  {
   "cell_type": "code",
   "execution_count": 32,
   "metadata": {
    "ExecuteTime": {
     "end_time": "2022-08-18T22:35:54.258345Z",
     "start_time": "2022-08-18T22:35:54.243343Z"
    }
   },
   "outputs": [],
   "source": [
    "top_genres_rev = {'action':action_rev,'drama':drama_rev,'comedy':comedy_rev,'horror':horror_rev,'romance':romance_rev}"
   ]
  },
  {
   "cell_type": "code",
   "execution_count": 33,
   "metadata": {
    "ExecuteTime": {
     "end_time": "2022-08-18T22:35:54.804509Z",
     "start_time": "2022-08-18T22:35:54.668479Z"
    }
   },
   "outputs": [
    {
     "data": {
      "text/plain": [
       "Text(0, 0.5, 'Average Revenue (USD)')"
      ]
     },
     "execution_count": 33,
     "metadata": {},
     "output_type": "execute_result"
    },
    {
     "data": {
      "image/png": "[encoded data removed]",
      "text/plain": [
       "<Figure size 432x288 with 1 Axes>"
      ]
     },
     "metadata": {
      "needs_background": "light"
     },
     "output_type": "display_data"
    }
   ],
   "source": [
    "fig, ax=plt.subplots()\n",
    "plt.ticklabel_format(style='plain')\n",
    "ax.bar(top_genres_rev.keys(),top_genres_rev.values() )\n",
    "\n",
    "\n",
    "\n",
    "\n",
    "\n",
    "ax.set_title(\"Average Box Office Revenue by Genre\")\n",
    "ax.set_xlabel(\"Genres\")\n",
    "ax.set_ylabel(\"Average Revenue (USD)\")"
   ]
  },
  {
   "cell_type": "code",
   "execution_count": 35,
   "metadata": {
    "ExecuteTime": {
     "end_time": "2022-08-18T22:36:07.128570Z",
     "start_time": "2022-08-18T22:36:07.110577Z"
    }
   },
   "outputs": [],
   "source": [
    "top_genres_med = {'action':action_med,'drama':drama_med,'comedy':comedy_med,'horror':horror_med,'romance':romance_med}"
   ]
  },
  {
   "cell_type": "code",
   "execution_count": 38,
   "metadata": {
    "ExecuteTime": {
     "end_time": "2022-08-18T22:36:33.173822Z",
     "start_time": "2022-08-18T22:36:33.055795Z"
    }
   },
   "outputs": [
    {
     "data": {
      "text/plain": [
       "Text(0, 0.5, 'Median Revenue in Tens of Millions (USD)')"
      ]
     },
     "execution_count": 38,
     "metadata": {},
     "output_type": "execute_result"
    },
    {
     "data": {
      "image/png": "[encoded data removed]",
      "text/plain": [
       "<Figure size 432x288 with 1 Axes>"
      ]
     },
     "metadata": {
      "needs_background": "light"
     },
     "output_type": "display_data"
    }
   ],
   "source": [
    "fig, ax=plt.subplots()\n",
    "#plt.ticklabel_format(style='plain')\n",
    "ax.bar(top_genres_med.keys(),top_genres_med.values() )\n",
    "\n",
    "\n",
    "\n",
    "\n",
    "\n",
    "ax.set_title(\"Median Box Office Revenue by Genre\")\n",
    "ax.set_xlabel(\"Genres\")\n",
    "ax.set_ylabel(\"Median Revenue in Tens of Millions (USD)\")"
   ]
  },
  {
   "cell_type": "code",
   "execution_count": null,
   "metadata": {
    "ExecuteTime": {
     "end_time": "2022-08-18T22:33:08.414610Z",
     "start_time": "2022-08-18T22:33:07.851Z"
    }
   },
   "outputs": [],
   "source": [
    "movie_info['box_office'].mean()"
   ]
  },
  {
   "cell_type": "code",
   "execution_count": null,
   "metadata": {
    "ExecuteTime": {
     "end_time": "2022-08-18T22:33:08.415650Z",
     "start_time": "2022-08-18T22:33:07.852Z"
    }
   },
   "outputs": [],
   "source": [
    "comedy['box_office'].mean()"
   ]
  },
  {
   "cell_type": "code",
   "execution_count": null,
   "metadata": {
    "ExecuteTime": {
     "end_time": "2022-08-18T22:33:08.416609Z",
     "start_time": "2022-08-18T22:33:07.853Z"
    }
   },
   "outputs": [],
   "source": [
    "comedy['box_office'].std()"
   ]
  },
  {
   "cell_type": "code",
   "execution_count": null,
   "metadata": {
    "ExecuteTime": {
     "end_time": "2022-08-18T22:33:08.416609Z",
     "start_time": "2022-08-18T22:33:07.854Z"
    }
   },
   "outputs": [],
   "source": [
    "pop=movie_info['box_office']\n",
    "com=comedy['box_office']\n",
    "act=action['box_office']\n",
    "drm=drama['box_office']\n",
    "hor=horror['box_office']"
   ]
  },
  {
   "cell_type": "code",
   "execution_count": null,
   "metadata": {
    "ExecuteTime": {
     "end_time": "2022-08-18T22:33:08.417622Z",
     "start_time": "2022-08-18T22:33:07.855Z"
    }
   },
   "outputs": [],
   "source": [
    "alpha = .05"
   ]
  },
  {
   "cell_type": "code",
   "execution_count": null,
   "metadata": {
    "ExecuteTime": {
     "end_time": "2022-08-18T22:33:08.418616Z",
     "start_time": "2022-08-18T22:33:07.856Z"
    }
   },
   "outputs": [],
   "source": [
    "stats.norm.ppf(alpha), stats.norm.ppf(1-alpha)"
   ]
  },
  {
   "cell_type": "code",
   "execution_count": null,
   "metadata": {
    "ExecuteTime": {
     "end_time": "2022-08-18T22:33:08.418616Z",
     "start_time": "2022-08-18T22:33:07.856Z"
    }
   },
   "outputs": [],
   "source": [
    "stats.ttest_ind(com,pop)"
   ]
  },
  {
   "cell_type": "code",
   "execution_count": null,
   "metadata": {
    "ExecuteTime": {
     "end_time": "2022-08-18T22:33:08.419617Z",
     "start_time": "2022-08-18T22:33:07.857Z"
    }
   },
   "outputs": [],
   "source": [
    "stats.ttest_ind(act,pop)"
   ]
  },
  {
   "cell_type": "code",
   "execution_count": null,
   "metadata": {
    "ExecuteTime": {
     "end_time": "2022-08-18T22:33:08.420617Z",
     "start_time": "2022-08-18T22:33:07.858Z"
    }
   },
   "outputs": [],
   "source": [
    "stats.ttest_ind(drm,pop)"
   ]
  },
  {
   "cell_type": "code",
   "execution_count": null,
   "metadata": {
    "ExecuteTime": {
     "end_time": "2022-08-18T22:33:08.420617Z",
     "start_time": "2022-08-18T22:33:07.859Z"
    }
   },
   "outputs": [],
   "source": [
    "stats.ttest_ind(rom,pop)"
   ]
  },
  {
   "cell_type": "code",
   "execution_count": null,
   "metadata": {
    "ExecuteTime": {
     "end_time": "2022-08-18T22:33:08.421628Z",
     "start_time": "2022-08-18T22:33:07.860Z"
    }
   },
   "outputs": [],
   "source": [
    "stats.ttest_ind(hor,pop)"
   ]
  },
  {
   "cell_type": "code",
   "execution_count": null,
   "metadata": {
    "ExecuteTime": {
     "end_time": "2022-08-18T22:33:08.422622Z",
     "start_time": "2022-08-18T22:33:07.861Z"
    }
   },
   "outputs": [],
   "source": [
    "sorted_movie_info=movie_info.sort_values(by='box_office',ascending=False)\n",
    "sorted_movie_info.head(10)"
   ]
  },
  {
   "cell_type": "code",
   "execution_count": null,
   "metadata": {
    "ExecuteTime": {
     "end_time": "2022-08-18T22:33:08.423622Z",
     "start_time": "2022-08-18T22:33:07.862Z"
    }
   },
   "outputs": [],
   "source": [
    "##part 1 of creating csv out of sql table movie_basics\n",
    "sql_query = pd.read_sql_query ('''\n",
    "                               SELECT\n",
    "                               *\n",
    "                               FROM movie_basics\n",
    "                               ''', conn)\n",
    "sql_query"
   ]
  },
  {
   "cell_type": "code",
   "execution_count": null,
   "metadata": {
    "ExecuteTime": {
     "end_time": "2022-08-18T22:33:08.423622Z",
     "start_time": "2022-08-18T22:33:07.863Z"
    },
    "scrolled": true
   },
   "outputs": [],
   "source": [
    "##part 2 of creating csv out of sql table movie_basics\n",
    "basics_df = pd.DataFrame(sql_query, columns = ['movie_id', 'primary_title', 'original_title','start_year','runtime_minutes','genres'])\n",
    "basics_df"
   ]
  },
  {
   "cell_type": "markdown",
   "metadata": {},
   "source": [
    "# Jake Umholtz "
   ]
  },
  {
   "cell_type": "markdown",
   "metadata": {},
   "source": [
    "## Business Understanding:\n",
    "\n",
    "Assisting Computing Vision's new movie studio in deciding on what type of films they ought to create.\n",
    "\n",
    "Stakeholder:\n",
    "\n",
    "Computing Vision and their new movie studio.\n",
    "\n",
    "Problem:\n",
    "\n",
    "Computing Vision's new movie studio does not know what type of films they should create.\n",
    "\n",
    "Value:\n",
    "\n",
    "We measure of success is box office performance in terms of currency. We chose this measure of success because Computing Vision's movie studio is a brand new portion of their business, therefore the first priority of the new business to it generate actionable revenue by having early box office success. \n"
   ]
  },
  {
   "cell_type": "markdown",
   "metadata": {},
   "source": [
    "## Data Understanding\n",
    "\n",
    "Data sources:\n",
    "\n",
    "The data is from popular industry related services including: Box Office Mojo, a website that tracks box-office revenue; IMDB, the internet movie database; Rotten Tomatoes, a movie review website; The Movie DB, a database of films; and The Numbers, a data website that tracks box office revenue and other industry related information. \n",
    "\n",
    "Our primary data source is the Box Office Mojo dataset. We chose this source as it contained the necessary information regarding box office performance."
   ]
  },
  {
   "cell_type": "markdown",
   "metadata": {},
   "source": [
    "Rationale: The necessary Python libraries for performing data and statistical analysis."
   ]
  },
  {
   "cell_type": "code",
   "execution_count": null,
   "metadata": {
    "ExecuteTime": {
     "end_time": "2022-08-18T22:33:08.424623Z",
     "start_time": "2022-08-18T22:33:07.865Z"
    }
   },
   "outputs": [],
   "source": [
    "import numpy as np\n",
    "import scipy as sp\n",
    "import pandas as pd\n",
    "import scipy.stats as stats\n",
    "import seaborn as sns\n",
    "import matplotlib.pyplot as plt\n",
    "import math\n",
    "import sqlite3"
   ]
  },
  {
   "cell_type": "markdown",
   "metadata": {},
   "source": [
    "Rationale: Importing the data sources as variables to conduct data and statistical analysis."
   ]
  },
  {
   "cell_type": "code",
   "execution_count": null,
   "metadata": {
    "ExecuteTime": {
     "end_time": "2022-08-18T22:33:08.424623Z",
     "start_time": "2022-08-18T22:33:07.866Z"
    }
   },
   "outputs": [],
   "source": [
    "movie_gross = pd.read_csv('zippedData/bom.movie_gross.csv')\n",
    "rt_movie_info = pd.read_csv('zippedData/rt.movie_info.csv')\n",
    "rt_reviews = pd.read_csv('zippedData/rt.reviews.csv', encoding='unicode_escape')\n",
    "tn_movie_budgets = pd.read_csv('zippedData/tn.movie_budgets.csv')\n",
    "tmdb_movies = pd.read_csv('zippedData/tmdb.movies.csv', index_col=0)"
   ]
  },
  {
   "cell_type": "code",
   "execution_count": null,
   "metadata": {
    "ExecuteTime": {
     "end_time": "2022-08-18T22:33:08.425631Z",
     "start_time": "2022-08-18T22:33:07.867Z"
    }
   },
   "outputs": [],
   "source": [
    "# there are 1560 records in this dataset\n",
    "original_rt_movie_info = pd.read_csv('zippedData/rt.movie_info.csv')\n",
    "original_rt_movie_info.info()"
   ]
  },
  {
   "cell_type": "code",
   "execution_count": null,
   "metadata": {
    "ExecuteTime": {
     "end_time": "2022-08-18T22:33:08.426627Z",
     "start_time": "2022-08-18T22:33:07.868Z"
    }
   },
   "outputs": [],
   "source": [
    "#quickly visualizing the dataframe \n",
    "original_rt_movie_info.head()"
   ]
  },
  {
   "cell_type": "code",
   "execution_count": null,
   "metadata": {
    "ExecuteTime": {
     "end_time": "2022-08-18T22:33:08.427627Z",
     "start_time": "2022-08-18T22:33:07.869Z"
    }
   },
   "outputs": [],
   "source": [
    "# counting the total number of null values in the dataset\n",
    "print(original_rt_movie_info.isnull().sum())"
   ]
  },
  {
   "cell_type": "code",
   "execution_count": null,
   "metadata": {
    "ExecuteTime": {
     "end_time": "2022-08-18T22:33:08.427627Z",
     "start_time": "2022-08-18T22:33:07.870Z"
    }
   },
   "outputs": [],
   "source": [
    "# counting the none-null values in the box_office column\n",
    "original_rt_movie_info['box_office'].count()"
   ]
  },
  {
   "cell_type": "code",
   "execution_count": null,
   "metadata": {
    "ExecuteTime": {
     "end_time": "2022-08-18T22:33:08.428627Z",
     "start_time": "2022-08-18T22:33:07.871Z"
    }
   },
   "outputs": [],
   "source": [
    "# counting the none-null values in the runtime column\n",
    "original_rt_movie_info['runtime'].count()"
   ]
  },
  {
   "cell_type": "markdown",
   "metadata": {},
   "source": [
    "Rationale: By cleaning rt_movie_info, it allows us to perform data and statistical analysis on the data within the dataset. This data set is important for our business insights and recommendations as it contains the information related to run time of movies. "
   ]
  },
  {
   "cell_type": "code",
   "execution_count": null,
   "metadata": {
    "ExecuteTime": {
     "end_time": "2022-08-18T22:33:08.429627Z",
     "start_time": "2022-08-18T22:33:07.872Z"
    }
   },
   "outputs": [],
   "source": [
    "#Cleaning movie info data set\n",
    "\n",
    "rt_movie_info = rt_movie_info.dropna()\n",
    "# dropping the null values because the data set is large enough at over 1500 records to handle the loss of data\n",
    "# the data is also highly varied, so filling in with the mean will not be the\n",
    "# most accurate representation  \n",
    "# However, it is important to note that by doing this we will lose data\n",
    "box_office = []\n",
    "for v in rt_movie_info['box_office'].dropna():\n",
    "    box_office.append(box_office)\n",
    "\n"
   ]
  },
  {
   "cell_type": "code",
   "execution_count": null,
   "metadata": {
    "ExecuteTime": {
     "end_time": "2022-08-18T22:33:08.430628Z",
     "start_time": "2022-08-18T22:33:07.873Z"
    }
   },
   "outputs": [],
   "source": [
    "# more cleaning of the data set\n",
    "runtime_raw = []\n",
    "runtime_clean = []\n",
    "box_off_raw = []\n",
    "box_off_clean = []\n",
    "for val in rt_movie_info['runtime'].str[:3]: #extract first 3 characters,movies under 100 min will have whitespace\n",
    "    runtime_raw.append(val)\n",
    "for val in runtime_raw: #strip whitespace\n",
    "    runtime_strip = val.replace(' ', '')\n",
    "    runtime_clean.append(runtime_strip)\n",
    "    \n",
    "for val in rt_movie_info['box_office']:\n",
    "    box_off_strip = val.replace(',', '')\n",
    "    box_off_clean.append(box_off_strip)\n",
    "\n",
    "\n",
    "\n",
    "rt_movie_info['runtime_clean'] = runtime_clean\n",
    "rt_movie_info['box_office_clean'] = box_off_clean\n"
   ]
  },
  {
   "cell_type": "code",
   "execution_count": null,
   "metadata": {
    "ExecuteTime": {
     "end_time": "2022-08-18T22:33:08.431628Z",
     "start_time": "2022-08-18T22:33:07.875Z"
    }
   },
   "outputs": [],
   "source": [
    "# sanity check on null values\n",
    "print(rt_movie_info.isnull().sum())"
   ]
  },
  {
   "cell_type": "code",
   "execution_count": null,
   "metadata": {
    "ExecuteTime": {
     "end_time": "2022-08-18T22:33:08.431628Z",
     "start_time": "2022-08-18T22:33:07.876Z"
    },
    "scrolled": true
   },
   "outputs": [],
   "source": [
    "rt_movie_info.head()"
   ]
  },
  {
   "cell_type": "code",
   "execution_count": null,
   "metadata": {
    "ExecuteTime": {
     "end_time": "2022-08-18T22:33:08.432628Z",
     "start_time": "2022-08-18T22:33:07.877Z"
    }
   },
   "outputs": [],
   "source": [
    "# checking the descriptive statistics\n",
    "rt_movie_info['box_office_clean'].describe()"
   ]
  },
  {
   "cell_type": "code",
   "execution_count": null,
   "metadata": {
    "ExecuteTime": {
     "end_time": "2022-08-18T22:33:08.433628Z",
     "start_time": "2022-08-18T22:33:07.877Z"
    }
   },
   "outputs": [],
   "source": [
    "# checking the descriptive statistics\n",
    "rt_movie_info['runtime_clean'].describe()"
   ]
  },
  {
   "cell_type": "code",
   "execution_count": null,
   "metadata": {
    "ExecuteTime": {
     "end_time": "2022-08-18T22:33:08.433628Z",
     "start_time": "2022-08-18T22:33:07.878Z"
    }
   },
   "outputs": [],
   "source": [
    "# turing the object in the cleaned columns into integers\n",
    "\n",
    "rt_movie_info['box_office_clean'].astype(int)"
   ]
  },
  {
   "cell_type": "code",
   "execution_count": null,
   "metadata": {
    "ExecuteTime": {
     "end_time": "2022-08-18T22:33:08.434628Z",
     "start_time": "2022-08-18T22:33:07.879Z"
    }
   },
   "outputs": [],
   "source": [
    "rt_movie_info['runtime_clean'].astype(int)"
   ]
  },
  {
   "cell_type": "code",
   "execution_count": null,
   "metadata": {
    "ExecuteTime": {
     "end_time": "2022-08-18T22:33:08.435629Z",
     "start_time": "2022-08-18T22:33:07.880Z"
    }
   },
   "outputs": [],
   "source": [
    "# checking the median\n",
    "rt_movie_info['box_office_clean'].median()"
   ]
  },
  {
   "cell_type": "code",
   "execution_count": null,
   "metadata": {
    "ExecuteTime": {
     "end_time": "2022-08-18T22:33:08.435629Z",
     "start_time": "2022-08-18T22:33:07.881Z"
    }
   },
   "outputs": [],
   "source": [
    "# checking the median\n",
    "rt_movie_info['runtime_clean'].median()"
   ]
  },
  {
   "cell_type": "markdown",
   "metadata": {},
   "source": [
    "Rationale: By creating a new Pandas dataframe of just run time and box office "
   ]
  },
  {
   "cell_type": "code",
   "execution_count": null,
   "metadata": {
    "ExecuteTime": {
     "end_time": "2022-08-18T22:33:08.436631Z",
     "start_time": "2022-08-18T22:33:07.883Z"
    }
   },
   "outputs": [],
   "source": [
    "#Creating a new Pandas dataframe of just the runtime and box office information\n",
    "df2 = rt_movie_info[['runtime_clean','box_office_clean']].copy()\n",
    "\n",
    "#standardizing the type of data for the new dataframe\n",
    "df2['runtime_clean'] = df2['runtime_clean'].astype(int)\n",
    "df2['box_office_clean'] = df2['box_office_clean'].astype(int)\n",
    "\n",
    "print(df2)"
   ]
  },
  {
   "cell_type": "code",
   "execution_count": null,
   "metadata": {
    "ExecuteTime": {
     "end_time": "2022-08-18T22:33:08.437632Z",
     "start_time": "2022-08-18T22:33:07.883Z"
    }
   },
   "outputs": [],
   "source": [
    "# finding the correlation between runtime and box office performance\n",
    "df2.corr()"
   ]
  },
  {
   "cell_type": "markdown",
   "metadata": {},
   "source": [
    "There is a low to medium correlation between runtime and box office performance measured in USD"
   ]
  },
  {
   "cell_type": "code",
   "execution_count": null,
   "metadata": {
    "ExecuteTime": {
     "end_time": "2022-08-18T22:33:08.438633Z",
     "start_time": "2022-08-18T22:33:07.885Z"
    }
   },
   "outputs": [],
   "source": [
    "# scatter plot of the correlation\n",
    "fig, ax = plt.subplots()\n",
    "\n",
    "\n",
    "ax.scatter(df2['runtime_clean'], df2['box_office_clean'], label=\"Films\")\n",
    "\n",
    "\n",
    "\n",
    "x_bounds = [min(df2['runtime_clean']), max(df2['runtime_clean'])]\n",
    "y_bounds = [min(df2['box_office_clean']), max(df2['box_office_clean'])]\n",
    "\n",
    "\n",
    "\n",
    "ax.plot(x_bounds, y_bounds, \"--\", label=\"Perfect Correlation\", color='r')\n",
    "\n",
    "\n",
    "\n",
    "ax.set_title(\"Runtime vs Box Office Revenue\")\n",
    "ax.set_xlabel(\"Runtime (Minutes)\")\n",
    "ax.set_ylabel(\"Box Office Performance (USD)\")\n",
    "\n",
    "\n",
    "\n",
    "\n",
    "ax.legend();\n",
    "\n",
    "print(f' Low to medium correlation of 0.312')"
   ]
  },
  {
   "cell_type": "markdown",
   "metadata": {},
   "source": [
    "There is a medium correlation between the run time of a film to its box office performance\n",
    "We can conclude that there are other factors in play that contribute to box office performance other than run time."
   ]
  },
  {
   "cell_type": "code",
   "execution_count": null,
   "metadata": {
    "ExecuteTime": {
     "end_time": "2022-08-18T22:33:08.438633Z",
     "start_time": "2022-08-18T22:33:07.886Z"
    }
   },
   "outputs": [],
   "source": [
    "rt_movie_info.info()"
   ]
  },
  {
   "cell_type": "code",
   "execution_count": null,
   "metadata": {
    "ExecuteTime": {
     "end_time": "2022-08-18T22:33:08.439634Z",
     "start_time": "2022-08-18T22:33:07.887Z"
    }
   },
   "outputs": [],
   "source": [
    "# counting the total number of null values in the dataset\n",
    "print(original_rt_movie_info.isnull().sum())"
   ]
  },
  {
   "cell_type": "code",
   "execution_count": null,
   "metadata": {
    "ExecuteTime": {
     "end_time": "2022-08-18T22:33:08.440634Z",
     "start_time": "2022-08-18T22:33:07.888Z"
    }
   },
   "outputs": [],
   "source": [
    "# counting the none-null values in the rating column\n",
    "original_rt_movie_info['rating'].count()"
   ]
  },
  {
   "cell_type": "code",
   "execution_count": null,
   "metadata": {
    "ExecuteTime": {
     "end_time": "2022-08-18T22:33:08.440634Z",
     "start_time": "2022-08-18T22:33:07.889Z"
    }
   },
   "outputs": [],
   "source": [
    "# creating a new dataframe of just the rating and the box office performance\n",
    "df3 = rt_movie_info[['box_office_clean','rating']].copy()"
   ]
  },
  {
   "cell_type": "code",
   "execution_count": null,
   "metadata": {
    "ExecuteTime": {
     "end_time": "2022-08-18T22:33:08.441634Z",
     "start_time": "2022-08-18T22:33:07.890Z"
    }
   },
   "outputs": [],
   "source": [
    "rt_movie_info['rating']"
   ]
  },
  {
   "cell_type": "code",
   "execution_count": null,
   "metadata": {
    "ExecuteTime": {
     "end_time": "2022-08-18T22:33:08.442634Z",
     "start_time": "2022-08-18T22:33:07.891Z"
    }
   },
   "outputs": [],
   "source": [
    "# checking for null values\n",
    "print(tn_movie_budgets.isnull().sum())"
   ]
  },
  {
   "cell_type": "code",
   "execution_count": null,
   "metadata": {
    "ExecuteTime": {
     "end_time": "2022-08-18T22:33:08.442634Z",
     "start_time": "2022-08-18T22:33:07.893Z"
    }
   },
   "outputs": [],
   "source": [
    "# checking the dtype\n",
    "tn_movie_budgets.info()"
   ]
  },
  {
   "cell_type": "code",
   "execution_count": null,
   "metadata": {
    "ExecuteTime": {
     "end_time": "2022-08-18T22:33:08.443634Z",
     "start_time": "2022-08-18T22:33:07.894Z"
    }
   },
   "outputs": [],
   "source": [
    "# turning the budget into a string so it is easy to clean\n",
    "tn_movie_budgets['production_budget'] = tn_movie_budgets['production_budget'].astype(str)"
   ]
  },
  {
   "cell_type": "code",
   "execution_count": null,
   "metadata": {
    "ExecuteTime": {
     "end_time": "2022-08-18T22:33:08.444635Z",
     "start_time": "2022-08-18T22:33:07.895Z"
    }
   },
   "outputs": [],
   "source": [
    "# removing commas, dollar signs, and white space\n",
    "# turning the production budget back into an integer so calculations can be performed\n",
    "tn_movie_budgets['production_budget'] = tn_movie_budgets['production_budget'].str.replace(',', '')\n",
    "tn_movie_budgets['production_budget'] = tn_movie_budgets['production_budget'].str.replace('$', '')\n",
    "tn_movie_budgets['production_budget'] = tn_movie_budgets['production_budget'].str.replace(' ', '')\n",
    "tn_movie_budgets['production_budget'] = tn_movie_budgets['production_budget'].astype(int)"
   ]
  },
  {
   "cell_type": "code",
   "execution_count": null,
   "metadata": {
    "ExecuteTime": {
     "end_time": "2022-08-18T22:33:08.445635Z",
     "start_time": "2022-08-18T22:33:07.896Z"
    }
   },
   "outputs": [],
   "source": [
    "tn_movie_budgets.head()"
   ]
  },
  {
   "cell_type": "code",
   "execution_count": null,
   "metadata": {
    "ExecuteTime": {
     "end_time": "2022-08-18T22:33:08.446636Z",
     "start_time": "2022-08-18T22:33:07.897Z"
    }
   },
   "outputs": [],
   "source": [
    "tn_movie_budgets.info()"
   ]
  },
  {
   "cell_type": "code",
   "execution_count": null,
   "metadata": {
    "ExecuteTime": {
     "end_time": "2022-08-18T22:33:08.447636Z",
     "start_time": "2022-08-18T22:33:07.899Z"
    }
   },
   "outputs": [],
   "source": [
    "# gathering descriptive statistics\n",
    "tn_movie_budgets['production_budget'].describe()"
   ]
  },
  {
   "cell_type": "code",
   "execution_count": null,
   "metadata": {
    "ExecuteTime": {
     "end_time": "2022-08-18T22:33:08.448636Z",
     "start_time": "2022-08-18T22:33:07.901Z"
    }
   },
   "outputs": [],
   "source": [
    "tn_movie_budgets['production_budget'].median()"
   ]
  },
  {
   "cell_type": "code",
   "execution_count": null,
   "metadata": {
    "ExecuteTime": {
     "end_time": "2022-08-18T22:32:53.633513Z",
     "start_time": "2022-08-18T22:32:53.165Z"
    }
   },
   "outputs": [],
   "source": [
    "# counting the number of films with a production budget over $100 million\n",
    "\n",
    "tn_movie_budgets[tn_movie_budgets['production_budget'] >= 100000000].count()"
   ]
  }
 ],
 "metadata": {
  "kernelspec": {
   "display_name": "Python 3",
   "language": "python",
   "name": "python3"
  },
  "language_info": {
   "codemirror_mode": {
    "name": "ipython",
    "version": 3
   },
   "file_extension": ".py",
   "mimetype": "text/x-python",
   "name": "python",
   "nbconvert_exporter": "python",
   "pygments_lexer": "ipython3",
   "version": "3.8.5"
  },
  "toc": {
   "base_numbering": 1,
   "nav_menu": {},
   "number_sections": true,
   "sideBar": true,
   "skip_h1_title": false,
   "title_cell": "Table of Contents",
   "title_sidebar": "Contents",
   "toc_cell": false,
   "toc_position": {},
   "toc_section_display": true,
   "toc_window_display": false
  },
  "varInspector": {
   "cols": {
    "lenName": 16,
    "lenType": 16,
    "lenVar": 40
   },
   "kernels_config": {
    "python": {
     "delete_cmd_postfix": "",
     "delete_cmd_prefix": "del ",
     "library": "var_list.py",
     "varRefreshCmd": "print(var_dic_list())"
    },
    "r": {
     "delete_cmd_postfix": ") ",
     "delete_cmd_prefix": "rm(",
     "library": "var_list.r",
     "varRefreshCmd": "cat(var_dic_list()) "
    }
   },
   "types_to_exclude": [
    "module",
    "function",
    "builtin_function_or_method",
    "instance",
    "_Feature"
   ],
   "window_display": false
  }
 },
 "nbformat": 4,
 "nbformat_minor": 2
}
